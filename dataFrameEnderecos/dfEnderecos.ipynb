{
 "cells": [
  {
   "cell_type": "code",
   "execution_count": 11,
   "metadata": {},
   "outputs": [],
   "source": [
    "import pandas as pd\n",
    "import requests as rq"
   ]
  },
  {
   "cell_type": "code",
   "execution_count": 5,
   "metadata": {},
   "outputs": [],
   "source": [
    "dfEnderecos = pd.read_csv('enderecos.csv', sep = ',', on_bad_lines = 'skip')"
   ]
  },
  {
   "cell_type": "code",
   "execution_count": 12,
   "metadata": {},
   "outputs": [
    {
     "data": {
      "text/html": [
       "<div>\n",
       "<style scoped>\n",
       "    .dataframe tbody tr th:only-of-type {\n",
       "        vertical-align: middle;\n",
       "    }\n",
       "\n",
       "    .dataframe tbody tr th {\n",
       "        vertical-align: top;\n",
       "    }\n",
       "\n",
       "    .dataframe thead th {\n",
       "        text-align: right;\n",
       "    }\n",
       "</style>\n",
       "<table border=\"1\" class=\"dataframe\">\n",
       "  <thead>\n",
       "    <tr style=\"text-align: right;\">\n",
       "      <th></th>\n",
       "      <th>pessoa</th>\n",
       "      <th>tipoendereco</th>\n",
       "      <th>cep</th>\n",
       "      <th>bairro</th>\n",
       "      <th>numero</th>\n",
       "      <th>complemento</th>\n",
       "      <th>endereco</th>\n",
       "      <th>enderecocorrespondencia</th>\n",
       "      <th>codigo</th>\n",
       "    </tr>\n",
       "  </thead>\n",
       "  <tbody>\n",
       "    <tr>\n",
       "      <th>0</th>\n",
       "      <td>2771</td>\n",
       "      <td>RE</td>\n",
       "      <td>31780-020</td>\n",
       "      <td>CELESTINO</td>\n",
       "      <td>754</td>\n",
       "      <td>NaN</td>\n",
       "      <td>RUA SATURNO</td>\n",
       "      <td>True</td>\n",
       "      <td>1223</td>\n",
       "    </tr>\n",
       "    <tr>\n",
       "      <th>1</th>\n",
       "      <td>4115</td>\n",
       "      <td>RE</td>\n",
       "      <td>31.910-060</td>\n",
       "      <td>SÃO PAULO</td>\n",
       "      <td>395</td>\n",
       "      <td>SOBRELOJA</td>\n",
       "      <td>RUA ANGOLA</td>\n",
       "      <td>False</td>\n",
       "      <td>1942</td>\n",
       "    </tr>\n",
       "  </tbody>\n",
       "</table>\n",
       "</div>"
      ],
      "text/plain": [
       "   pessoa tipoendereco         cep     bairro numero complemento     endereco  \\\n",
       "0    2771           RE   31780-020  CELESTINO    754         NaN  RUA SATURNO   \n",
       "1    4115           RE  31.910-060  SÃO PAULO    395   SOBRELOJA   RUA ANGOLA   \n",
       "\n",
       "   enderecocorrespondencia  codigo  \n",
       "0                     True    1223  \n",
       "1                    False    1942  "
      ]
     },
     "execution_count": 12,
     "metadata": {},
     "output_type": "execute_result"
    }
   ],
   "source": [
    "dfEnderecos.head(2)"
   ]
  },
  {
   "cell_type": "markdown",
   "metadata": {},
   "source": [
    "cortando os 100 primeiros"
   ]
  },
  {
   "cell_type": "code",
   "execution_count": 9,
   "metadata": {},
   "outputs": [],
   "source": [
    "df = dfEnderecos.head(100)"
   ]
  },
  {
   "cell_type": "code",
   "execution_count": 10,
   "metadata": {},
   "outputs": [
    {
     "name": "stdout",
     "output_type": "stream",
     "text": [
      "<class 'pandas.core.frame.DataFrame'>\n",
      "RangeIndex: 100 entries, 0 to 99\n",
      "Data columns (total 9 columns):\n",
      " #   Column                   Non-Null Count  Dtype \n",
      "---  ------                   --------------  ----- \n",
      " 0   pessoa                   100 non-null    int64 \n",
      " 1   tipoendereco             100 non-null    object\n",
      " 2   cep                      99 non-null     object\n",
      " 3   bairro                   99 non-null     object\n",
      " 4   numero                   99 non-null     object\n",
      " 5   complemento              59 non-null     object\n",
      " 6   endereco                 99 non-null     object\n",
      " 7   enderecocorrespondencia  100 non-null    bool  \n",
      " 8   codigo                   100 non-null    int64 \n",
      "dtypes: bool(1), int64(2), object(6)\n",
      "memory usage: 6.5+ KB\n"
     ]
    }
   ],
   "source": [
    "df.info()"
   ]
  },
  {
   "cell_type": "code",
   "execution_count": 16,
   "metadata": {},
   "outputs": [],
   "source": [
    "df.to_csv('enderecos-100-primeiros.csv', sep = ';', encoding='utf-8')"
   ]
  },
  {
   "cell_type": "code",
   "execution_count": 14,
   "metadata": {},
   "outputs": [
    {
     "ename": "SyntaxError",
     "evalue": "invalid syntax (<ipython-input-14-b54913623f0d>, line 1)",
     "output_type": "error",
     "traceback": [
      "\u001b[0;36m  File \u001b[0;32m\"<ipython-input-14-b54913623f0d>\"\u001b[0;36m, line \u001b[0;32m1\u001b[0m\n\u001b[0;31m    for df in response('cep')\u001b[0m\n\u001b[0m                             ^\u001b[0m\n\u001b[0;31mSyntaxError\u001b[0m\u001b[0;31m:\u001b[0m invalid syntax\n"
     ]
    }
   ],
   "source": []
  }
 ],
 "metadata": {
  "interpreter": {
   "hash": "916dbcbb3f70747c44a77c7bcd40155683ae19c65e1c03b4aa3499c5328201f1"
  },
  "kernelspec": {
   "display_name": "Python 3.8.10 64-bit",
   "language": "python",
   "name": "python3"
  },
  "language_info": {
   "codemirror_mode": {
    "name": "ipython",
    "version": 3
   },
   "file_extension": ".py",
   "mimetype": "text/x-python",
   "name": "python",
   "nbconvert_exporter": "python",
   "pygments_lexer": "ipython3",
   "version": "3.8.10"
  },
  "orig_nbformat": 4
 },
 "nbformat": 4,
 "nbformat_minor": 2
}

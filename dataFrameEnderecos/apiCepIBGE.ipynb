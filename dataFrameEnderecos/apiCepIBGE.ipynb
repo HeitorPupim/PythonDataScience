{
 "cells": [
  {
   "cell_type": "code",
   "execution_count": 172,
   "metadata": {},
   "outputs": [],
   "source": [
    "import requests\n",
    "import json\n",
    "import pandas as pd\n",
    "import urllib.request"
   ]
  },
  {
   "cell_type": "code",
   "execution_count": 173,
   "metadata": {},
   "outputs": [],
   "source": [
    "df = pd.read_csv(r\"enderecos-100-primeiros.csv\"\n",
    "                 ,sep = ';'\n",
    "                 ,on_bad_lines='skip')\n",
    "\n"
   ]
  },
  {
   "cell_type": "markdown",
   "metadata": {},
   "source": [
    "valor de numeros nulos da coluna cep"
   ]
  },
  {
   "cell_type": "code",
   "execution_count": 174,
   "metadata": {},
   "outputs": [
    {
     "data": {
      "text/plain": [
       "1"
      ]
     },
     "execution_count": 174,
     "metadata": {},
     "output_type": "execute_result"
    }
   ],
   "source": [
    "df['cep'].isnull().sum()"
   ]
  },
  {
   "cell_type": "markdown",
   "metadata": {},
   "source": [
    "colocando os valores nulos num dataframe separado"
   ]
  },
  {
   "cell_type": "code",
   "execution_count": 175,
   "metadata": {},
   "outputs": [],
   "source": [
    "df_nulos = df[df['cep'].isnull()]"
   ]
  },
  {
   "cell_type": "markdown",
   "metadata": {},
   "source": [
    "limpando a coluna cep"
   ]
  },
  {
   "cell_type": "code",
   "execution_count": 176,
   "metadata": {},
   "outputs": [],
   "source": [
    "df['cep'] = df['cep'].replace('-', '' ,regex=True)\n"
   ]
  },
  {
   "cell_type": "code",
   "execution_count": 177,
   "metadata": {},
   "outputs": [],
   "source": [
    "df['cep'] = df['cep'].replace(' ', '' ,regex=True)"
   ]
  },
  {
   "cell_type": "code",
   "execution_count": 178,
   "metadata": {},
   "outputs": [],
   "source": [
    "df['cep'] = df['cep'].replace('\\.', '', regex = True,)"
   ]
  },
  {
   "cell_type": "code",
   "execution_count": 179,
   "metadata": {},
   "outputs": [
    {
     "data": {
      "text/html": [
       "<div>\n",
       "<style scoped>\n",
       "    .dataframe tbody tr th:only-of-type {\n",
       "        vertical-align: middle;\n",
       "    }\n",
       "\n",
       "    .dataframe tbody tr th {\n",
       "        vertical-align: top;\n",
       "    }\n",
       "\n",
       "    .dataframe thead th {\n",
       "        text-align: right;\n",
       "    }\n",
       "</style>\n",
       "<table border=\"1\" class=\"dataframe\">\n",
       "  <thead>\n",
       "    <tr style=\"text-align: right;\">\n",
       "      <th></th>\n",
       "      <th>Unnamed: 0</th>\n",
       "      <th>pessoa</th>\n",
       "      <th>tipoendereco</th>\n",
       "      <th>cep</th>\n",
       "      <th>bairro</th>\n",
       "      <th>numero</th>\n",
       "      <th>complemento</th>\n",
       "      <th>endereco</th>\n",
       "      <th>enderecocorrespondencia</th>\n",
       "      <th>codigo</th>\n",
       "    </tr>\n",
       "  </thead>\n",
       "  <tbody>\n",
       "    <tr>\n",
       "      <th>0</th>\n",
       "      <td>0</td>\n",
       "      <td>2771</td>\n",
       "      <td>RE</td>\n",
       "      <td>31780020</td>\n",
       "      <td>CELESTINO</td>\n",
       "      <td>754.0</td>\n",
       "      <td>NaN</td>\n",
       "      <td>RUA SATURNO</td>\n",
       "      <td>True</td>\n",
       "      <td>1223</td>\n",
       "    </tr>\n",
       "    <tr>\n",
       "      <th>1</th>\n",
       "      <td>1</td>\n",
       "      <td>4115</td>\n",
       "      <td>RE</td>\n",
       "      <td>31910060</td>\n",
       "      <td>SÃO PAULO</td>\n",
       "      <td>395.0</td>\n",
       "      <td>SOBRELOJA</td>\n",
       "      <td>RUA ANGOLA</td>\n",
       "      <td>False</td>\n",
       "      <td>1942</td>\n",
       "    </tr>\n",
       "    <tr>\n",
       "      <th>2</th>\n",
       "      <td>2</td>\n",
       "      <td>1198</td>\n",
       "      <td>RE</td>\n",
       "      <td>38300080</td>\n",
       "      <td>CENTRO</td>\n",
       "      <td>2784.0</td>\n",
       "      <td>NaN</td>\n",
       "      <td>RUA VINTE E SEIS</td>\n",
       "      <td>True</td>\n",
       "      <td>28</td>\n",
       "    </tr>\n",
       "    <tr>\n",
       "      <th>3</th>\n",
       "      <td>3</td>\n",
       "      <td>3625</td>\n",
       "      <td>RE</td>\n",
       "      <td>31155320</td>\n",
       "      <td>MARIA VIRGÍNIA</td>\n",
       "      <td>240.0</td>\n",
       "      <td>AP501 BLOCO 4</td>\n",
       "      <td>RUA MEIRA DE VASCONCELOS</td>\n",
       "      <td>False</td>\n",
       "      <td>2380</td>\n",
       "    </tr>\n",
       "    <tr>\n",
       "      <th>4</th>\n",
       "      <td>4</td>\n",
       "      <td>2360</td>\n",
       "      <td>RE</td>\n",
       "      <td>38700050</td>\n",
       "      <td>CENTRO</td>\n",
       "      <td>448.0</td>\n",
       "      <td>NaN</td>\n",
       "      <td>RUA EUFRÁSIO RODRIGUES</td>\n",
       "      <td>True</td>\n",
       "      <td>1332</td>\n",
       "    </tr>\n",
       "  </tbody>\n",
       "</table>\n",
       "</div>"
      ],
      "text/plain": [
       "   Unnamed: 0  pessoa tipoendereco       cep          bairro  numero  \\\n",
       "0           0    2771           RE  31780020       CELESTINO   754.0   \n",
       "1           1    4115           RE  31910060       SÃO PAULO   395.0   \n",
       "2           2    1198           RE  38300080          CENTRO  2784.0   \n",
       "3           3    3625           RE  31155320  MARIA VIRGÍNIA   240.0   \n",
       "4           4    2360           RE  38700050          CENTRO   448.0   \n",
       "\n",
       "     complemento                  endereco  enderecocorrespondencia  codigo  \n",
       "0            NaN               RUA SATURNO                     True    1223  \n",
       "1      SOBRELOJA                RUA ANGOLA                    False    1942  \n",
       "2            NaN          RUA VINTE E SEIS                     True      28  \n",
       "3  AP501 BLOCO 4  RUA MEIRA DE VASCONCELOS                    False    2380  \n",
       "4            NaN    RUA EUFRÁSIO RODRIGUES                     True    1332  "
      ]
     },
     "execution_count": 179,
     "metadata": {},
     "output_type": "execute_result"
    }
   ],
   "source": [
    "df.head()"
   ]
  },
  {
   "cell_type": "markdown",
   "metadata": {},
   "source": [
    "excluindo linhas da coluna 'cep' que possuem valor nulo"
   ]
  },
  {
   "cell_type": "code",
   "execution_count": 180,
   "metadata": {},
   "outputs": [],
   "source": [
    "\n",
    "df = df[df.cep.notnull()]\n",
    "#df['cep'] = df['cep'].astype(int)"
   ]
  },
  {
   "cell_type": "markdown",
   "metadata": {},
   "source": [
    "cep não pode ser numero inteiro, pois se tiver um cep do tipo '09' será convertido em '9' e não será possivel buscar na API"
   ]
  },
  {
   "cell_type": "code",
   "execution_count": 181,
   "metadata": {},
   "outputs": [],
   "source": [
    "#df.iloc[67:]"
   ]
  },
  {
   "cell_type": "code",
   "execution_count": null,
   "metadata": {},
   "outputs": [],
   "source": []
  },
  {
   "cell_type": "code",
   "execution_count": 189,
   "metadata": {},
   "outputs": [],
   "source": [
    "df = df.head(10)"
   ]
  },
  {
   "cell_type": "code",
   "execution_count": 192,
   "metadata": {},
   "outputs": [],
   "source": [
    "conteudo =''"
   ]
  },
  {
   "cell_type": "code",
   "execution_count": 193,
   "metadata": {},
   "outputs": [],
   "source": [
    "for i in df['cep'].iloc[1:]:\n",
    "    url = \"https://viacep.com.br/ws/%s/json/\" % i\n",
    "    headers = {'User-Agent': 'Autociencia/1.0'}\n",
    "    requisicao = urllib.request.Request(url, headers=headers, method='GET')\n",
    "    cliente = urllib.request.urlopen(requisicao)\n",
    "    conteudo += str(cliente.read().decode('utf-8'))\n",
    "    cliente.close()\n",
    "    "
   ]
  },
  {
   "cell_type": "code",
   "execution_count": 194,
   "metadata": {},
   "outputs": [
    {
     "data": {
      "text/plain": [
       "'{\\n  \"cep\": \"31910-060\",\\n  \"logradouro\": \"Rua Padre José Alves\",\\n  \"complemento\": \"\",\\n  \"bairro\": \"São Paulo\",\\n  \"localidade\": \"Belo Horizonte\",\\n  \"uf\": \"MG\",\\n  \"ibge\": \"3106200\",\\n  \"gia\": \"\",\\n  \"ddd\": \"31\",\\n  \"siafi\": \"4123\"\\n}{\\n  \"cep\": \"38300-080\",\\n  \"logradouro\": \"Rua Vinte e Seis\",\\n  \"complemento\": \"até 1878/1879\",\\n  \"bairro\": \"Centro\",\\n  \"localidade\": \"Ituiutaba\",\\n  \"uf\": \"MG\",\\n  \"ibge\": \"3134202\",\\n  \"gia\": \"\",\\n  \"ddd\": \"34\",\\n  \"siafi\": \"4683\"\\n}{\\n  \"cep\": \"31155-320\",\\n  \"logradouro\": \"Rua Meira de Vasconcelos\",\\n  \"complemento\": \"\",\\n  \"bairro\": \"Maria Virgínia\",\\n  \"localidade\": \"Belo Horizonte\",\\n  \"uf\": \"MG\",\\n  \"ibge\": \"3106200\",\\n  \"gia\": \"\",\\n  \"ddd\": \"31\",\\n  \"siafi\": \"4123\"\\n}{\\n  \"cep\": \"38700-050\",\\n  \"logradouro\": \"Rua Eufrásio Rodrigues\",\\n  \"complemento\": \"até 238/239\",\\n  \"bairro\": \"Centro\",\\n  \"localidade\": \"Patos de Minas\",\\n  \"uf\": \"MG\",\\n  \"ibge\": \"3148004\",\\n  \"gia\": \"\",\\n  \"ddd\": \"34\",\\n  \"siafi\": \"4959\"\\n}{\\n  \"cep\": \"38030-020\",\\n  \"logradouro\": \"Rua Nhô Bernardino\",\\n  \"complemento\": \"\",\\n  \"bairro\": \"Leblon\",\\n  \"localidade\": \"Uberaba\",\\n  \"uf\": \"MG\",\\n  \"ibge\": \"3170107\",\\n  \"gia\": \"\",\\n  \"ddd\": \"34\",\\n  \"siafi\": \"5401\"\\n}{\\n  \"cep\": \"38040-010\",\\n  \"logradouro\": \"Rua Indianópolis\",\\n  \"complemento\": \"\",\\n  \"bairro\": \"Jardim Induberaba\",\\n  \"localidade\": \"Uberaba\",\\n  \"uf\": \"MG\",\\n  \"ibge\": \"3170107\",\\n  \"gia\": \"\",\\n  \"ddd\": \"34\",\\n  \"siafi\": \"5401\"\\n}{\\n  \"cep\": \"31035-380\",\\n  \"logradouro\": \"Rua Alegrete\",\\n  \"complemento\": \"\",\\n  \"bairro\": \"Sagrada Família\",\\n  \"localidade\": \"Belo Horizonte\",\\n  \"uf\": \"MG\",\\n  \"ibge\": \"3106200\",\\n  \"gia\": \"\",\\n  \"ddd\": \"31\",\\n  \"siafi\": \"4123\"\\n}{\\n  \"cep\": \"31160-410\",\\n  \"logradouro\": \"Rua Conde de Monte Cristo\",\\n  \"complemento\": \"\",\\n  \"bairro\": \"Ipiranga\",\\n  \"localidade\": \"Belo Horizonte\",\\n  \"uf\": \"MG\",\\n  \"ibge\": \"3106200\",\\n  \"gia\": \"\",\\n  \"ddd\": \"31\",\\n  \"siafi\": \"4123\"\\n}{\\n  \"cep\": \"30810-650\",\\n  \"logradouro\": \"Rua Albert Sabin\",\\n  \"complemento\": \"\",\\n  \"bairro\": \"Paquetá\",\\n  \"localidade\": \"Belo Horizonte\",\\n  \"uf\": \"MG\",\\n  \"ibge\": \"3106200\",\\n  \"gia\": \"\",\\n  \"ddd\": \"31\",\\n  \"siafi\": \"4123\"\\n}'"
      ]
     },
     "execution_count": 194,
     "metadata": {},
     "output_type": "execute_result"
    }
   ],
   "source": [
    "conteudo"
   ]
  },
  {
   "cell_type": "code",
   "execution_count": 195,
   "metadata": {},
   "outputs": [
    {
     "data": {
      "text/plain": [
       "str"
      ]
     },
     "execution_count": 195,
     "metadata": {},
     "output_type": "execute_result"
    }
   ],
   "source": [
    "type(conteudo)"
   ]
  },
  {
   "cell_type": "code",
   "execution_count": 197,
   "metadata": {},
   "outputs": [
    {
     "ename": "JSONDecodeError",
     "evalue": "Extra data: line 12 column 2 (char 226)",
     "output_type": "error",
     "traceback": [
      "\u001b[0;31m---------------------------------------------------------------------------\u001b[0m",
      "\u001b[0;31mJSONDecodeError\u001b[0m                           Traceback (most recent call last)",
      "\u001b[0;32m<ipython-input-197-4fc3f5348152>\u001b[0m in \u001b[0;36m<module>\u001b[0;34m\u001b[0m\n\u001b[0;32m----> 1\u001b[0;31m \u001b[0mconteudoJSON\u001b[0m \u001b[0;34m=\u001b[0m \u001b[0mjson\u001b[0m\u001b[0;34m.\u001b[0m\u001b[0mloads\u001b[0m\u001b[0;34m(\u001b[0m\u001b[0mconteudo\u001b[0m\u001b[0;34m)\u001b[0m\u001b[0;34m\u001b[0m\u001b[0;34m\u001b[0m\u001b[0m\n\u001b[0m",
      "\u001b[0;32m/usr/lib/python3.8/json/__init__.py\u001b[0m in \u001b[0;36mloads\u001b[0;34m(s, cls, object_hook, parse_float, parse_int, parse_constant, object_pairs_hook, **kw)\u001b[0m\n\u001b[1;32m    355\u001b[0m             \u001b[0mparse_int\u001b[0m \u001b[0;32mis\u001b[0m \u001b[0;32mNone\u001b[0m \u001b[0;32mand\u001b[0m \u001b[0mparse_float\u001b[0m \u001b[0;32mis\u001b[0m \u001b[0;32mNone\u001b[0m \u001b[0;32mand\u001b[0m\u001b[0;34m\u001b[0m\u001b[0;34m\u001b[0m\u001b[0m\n\u001b[1;32m    356\u001b[0m             parse_constant is None and object_pairs_hook is None and not kw):\n\u001b[0;32m--> 357\u001b[0;31m         \u001b[0;32mreturn\u001b[0m \u001b[0m_default_decoder\u001b[0m\u001b[0;34m.\u001b[0m\u001b[0mdecode\u001b[0m\u001b[0;34m(\u001b[0m\u001b[0ms\u001b[0m\u001b[0;34m)\u001b[0m\u001b[0;34m\u001b[0m\u001b[0;34m\u001b[0m\u001b[0m\n\u001b[0m\u001b[1;32m    358\u001b[0m     \u001b[0;32mif\u001b[0m \u001b[0mcls\u001b[0m \u001b[0;32mis\u001b[0m \u001b[0;32mNone\u001b[0m\u001b[0;34m:\u001b[0m\u001b[0;34m\u001b[0m\u001b[0;34m\u001b[0m\u001b[0m\n\u001b[1;32m    359\u001b[0m         \u001b[0mcls\u001b[0m \u001b[0;34m=\u001b[0m \u001b[0mJSONDecoder\u001b[0m\u001b[0;34m\u001b[0m\u001b[0;34m\u001b[0m\u001b[0m\n",
      "\u001b[0;32m/usr/lib/python3.8/json/decoder.py\u001b[0m in \u001b[0;36mdecode\u001b[0;34m(self, s, _w)\u001b[0m\n\u001b[1;32m    338\u001b[0m         \u001b[0mend\u001b[0m \u001b[0;34m=\u001b[0m \u001b[0m_w\u001b[0m\u001b[0;34m(\u001b[0m\u001b[0ms\u001b[0m\u001b[0;34m,\u001b[0m \u001b[0mend\u001b[0m\u001b[0;34m)\u001b[0m\u001b[0;34m.\u001b[0m\u001b[0mend\u001b[0m\u001b[0;34m(\u001b[0m\u001b[0;34m)\u001b[0m\u001b[0;34m\u001b[0m\u001b[0;34m\u001b[0m\u001b[0m\n\u001b[1;32m    339\u001b[0m         \u001b[0;32mif\u001b[0m \u001b[0mend\u001b[0m \u001b[0;34m!=\u001b[0m \u001b[0mlen\u001b[0m\u001b[0;34m(\u001b[0m\u001b[0ms\u001b[0m\u001b[0;34m)\u001b[0m\u001b[0;34m:\u001b[0m\u001b[0;34m\u001b[0m\u001b[0;34m\u001b[0m\u001b[0m\n\u001b[0;32m--> 340\u001b[0;31m             \u001b[0;32mraise\u001b[0m \u001b[0mJSONDecodeError\u001b[0m\u001b[0;34m(\u001b[0m\u001b[0;34m\"Extra data\"\u001b[0m\u001b[0;34m,\u001b[0m \u001b[0ms\u001b[0m\u001b[0;34m,\u001b[0m \u001b[0mend\u001b[0m\u001b[0;34m)\u001b[0m\u001b[0;34m\u001b[0m\u001b[0;34m\u001b[0m\u001b[0m\n\u001b[0m\u001b[1;32m    341\u001b[0m         \u001b[0;32mreturn\u001b[0m \u001b[0mobj\u001b[0m\u001b[0;34m\u001b[0m\u001b[0;34m\u001b[0m\u001b[0m\n\u001b[1;32m    342\u001b[0m \u001b[0;34m\u001b[0m\u001b[0m\n",
      "\u001b[0;31mJSONDecodeError\u001b[0m: Extra data: line 12 column 2 (char 226)"
     ]
    }
   ],
   "source": [
    "conteudoJSON = json.loads(conteudo)"
   ]
  },
  {
   "cell_type": "code",
   "execution_count": null,
   "metadata": {},
   "outputs": [],
   "source": [
    "df2 = pd.DataFrame.from_dict(conteudoJSON, orient = 'index')"
   ]
  },
  {
   "cell_type": "code",
   "execution_count": null,
   "metadata": {},
   "outputs": [
    {
     "data": {
      "text/html": [
       "<div>\n",
       "<style scoped>\n",
       "    .dataframe tbody tr th:only-of-type {\n",
       "        vertical-align: middle;\n",
       "    }\n",
       "\n",
       "    .dataframe tbody tr th {\n",
       "        vertical-align: top;\n",
       "    }\n",
       "\n",
       "    .dataframe thead th {\n",
       "        text-align: right;\n",
       "    }\n",
       "</style>\n",
       "<table border=\"1\" class=\"dataframe\">\n",
       "  <thead>\n",
       "    <tr style=\"text-align: right;\">\n",
       "      <th></th>\n",
       "      <th>0</th>\n",
       "    </tr>\n",
       "  </thead>\n",
       "  <tbody>\n",
       "    <tr>\n",
       "      <th>cep</th>\n",
       "      <td>31910-060</td>\n",
       "    </tr>\n",
       "    <tr>\n",
       "      <th>logradouro</th>\n",
       "      <td>Rua Padre José Alves</td>\n",
       "    </tr>\n",
       "    <tr>\n",
       "      <th>complemento</th>\n",
       "      <td></td>\n",
       "    </tr>\n",
       "    <tr>\n",
       "      <th>bairro</th>\n",
       "      <td>São Paulo</td>\n",
       "    </tr>\n",
       "    <tr>\n",
       "      <th>localidade</th>\n",
       "      <td>Belo Horizonte</td>\n",
       "    </tr>\n",
       "  </tbody>\n",
       "</table>\n",
       "</div>"
      ],
      "text/plain": [
       "                                0\n",
       "cep                     31910-060\n",
       "logradouro   Rua Padre José Alves\n",
       "complemento                      \n",
       "bairro                  São Paulo\n",
       "localidade         Belo Horizonte"
      ]
     },
     "execution_count": 159,
     "metadata": {},
     "output_type": "execute_result"
    }
   ],
   "source": [
    "df2.head()"
   ]
  },
  {
   "cell_type": "code",
   "execution_count": null,
   "metadata": {},
   "outputs": [
    {
     "name": "stdout",
     "output_type": "stream",
     "text": [
      "<class 'pandas.core.frame.DataFrame'>\n",
      "Index: 10 entries, cep to siafi\n",
      "Data columns (total 1 columns):\n",
      " #   Column  Non-Null Count  Dtype \n",
      "---  ------  --------------  ----- \n",
      " 0   0       10 non-null     object\n",
      "dtypes: object(1)\n",
      "memory usage: 160.0+ bytes\n"
     ]
    }
   ],
   "source": [
    "df2.info()"
   ]
  },
  {
   "cell_type": "code",
   "execution_count": null,
   "metadata": {},
   "outputs": [
    {
     "data": {
      "text/html": [
       "<div>\n",
       "<style scoped>\n",
       "    .dataframe tbody tr th:only-of-type {\n",
       "        vertical-align: middle;\n",
       "    }\n",
       "\n",
       "    .dataframe tbody tr th {\n",
       "        vertical-align: top;\n",
       "    }\n",
       "\n",
       "    .dataframe thead th {\n",
       "        text-align: right;\n",
       "    }\n",
       "</style>\n",
       "<table border=\"1\" class=\"dataframe\">\n",
       "  <thead>\n",
       "    <tr style=\"text-align: right;\">\n",
       "      <th></th>\n",
       "      <th>0</th>\n",
       "    </tr>\n",
       "  </thead>\n",
       "  <tbody>\n",
       "    <tr>\n",
       "      <th>cep</th>\n",
       "      <td>32241-395</td>\n",
       "    </tr>\n",
       "    <tr>\n",
       "      <th>logradouro</th>\n",
       "      <td>Avenida Marte</td>\n",
       "    </tr>\n",
       "    <tr>\n",
       "      <th>complemento</th>\n",
       "      <td></td>\n",
       "    </tr>\n",
       "    <tr>\n",
       "      <th>bairro</th>\n",
       "      <td>Jardim Riacho das Pedras</td>\n",
       "    </tr>\n",
       "    <tr>\n",
       "      <th>localidade</th>\n",
       "      <td>Contagem</td>\n",
       "    </tr>\n",
       "  </tbody>\n",
       "</table>\n",
       "</div>"
      ],
      "text/plain": [
       "                                    0\n",
       "cep                         32241-395\n",
       "logradouro              Avenida Marte\n",
       "complemento                          \n",
       "bairro       Jardim Riacho das Pedras\n",
       "localidade                   Contagem"
      ]
     },
     "execution_count": 111,
     "metadata": {},
     "output_type": "execute_result"
    }
   ],
   "source": [
    "df2.head()"
   ]
  }
 ],
 "metadata": {
  "interpreter": {
   "hash": "916dbcbb3f70747c44a77c7bcd40155683ae19c65e1c03b4aa3499c5328201f1"
  },
  "kernelspec": {
   "display_name": "Python 3.8.10 64-bit",
   "language": "python",
   "name": "python3"
  },
  "language_info": {
   "codemirror_mode": {
    "name": "ipython",
    "version": 3
   },
   "file_extension": ".py",
   "mimetype": "text/x-python",
   "name": "python",
   "nbconvert_exporter": "python",
   "pygments_lexer": "ipython3",
   "version": "3.8.10"
  },
  "orig_nbformat": 4
 },
 "nbformat": 4,
 "nbformat_minor": 2
}

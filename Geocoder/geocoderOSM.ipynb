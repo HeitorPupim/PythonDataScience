{
 "cells": [
  {
   "cell_type": "code",
   "execution_count": 1,
   "metadata": {},
   "outputs": [],
   "source": [
    "import geocoder as gc"
   ]
  },
  {
   "cell_type": "code",
   "execution_count": 2,
   "metadata": {},
   "outputs": [],
   "source": [
    "g = gc.osm('New York City')"
   ]
  },
  {
   "cell_type": "code",
   "execution_count": 3,
   "metadata": {},
   "outputs": [
    {
     "data": {
      "text/plain": [
       "{'accuracy': 1.017576611451846,\n",
       " 'address': 'New York, United States',\n",
       " 'bbox': {'northeast': [40.9161785, -73.7001809],\n",
       "  'southwest': [40.477399, -74.25909]},\n",
       " 'city': 'New York',\n",
       " 'confidence': 1,\n",
       " 'country': 'United States',\n",
       " 'country_code': 'us',\n",
       " 'icon': 'https://nominatim.openstreetmap.org/ui/mapicons//poi_boundary_administrative.p.20.png',\n",
       " 'importance': 1.017576611451846,\n",
       " 'lat': 40.7127281,\n",
       " 'lng': -74.0060152,\n",
       " 'ok': True,\n",
       " 'osm_id': 175905,\n",
       " 'osm_type': 'relation',\n",
       " 'place_id': 283624285,\n",
       " 'place_rank': 10,\n",
       " 'quality': 'administrative',\n",
       " 'raw': {'place_id': 283624285,\n",
       "  'licence': 'Data © OpenStreetMap contributors, ODbL 1.0. https://osm.org/copyright',\n",
       "  'osm_type': 'relation',\n",
       "  'osm_id': 175905,\n",
       "  'boundingbox': ['40.477399', '40.9161785', '-74.25909', '-73.7001809'],\n",
       "  'lat': '40.7127281',\n",
       "  'lon': '-74.0060152',\n",
       "  'display_name': 'New York, United States',\n",
       "  'place_rank': 10,\n",
       "  'category': 'boundary',\n",
       "  'type': 'administrative',\n",
       "  'importance': 1.017576611451846,\n",
       "  'icon': 'https://nominatim.openstreetmap.org/ui/mapicons//poi_boundary_administrative.p.20.png',\n",
       "  'address': {'city': 'New York',\n",
       "   'state': 'New York',\n",
       "   'ISO3166-2-lvl4': 'US-NY',\n",
       "   'country': 'United States',\n",
       "   'country_code': 'us'}},\n",
       " 'region': 'New York',\n",
       " 'state': 'New York',\n",
       " 'status': 'OK',\n",
       " 'type': 'administrative'}"
      ]
     },
     "execution_count": 3,
     "metadata": {},
     "output_type": "execute_result"
    }
   ],
   "source": [
    "g.json"
   ]
  }
 ],
 "metadata": {
  "interpreter": {
   "hash": "916dbcbb3f70747c44a77c7bcd40155683ae19c65e1c03b4aa3499c5328201f1"
  },
  "kernelspec": {
   "display_name": "Python 3.8.10 64-bit",
   "language": "python",
   "name": "python3"
  },
  "language_info": {
   "codemirror_mode": {
    "name": "ipython",
    "version": 3
   },
   "file_extension": ".py",
   "mimetype": "text/x-python",
   "name": "python",
   "nbconvert_exporter": "python",
   "pygments_lexer": "ipython3",
   "version": "3.8.10"
  },
  "orig_nbformat": 4
 },
 "nbformat": 4,
 "nbformat_minor": 2
}

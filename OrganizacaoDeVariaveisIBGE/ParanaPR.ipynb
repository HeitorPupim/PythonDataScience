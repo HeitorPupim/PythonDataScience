{
 "cells": [
  {
   "cell_type": "code",
   "execution_count": 127,
   "metadata": {},
   "outputs": [],
   "source": [
    "import pandas as pd\n",
    "import numpy as np\n",
    "from functools import reduce"
   ]
  },
  {
   "cell_type": "markdown",
   "metadata": {},
   "source": [
    "**Basico** - conferido"
   ]
  },
  {
   "cell_type": "code",
   "execution_count": 128,
   "metadata": {},
   "outputs": [],
   "source": [
    "dfBasicoParana = pd.read_csv('dataAgrupados/Basico_PR.csv', sep = ';', encoding = 'unicode_escape')"
   ]
  },
  {
   "cell_type": "code",
   "execution_count": 129,
   "metadata": {},
   "outputs": [],
   "source": [
    "dfBasicoParana = dfBasicoParana[['Cod_setor','V003', 'V005', 'V009', 'V011']]"
   ]
  },
  {
   "cell_type": "code",
   "execution_count": 130,
   "metadata": {},
   "outputs": [],
   "source": [
    "dfBasicoParana = dfBasicoParana.replace('X', 0, regex= True)"
   ]
  },
  {
   "cell_type": "code",
   "execution_count": 131,
   "metadata": {},
   "outputs": [
    {
     "data": {
      "text/html": [
       "<div>\n",
       "<style scoped>\n",
       "    .dataframe tbody tr th:only-of-type {\n",
       "        vertical-align: middle;\n",
       "    }\n",
       "\n",
       "    .dataframe tbody tr th {\n",
       "        vertical-align: top;\n",
       "    }\n",
       "\n",
       "    .dataframe thead th {\n",
       "        text-align: right;\n",
       "    }\n",
       "</style>\n",
       "<table border=\"1\" class=\"dataframe\">\n",
       "  <thead>\n",
       "    <tr style=\"text-align: right;\">\n",
       "      <th></th>\n",
       "      <th>Cod_setor</th>\n",
       "      <th>V003</th>\n",
       "      <th>V005</th>\n",
       "      <th>V009</th>\n",
       "      <th>V011</th>\n",
       "    </tr>\n",
       "  </thead>\n",
       "  <tbody>\n",
       "    <tr>\n",
       "      <th>0</th>\n",
       "      <td>410010305000001</td>\n",
       "      <td>2,83</td>\n",
       "      <td>1039,68</td>\n",
       "      <td>719,46</td>\n",
       "      <td>892,37</td>\n",
       "    </tr>\n",
       "    <tr>\n",
       "      <th>1</th>\n",
       "      <td>410010305000002</td>\n",
       "      <td>2,92</td>\n",
       "      <td>1207,89</td>\n",
       "      <td>781,19</td>\n",
       "      <td>1112,13</td>\n",
       "    </tr>\n",
       "    <tr>\n",
       "      <th>2</th>\n",
       "      <td>410010305000003</td>\n",
       "      <td>3,09</td>\n",
       "      <td>639,27</td>\n",
       "      <td>419,55</td>\n",
       "      <td>688,48</td>\n",
       "    </tr>\n",
       "    <tr>\n",
       "      <th>3</th>\n",
       "      <td>410010305000004</td>\n",
       "      <td>3,1</td>\n",
       "      <td>603,05</td>\n",
       "      <td>404,48</td>\n",
       "      <td>573,14</td>\n",
       "    </tr>\n",
       "    <tr>\n",
       "      <th>4</th>\n",
       "      <td>410010305000005</td>\n",
       "      <td>3,19</td>\n",
       "      <td>750,98</td>\n",
       "      <td>489,13</td>\n",
       "      <td>634,51</td>\n",
       "    </tr>\n",
       "  </tbody>\n",
       "</table>\n",
       "</div>"
      ],
      "text/plain": [
       "         Cod_setor  V003     V005    V009     V011\n",
       "0  410010305000001  2,83  1039,68  719,46   892,37\n",
       "1  410010305000002  2,92  1207,89  781,19  1112,13\n",
       "2  410010305000003  3,09   639,27  419,55   688,48\n",
       "3  410010305000004   3,1   603,05  404,48   573,14\n",
       "4  410010305000005  3,19   750,98  489,13   634,51"
      ]
     },
     "execution_count": 131,
     "metadata": {},
     "output_type": "execute_result"
    }
   ],
   "source": [
    "dfBasicoParana.head()"
   ]
  },
  {
   "cell_type": "code",
   "execution_count": 132,
   "metadata": {},
   "outputs": [],
   "source": [
    "dfBasicoParana = dfBasicoParana.replace(',', '.', regex= True)"
   ]
  },
  {
   "cell_type": "code",
   "execution_count": 133,
   "metadata": {},
   "outputs": [],
   "source": [
    "dfBasicoParana = dfBasicoParana.astype({'V003':'float','V005':'float','V009':'float','V011':'float'})"
   ]
  },
  {
   "cell_type": "code",
   "execution_count": 134,
   "metadata": {},
   "outputs": [],
   "source": [
    "dfBasicoParana.rename(columns = {'V003':'MediaMoradorDomicilio',\n",
    "                     'V005':'RendaMediaDomicilio',\n",
    "                     'V009':'RendaMediaPerCapitaGeral',\n",
    "                     'V011':'RendaMediaPerCapitaComRendimento'}, inplace = True)"
   ]
  },
  {
   "cell_type": "markdown",
   "metadata": {},
   "source": [
    "**Domicilio01** - conferido"
   ]
  },
  {
   "cell_type": "code",
   "execution_count": 135,
   "metadata": {},
   "outputs": [],
   "source": [
    "dfDomicilio01Parana = pd.read_csv('dataAgrupados/Domicilio01_PR.csv', sep = ';', encoding = 'unicode_escape')"
   ]
  },
  {
   "cell_type": "code",
   "execution_count": 136,
   "metadata": {},
   "outputs": [],
   "source": [
    "dfDomicilio01Parana = dfDomicilio01Parana.replace('X', 0, regex= True)"
   ]
  },
  {
   "cell_type": "code",
   "execution_count": 137,
   "metadata": {},
   "outputs": [],
   "source": [
    "#dfDomicilio01Parana = dfDomicilio01Parana.astype(int)"
   ]
  },
  {
   "cell_type": "code",
   "execution_count": 138,
   "metadata": {},
   "outputs": [],
   "source": [
    "dfDomicilio01Parana = dfDomicilio01Parana[['Cod_setor',\n",
    "                                       'V001', 'V003', 'V005', 'V008','V050',\n",
    "                                       'V050' ,'V051' ,'V052' ,'V053' ,'V054' ,'V055' ,\n",
    "                                       'V056' ,'V057' ,'V058' ,'V059' ,]]"
   ]
  },
  {
   "cell_type": "code",
   "execution_count": 139,
   "metadata": {},
   "outputs": [],
   "source": [
    "dfDomicilio01Parana.rename(columns = {\n",
    "'V001':'nAbsDomicilios' , \n",
    "'V003': 'nAbsDomiciliosCasa', \n",
    "'V005': 'nAbsDomiciliosApto', \n",
    "'V008': 'nAbsImoveisAlugados', \n",
    "'V050':'nAbs1PessoasDomicilio',\n",
    "'V051':'nAbs2PessoasDomicilio',\n",
    "'V052':'nAbs3PessoasDomicilio',\n",
    "'V053':'nAbs4PessoasDomicilio',\n",
    "'V054':'nAbs5PessoasDomicilio',\n",
    "'V055':'nAbs6PessoasDomicilio',\n",
    "'V056':'nAbs7PessoasDomicilio',\n",
    "'V057':'nAbs8PessoasDomicilio',\n",
    "'V058':'nAbs9PessoasDomicilio',\n",
    "'V059':'nAbs10PessoasDomicilio'}, inplace = True)"
   ]
  },
  {
   "cell_type": "code",
   "execution_count": 140,
   "metadata": {},
   "outputs": [
    {
     "data": {
      "text/plain": [
       "0        00\n",
       "1        00\n",
       "2        01\n",
       "3        10\n",
       "4        00\n",
       "         ..\n",
       "17460    00\n",
       "17461    10\n",
       "17462    00\n",
       "17463    00\n",
       "17464    00\n",
       "Length: 17465, dtype: object"
      ]
     },
     "execution_count": 140,
     "metadata": {},
     "output_type": "execute_result"
    }
   ],
   "source": [
    "dfDomicilio01Parana['nAbs5ouMaisPessoasDomicilio'] = dfDomicilio01Parana['nAbs5PessoasDomicilio'] +dfDomicilio01Parana['nAbs6PessoasDomicilio'] + dfDomicilio01Parana['nAbs7PessoasDomicilio'] + dfDomicilio01Parana['nAbs8PessoasDomicilio']\n",
    "+ dfDomicilio01Parana['nAbs9PessoasDomicilio'] + dfDomicilio01Parana['nAbs10PessoasDomicilio'] "
   ]
  },
  {
   "cell_type": "code",
   "execution_count": 141,
   "metadata": {},
   "outputs": [],
   "source": [
    "dfDomicilio01Parana.drop(['nAbs5PessoasDomicilio', 'nAbs6PessoasDomicilio', 'nAbs7PessoasDomicilio',\n",
    "                        'nAbs8PessoasDomicilio', 'nAbs9PessoasDomicilio', 'nAbs10PessoasDomicilio'], axis =1, inplace = True)"
   ]
  },
  {
   "cell_type": "markdown",
   "metadata": {},
   "source": [
    "**Domicilio02** - conferido"
   ]
  },
  {
   "cell_type": "code",
   "execution_count": 142,
   "metadata": {},
   "outputs": [],
   "source": [
    "dfDomicilio02Parana = pd.read_csv('dataAgrupados/Domicilio02_PR.csv', sep = ';', encoding = 'unicode_escape')"
   ]
  },
  {
   "cell_type": "code",
   "execution_count": 143,
   "metadata": {},
   "outputs": [],
   "source": [
    "dfDomicilio02Parana = dfDomicilio02Parana.replace('X', 0, regex= True)"
   ]
  },
  {
   "cell_type": "code",
   "execution_count": 144,
   "metadata": {},
   "outputs": [],
   "source": [
    "dfDomicilio02Parana = dfDomicilio02Parana.astype(int)\n"
   ]
  },
  {
   "cell_type": "code",
   "execution_count": 145,
   "metadata": {},
   "outputs": [
    {
     "name": "stdout",
     "output_type": "stream",
     "text": [
      "<class 'pandas.core.frame.DataFrame'>\n",
      "RangeIndex: 17465 entries, 0 to 17464\n",
      "Columns: 134 entries, Cod_setor to V132\n",
      "dtypes: int64(134)\n",
      "memory usage: 17.9 MB\n"
     ]
    }
   ],
   "source": [
    "dfDomicilio02Parana.info()"
   ]
  },
  {
   "cell_type": "code",
   "execution_count": 146,
   "metadata": {},
   "outputs": [],
   "source": [
    "dfDomicilio02Parana = dfDomicilio02Parana[['Cod_setor',\n",
    "                                       'V001', 'V003', 'V005', 'V008']]"
   ]
  },
  {
   "cell_type": "code",
   "execution_count": 147,
   "metadata": {},
   "outputs": [],
   "source": [
    "dfDomicilio02Parana.rename(columns = {\n",
    "'V001':'nAbsHabitantes' , \n",
    "'V003': 'nAbsMoradoresCasa', \n",
    "'V005': 'nAbsMoradoresApto', \n",
    "'V008': 'nAbsMoradoresImoveisAlugados', \n",
    "}, inplace = True)"
   ]
  },
  {
   "cell_type": "code",
   "execution_count": 148,
   "metadata": {},
   "outputs": [
    {
     "data": {
      "text/html": [
       "<div>\n",
       "<style scoped>\n",
       "    .dataframe tbody tr th:only-of-type {\n",
       "        vertical-align: middle;\n",
       "    }\n",
       "\n",
       "    .dataframe tbody tr th {\n",
       "        vertical-align: top;\n",
       "    }\n",
       "\n",
       "    .dataframe thead th {\n",
       "        text-align: right;\n",
       "    }\n",
       "</style>\n",
       "<table border=\"1\" class=\"dataframe\">\n",
       "  <thead>\n",
       "    <tr style=\"text-align: right;\">\n",
       "      <th></th>\n",
       "      <th>Cod_setor</th>\n",
       "      <th>nAbsHabitantes</th>\n",
       "      <th>nAbsMoradoresCasa</th>\n",
       "      <th>nAbsMoradoresApto</th>\n",
       "      <th>nAbsMoradoresImoveisAlugados</th>\n",
       "    </tr>\n",
       "  </thead>\n",
       "  <tbody>\n",
       "    <tr>\n",
       "      <th>0</th>\n",
       "      <td>410010305000001</td>\n",
       "      <td>845</td>\n",
       "      <td>844</td>\n",
       "      <td>0</td>\n",
       "      <td>184</td>\n",
       "    </tr>\n",
       "    <tr>\n",
       "      <th>1</th>\n",
       "      <td>410010305000002</td>\n",
       "      <td>881</td>\n",
       "      <td>881</td>\n",
       "      <td>0</td>\n",
       "      <td>156</td>\n",
       "    </tr>\n",
       "    <tr>\n",
       "      <th>2</th>\n",
       "      <td>410010305000003</td>\n",
       "      <td>1228</td>\n",
       "      <td>1228</td>\n",
       "      <td>0</td>\n",
       "      <td>167</td>\n",
       "    </tr>\n",
       "    <tr>\n",
       "      <th>3</th>\n",
       "      <td>410010305000004</td>\n",
       "      <td>937</td>\n",
       "      <td>898</td>\n",
       "      <td>0</td>\n",
       "      <td>119</td>\n",
       "    </tr>\n",
       "    <tr>\n",
       "      <th>4</th>\n",
       "      <td>410010305000005</td>\n",
       "      <td>1027</td>\n",
       "      <td>1021</td>\n",
       "      <td>0</td>\n",
       "      <td>168</td>\n",
       "    </tr>\n",
       "  </tbody>\n",
       "</table>\n",
       "</div>"
      ],
      "text/plain": [
       "         Cod_setor  nAbsHabitantes  nAbsMoradoresCasa  nAbsMoradoresApto  \\\n",
       "0  410010305000001             845                844                  0   \n",
       "1  410010305000002             881                881                  0   \n",
       "2  410010305000003            1228               1228                  0   \n",
       "3  410010305000004             937                898                  0   \n",
       "4  410010305000005            1027               1021                  0   \n",
       "\n",
       "   nAbsMoradoresImoveisAlugados  \n",
       "0                           184  \n",
       "1                           156  \n",
       "2                           167  \n",
       "3                           119  \n",
       "4                           168  "
      ]
     },
     "execution_count": 148,
     "metadata": {},
     "output_type": "execute_result"
    }
   ],
   "source": [
    "dfDomicilio02Parana.head()"
   ]
  },
  {
   "cell_type": "markdown",
   "metadata": {},
   "source": [
    "**Pessoa13** - conferido"
   ]
  },
  {
   "cell_type": "code",
   "execution_count": 149,
   "metadata": {},
   "outputs": [],
   "source": [
    "dfPessoa13Parana = pd.read_csv('dataAgrupados/Pessoa13_PR.csv', sep = ';', encoding = 'unicode_escape')"
   ]
  },
  {
   "cell_type": "code",
   "execution_count": 150,
   "metadata": {},
   "outputs": [],
   "source": [
    "dfPessoa13Parana = dfPessoa13Parana[['Cod_setor', 'V001']]"
   ]
  },
  {
   "cell_type": "code",
   "execution_count": 151,
   "metadata": {},
   "outputs": [],
   "source": [
    "dfPessoa13Parana = dfPessoa13Parana.replace('X', 0, regex= True)"
   ]
  },
  {
   "cell_type": "code",
   "execution_count": 152,
   "metadata": {},
   "outputs": [],
   "source": [
    "dfPessoa13Parana.rename(columns= {'V001':'nAbsConjuges'}, inplace = True)"
   ]
  },
  {
   "cell_type": "code",
   "execution_count": 95,
   "metadata": {},
   "outputs": [
    {
     "data": {
      "text/html": [
       "<div>\n",
       "<style scoped>\n",
       "    .dataframe tbody tr th:only-of-type {\n",
       "        vertical-align: middle;\n",
       "    }\n",
       "\n",
       "    .dataframe tbody tr th {\n",
       "        vertical-align: top;\n",
       "    }\n",
       "\n",
       "    .dataframe thead th {\n",
       "        text-align: right;\n",
       "    }\n",
       "</style>\n",
       "<table border=\"1\" class=\"dataframe\">\n",
       "  <thead>\n",
       "    <tr style=\"text-align: right;\">\n",
       "      <th></th>\n",
       "      <th>Cod_setor</th>\n",
       "      <th>nAbsConjuges</th>\n",
       "    </tr>\n",
       "  </thead>\n",
       "  <tbody>\n",
       "    <tr>\n",
       "      <th>0</th>\n",
       "      <td>410010305000001</td>\n",
       "      <td>845</td>\n",
       "    </tr>\n",
       "    <tr>\n",
       "      <th>1</th>\n",
       "      <td>410010305000002</td>\n",
       "      <td>881</td>\n",
       "    </tr>\n",
       "    <tr>\n",
       "      <th>2</th>\n",
       "      <td>410010305000003</td>\n",
       "      <td>1228</td>\n",
       "    </tr>\n",
       "    <tr>\n",
       "      <th>3</th>\n",
       "      <td>410010305000004</td>\n",
       "      <td>937</td>\n",
       "    </tr>\n",
       "    <tr>\n",
       "      <th>4</th>\n",
       "      <td>410010305000005</td>\n",
       "      <td>1027</td>\n",
       "    </tr>\n",
       "  </tbody>\n",
       "</table>\n",
       "</div>"
      ],
      "text/plain": [
       "         Cod_setor  nAbsConjuges\n",
       "0  410010305000001           845\n",
       "1  410010305000002           881\n",
       "2  410010305000003          1228\n",
       "3  410010305000004           937\n",
       "4  410010305000005          1027"
      ]
     },
     "execution_count": 95,
     "metadata": {},
     "output_type": "execute_result"
    }
   ],
   "source": [
    "dfPessoa13Parana.head()"
   ]
  },
  {
   "cell_type": "markdown",
   "metadata": {},
   "source": [
    "**Pessoa11** - conferido"
   ]
  },
  {
   "cell_type": "code",
   "execution_count": 96,
   "metadata": {},
   "outputs": [],
   "source": [
    "dfPessoa11Parana = pd.read_csv('dataAgrupados/Pessoa11_PR.csv', sep = ';', encoding = 'unicode_escape')"
   ]
  },
  {
   "cell_type": "code",
   "execution_count": 97,
   "metadata": {},
   "outputs": [],
   "source": [
    "dfPessoa11Parana = dfPessoa11Parana[['Cod_setor', 'V001']]"
   ]
  },
  {
   "cell_type": "code",
   "execution_count": 98,
   "metadata": {},
   "outputs": [],
   "source": [
    "dfPessoa11Parana = dfPessoa11Parana.replace('X', 0, regex= True)"
   ]
  },
  {
   "cell_type": "code",
   "execution_count": 99,
   "metadata": {},
   "outputs": [],
   "source": [
    "dfPessoa11Parana.rename(columns= {'V001':'nAbsHomensResidentes'}, inplace = True)"
   ]
  },
  {
   "cell_type": "markdown",
   "metadata": {},
   "source": [
    "**Pessoa12** - conferido"
   ]
  },
  {
   "cell_type": "code",
   "execution_count": 100,
   "metadata": {},
   "outputs": [],
   "source": [
    "dfPessoa12Parana = pd.read_csv('dataAgrupados/Pessoa12_PR.csv', sep = ';', encoding = 'unicode_escape')"
   ]
  },
  {
   "cell_type": "code",
   "execution_count": 101,
   "metadata": {},
   "outputs": [],
   "source": [
    "dfPessoa12Parana = dfPessoa12Parana.replace('X', 0, regex= True)"
   ]
  },
  {
   "cell_type": "code",
   "execution_count": 102,
   "metadata": {},
   "outputs": [],
   "source": [
    "dfPessoa12Parana = dfPessoa12Parana[['Cod_setor', 'V001']]"
   ]
  },
  {
   "cell_type": "code",
   "execution_count": 103,
   "metadata": {},
   "outputs": [
    {
     "data": {
      "text/html": [
       "<div>\n",
       "<style scoped>\n",
       "    .dataframe tbody tr th:only-of-type {\n",
       "        vertical-align: middle;\n",
       "    }\n",
       "\n",
       "    .dataframe tbody tr th {\n",
       "        vertical-align: top;\n",
       "    }\n",
       "\n",
       "    .dataframe thead th {\n",
       "        text-align: right;\n",
       "    }\n",
       "</style>\n",
       "<table border=\"1\" class=\"dataframe\">\n",
       "  <thead>\n",
       "    <tr style=\"text-align: right;\">\n",
       "      <th></th>\n",
       "      <th>Cod_setor</th>\n",
       "      <th>V001</th>\n",
       "    </tr>\n",
       "  </thead>\n",
       "  <tbody>\n",
       "    <tr>\n",
       "      <th>0</th>\n",
       "      <td>410010305000001</td>\n",
       "      <td>435</td>\n",
       "    </tr>\n",
       "    <tr>\n",
       "      <th>1</th>\n",
       "      <td>410010305000002</td>\n",
       "      <td>463</td>\n",
       "    </tr>\n",
       "    <tr>\n",
       "      <th>2</th>\n",
       "      <td>410010305000003</td>\n",
       "      <td>616</td>\n",
       "    </tr>\n",
       "    <tr>\n",
       "      <th>3</th>\n",
       "      <td>410010305000004</td>\n",
       "      <td>453</td>\n",
       "    </tr>\n",
       "    <tr>\n",
       "      <th>4</th>\n",
       "      <td>410010305000005</td>\n",
       "      <td>517</td>\n",
       "    </tr>\n",
       "  </tbody>\n",
       "</table>\n",
       "</div>"
      ],
      "text/plain": [
       "         Cod_setor  V001\n",
       "0  410010305000001   435\n",
       "1  410010305000002   463\n",
       "2  410010305000003   616\n",
       "3  410010305000004   453\n",
       "4  410010305000005   517"
      ]
     },
     "execution_count": 103,
     "metadata": {},
     "output_type": "execute_result"
    }
   ],
   "source": [
    "dfPessoa12Parana.head()"
   ]
  },
  {
   "cell_type": "code",
   "execution_count": 104,
   "metadata": {},
   "outputs": [],
   "source": [
    "dfPessoa12Parana.rename(columns= {'V001':'nAbsMulheresResidentes'}, inplace = True)"
   ]
  },
  {
   "cell_type": "code",
   "execution_count": 105,
   "metadata": {},
   "outputs": [
    {
     "data": {
      "text/html": [
       "<div>\n",
       "<style scoped>\n",
       "    .dataframe tbody tr th:only-of-type {\n",
       "        vertical-align: middle;\n",
       "    }\n",
       "\n",
       "    .dataframe tbody tr th {\n",
       "        vertical-align: top;\n",
       "    }\n",
       "\n",
       "    .dataframe thead th {\n",
       "        text-align: right;\n",
       "    }\n",
       "</style>\n",
       "<table border=\"1\" class=\"dataframe\">\n",
       "  <thead>\n",
       "    <tr style=\"text-align: right;\">\n",
       "      <th></th>\n",
       "      <th>Cod_setor</th>\n",
       "      <th>nAbsMulheresResidentes</th>\n",
       "    </tr>\n",
       "  </thead>\n",
       "  <tbody>\n",
       "    <tr>\n",
       "      <th>0</th>\n",
       "      <td>410010305000001</td>\n",
       "      <td>435</td>\n",
       "    </tr>\n",
       "    <tr>\n",
       "      <th>1</th>\n",
       "      <td>410010305000002</td>\n",
       "      <td>463</td>\n",
       "    </tr>\n",
       "    <tr>\n",
       "      <th>2</th>\n",
       "      <td>410010305000003</td>\n",
       "      <td>616</td>\n",
       "    </tr>\n",
       "    <tr>\n",
       "      <th>3</th>\n",
       "      <td>410010305000004</td>\n",
       "      <td>453</td>\n",
       "    </tr>\n",
       "    <tr>\n",
       "      <th>4</th>\n",
       "      <td>410010305000005</td>\n",
       "      <td>517</td>\n",
       "    </tr>\n",
       "  </tbody>\n",
       "</table>\n",
       "</div>"
      ],
      "text/plain": [
       "         Cod_setor  nAbsMulheresResidentes\n",
       "0  410010305000001                     435\n",
       "1  410010305000002                     463\n",
       "2  410010305000003                     616\n",
       "3  410010305000004                     453\n",
       "4  410010305000005                     517"
      ]
     },
     "execution_count": 105,
     "metadata": {},
     "output_type": "execute_result"
    }
   ],
   "source": [
    "dfPessoa12Parana.head()"
   ]
  },
  {
   "cell_type": "markdown",
   "metadata": {},
   "source": [
    "**DomicilioRenda** - conferido"
   ]
  },
  {
   "cell_type": "code",
   "execution_count": 106,
   "metadata": {},
   "outputs": [],
   "source": [
    "dfDomicilioRendaParana = pd.read_csv('dataAgrupados/DomicilioRenda_PR.csv', sep = ';', encoding = 'unicode_escape')"
   ]
  },
  {
   "cell_type": "code",
   "execution_count": 107,
   "metadata": {},
   "outputs": [],
   "source": [
    "dfDomicilioRendaParana = dfDomicilioRendaParana[['Cod_setor',\n",
    "                                             'V002', 'V003', 'V004']]"
   ]
  },
  {
   "cell_type": "code",
   "execution_count": 108,
   "metadata": {},
   "outputs": [],
   "source": [
    "dfDomicilioRendaParana = dfDomicilioRendaParana.replace('X', 0, regex= True)"
   ]
  },
  {
   "cell_type": "code",
   "execution_count": 109,
   "metadata": {},
   "outputs": [],
   "source": [
    "dfDomicilioRendaParana = dfDomicilioRendaParana.astype(int)"
   ]
  },
  {
   "cell_type": "code",
   "execution_count": 110,
   "metadata": {},
   "outputs": [],
   "source": [
    "dfDomicilioRendaParana.rename(columns = {'V002':'TotalRendNomMensalDomParticulares',\n",
    "                                       'V003':'TotalRendimentoNomMensalDomParticularesPermanentes',\n",
    "                                       'V004':'TotalRendimentoNomMensalDomParitulcaresImprovisados'}\n",
    "                            , inplace = True)"
   ]
  },
  {
   "cell_type": "code",
   "execution_count": 111,
   "metadata": {},
   "outputs": [
    {
     "data": {
      "text/html": [
       "<div>\n",
       "<style scoped>\n",
       "    .dataframe tbody tr th:only-of-type {\n",
       "        vertical-align: middle;\n",
       "    }\n",
       "\n",
       "    .dataframe tbody tr th {\n",
       "        vertical-align: top;\n",
       "    }\n",
       "\n",
       "    .dataframe thead th {\n",
       "        text-align: right;\n",
       "    }\n",
       "</style>\n",
       "<table border=\"1\" class=\"dataframe\">\n",
       "  <thead>\n",
       "    <tr style=\"text-align: right;\">\n",
       "      <th></th>\n",
       "      <th>Cod_setor</th>\n",
       "      <th>TotalRendNomMensalDomParticulares</th>\n",
       "      <th>TotalRendimentoNomMensalDomParticularesPermanentes</th>\n",
       "      <th>TotalRendimentoNomMensalDomParitulcaresImprovisados</th>\n",
       "    </tr>\n",
       "  </thead>\n",
       "  <tbody>\n",
       "    <tr>\n",
       "      <th>0</th>\n",
       "      <td>410010305000001</td>\n",
       "      <td>529942</td>\n",
       "      <td>529432</td>\n",
       "      <td>510</td>\n",
       "    </tr>\n",
       "    <tr>\n",
       "      <th>1</th>\n",
       "      <td>410010305000002</td>\n",
       "      <td>611161</td>\n",
       "      <td>611161</td>\n",
       "      <td>0</td>\n",
       "    </tr>\n",
       "    <tr>\n",
       "      <th>2</th>\n",
       "      <td>410010305000003</td>\n",
       "      <td>446825</td>\n",
       "      <td>446825</td>\n",
       "      <td>0</td>\n",
       "    </tr>\n",
       "    <tr>\n",
       "      <th>3</th>\n",
       "      <td>410010305000004</td>\n",
       "      <td>313176</td>\n",
       "      <td>312516</td>\n",
       "      <td>660</td>\n",
       "    </tr>\n",
       "    <tr>\n",
       "      <th>4</th>\n",
       "      <td>410010305000005</td>\n",
       "      <td>433367</td>\n",
       "      <td>431706</td>\n",
       "      <td>1661</td>\n",
       "    </tr>\n",
       "  </tbody>\n",
       "</table>\n",
       "</div>"
      ],
      "text/plain": [
       "         Cod_setor  TotalRendNomMensalDomParticulares  \\\n",
       "0  410010305000001                             529942   \n",
       "1  410010305000002                             611161   \n",
       "2  410010305000003                             446825   \n",
       "3  410010305000004                             313176   \n",
       "4  410010305000005                             433367   \n",
       "\n",
       "   TotalRendimentoNomMensalDomParticularesPermanentes  \\\n",
       "0                                             529432    \n",
       "1                                             611161    \n",
       "2                                             446825    \n",
       "3                                             312516    \n",
       "4                                             431706    \n",
       "\n",
       "   TotalRendimentoNomMensalDomParitulcaresImprovisados  \n",
       "0                                                510    \n",
       "1                                                  0    \n",
       "2                                                  0    \n",
       "3                                                660    \n",
       "4                                               1661    "
      ]
     },
     "execution_count": 111,
     "metadata": {},
     "output_type": "execute_result"
    }
   ],
   "source": [
    "dfDomicilioRendaParana.head()"
   ]
  },
  {
   "cell_type": "markdown",
   "metadata": {},
   "source": [
    "**ResponsavelRenda** - conferido"
   ]
  },
  {
   "cell_type": "code",
   "execution_count": 112,
   "metadata": {},
   "outputs": [],
   "source": [
    "dfResponsavelRendaParana = pd.read_csv('dataAgrupados/ResponsavelRenda_PR.csv', sep = ';', encoding = 'unicode_escape')"
   ]
  },
  {
   "cell_type": "code",
   "execution_count": 113,
   "metadata": {},
   "outputs": [],
   "source": [
    "dfResponsavelRendaParana = dfResponsavelRendaParana[['Cod_setor', \n",
    "                                                 'V001','V002', 'V003',\n",
    "                                                 'V004','V005', 'V006',\n",
    "                                                 'V007','V008', 'V009']]"
   ]
  },
  {
   "cell_type": "code",
   "execution_count": 114,
   "metadata": {},
   "outputs": [],
   "source": [
    "dfResponsavelRendaParana = dfResponsavelRendaParana.replace('X', 0, regex= True)"
   ]
  },
  {
   "cell_type": "code",
   "execution_count": 115,
   "metadata": {},
   "outputs": [],
   "source": [
    "dfResponsavelRendaParana = dfResponsavelRendaParana.astype(int)"
   ]
  },
  {
   "cell_type": "code",
   "execution_count": 116,
   "metadata": {},
   "outputs": [],
   "source": [
    "dfResponsavelRendaParana['nAbsPessoasClasseE'] = dfResponsavelRendaParana['V001'] +dfResponsavelRendaParana['V002'] + dfResponsavelRendaParana['V003'] "
   ]
  },
  {
   "cell_type": "code",
   "execution_count": 117,
   "metadata": {},
   "outputs": [],
   "source": [
    "dfResponsavelRendaParana['nAbsPessoasClasseD'] = dfResponsavelRendaParana['V004']"
   ]
  },
  {
   "cell_type": "code",
   "execution_count": 118,
   "metadata": {},
   "outputs": [],
   "source": [
    "dfResponsavelRendaParana['nAbsPessoasClasseC'] = dfResponsavelRendaParana['V005'] +dfResponsavelRendaParana['V006']"
   ]
  },
  {
   "cell_type": "code",
   "execution_count": 119,
   "metadata": {},
   "outputs": [],
   "source": [
    "dfResponsavelRendaParana['nAbsPessoasClasseB'] = dfResponsavelRendaParana['V007']"
   ]
  },
  {
   "cell_type": "code",
   "execution_count": 120,
   "metadata": {},
   "outputs": [],
   "source": [
    "dfResponsavelRendaParana['nAbsPessoasClasseA'] = dfResponsavelRendaParana['V008'] +  dfResponsavelRendaParana['V009']"
   ]
  },
  {
   "cell_type": "code",
   "execution_count": 121,
   "metadata": {},
   "outputs": [],
   "source": [
    "dfResponsavelRendaParana.drop(['V001', 'V002', 'V003',\n",
    "                        'V004', 'V005', 'V006', 'V007', 'V008', 'V009'], axis =1, inplace = True)"
   ]
  },
  {
   "cell_type": "code",
   "execution_count": 122,
   "metadata": {},
   "outputs": [
    {
     "data": {
      "text/html": [
       "<div>\n",
       "<style scoped>\n",
       "    .dataframe tbody tr th:only-of-type {\n",
       "        vertical-align: middle;\n",
       "    }\n",
       "\n",
       "    .dataframe tbody tr th {\n",
       "        vertical-align: top;\n",
       "    }\n",
       "\n",
       "    .dataframe thead th {\n",
       "        text-align: right;\n",
       "    }\n",
       "</style>\n",
       "<table border=\"1\" class=\"dataframe\">\n",
       "  <thead>\n",
       "    <tr style=\"text-align: right;\">\n",
       "      <th></th>\n",
       "      <th>Cod_setor</th>\n",
       "      <th>nAbsPessoasClasseE</th>\n",
       "      <th>nAbsPessoasClasseD</th>\n",
       "      <th>nAbsPessoasClasseC</th>\n",
       "      <th>nAbsPessoasClasseB</th>\n",
       "      <th>nAbsPessoasClasseA</th>\n",
       "    </tr>\n",
       "  </thead>\n",
       "  <tbody>\n",
       "    <tr>\n",
       "      <th>0</th>\n",
       "      <td>410010305000001</td>\n",
       "      <td>226</td>\n",
       "      <td>22</td>\n",
       "      <td>36</td>\n",
       "      <td>1</td>\n",
       "      <td>1</td>\n",
       "    </tr>\n",
       "    <tr>\n",
       "      <th>1</th>\n",
       "      <td>410010305000002</td>\n",
       "      <td>200</td>\n",
       "      <td>39</td>\n",
       "      <td>49</td>\n",
       "      <td>4</td>\n",
       "      <td>3</td>\n",
       "    </tr>\n",
       "    <tr>\n",
       "      <th>2</th>\n",
       "      <td>410010305000003</td>\n",
       "      <td>280</td>\n",
       "      <td>12</td>\n",
       "      <td>14</td>\n",
       "      <td>1</td>\n",
       "      <td>2</td>\n",
       "    </tr>\n",
       "    <tr>\n",
       "      <th>3</th>\n",
       "      <td>410010305000004</td>\n",
       "      <td>249</td>\n",
       "      <td>12</td>\n",
       "      <td>5</td>\n",
       "      <td>0</td>\n",
       "      <td>0</td>\n",
       "    </tr>\n",
       "    <tr>\n",
       "      <th>4</th>\n",
       "      <td>410010305000005</td>\n",
       "      <td>273</td>\n",
       "      <td>20</td>\n",
       "      <td>18</td>\n",
       "      <td>0</td>\n",
       "      <td>0</td>\n",
       "    </tr>\n",
       "  </tbody>\n",
       "</table>\n",
       "</div>"
      ],
      "text/plain": [
       "         Cod_setor  nAbsPessoasClasseE  nAbsPessoasClasseD  \\\n",
       "0  410010305000001                 226                  22   \n",
       "1  410010305000002                 200                  39   \n",
       "2  410010305000003                 280                  12   \n",
       "3  410010305000004                 249                  12   \n",
       "4  410010305000005                 273                  20   \n",
       "\n",
       "   nAbsPessoasClasseC  nAbsPessoasClasseB  nAbsPessoasClasseA  \n",
       "0                  36                   1                   1  \n",
       "1                  49                   4                   3  \n",
       "2                  14                   1                   2  \n",
       "3                   5                   0                   0  \n",
       "4                  18                   0                   0  "
      ]
     },
     "execution_count": 122,
     "metadata": {},
     "output_type": "execute_result"
    }
   ],
   "source": [
    "dfResponsavelRendaParana.head()"
   ]
  },
  {
   "cell_type": "markdown",
   "metadata": {},
   "source": [
    "**DATAFRAME TOTAL.**"
   ]
  },
  {
   "cell_type": "code",
   "execution_count": 123,
   "metadata": {},
   "outputs": [],
   "source": [
    "data_frames = [dfBasicoParana, dfDomicilio01Parana, dfDomicilio02Parana, dfPessoa13Parana, dfPessoa11Parana, dfPessoa12Parana,\n",
    "               dfDomicilioRendaParana, dfResponsavelRendaParana]"
   ]
  },
  {
   "cell_type": "code",
   "execution_count": 124,
   "metadata": {},
   "outputs": [],
   "source": [
    "dfTotalParana = reduce(lambda  left,right: pd.merge(left,right,on=['Cod_setor'],\n",
    "                                            how='inner'), data_frames)"
   ]
  },
  {
   "cell_type": "code",
   "execution_count": 125,
   "metadata": {},
   "outputs": [
    {
     "data": {
      "text/html": [
       "<div>\n",
       "<style scoped>\n",
       "    .dataframe tbody tr th:only-of-type {\n",
       "        vertical-align: middle;\n",
       "    }\n",
       "\n",
       "    .dataframe tbody tr th {\n",
       "        vertical-align: top;\n",
       "    }\n",
       "\n",
       "    .dataframe thead th {\n",
       "        text-align: right;\n",
       "    }\n",
       "</style>\n",
       "<table border=\"1\" class=\"dataframe\">\n",
       "  <thead>\n",
       "    <tr style=\"text-align: right;\">\n",
       "      <th></th>\n",
       "      <th>Cod_setor</th>\n",
       "      <th>MediaMoradorDomicilio</th>\n",
       "      <th>RendaMediaDomicilio</th>\n",
       "      <th>RendaMediaPerCapitaGeral</th>\n",
       "      <th>RendaMediaPerCapitaComRendimento</th>\n",
       "      <th>nAbsDomicilios</th>\n",
       "      <th>nAbsDomiciliosCasa</th>\n",
       "      <th>nAbsDomiciliosApto</th>\n",
       "      <th>nAbsImoveisAlugados</th>\n",
       "      <th>nAbs1PessoasDomicilio</th>\n",
       "      <th>...</th>\n",
       "      <th>nAbsHomensResidentes</th>\n",
       "      <th>nAbsMulheresResidentes</th>\n",
       "      <th>TotalRendNomMensalDomParticulares</th>\n",
       "      <th>TotalRendimentoNomMensalDomParticularesPermanentes</th>\n",
       "      <th>TotalRendimentoNomMensalDomParitulcaresImprovisados</th>\n",
       "      <th>nAbsPessoasClasseE</th>\n",
       "      <th>nAbsPessoasClasseD</th>\n",
       "      <th>nAbsPessoasClasseC</th>\n",
       "      <th>nAbsPessoasClasseB</th>\n",
       "      <th>nAbsPessoasClasseA</th>\n",
       "    </tr>\n",
       "  </thead>\n",
       "  <tbody>\n",
       "    <tr>\n",
       "      <th>0</th>\n",
       "      <td>410010305000001</td>\n",
       "      <td>2.83</td>\n",
       "      <td>1039.68</td>\n",
       "      <td>719.46</td>\n",
       "      <td>892.37</td>\n",
       "      <td>299</td>\n",
       "      <td>298</td>\n",
       "      <td>0</td>\n",
       "      <td>65</td>\n",
       "      <td>47</td>\n",
       "      <td>...</td>\n",
       "      <td>410</td>\n",
       "      <td>435</td>\n",
       "      <td>529942</td>\n",
       "      <td>529432</td>\n",
       "      <td>510</td>\n",
       "      <td>226</td>\n",
       "      <td>22</td>\n",
       "      <td>36</td>\n",
       "      <td>1</td>\n",
       "      <td>1</td>\n",
       "    </tr>\n",
       "    <tr>\n",
       "      <th>1</th>\n",
       "      <td>410010305000002</td>\n",
       "      <td>2.92</td>\n",
       "      <td>1207.89</td>\n",
       "      <td>781.19</td>\n",
       "      <td>1112.13</td>\n",
       "      <td>302</td>\n",
       "      <td>302</td>\n",
       "      <td>0</td>\n",
       "      <td>55</td>\n",
       "      <td>43</td>\n",
       "      <td>...</td>\n",
       "      <td>418</td>\n",
       "      <td>463</td>\n",
       "      <td>611161</td>\n",
       "      <td>611161</td>\n",
       "      <td>0</td>\n",
       "      <td>200</td>\n",
       "      <td>39</td>\n",
       "      <td>49</td>\n",
       "      <td>4</td>\n",
       "      <td>3</td>\n",
       "    </tr>\n",
       "    <tr>\n",
       "      <th>2</th>\n",
       "      <td>410010305000003</td>\n",
       "      <td>3.09</td>\n",
       "      <td>639.27</td>\n",
       "      <td>419.55</td>\n",
       "      <td>688.48</td>\n",
       "      <td>398</td>\n",
       "      <td>398</td>\n",
       "      <td>0</td>\n",
       "      <td>59</td>\n",
       "      <td>55</td>\n",
       "      <td>...</td>\n",
       "      <td>612</td>\n",
       "      <td>616</td>\n",
       "      <td>446825</td>\n",
       "      <td>446825</td>\n",
       "      <td>0</td>\n",
       "      <td>280</td>\n",
       "      <td>12</td>\n",
       "      <td>14</td>\n",
       "      <td>1</td>\n",
       "      <td>2</td>\n",
       "    </tr>\n",
       "    <tr>\n",
       "      <th>3</th>\n",
       "      <td>410010305000004</td>\n",
       "      <td>3.10</td>\n",
       "      <td>603.05</td>\n",
       "      <td>404.48</td>\n",
       "      <td>573.14</td>\n",
       "      <td>319</td>\n",
       "      <td>290</td>\n",
       "      <td>0</td>\n",
       "      <td>39</td>\n",
       "      <td>40</td>\n",
       "      <td>...</td>\n",
       "      <td>484</td>\n",
       "      <td>453</td>\n",
       "      <td>313176</td>\n",
       "      <td>312516</td>\n",
       "      <td>660</td>\n",
       "      <td>249</td>\n",
       "      <td>12</td>\n",
       "      <td>5</td>\n",
       "      <td>0</td>\n",
       "      <td>0</td>\n",
       "    </tr>\n",
       "    <tr>\n",
       "      <th>4</th>\n",
       "      <td>410010305000005</td>\n",
       "      <td>3.19</td>\n",
       "      <td>750.98</td>\n",
       "      <td>489.13</td>\n",
       "      <td>634.51</td>\n",
       "      <td>322</td>\n",
       "      <td>320</td>\n",
       "      <td>0</td>\n",
       "      <td>53</td>\n",
       "      <td>33</td>\n",
       "      <td>...</td>\n",
       "      <td>510</td>\n",
       "      <td>517</td>\n",
       "      <td>433367</td>\n",
       "      <td>431706</td>\n",
       "      <td>1661</td>\n",
       "      <td>273</td>\n",
       "      <td>20</td>\n",
       "      <td>18</td>\n",
       "      <td>0</td>\n",
       "      <td>0</td>\n",
       "    </tr>\n",
       "  </tbody>\n",
       "</table>\n",
       "<p>5 rows × 30 columns</p>\n",
       "</div>"
      ],
      "text/plain": [
       "         Cod_setor  MediaMoradorDomicilio  RendaMediaDomicilio  \\\n",
       "0  410010305000001                   2.83              1039.68   \n",
       "1  410010305000002                   2.92              1207.89   \n",
       "2  410010305000003                   3.09               639.27   \n",
       "3  410010305000004                   3.10               603.05   \n",
       "4  410010305000005                   3.19               750.98   \n",
       "\n",
       "   RendaMediaPerCapitaGeral  RendaMediaPerCapitaComRendimento  nAbsDomicilios  \\\n",
       "0                    719.46                            892.37             299   \n",
       "1                    781.19                           1112.13             302   \n",
       "2                    419.55                            688.48             398   \n",
       "3                    404.48                            573.14             319   \n",
       "4                    489.13                            634.51             322   \n",
       "\n",
       "  nAbsDomiciliosCasa nAbsDomiciliosApto nAbsImoveisAlugados  \\\n",
       "0                298                  0                  65   \n",
       "1                302                  0                  55   \n",
       "2                398                  0                  59   \n",
       "3                290                  0                  39   \n",
       "4                320                  0                  53   \n",
       "\n",
       "  nAbs1PessoasDomicilio  ... nAbsHomensResidentes nAbsMulheresResidentes  \\\n",
       "0                    47  ...                  410                    435   \n",
       "1                    43  ...                  418                    463   \n",
       "2                    55  ...                  612                    616   \n",
       "3                    40  ...                  484                    453   \n",
       "4                    33  ...                  510                    517   \n",
       "\n",
       "  TotalRendNomMensalDomParticulares  \\\n",
       "0                            529942   \n",
       "1                            611161   \n",
       "2                            446825   \n",
       "3                            313176   \n",
       "4                            433367   \n",
       "\n",
       "  TotalRendimentoNomMensalDomParticularesPermanentes  \\\n",
       "0                                             529432   \n",
       "1                                             611161   \n",
       "2                                             446825   \n",
       "3                                             312516   \n",
       "4                                             431706   \n",
       "\n",
       "  TotalRendimentoNomMensalDomParitulcaresImprovisados  nAbsPessoasClasseE  \\\n",
       "0                                                510                  226   \n",
       "1                                                  0                  200   \n",
       "2                                                  0                  280   \n",
       "3                                                660                  249   \n",
       "4                                               1661                  273   \n",
       "\n",
       "   nAbsPessoasClasseD  nAbsPessoasClasseC  nAbsPessoasClasseB  \\\n",
       "0                  22                  36                   1   \n",
       "1                  39                  49                   4   \n",
       "2                  12                  14                   1   \n",
       "3                  12                   5                   0   \n",
       "4                  20                  18                   0   \n",
       "\n",
       "   nAbsPessoasClasseA  \n",
       "0                   1  \n",
       "1                   3  \n",
       "2                   2  \n",
       "3                   0  \n",
       "4                   0  \n",
       "\n",
       "[5 rows x 30 columns]"
      ]
     },
     "execution_count": 125,
     "metadata": {},
     "output_type": "execute_result"
    }
   ],
   "source": [
    "dfTotalParana.head()"
   ]
  },
  {
   "cell_type": "code",
   "execution_count": 126,
   "metadata": {},
   "outputs": [
    {
     "name": "stdout",
     "output_type": "stream",
     "text": [
      "<class 'pandas.core.frame.DataFrame'>\n",
      "Int64Index: 17465 entries, 0 to 17464\n",
      "Data columns (total 30 columns):\n",
      " #   Column                                               Non-Null Count  Dtype  \n",
      "---  ------                                               --------------  -----  \n",
      " 0   Cod_setor                                            17465 non-null  int64  \n",
      " 1   MediaMoradorDomicilio                                17436 non-null  float64\n",
      " 2   RendaMediaDomicilio                                  17436 non-null  float64\n",
      " 3   RendaMediaPerCapitaGeral                             17465 non-null  float64\n",
      " 4   RendaMediaPerCapitaComRendimento                     17461 non-null  float64\n",
      " 5   nAbsDomicilios                                       17465 non-null  int64  \n",
      " 6   nAbsDomiciliosCasa                                   17465 non-null  object \n",
      " 7   nAbsDomiciliosApto                                   17465 non-null  object \n",
      " 8   nAbsImoveisAlugados                                  17465 non-null  object \n",
      " 9   nAbs1PessoasDomicilio                                17465 non-null  object \n",
      " 10  nAbs1PessoasDomicilio                                17465 non-null  object \n",
      " 11  nAbs2PessoasDomicilio                                17465 non-null  object \n",
      " 12  nAbs3PessoasDomicilio                                17465 non-null  object \n",
      " 13  nAbs4PessoasDomicilio                                17465 non-null  object \n",
      " 14  nAbs5ouMaisPessoasDomicilio                          17465 non-null  object \n",
      " 15  nAbsHabitantes                                       17465 non-null  int64  \n",
      " 16  nAbsMoradoresCasa                                    17465 non-null  int64  \n",
      " 17  nAbsMoradoresApto                                    17465 non-null  int64  \n",
      " 18  nAbsMoradoresImoveisAlugados                         17465 non-null  int64  \n",
      " 19  nAbsConjuges                                         17465 non-null  int64  \n",
      " 20  nAbsHomensResidentes                                 17465 non-null  int64  \n",
      " 21  nAbsMulheresResidentes                               17465 non-null  int64  \n",
      " 22  TotalRendNomMensalDomParticulares                    17465 non-null  int64  \n",
      " 23  TotalRendimentoNomMensalDomParticularesPermanentes   17465 non-null  int64  \n",
      " 24  TotalRendimentoNomMensalDomParitulcaresImprovisados  17465 non-null  int64  \n",
      " 25  nAbsPessoasClasseE                                   17465 non-null  int64  \n",
      " 26  nAbsPessoasClasseD                                   17465 non-null  int64  \n",
      " 27  nAbsPessoasClasseC                                   17465 non-null  int64  \n",
      " 28  nAbsPessoasClasseB                                   17465 non-null  int64  \n",
      " 29  nAbsPessoasClasseA                                   17465 non-null  int64  \n",
      "dtypes: float64(4), int64(17), object(9)\n",
      "memory usage: 4.1+ MB\n"
     ]
    }
   ],
   "source": [
    "dfTotalParana.info()"
   ]
  },
  {
   "cell_type": "code",
   "execution_count": 153,
   "metadata": {},
   "outputs": [],
   "source": [
    "dfTotalParana.to_csv('Parana.csv', sep= ';', encoding = 'utf-8')"
   ]
  },
  {
   "cell_type": "markdown",
   "metadata": {},
   "source": [
    "Conferir num. abs. de 5 ou mais pessoas por domicilio"
   ]
  }
 ],
 "metadata": {
  "interpreter": {
   "hash": "916dbcbb3f70747c44a77c7bcd40155683ae19c65e1c03b4aa3499c5328201f1"
  },
  "kernelspec": {
   "display_name": "Python 3.8.10 64-bit",
   "language": "python",
   "name": "python3"
  },
  "language_info": {
   "codemirror_mode": {
    "name": "ipython",
    "version": 3
   },
   "file_extension": ".py",
   "mimetype": "text/x-python",
   "name": "python",
   "nbconvert_exporter": "python",
   "pygments_lexer": "ipython3",
   "version": "3.8.10"
  },
  "orig_nbformat": 4
 },
 "nbformat": 4,
 "nbformat_minor": 2
}

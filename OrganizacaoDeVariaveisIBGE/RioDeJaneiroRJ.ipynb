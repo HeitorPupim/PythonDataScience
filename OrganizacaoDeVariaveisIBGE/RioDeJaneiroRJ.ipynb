{
 "cells": [
  {
   "cell_type": "code",
   "execution_count": 1,
   "metadata": {},
   "outputs": [],
   "source": [
    "import pandas as pd\n",
    "import numpy as np\n",
    "from functools import reduce"
   ]
  },
  {
   "cell_type": "markdown",
   "metadata": {},
   "source": [
    "**Basico** - conferido"
   ]
  },
  {
   "cell_type": "code",
   "execution_count": 2,
   "metadata": {},
   "outputs": [],
   "source": [
    "dfBasicoRioDeJaneiro = pd.read_csv('dataAgrupados/Basico_RJ.csv', sep = ';', encoding = 'unicode_escape')"
   ]
  },
  {
   "cell_type": "code",
   "execution_count": 3,
   "metadata": {},
   "outputs": [],
   "source": [
    "dfBasicoRioDeJaneiro = dfBasicoRioDeJaneiro[['Cod_setor','V003', 'V005', 'V009', 'V011']]"
   ]
  },
  {
   "cell_type": "code",
   "execution_count": 4,
   "metadata": {},
   "outputs": [],
   "source": [
    "dfBasicoRioDeJaneiro = dfBasicoRioDeJaneiro.replace('X', 0, regex= True)"
   ]
  },
  {
   "cell_type": "code",
   "execution_count": 5,
   "metadata": {},
   "outputs": [
    {
     "data": {
      "text/html": [
       "<div>\n",
       "<style scoped>\n",
       "    .dataframe tbody tr th:only-of-type {\n",
       "        vertical-align: middle;\n",
       "    }\n",
       "\n",
       "    .dataframe tbody tr th {\n",
       "        vertical-align: top;\n",
       "    }\n",
       "\n",
       "    .dataframe thead th {\n",
       "        text-align: right;\n",
       "    }\n",
       "</style>\n",
       "<table border=\"1\" class=\"dataframe\">\n",
       "  <thead>\n",
       "    <tr style=\"text-align: right;\">\n",
       "      <th></th>\n",
       "      <th>Cod_setor</th>\n",
       "      <th>V003</th>\n",
       "      <th>V005</th>\n",
       "      <th>V009</th>\n",
       "      <th>V011</th>\n",
       "    </tr>\n",
       "  </thead>\n",
       "  <tbody>\n",
       "    <tr>\n",
       "      <th>0</th>\n",
       "      <td>330010005000001</td>\n",
       "      <td>2,62</td>\n",
       "      <td>2356,8</td>\n",
       "      <td>1565,37</td>\n",
       "      <td>2192,65</td>\n",
       "    </tr>\n",
       "    <tr>\n",
       "      <th>1</th>\n",
       "      <td>330010005000002</td>\n",
       "      <td>2,51</td>\n",
       "      <td>2040,47</td>\n",
       "      <td>1816,69</td>\n",
       "      <td>2375,67</td>\n",
       "    </tr>\n",
       "    <tr>\n",
       "      <th>2</th>\n",
       "      <td>330010005000003</td>\n",
       "      <td>3,08</td>\n",
       "      <td>2687,8</td>\n",
       "      <td>1593,37</td>\n",
       "      <td>2294,84</td>\n",
       "    </tr>\n",
       "    <tr>\n",
       "      <th>3</th>\n",
       "      <td>330010005000004</td>\n",
       "      <td>3,04</td>\n",
       "      <td>3026,67</td>\n",
       "      <td>1865,52</td>\n",
       "      <td>2574,41</td>\n",
       "    </tr>\n",
       "    <tr>\n",
       "      <th>4</th>\n",
       "      <td>330010005000005</td>\n",
       "      <td>3,34</td>\n",
       "      <td>1124,82</td>\n",
       "      <td>689,4</td>\n",
       "      <td>1028,21</td>\n",
       "    </tr>\n",
       "  </tbody>\n",
       "</table>\n",
       "</div>"
      ],
      "text/plain": [
       "         Cod_setor  V003     V005     V009     V011\n",
       "0  330010005000001  2,62   2356,8  1565,37  2192,65\n",
       "1  330010005000002  2,51  2040,47  1816,69  2375,67\n",
       "2  330010005000003  3,08   2687,8  1593,37  2294,84\n",
       "3  330010005000004  3,04  3026,67  1865,52  2574,41\n",
       "4  330010005000005  3,34  1124,82    689,4  1028,21"
      ]
     },
     "execution_count": 5,
     "metadata": {},
     "output_type": "execute_result"
    }
   ],
   "source": [
    "dfBasicoRioDeJaneiro.head()"
   ]
  },
  {
   "cell_type": "code",
   "execution_count": 6,
   "metadata": {},
   "outputs": [],
   "source": [
    "dfBasicoRioDeJaneiro = dfBasicoRioDeJaneiro.replace(',', '.', regex= True)"
   ]
  },
  {
   "cell_type": "code",
   "execution_count": 7,
   "metadata": {},
   "outputs": [],
   "source": [
    "dfBasicoRioDeJaneiro = dfBasicoRioDeJaneiro.astype({'V003':'float','V005':'float','V009':'float','V011':'float'})"
   ]
  },
  {
   "cell_type": "code",
   "execution_count": 8,
   "metadata": {},
   "outputs": [],
   "source": [
    "dfBasicoRioDeJaneiro.rename(columns = {'V003':'MediaMoradorDomicilio',\n",
    "                     'V005':'RendaMediaDomicilio',\n",
    "                     'V009':'RendaMediaPerCapitaGeral',\n",
    "                     'V011':'RendaMediaPerCapitaComRendimento'}, inplace = True)"
   ]
  },
  {
   "cell_type": "markdown",
   "metadata": {},
   "source": [
    "**Domicilio01** - conferido"
   ]
  },
  {
   "cell_type": "code",
   "execution_count": 9,
   "metadata": {},
   "outputs": [],
   "source": [
    "dfDomicilio01RioDeJaneiro = pd.read_csv('dataAgrupados/Domicilio01_RJ.csv', sep = ';', encoding = 'unicode_escape')"
   ]
  },
  {
   "cell_type": "code",
   "execution_count": 10,
   "metadata": {},
   "outputs": [],
   "source": [
    "dfDomicilio01RioDeJaneiro = dfDomicilio01RioDeJaneiro.replace('X', 0, regex= True)"
   ]
  },
  {
   "cell_type": "code",
   "execution_count": 11,
   "metadata": {},
   "outputs": [],
   "source": [
    "#dfDomicilio01RioDeJaneiro = dfDomicilio01RioDeJaneiro.astype(int)"
   ]
  },
  {
   "cell_type": "code",
   "execution_count": 12,
   "metadata": {},
   "outputs": [],
   "source": [
    "dfDomicilio01RioDeJaneiro = dfDomicilio01RioDeJaneiro[['Cod_setor',\n",
    "                                       'V001', 'V003', 'V005', 'V008','V050',\n",
    "                                       'V050' ,'V051' ,'V052' ,'V053' ,'V054' ,'V055' ,\n",
    "                                       'V056' ,'V057' ,'V058' ,'V059' ,]]"
   ]
  },
  {
   "cell_type": "code",
   "execution_count": 13,
   "metadata": {},
   "outputs": [],
   "source": [
    "dfDomicilio01RioDeJaneiro.rename(columns = {\n",
    "'V001':'nAbsDomicilios' , \n",
    "'V003': 'nAbsDomiciliosCasa', \n",
    "'V005': 'nAbsDomiciliosApto', \n",
    "'V008': 'nAbsImoveisAlugados', \n",
    "'V050':'nAbs1PessoasDomicilio',\n",
    "'V051':'nAbs2PessoasDomicilio',\n",
    "'V052':'nAbs3PessoasDomicilio',\n",
    "'V053':'nAbs4PessoasDomicilio',\n",
    "'V054':'nAbs5PessoasDomicilio',\n",
    "'V055':'nAbs6PessoasDomicilio',\n",
    "'V056':'nAbs7PessoasDomicilio',\n",
    "'V057':'nAbs8PessoasDomicilio',\n",
    "'V058':'nAbs9PessoasDomicilio',\n",
    "'V059':'nAbs10PessoasDomicilio'}, inplace = True)"
   ]
  },
  {
   "cell_type": "code",
   "execution_count": 14,
   "metadata": {},
   "outputs": [
    {
     "data": {
      "text/plain": [
       "0        00\n",
       "1        00\n",
       "2        20\n",
       "3        01\n",
       "4        00\n",
       "         ..\n",
       "27764    00\n",
       "27765    00\n",
       "27766    11\n",
       "27767    20\n",
       "27768    00\n",
       "Length: 27769, dtype: object"
      ]
     },
     "execution_count": 14,
     "metadata": {},
     "output_type": "execute_result"
    }
   ],
   "source": [
    "dfDomicilio01RioDeJaneiro['nAbs5ouMaisPessoasDomicilio'] = dfDomicilio01RioDeJaneiro['nAbs5PessoasDomicilio'] +dfDomicilio01RioDeJaneiro['nAbs6PessoasDomicilio'] + dfDomicilio01RioDeJaneiro['nAbs7PessoasDomicilio'] + dfDomicilio01RioDeJaneiro['nAbs8PessoasDomicilio']\n",
    "+ dfDomicilio01RioDeJaneiro['nAbs9PessoasDomicilio'] + dfDomicilio01RioDeJaneiro['nAbs10PessoasDomicilio'] "
   ]
  },
  {
   "cell_type": "code",
   "execution_count": 15,
   "metadata": {},
   "outputs": [],
   "source": [
    "dfDomicilio01RioDeJaneiro.drop(['nAbs5PessoasDomicilio', 'nAbs6PessoasDomicilio', 'nAbs7PessoasDomicilio',\n",
    "                        'nAbs8PessoasDomicilio', 'nAbs9PessoasDomicilio', 'nAbs10PessoasDomicilio'], axis =1, inplace = True)"
   ]
  },
  {
   "cell_type": "markdown",
   "metadata": {},
   "source": [
    "**Domicilio02** - conferido"
   ]
  },
  {
   "cell_type": "code",
   "execution_count": 16,
   "metadata": {},
   "outputs": [],
   "source": [
    "dfDomicilio02RioDeJaneiro = pd.read_csv('dataAgrupados/Domicilio02_RJ.csv', sep = ';', encoding = 'unicode_escape')"
   ]
  },
  {
   "cell_type": "code",
   "execution_count": 17,
   "metadata": {},
   "outputs": [],
   "source": [
    "dfDomicilio02RioDeJaneiro = dfDomicilio02RioDeJaneiro.replace('X', 0, regex= True)"
   ]
  },
  {
   "cell_type": "code",
   "execution_count": 18,
   "metadata": {},
   "outputs": [],
   "source": [
    "dfDomicilio02RioDeJaneiro = dfDomicilio02RioDeJaneiro.astype(int)\n"
   ]
  },
  {
   "cell_type": "code",
   "execution_count": 19,
   "metadata": {},
   "outputs": [
    {
     "name": "stdout",
     "output_type": "stream",
     "text": [
      "<class 'pandas.core.frame.DataFrame'>\n",
      "RangeIndex: 27769 entries, 0 to 27768\n",
      "Columns: 134 entries, Cod_setor to V132\n",
      "dtypes: int64(134)\n",
      "memory usage: 28.4 MB\n"
     ]
    }
   ],
   "source": [
    "dfDomicilio02RioDeJaneiro.info()"
   ]
  },
  {
   "cell_type": "code",
   "execution_count": 20,
   "metadata": {},
   "outputs": [],
   "source": [
    "dfDomicilio02RioDeJaneiro = dfDomicilio02RioDeJaneiro[['Cod_setor',\n",
    "                                       'V001', 'V003', 'V005', 'V008']]"
   ]
  },
  {
   "cell_type": "code",
   "execution_count": 21,
   "metadata": {},
   "outputs": [],
   "source": [
    "dfDomicilio02RioDeJaneiro.rename(columns = {\n",
    "'V001':'nAbsHabitantes' , \n",
    "'V003': 'nAbsMoradoresCasa', \n",
    "'V005': 'nAbsMoradoresApto', \n",
    "'V008': 'nAbsMoradoresImoveisAlugados', \n",
    "}, inplace = True)"
   ]
  },
  {
   "cell_type": "code",
   "execution_count": 22,
   "metadata": {},
   "outputs": [
    {
     "data": {
      "text/html": [
       "<div>\n",
       "<style scoped>\n",
       "    .dataframe tbody tr th:only-of-type {\n",
       "        vertical-align: middle;\n",
       "    }\n",
       "\n",
       "    .dataframe tbody tr th {\n",
       "        vertical-align: top;\n",
       "    }\n",
       "\n",
       "    .dataframe thead th {\n",
       "        text-align: right;\n",
       "    }\n",
       "</style>\n",
       "<table border=\"1\" class=\"dataframe\">\n",
       "  <thead>\n",
       "    <tr style=\"text-align: right;\">\n",
       "      <th></th>\n",
       "      <th>Cod_setor</th>\n",
       "      <th>nAbsHabitantes</th>\n",
       "      <th>nAbsMoradoresCasa</th>\n",
       "      <th>nAbsMoradoresApto</th>\n",
       "      <th>nAbsMoradoresImoveisAlugados</th>\n",
       "    </tr>\n",
       "  </thead>\n",
       "  <tbody>\n",
       "    <tr>\n",
       "      <th>0</th>\n",
       "      <td>330010005000001</td>\n",
       "      <td>410</td>\n",
       "      <td>293</td>\n",
       "      <td>116</td>\n",
       "      <td>104</td>\n",
       "    </tr>\n",
       "    <tr>\n",
       "      <th>1</th>\n",
       "      <td>330010005000002</td>\n",
       "      <td>143</td>\n",
       "      <td>94</td>\n",
       "      <td>49</td>\n",
       "      <td>67</td>\n",
       "    </tr>\n",
       "    <tr>\n",
       "      <th>2</th>\n",
       "      <td>330010005000003</td>\n",
       "      <td>1055</td>\n",
       "      <td>871</td>\n",
       "      <td>184</td>\n",
       "      <td>202</td>\n",
       "    </tr>\n",
       "    <tr>\n",
       "      <th>3</th>\n",
       "      <td>330010005000004</td>\n",
       "      <td>219</td>\n",
       "      <td>122</td>\n",
       "      <td>97</td>\n",
       "      <td>70</td>\n",
       "    </tr>\n",
       "    <tr>\n",
       "      <th>4</th>\n",
       "      <td>330010005000005</td>\n",
       "      <td>709</td>\n",
       "      <td>707</td>\n",
       "      <td>2</td>\n",
       "      <td>160</td>\n",
       "    </tr>\n",
       "  </tbody>\n",
       "</table>\n",
       "</div>"
      ],
      "text/plain": [
       "         Cod_setor  nAbsHabitantes  nAbsMoradoresCasa  nAbsMoradoresApto  \\\n",
       "0  330010005000001             410                293                116   \n",
       "1  330010005000002             143                 94                 49   \n",
       "2  330010005000003            1055                871                184   \n",
       "3  330010005000004             219                122                 97   \n",
       "4  330010005000005             709                707                  2   \n",
       "\n",
       "   nAbsMoradoresImoveisAlugados  \n",
       "0                           104  \n",
       "1                            67  \n",
       "2                           202  \n",
       "3                            70  \n",
       "4                           160  "
      ]
     },
     "execution_count": 22,
     "metadata": {},
     "output_type": "execute_result"
    }
   ],
   "source": [
    "dfDomicilio02RioDeJaneiro.head()"
   ]
  },
  {
   "cell_type": "markdown",
   "metadata": {},
   "source": [
    "**Pessoa13** - conferido"
   ]
  },
  {
   "cell_type": "code",
   "execution_count": 23,
   "metadata": {},
   "outputs": [],
   "source": [
    "dfPessoa13RioDeJaneiro = pd.read_csv('dataAgrupados/Pessoa13_RJ.csv', sep = ';', encoding = 'unicode_escape')"
   ]
  },
  {
   "cell_type": "code",
   "execution_count": 24,
   "metadata": {},
   "outputs": [],
   "source": [
    "dfPessoa13RioDeJaneiro = dfPessoa13RioDeJaneiro[['Cod_setor', 'V001']]"
   ]
  },
  {
   "cell_type": "code",
   "execution_count": 25,
   "metadata": {},
   "outputs": [],
   "source": [
    "dfPessoa13RioDeJaneiro = dfPessoa13RioDeJaneiro.replace('X', 0, regex= True)"
   ]
  },
  {
   "cell_type": "code",
   "execution_count": 26,
   "metadata": {},
   "outputs": [],
   "source": [
    "dfPessoa13RioDeJaneiro.rename(columns= {'V001':'nAbsConjuges'}, inplace = True)"
   ]
  },
  {
   "cell_type": "code",
   "execution_count": 27,
   "metadata": {},
   "outputs": [
    {
     "data": {
      "text/html": [
       "<div>\n",
       "<style scoped>\n",
       "    .dataframe tbody tr th:only-of-type {\n",
       "        vertical-align: middle;\n",
       "    }\n",
       "\n",
       "    .dataframe tbody tr th {\n",
       "        vertical-align: top;\n",
       "    }\n",
       "\n",
       "    .dataframe thead th {\n",
       "        text-align: right;\n",
       "    }\n",
       "</style>\n",
       "<table border=\"1\" class=\"dataframe\">\n",
       "  <thead>\n",
       "    <tr style=\"text-align: right;\">\n",
       "      <th></th>\n",
       "      <th>Cod_setor</th>\n",
       "      <th>nAbsConjuges</th>\n",
       "    </tr>\n",
       "  </thead>\n",
       "  <tbody>\n",
       "    <tr>\n",
       "      <th>0</th>\n",
       "      <td>330010005000001</td>\n",
       "      <td>410</td>\n",
       "    </tr>\n",
       "    <tr>\n",
       "      <th>1</th>\n",
       "      <td>330010005000002</td>\n",
       "      <td>143</td>\n",
       "    </tr>\n",
       "    <tr>\n",
       "      <th>2</th>\n",
       "      <td>330010005000003</td>\n",
       "      <td>1055</td>\n",
       "    </tr>\n",
       "    <tr>\n",
       "      <th>3</th>\n",
       "      <td>330010005000004</td>\n",
       "      <td>219</td>\n",
       "    </tr>\n",
       "    <tr>\n",
       "      <th>4</th>\n",
       "      <td>330010005000005</td>\n",
       "      <td>709</td>\n",
       "    </tr>\n",
       "  </tbody>\n",
       "</table>\n",
       "</div>"
      ],
      "text/plain": [
       "         Cod_setor  nAbsConjuges\n",
       "0  330010005000001           410\n",
       "1  330010005000002           143\n",
       "2  330010005000003          1055\n",
       "3  330010005000004           219\n",
       "4  330010005000005           709"
      ]
     },
     "execution_count": 27,
     "metadata": {},
     "output_type": "execute_result"
    }
   ],
   "source": [
    "dfPessoa13RioDeJaneiro.head()"
   ]
  },
  {
   "cell_type": "markdown",
   "metadata": {},
   "source": [
    "**Pessoa11** - conferido"
   ]
  },
  {
   "cell_type": "code",
   "execution_count": 28,
   "metadata": {},
   "outputs": [],
   "source": [
    "dfPessoa11RioDeJaneiro = pd.read_csv('dataAgrupados/Pessoa11_RJ.csv', sep = ';', encoding = 'unicode_escape')"
   ]
  },
  {
   "cell_type": "code",
   "execution_count": 29,
   "metadata": {},
   "outputs": [],
   "source": [
    "dfPessoa11RioDeJaneiro = dfPessoa11RioDeJaneiro[['Cod_setor', 'V001']]"
   ]
  },
  {
   "cell_type": "code",
   "execution_count": 30,
   "metadata": {},
   "outputs": [],
   "source": [
    "dfPessoa11RioDeJaneiro = dfPessoa11RioDeJaneiro.replace('X', 0, regex= True)"
   ]
  },
  {
   "cell_type": "code",
   "execution_count": 31,
   "metadata": {},
   "outputs": [],
   "source": [
    "dfPessoa11RioDeJaneiro.rename(columns= {'V001':'nAbsHomensResidentes'}, inplace = True)"
   ]
  },
  {
   "cell_type": "markdown",
   "metadata": {},
   "source": [
    "**Pessoa12** - conferido"
   ]
  },
  {
   "cell_type": "code",
   "execution_count": 32,
   "metadata": {},
   "outputs": [],
   "source": [
    "dfPessoa12RioDeJaneiro = pd.read_csv('dataAgrupados/Pessoa12_RJ.csv', sep = ';', encoding = 'unicode_escape')"
   ]
  },
  {
   "cell_type": "code",
   "execution_count": 33,
   "metadata": {},
   "outputs": [],
   "source": [
    "dfPessoa12RioDeJaneiro = dfPessoa12RioDeJaneiro.replace('X', 0, regex= True)"
   ]
  },
  {
   "cell_type": "code",
   "execution_count": 34,
   "metadata": {},
   "outputs": [],
   "source": [
    "dfPessoa12RioDeJaneiro = dfPessoa12RioDeJaneiro[['Cod_setor', 'V001']]"
   ]
  },
  {
   "cell_type": "code",
   "execution_count": 35,
   "metadata": {},
   "outputs": [
    {
     "data": {
      "text/html": [
       "<div>\n",
       "<style scoped>\n",
       "    .dataframe tbody tr th:only-of-type {\n",
       "        vertical-align: middle;\n",
       "    }\n",
       "\n",
       "    .dataframe tbody tr th {\n",
       "        vertical-align: top;\n",
       "    }\n",
       "\n",
       "    .dataframe thead th {\n",
       "        text-align: right;\n",
       "    }\n",
       "</style>\n",
       "<table border=\"1\" class=\"dataframe\">\n",
       "  <thead>\n",
       "    <tr style=\"text-align: right;\">\n",
       "      <th></th>\n",
       "      <th>Cod_setor</th>\n",
       "      <th>V001</th>\n",
       "    </tr>\n",
       "  </thead>\n",
       "  <tbody>\n",
       "    <tr>\n",
       "      <th>0</th>\n",
       "      <td>330010005000001</td>\n",
       "      <td>236</td>\n",
       "    </tr>\n",
       "    <tr>\n",
       "      <th>1</th>\n",
       "      <td>330010005000002</td>\n",
       "      <td>84</td>\n",
       "    </tr>\n",
       "    <tr>\n",
       "      <th>2</th>\n",
       "      <td>330010005000003</td>\n",
       "      <td>567</td>\n",
       "    </tr>\n",
       "    <tr>\n",
       "      <th>3</th>\n",
       "      <td>330010005000004</td>\n",
       "      <td>114</td>\n",
       "    </tr>\n",
       "    <tr>\n",
       "      <th>4</th>\n",
       "      <td>330010005000005</td>\n",
       "      <td>349</td>\n",
       "    </tr>\n",
       "  </tbody>\n",
       "</table>\n",
       "</div>"
      ],
      "text/plain": [
       "         Cod_setor  V001\n",
       "0  330010005000001   236\n",
       "1  330010005000002    84\n",
       "2  330010005000003   567\n",
       "3  330010005000004   114\n",
       "4  330010005000005   349"
      ]
     },
     "execution_count": 35,
     "metadata": {},
     "output_type": "execute_result"
    }
   ],
   "source": [
    "dfPessoa12RioDeJaneiro.head()"
   ]
  },
  {
   "cell_type": "code",
   "execution_count": 36,
   "metadata": {},
   "outputs": [],
   "source": [
    "dfPessoa12RioDeJaneiro.rename(columns= {'V001':'nAbsMulheresResidentes'}, inplace = True)"
   ]
  },
  {
   "cell_type": "code",
   "execution_count": 37,
   "metadata": {},
   "outputs": [
    {
     "data": {
      "text/html": [
       "<div>\n",
       "<style scoped>\n",
       "    .dataframe tbody tr th:only-of-type {\n",
       "        vertical-align: middle;\n",
       "    }\n",
       "\n",
       "    .dataframe tbody tr th {\n",
       "        vertical-align: top;\n",
       "    }\n",
       "\n",
       "    .dataframe thead th {\n",
       "        text-align: right;\n",
       "    }\n",
       "</style>\n",
       "<table border=\"1\" class=\"dataframe\">\n",
       "  <thead>\n",
       "    <tr style=\"text-align: right;\">\n",
       "      <th></th>\n",
       "      <th>Cod_setor</th>\n",
       "      <th>nAbsMulheresResidentes</th>\n",
       "    </tr>\n",
       "  </thead>\n",
       "  <tbody>\n",
       "    <tr>\n",
       "      <th>0</th>\n",
       "      <td>330010005000001</td>\n",
       "      <td>236</td>\n",
       "    </tr>\n",
       "    <tr>\n",
       "      <th>1</th>\n",
       "      <td>330010005000002</td>\n",
       "      <td>84</td>\n",
       "    </tr>\n",
       "    <tr>\n",
       "      <th>2</th>\n",
       "      <td>330010005000003</td>\n",
       "      <td>567</td>\n",
       "    </tr>\n",
       "    <tr>\n",
       "      <th>3</th>\n",
       "      <td>330010005000004</td>\n",
       "      <td>114</td>\n",
       "    </tr>\n",
       "    <tr>\n",
       "      <th>4</th>\n",
       "      <td>330010005000005</td>\n",
       "      <td>349</td>\n",
       "    </tr>\n",
       "  </tbody>\n",
       "</table>\n",
       "</div>"
      ],
      "text/plain": [
       "         Cod_setor  nAbsMulheresResidentes\n",
       "0  330010005000001                     236\n",
       "1  330010005000002                      84\n",
       "2  330010005000003                     567\n",
       "3  330010005000004                     114\n",
       "4  330010005000005                     349"
      ]
     },
     "execution_count": 37,
     "metadata": {},
     "output_type": "execute_result"
    }
   ],
   "source": [
    "dfPessoa12RioDeJaneiro.head()"
   ]
  },
  {
   "cell_type": "markdown",
   "metadata": {},
   "source": [
    "**DomicilioRenda** - conferido"
   ]
  },
  {
   "cell_type": "code",
   "execution_count": 38,
   "metadata": {},
   "outputs": [],
   "source": [
    "dfDomicilioRendaRioDeJaneiro = pd.read_csv('dataAgrupados/DomicilioRenda_RJ.csv', sep = ';', encoding = 'unicode_escape')"
   ]
  },
  {
   "cell_type": "code",
   "execution_count": 39,
   "metadata": {},
   "outputs": [],
   "source": [
    "dfDomicilioRendaRioDeJaneiro = dfDomicilioRendaRioDeJaneiro[['Cod_setor',\n",
    "                                             'V002', 'V003', 'V004']]"
   ]
  },
  {
   "cell_type": "code",
   "execution_count": 40,
   "metadata": {},
   "outputs": [],
   "source": [
    "dfDomicilioRendaRioDeJaneiro = dfDomicilioRendaRioDeJaneiro.replace('X', 0, regex= True)"
   ]
  },
  {
   "cell_type": "code",
   "execution_count": 41,
   "metadata": {},
   "outputs": [],
   "source": [
    "dfDomicilioRendaRioDeJaneiro = dfDomicilioRendaRioDeJaneiro.astype(int)"
   ]
  },
  {
   "cell_type": "code",
   "execution_count": 42,
   "metadata": {},
   "outputs": [],
   "source": [
    "dfDomicilioRendaRioDeJaneiro.rename(columns = {'V002':'TotalRendNomMensalDomParticulares',\n",
    "                                       'V003':'TotalRendimentoNomMensalDomParticularesPermanentes',\n",
    "                                       'V004':'TotalRendimentoNomMensalDomParitulcaresImprovisados'}\n",
    "                            , inplace = True)"
   ]
  },
  {
   "cell_type": "code",
   "execution_count": 43,
   "metadata": {},
   "outputs": [
    {
     "data": {
      "text/html": [
       "<div>\n",
       "<style scoped>\n",
       "    .dataframe tbody tr th:only-of-type {\n",
       "        vertical-align: middle;\n",
       "    }\n",
       "\n",
       "    .dataframe tbody tr th {\n",
       "        vertical-align: top;\n",
       "    }\n",
       "\n",
       "    .dataframe thead th {\n",
       "        text-align: right;\n",
       "    }\n",
       "</style>\n",
       "<table border=\"1\" class=\"dataframe\">\n",
       "  <thead>\n",
       "    <tr style=\"text-align: right;\">\n",
       "      <th></th>\n",
       "      <th>Cod_setor</th>\n",
       "      <th>TotalRendNomMensalDomParticulares</th>\n",
       "      <th>TotalRendimentoNomMensalDomParticularesPermanentes</th>\n",
       "      <th>TotalRendimentoNomMensalDomParitulcaresImprovisados</th>\n",
       "    </tr>\n",
       "  </thead>\n",
       "  <tbody>\n",
       "    <tr>\n",
       "      <th>0</th>\n",
       "      <td>330010005000001</td>\n",
       "      <td>606855</td>\n",
       "      <td>606855</td>\n",
       "      <td>0</td>\n",
       "    </tr>\n",
       "    <tr>\n",
       "      <th>1</th>\n",
       "      <td>330010005000002</td>\n",
       "      <td>245530</td>\n",
       "      <td>245530</td>\n",
       "      <td>0</td>\n",
       "    </tr>\n",
       "    <tr>\n",
       "      <th>2</th>\n",
       "      <td>330010005000003</td>\n",
       "      <td>1513128</td>\n",
       "      <td>1513128</td>\n",
       "      <td>0</td>\n",
       "    </tr>\n",
       "    <tr>\n",
       "      <th>3</th>\n",
       "      <td>330010005000004</td>\n",
       "      <td>384352</td>\n",
       "      <td>384352</td>\n",
       "      <td>0</td>\n",
       "    </tr>\n",
       "    <tr>\n",
       "      <th>4</th>\n",
       "      <td>330010005000005</td>\n",
       "      <td>420537</td>\n",
       "      <td>420537</td>\n",
       "      <td>0</td>\n",
       "    </tr>\n",
       "  </tbody>\n",
       "</table>\n",
       "</div>"
      ],
      "text/plain": [
       "         Cod_setor  TotalRendNomMensalDomParticulares  \\\n",
       "0  330010005000001                             606855   \n",
       "1  330010005000002                             245530   \n",
       "2  330010005000003                            1513128   \n",
       "3  330010005000004                             384352   \n",
       "4  330010005000005                             420537   \n",
       "\n",
       "   TotalRendimentoNomMensalDomParticularesPermanentes  \\\n",
       "0                                             606855    \n",
       "1                                             245530    \n",
       "2                                            1513128    \n",
       "3                                             384352    \n",
       "4                                             420537    \n",
       "\n",
       "   TotalRendimentoNomMensalDomParitulcaresImprovisados  \n",
       "0                                                  0    \n",
       "1                                                  0    \n",
       "2                                                  0    \n",
       "3                                                  0    \n",
       "4                                                  0    "
      ]
     },
     "execution_count": 43,
     "metadata": {},
     "output_type": "execute_result"
    }
   ],
   "source": [
    "dfDomicilioRendaRioDeJaneiro.head()"
   ]
  },
  {
   "cell_type": "markdown",
   "metadata": {},
   "source": [
    "**ResponsavelRenda** - conferido"
   ]
  },
  {
   "cell_type": "code",
   "execution_count": 44,
   "metadata": {},
   "outputs": [],
   "source": [
    "dfResponsavelRendaRioDeJaneiro = pd.read_csv('dataAgrupados/ResponsavelRenda_RJ.csv', sep = ';', encoding = 'unicode_escape')"
   ]
  },
  {
   "cell_type": "code",
   "execution_count": 45,
   "metadata": {},
   "outputs": [],
   "source": [
    "dfResponsavelRendaRioDeJaneiro = dfResponsavelRendaRioDeJaneiro[['Cod_setor', \n",
    "                                                 'V001','V002', 'V003',\n",
    "                                                 'V004','V005', 'V006',\n",
    "                                                 'V007','V008', 'V009']]"
   ]
  },
  {
   "cell_type": "code",
   "execution_count": 46,
   "metadata": {},
   "outputs": [],
   "source": [
    "dfResponsavelRendaRioDeJaneiro = dfResponsavelRendaRioDeJaneiro.replace('X', 0, regex= True)"
   ]
  },
  {
   "cell_type": "code",
   "execution_count": 47,
   "metadata": {},
   "outputs": [],
   "source": [
    "dfResponsavelRendaRioDeJaneiro = dfResponsavelRendaRioDeJaneiro.astype(int)"
   ]
  },
  {
   "cell_type": "code",
   "execution_count": 48,
   "metadata": {},
   "outputs": [],
   "source": [
    "dfResponsavelRendaRioDeJaneiro['nAbsPessoasClasseE'] = dfResponsavelRendaRioDeJaneiro['V001'] +dfResponsavelRendaRioDeJaneiro['V002'] + dfResponsavelRendaRioDeJaneiro['V003'] "
   ]
  },
  {
   "cell_type": "code",
   "execution_count": 49,
   "metadata": {},
   "outputs": [],
   "source": [
    "dfResponsavelRendaRioDeJaneiro['nAbsPessoasClasseD'] = dfResponsavelRendaRioDeJaneiro['V004']"
   ]
  },
  {
   "cell_type": "code",
   "execution_count": 50,
   "metadata": {},
   "outputs": [],
   "source": [
    "dfResponsavelRendaRioDeJaneiro['nAbsPessoasClasseC'] = dfResponsavelRendaRioDeJaneiro['V005'] +dfResponsavelRendaRioDeJaneiro['V006']"
   ]
  },
  {
   "cell_type": "code",
   "execution_count": 51,
   "metadata": {},
   "outputs": [],
   "source": [
    "dfResponsavelRendaRioDeJaneiro['nAbsPessoasClasseB'] = dfResponsavelRendaRioDeJaneiro['V007']"
   ]
  },
  {
   "cell_type": "code",
   "execution_count": 52,
   "metadata": {},
   "outputs": [],
   "source": [
    "dfResponsavelRendaRioDeJaneiro['nAbsPessoasClasseA'] = dfResponsavelRendaRioDeJaneiro['V008'] +  dfResponsavelRendaRioDeJaneiro['V009']"
   ]
  },
  {
   "cell_type": "code",
   "execution_count": 53,
   "metadata": {},
   "outputs": [],
   "source": [
    "dfResponsavelRendaRioDeJaneiro.drop(['V001', 'V002', 'V003',\n",
    "                        'V004', 'V005', 'V006', 'V007', 'V008', 'V009'], axis =1, inplace = True)"
   ]
  },
  {
   "cell_type": "code",
   "execution_count": 54,
   "metadata": {},
   "outputs": [
    {
     "data": {
      "text/html": [
       "<div>\n",
       "<style scoped>\n",
       "    .dataframe tbody tr th:only-of-type {\n",
       "        vertical-align: middle;\n",
       "    }\n",
       "\n",
       "    .dataframe tbody tr th {\n",
       "        vertical-align: top;\n",
       "    }\n",
       "\n",
       "    .dataframe thead th {\n",
       "        text-align: right;\n",
       "    }\n",
       "</style>\n",
       "<table border=\"1\" class=\"dataframe\">\n",
       "  <thead>\n",
       "    <tr style=\"text-align: right;\">\n",
       "      <th></th>\n",
       "      <th>Cod_setor</th>\n",
       "      <th>nAbsPessoasClasseE</th>\n",
       "      <th>nAbsPessoasClasseD</th>\n",
       "      <th>nAbsPessoasClasseC</th>\n",
       "      <th>nAbsPessoasClasseB</th>\n",
       "      <th>nAbsPessoasClasseA</th>\n",
       "    </tr>\n",
       "  </thead>\n",
       "  <tbody>\n",
       "    <tr>\n",
       "      <th>0</th>\n",
       "      <td>330010005000001</td>\n",
       "      <td>40</td>\n",
       "      <td>24</td>\n",
       "      <td>69</td>\n",
       "      <td>7</td>\n",
       "      <td>3</td>\n",
       "    </tr>\n",
       "    <tr>\n",
       "      <th>1</th>\n",
       "      <td>330010005000002</td>\n",
       "      <td>12</td>\n",
       "      <td>12</td>\n",
       "      <td>23</td>\n",
       "      <td>5</td>\n",
       "      <td>0</td>\n",
       "    </tr>\n",
       "    <tr>\n",
       "      <th>2</th>\n",
       "      <td>330010005000003</td>\n",
       "      <td>66</td>\n",
       "      <td>65</td>\n",
       "      <td>162</td>\n",
       "      <td>16</td>\n",
       "      <td>16</td>\n",
       "    </tr>\n",
       "    <tr>\n",
       "      <th>3</th>\n",
       "      <td>330010005000004</td>\n",
       "      <td>14</td>\n",
       "      <td>12</td>\n",
       "      <td>32</td>\n",
       "      <td>3</td>\n",
       "      <td>4</td>\n",
       "    </tr>\n",
       "    <tr>\n",
       "      <th>4</th>\n",
       "      <td>330010005000005</td>\n",
       "      <td>100</td>\n",
       "      <td>55</td>\n",
       "      <td>38</td>\n",
       "      <td>1</td>\n",
       "      <td>0</td>\n",
       "    </tr>\n",
       "  </tbody>\n",
       "</table>\n",
       "</div>"
      ],
      "text/plain": [
       "         Cod_setor  nAbsPessoasClasseE  nAbsPessoasClasseD  \\\n",
       "0  330010005000001                  40                  24   \n",
       "1  330010005000002                  12                  12   \n",
       "2  330010005000003                  66                  65   \n",
       "3  330010005000004                  14                  12   \n",
       "4  330010005000005                 100                  55   \n",
       "\n",
       "   nAbsPessoasClasseC  nAbsPessoasClasseB  nAbsPessoasClasseA  \n",
       "0                  69                   7                   3  \n",
       "1                  23                   5                   0  \n",
       "2                 162                  16                  16  \n",
       "3                  32                   3                   4  \n",
       "4                  38                   1                   0  "
      ]
     },
     "execution_count": 54,
     "metadata": {},
     "output_type": "execute_result"
    }
   ],
   "source": [
    "dfResponsavelRendaRioDeJaneiro.head()"
   ]
  },
  {
   "cell_type": "markdown",
   "metadata": {},
   "source": [
    "**DATAFRAME TOTAL.**"
   ]
  },
  {
   "cell_type": "code",
   "execution_count": 55,
   "metadata": {},
   "outputs": [],
   "source": [
    "data_frames = [dfBasicoRioDeJaneiro, dfDomicilio01RioDeJaneiro, dfDomicilio02RioDeJaneiro, dfPessoa13RioDeJaneiro, dfPessoa11RioDeJaneiro, dfPessoa12RioDeJaneiro,\n",
    "               dfDomicilioRendaRioDeJaneiro, dfResponsavelRendaRioDeJaneiro]"
   ]
  },
  {
   "cell_type": "code",
   "execution_count": 56,
   "metadata": {},
   "outputs": [],
   "source": [
    "dfTotalRioDeJaneiro = reduce(lambda  left,right: pd.merge(left,right,on=['Cod_setor'],\n",
    "                                            how='inner'), data_frames)"
   ]
  },
  {
   "cell_type": "code",
   "execution_count": 57,
   "metadata": {},
   "outputs": [
    {
     "data": {
      "text/html": [
       "<div>\n",
       "<style scoped>\n",
       "    .dataframe tbody tr th:only-of-type {\n",
       "        vertical-align: middle;\n",
       "    }\n",
       "\n",
       "    .dataframe tbody tr th {\n",
       "        vertical-align: top;\n",
       "    }\n",
       "\n",
       "    .dataframe thead th {\n",
       "        text-align: right;\n",
       "    }\n",
       "</style>\n",
       "<table border=\"1\" class=\"dataframe\">\n",
       "  <thead>\n",
       "    <tr style=\"text-align: right;\">\n",
       "      <th></th>\n",
       "      <th>Cod_setor</th>\n",
       "      <th>MediaMoradorDomicilio</th>\n",
       "      <th>RendaMediaDomicilio</th>\n",
       "      <th>RendaMediaPerCapitaGeral</th>\n",
       "      <th>RendaMediaPerCapitaComRendimento</th>\n",
       "      <th>nAbsDomicilios</th>\n",
       "      <th>nAbsDomiciliosCasa</th>\n",
       "      <th>nAbsDomiciliosApto</th>\n",
       "      <th>nAbsImoveisAlugados</th>\n",
       "      <th>nAbs1PessoasDomicilio</th>\n",
       "      <th>...</th>\n",
       "      <th>nAbsHomensResidentes</th>\n",
       "      <th>nAbsMulheresResidentes</th>\n",
       "      <th>TotalRendNomMensalDomParticulares</th>\n",
       "      <th>TotalRendimentoNomMensalDomParticularesPermanentes</th>\n",
       "      <th>TotalRendimentoNomMensalDomParitulcaresImprovisados</th>\n",
       "      <th>nAbsPessoasClasseE</th>\n",
       "      <th>nAbsPessoasClasseD</th>\n",
       "      <th>nAbsPessoasClasseC</th>\n",
       "      <th>nAbsPessoasClasseB</th>\n",
       "      <th>nAbsPessoasClasseA</th>\n",
       "    </tr>\n",
       "  </thead>\n",
       "  <tbody>\n",
       "    <tr>\n",
       "      <th>0</th>\n",
       "      <td>330010005000001</td>\n",
       "      <td>2.62</td>\n",
       "      <td>2356.80</td>\n",
       "      <td>1565.37</td>\n",
       "      <td>2192.65</td>\n",
       "      <td>157</td>\n",
       "      <td>113</td>\n",
       "      <td>43</td>\n",
       "      <td>42</td>\n",
       "      <td>36</td>\n",
       "      <td>...</td>\n",
       "      <td>174</td>\n",
       "      <td>236</td>\n",
       "      <td>606855</td>\n",
       "      <td>606855</td>\n",
       "      <td>0</td>\n",
       "      <td>40</td>\n",
       "      <td>24</td>\n",
       "      <td>69</td>\n",
       "      <td>7</td>\n",
       "      <td>3</td>\n",
       "    </tr>\n",
       "    <tr>\n",
       "      <th>1</th>\n",
       "      <td>330010005000002</td>\n",
       "      <td>2.51</td>\n",
       "      <td>2040.47</td>\n",
       "      <td>1816.69</td>\n",
       "      <td>2375.67</td>\n",
       "      <td>57</td>\n",
       "      <td>38</td>\n",
       "      <td>19</td>\n",
       "      <td>31</td>\n",
       "      <td>12</td>\n",
       "      <td>...</td>\n",
       "      <td>59</td>\n",
       "      <td>84</td>\n",
       "      <td>245530</td>\n",
       "      <td>245530</td>\n",
       "      <td>0</td>\n",
       "      <td>12</td>\n",
       "      <td>12</td>\n",
       "      <td>23</td>\n",
       "      <td>5</td>\n",
       "      <td>0</td>\n",
       "    </tr>\n",
       "    <tr>\n",
       "      <th>2</th>\n",
       "      <td>330010005000003</td>\n",
       "      <td>3.08</td>\n",
       "      <td>2687.80</td>\n",
       "      <td>1593.37</td>\n",
       "      <td>2294.84</td>\n",
       "      <td>343</td>\n",
       "      <td>289</td>\n",
       "      <td>54</td>\n",
       "      <td>70</td>\n",
       "      <td>44</td>\n",
       "      <td>...</td>\n",
       "      <td>488</td>\n",
       "      <td>567</td>\n",
       "      <td>1513128</td>\n",
       "      <td>1513128</td>\n",
       "      <td>0</td>\n",
       "      <td>66</td>\n",
       "      <td>65</td>\n",
       "      <td>162</td>\n",
       "      <td>16</td>\n",
       "      <td>16</td>\n",
       "    </tr>\n",
       "    <tr>\n",
       "      <th>3</th>\n",
       "      <td>330010005000004</td>\n",
       "      <td>3.04</td>\n",
       "      <td>3026.67</td>\n",
       "      <td>1865.52</td>\n",
       "      <td>2574.41</td>\n",
       "      <td>72</td>\n",
       "      <td>36</td>\n",
       "      <td>36</td>\n",
       "      <td>25</td>\n",
       "      <td>10</td>\n",
       "      <td>...</td>\n",
       "      <td>105</td>\n",
       "      <td>114</td>\n",
       "      <td>384352</td>\n",
       "      <td>384352</td>\n",
       "      <td>0</td>\n",
       "      <td>14</td>\n",
       "      <td>12</td>\n",
       "      <td>32</td>\n",
       "      <td>3</td>\n",
       "      <td>4</td>\n",
       "    </tr>\n",
       "    <tr>\n",
       "      <th>4</th>\n",
       "      <td>330010005000005</td>\n",
       "      <td>3.34</td>\n",
       "      <td>1124.82</td>\n",
       "      <td>689.40</td>\n",
       "      <td>1028.21</td>\n",
       "      <td>212</td>\n",
       "      <td>211</td>\n",
       "      <td>1</td>\n",
       "      <td>49</td>\n",
       "      <td>16</td>\n",
       "      <td>...</td>\n",
       "      <td>360</td>\n",
       "      <td>349</td>\n",
       "      <td>420537</td>\n",
       "      <td>420537</td>\n",
       "      <td>0</td>\n",
       "      <td>100</td>\n",
       "      <td>55</td>\n",
       "      <td>38</td>\n",
       "      <td>1</td>\n",
       "      <td>0</td>\n",
       "    </tr>\n",
       "  </tbody>\n",
       "</table>\n",
       "<p>5 rows × 30 columns</p>\n",
       "</div>"
      ],
      "text/plain": [
       "         Cod_setor  MediaMoradorDomicilio  RendaMediaDomicilio  \\\n",
       "0  330010005000001                   2.62              2356.80   \n",
       "1  330010005000002                   2.51              2040.47   \n",
       "2  330010005000003                   3.08              2687.80   \n",
       "3  330010005000004                   3.04              3026.67   \n",
       "4  330010005000005                   3.34              1124.82   \n",
       "\n",
       "   RendaMediaPerCapitaGeral  RendaMediaPerCapitaComRendimento  nAbsDomicilios  \\\n",
       "0                   1565.37                           2192.65             157   \n",
       "1                   1816.69                           2375.67              57   \n",
       "2                   1593.37                           2294.84             343   \n",
       "3                   1865.52                           2574.41              72   \n",
       "4                    689.40                           1028.21             212   \n",
       "\n",
       "  nAbsDomiciliosCasa nAbsDomiciliosApto nAbsImoveisAlugados  \\\n",
       "0                113                 43                  42   \n",
       "1                 38                 19                  31   \n",
       "2                289                 54                  70   \n",
       "3                 36                 36                  25   \n",
       "4                211                  1                  49   \n",
       "\n",
       "  nAbs1PessoasDomicilio  ... nAbsHomensResidentes nAbsMulheresResidentes  \\\n",
       "0                    36  ...                  174                    236   \n",
       "1                    12  ...                   59                     84   \n",
       "2                    44  ...                  488                    567   \n",
       "3                    10  ...                  105                    114   \n",
       "4                    16  ...                  360                    349   \n",
       "\n",
       "  TotalRendNomMensalDomParticulares  \\\n",
       "0                            606855   \n",
       "1                            245530   \n",
       "2                           1513128   \n",
       "3                            384352   \n",
       "4                            420537   \n",
       "\n",
       "  TotalRendimentoNomMensalDomParticularesPermanentes  \\\n",
       "0                                             606855   \n",
       "1                                             245530   \n",
       "2                                            1513128   \n",
       "3                                             384352   \n",
       "4                                             420537   \n",
       "\n",
       "  TotalRendimentoNomMensalDomParitulcaresImprovisados  nAbsPessoasClasseE  \\\n",
       "0                                                  0                   40   \n",
       "1                                                  0                   12   \n",
       "2                                                  0                   66   \n",
       "3                                                  0                   14   \n",
       "4                                                  0                  100   \n",
       "\n",
       "   nAbsPessoasClasseD  nAbsPessoasClasseC  nAbsPessoasClasseB  \\\n",
       "0                  24                  69                   7   \n",
       "1                  12                  23                   5   \n",
       "2                  65                 162                  16   \n",
       "3                  12                  32                   3   \n",
       "4                  55                  38                   1   \n",
       "\n",
       "   nAbsPessoasClasseA  \n",
       "0                   3  \n",
       "1                   0  \n",
       "2                  16  \n",
       "3                   4  \n",
       "4                   0  \n",
       "\n",
       "[5 rows x 30 columns]"
      ]
     },
     "execution_count": 57,
     "metadata": {},
     "output_type": "execute_result"
    }
   ],
   "source": [
    "dfTotalRioDeJaneiro.head()"
   ]
  },
  {
   "cell_type": "code",
   "execution_count": 58,
   "metadata": {},
   "outputs": [
    {
     "name": "stdout",
     "output_type": "stream",
     "text": [
      "<class 'pandas.core.frame.DataFrame'>\n",
      "Int64Index: 27769 entries, 0 to 27768\n",
      "Data columns (total 30 columns):\n",
      " #   Column                                               Non-Null Count  Dtype  \n",
      "---  ------                                               --------------  -----  \n",
      " 0   Cod_setor                                            27769 non-null  int64  \n",
      " 1   MediaMoradorDomicilio                                27685 non-null  float64\n",
      " 2   RendaMediaDomicilio                                  27685 non-null  float64\n",
      " 3   RendaMediaPerCapitaGeral                             27768 non-null  float64\n",
      " 4   RendaMediaPerCapitaComRendimento                     27736 non-null  float64\n",
      " 5   nAbsDomicilios                                       27769 non-null  int64  \n",
      " 6   nAbsDomiciliosCasa                                   27769 non-null  object \n",
      " 7   nAbsDomiciliosApto                                   27769 non-null  object \n",
      " 8   nAbsImoveisAlugados                                  27769 non-null  object \n",
      " 9   nAbs1PessoasDomicilio                                27769 non-null  object \n",
      " 10  nAbs1PessoasDomicilio                                27769 non-null  object \n",
      " 11  nAbs2PessoasDomicilio                                27769 non-null  object \n",
      " 12  nAbs3PessoasDomicilio                                27769 non-null  object \n",
      " 13  nAbs4PessoasDomicilio                                27769 non-null  object \n",
      " 14  nAbs5ouMaisPessoasDomicilio                          27769 non-null  object \n",
      " 15  nAbsHabitantes                                       27769 non-null  int64  \n",
      " 16  nAbsMoradoresCasa                                    27769 non-null  int64  \n",
      " 17  nAbsMoradoresApto                                    27769 non-null  int64  \n",
      " 18  nAbsMoradoresImoveisAlugados                         27769 non-null  int64  \n",
      " 19  nAbsConjuges                                         27769 non-null  int64  \n",
      " 20  nAbsHomensResidentes                                 27769 non-null  int64  \n",
      " 21  nAbsMulheresResidentes                               27769 non-null  int64  \n",
      " 22  TotalRendNomMensalDomParticulares                    27769 non-null  int64  \n",
      " 23  TotalRendimentoNomMensalDomParticularesPermanentes   27769 non-null  int64  \n",
      " 24  TotalRendimentoNomMensalDomParitulcaresImprovisados  27769 non-null  int64  \n",
      " 25  nAbsPessoasClasseE                                   27769 non-null  int64  \n",
      " 26  nAbsPessoasClasseD                                   27769 non-null  int64  \n",
      " 27  nAbsPessoasClasseC                                   27769 non-null  int64  \n",
      " 28  nAbsPessoasClasseB                                   27769 non-null  int64  \n",
      " 29  nAbsPessoasClasseA                                   27769 non-null  int64  \n",
      "dtypes: float64(4), int64(17), object(9)\n",
      "memory usage: 6.6+ MB\n"
     ]
    }
   ],
   "source": [
    "dfTotalRioDeJaneiro.info()"
   ]
  },
  {
   "cell_type": "code",
   "execution_count": 59,
   "metadata": {},
   "outputs": [],
   "source": [
    "dfTotalRioDeJaneiro.to_csv('RioDeJaneiro.csv', sep= ';', encoding = 'utf-8')"
   ]
  },
  {
   "cell_type": "markdown",
   "metadata": {},
   "source": [
    "Conferir num. abs. de 5 ou mais pessoas por domicilio"
   ]
  }
 ],
 "metadata": {
  "interpreter": {
   "hash": "916dbcbb3f70747c44a77c7bcd40155683ae19c65e1c03b4aa3499c5328201f1"
  },
  "kernelspec": {
   "display_name": "Python 3.8.10 64-bit",
   "language": "python",
   "name": "python3"
  },
  "language_info": {
   "codemirror_mode": {
    "name": "ipython",
    "version": 3
   },
   "file_extension": ".py",
   "mimetype": "text/x-python",
   "name": "python",
   "nbconvert_exporter": "python",
   "pygments_lexer": "ipython3",
   "version": "3.8.10"
  },
  "orig_nbformat": 4
 },
 "nbformat": 4,
 "nbformat_minor": 2
}

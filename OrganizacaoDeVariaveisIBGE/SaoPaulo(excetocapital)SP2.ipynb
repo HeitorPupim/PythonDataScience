{
 "cells": [
  {
   "cell_type": "code",
   "execution_count": 81,
   "metadata": {},
   "outputs": [],
   "source": [
    "import pandas as pd\n",
    "import numpy as np\n",
    "from functools import reduce"
   ]
  },
  {
   "cell_type": "markdown",
   "metadata": {},
   "source": [
    "**Basico** - conferido"
   ]
  },
  {
   "cell_type": "code",
   "execution_count": 82,
   "metadata": {},
   "outputs": [],
   "source": [
    "dfBasicoSaoPauloExC = pd.read_csv('dataAgrupados/Basico_SP2.csv', sep = ';', encoding = 'unicode_escape')"
   ]
  },
  {
   "cell_type": "code",
   "execution_count": 83,
   "metadata": {},
   "outputs": [
    {
     "data": {
      "text/html": [
       "<div>\n",
       "<style scoped>\n",
       "    .dataframe tbody tr th:only-of-type {\n",
       "        vertical-align: middle;\n",
       "    }\n",
       "\n",
       "    .dataframe tbody tr th {\n",
       "        vertical-align: top;\n",
       "    }\n",
       "\n",
       "    .dataframe thead th {\n",
       "        text-align: right;\n",
       "    }\n",
       "</style>\n",
       "<table border=\"1\" class=\"dataframe\">\n",
       "  <thead>\n",
       "    <tr style=\"text-align: right;\">\n",
       "      <th></th>\n",
       "      <th>ï»¿Cod_setor</th>\n",
       "      <th>Cod_Grandes RegiÃµes</th>\n",
       "      <th>Nome_Grande_Regiao</th>\n",
       "      <th>Cod_UF</th>\n",
       "      <th>Nome_da_UF</th>\n",
       "      <th>Cod_meso</th>\n",
       "      <th>Nome_da_meso</th>\n",
       "      <th>Cod_micro</th>\n",
       "      <th>Nome_da_micro</th>\n",
       "      <th>Cod_RM</th>\n",
       "      <th>...</th>\n",
       "      <th>V003</th>\n",
       "      <th>V004</th>\n",
       "      <th>V005</th>\n",
       "      <th>V006</th>\n",
       "      <th>V007</th>\n",
       "      <th>V008</th>\n",
       "      <th>V009</th>\n",
       "      <th>V010</th>\n",
       "      <th>V011</th>\n",
       "      <th>V012</th>\n",
       "    </tr>\n",
       "  </thead>\n",
       "  <tbody>\n",
       "    <tr>\n",
       "      <th>0</th>\n",
       "      <td>350010505000001</td>\n",
       "      <td>3</td>\n",
       "      <td>RegiÃ£o Sudeste</td>\n",
       "      <td>SP</td>\n",
       "      <td>SÃ£o Paulo</td>\n",
       "      <td>3508</td>\n",
       "      <td>Presidente Prudente</td>\n",
       "      <td>35035</td>\n",
       "      <td>Adamantina</td>\n",
       "      <td>0</td>\n",
       "      <td>...</td>\n",
       "      <td>2,04</td>\n",
       "      <td>1,11</td>\n",
       "      <td>2103,64</td>\n",
       "      <td>4968912,37</td>\n",
       "      <td>2191,9</td>\n",
       "      <td>4984036,79</td>\n",
       "      <td>1530,51</td>\n",
       "      <td>4163648,03</td>\n",
       "      <td>1901,54</td>\n",
       "      <td>4468808,1</td>\n",
       "    </tr>\n",
       "    <tr>\n",
       "      <th>1</th>\n",
       "      <td>350010505000002</td>\n",
       "      <td>3</td>\n",
       "      <td>RegiÃ£o Sudeste</td>\n",
       "      <td>SP</td>\n",
       "      <td>SÃ£o Paulo</td>\n",
       "      <td>3508</td>\n",
       "      <td>Presidente Prudente</td>\n",
       "      <td>35035</td>\n",
       "      <td>Adamantina</td>\n",
       "      <td>0</td>\n",
       "      <td>...</td>\n",
       "      <td>2,67</td>\n",
       "      <td>1,77</td>\n",
       "      <td>1899,91</td>\n",
       "      <td>3969367,45</td>\n",
       "      <td>1980,76</td>\n",
       "      <td>3978169,48</td>\n",
       "      <td>1180,37</td>\n",
       "      <td>2621328,25</td>\n",
       "      <td>1572,39</td>\n",
       "      <td>2875973,5</td>\n",
       "    </tr>\n",
       "    <tr>\n",
       "      <th>2</th>\n",
       "      <td>350010505000003</td>\n",
       "      <td>3</td>\n",
       "      <td>RegiÃ£o Sudeste</td>\n",
       "      <td>SP</td>\n",
       "      <td>SÃ£o Paulo</td>\n",
       "      <td>3508</td>\n",
       "      <td>Presidente Prudente</td>\n",
       "      <td>35035</td>\n",
       "      <td>Adamantina</td>\n",
       "      <td>0</td>\n",
       "      <td>...</td>\n",
       "      <td>2,43</td>\n",
       "      <td>1,33</td>\n",
       "      <td>3170,82</td>\n",
       "      <td>14377539,93</td>\n",
       "      <td>3246,68</td>\n",
       "      <td>14475686,47</td>\n",
       "      <td>1908,64</td>\n",
       "      <td>10014924,33</td>\n",
       "      <td>2536,42</td>\n",
       "      <td>11721183</td>\n",
       "    </tr>\n",
       "    <tr>\n",
       "      <th>3</th>\n",
       "      <td>350010505000004</td>\n",
       "      <td>3</td>\n",
       "      <td>RegiÃ£o Sudeste</td>\n",
       "      <td>SP</td>\n",
       "      <td>SÃ£o Paulo</td>\n",
       "      <td>3508</td>\n",
       "      <td>Presidente Prudente</td>\n",
       "      <td>35035</td>\n",
       "      <td>Adamantina</td>\n",
       "      <td>0</td>\n",
       "      <td>...</td>\n",
       "      <td>2,74</td>\n",
       "      <td>1,85</td>\n",
       "      <td>2782,6</td>\n",
       "      <td>12624098,34</td>\n",
       "      <td>2882,7</td>\n",
       "      <td>12790260,49</td>\n",
       "      <td>1583,46</td>\n",
       "      <td>7209788,84</td>\n",
       "      <td>2141,47</td>\n",
       "      <td>8558034,75</td>\n",
       "    </tr>\n",
       "    <tr>\n",
       "      <th>4</th>\n",
       "      <td>350010505000005</td>\n",
       "      <td>3</td>\n",
       "      <td>RegiÃ£o Sudeste</td>\n",
       "      <td>SP</td>\n",
       "      <td>SÃ£o Paulo</td>\n",
       "      <td>3508</td>\n",
       "      <td>Presidente Prudente</td>\n",
       "      <td>35035</td>\n",
       "      <td>Adamantina</td>\n",
       "      <td>0</td>\n",
       "      <td>...</td>\n",
       "      <td>2,79</td>\n",
       "      <td>1,85</td>\n",
       "      <td>2050,27</td>\n",
       "      <td>101395096,1</td>\n",
       "      <td>2455,27</td>\n",
       "      <td>120508046</td>\n",
       "      <td>1423,52</td>\n",
       "      <td>40900639,93</td>\n",
       "      <td>1908,13</td>\n",
       "      <td>53922664,72</td>\n",
       "    </tr>\n",
       "  </tbody>\n",
       "</table>\n",
       "<p>5 rows × 33 columns</p>\n",
       "</div>"
      ],
      "text/plain": [
       "      ï»¿Cod_setor  Cod_Grandes RegiÃµes Nome_Grande_Regiao Cod_UF  \\\n",
       "0  350010505000001                     3    RegiÃ£o Sudeste     SP   \n",
       "1  350010505000002                     3    RegiÃ£o Sudeste     SP   \n",
       "2  350010505000003                     3    RegiÃ£o Sudeste     SP   \n",
       "3  350010505000004                     3    RegiÃ£o Sudeste     SP   \n",
       "4  350010505000005                     3    RegiÃ£o Sudeste     SP   \n",
       "\n",
       "  Nome_da_UF   Cod_meso         Nome_da_meso  Cod_micro Nome_da_micro  Cod_RM  \\\n",
       "0  SÃ£o Paulo      3508  Presidente Prudente      35035    Adamantina       0   \n",
       "1  SÃ£o Paulo      3508  Presidente Prudente      35035    Adamantina       0   \n",
       "2  SÃ£o Paulo      3508  Presidente Prudente      35035    Adamantina       0   \n",
       "3  SÃ£o Paulo      3508  Presidente Prudente      35035    Adamantina       0   \n",
       "4  SÃ£o Paulo      3508  Presidente Prudente      35035    Adamantina       0   \n",
       "\n",
       "   ...  V003  V004     V005         V006     V007         V008     V009  \\\n",
       "0  ...  2,04  1,11  2103,64   4968912,37   2191,9   4984036,79  1530,51   \n",
       "1  ...  2,67  1,77  1899,91   3969367,45  1980,76   3978169,48  1180,37   \n",
       "2  ...  2,43  1,33  3170,82  14377539,93  3246,68  14475686,47  1908,64   \n",
       "3  ...  2,74  1,85   2782,6  12624098,34   2882,7  12790260,49  1583,46   \n",
       "4  ...  2,79  1,85  2050,27  101395096,1  2455,27    120508046  1423,52   \n",
       "\n",
       "          V010     V011         V012  \n",
       "0   4163648,03  1901,54    4468808,1  \n",
       "1   2621328,25  1572,39    2875973,5  \n",
       "2  10014924,33  2536,42     11721183  \n",
       "3   7209788,84  2141,47   8558034,75  \n",
       "4  40900639,93  1908,13  53922664,72  \n",
       "\n",
       "[5 rows x 33 columns]"
      ]
     },
     "execution_count": 83,
     "metadata": {},
     "output_type": "execute_result"
    }
   ],
   "source": [
    "dfBasicoSaoPauloExC.head()"
   ]
  },
  {
   "cell_type": "code",
   "execution_count": 84,
   "metadata": {},
   "outputs": [],
   "source": [
    "dfBasicoSaoPauloExC = dfBasicoSaoPauloExC[['ï»¿Cod_setor','V003', 'V005', 'V009', 'V011']]"
   ]
  },
  {
   "cell_type": "code",
   "execution_count": 85,
   "metadata": {},
   "outputs": [],
   "source": [
    "dfBasicoSaoPauloExC = dfBasicoSaoPauloExC.replace('X', 0, regex= True)"
   ]
  },
  {
   "cell_type": "code",
   "execution_count": 86,
   "metadata": {},
   "outputs": [
    {
     "data": {
      "text/html": [
       "<div>\n",
       "<style scoped>\n",
       "    .dataframe tbody tr th:only-of-type {\n",
       "        vertical-align: middle;\n",
       "    }\n",
       "\n",
       "    .dataframe tbody tr th {\n",
       "        vertical-align: top;\n",
       "    }\n",
       "\n",
       "    .dataframe thead th {\n",
       "        text-align: right;\n",
       "    }\n",
       "</style>\n",
       "<table border=\"1\" class=\"dataframe\">\n",
       "  <thead>\n",
       "    <tr style=\"text-align: right;\">\n",
       "      <th></th>\n",
       "      <th>ï»¿Cod_setor</th>\n",
       "      <th>V003</th>\n",
       "      <th>V005</th>\n",
       "      <th>V009</th>\n",
       "      <th>V011</th>\n",
       "    </tr>\n",
       "  </thead>\n",
       "  <tbody>\n",
       "    <tr>\n",
       "      <th>0</th>\n",
       "      <td>350010505000001</td>\n",
       "      <td>2,04</td>\n",
       "      <td>2103,64</td>\n",
       "      <td>1530,51</td>\n",
       "      <td>1901,54</td>\n",
       "    </tr>\n",
       "    <tr>\n",
       "      <th>1</th>\n",
       "      <td>350010505000002</td>\n",
       "      <td>2,67</td>\n",
       "      <td>1899,91</td>\n",
       "      <td>1180,37</td>\n",
       "      <td>1572,39</td>\n",
       "    </tr>\n",
       "    <tr>\n",
       "      <th>2</th>\n",
       "      <td>350010505000003</td>\n",
       "      <td>2,43</td>\n",
       "      <td>3170,82</td>\n",
       "      <td>1908,64</td>\n",
       "      <td>2536,42</td>\n",
       "    </tr>\n",
       "    <tr>\n",
       "      <th>3</th>\n",
       "      <td>350010505000004</td>\n",
       "      <td>2,74</td>\n",
       "      <td>2782,6</td>\n",
       "      <td>1583,46</td>\n",
       "      <td>2141,47</td>\n",
       "    </tr>\n",
       "    <tr>\n",
       "      <th>4</th>\n",
       "      <td>350010505000005</td>\n",
       "      <td>2,79</td>\n",
       "      <td>2050,27</td>\n",
       "      <td>1423,52</td>\n",
       "      <td>1908,13</td>\n",
       "    </tr>\n",
       "  </tbody>\n",
       "</table>\n",
       "</div>"
      ],
      "text/plain": [
       "      ï»¿Cod_setor  V003     V005     V009     V011\n",
       "0  350010505000001  2,04  2103,64  1530,51  1901,54\n",
       "1  350010505000002  2,67  1899,91  1180,37  1572,39\n",
       "2  350010505000003  2,43  3170,82  1908,64  2536,42\n",
       "3  350010505000004  2,74   2782,6  1583,46  2141,47\n",
       "4  350010505000005  2,79  2050,27  1423,52  1908,13"
      ]
     },
     "execution_count": 86,
     "metadata": {},
     "output_type": "execute_result"
    }
   ],
   "source": [
    "dfBasicoSaoPauloExC.head()"
   ]
  },
  {
   "cell_type": "code",
   "execution_count": 87,
   "metadata": {},
   "outputs": [],
   "source": [
    "dfBasicoSaoPauloExC = dfBasicoSaoPauloExC.replace(',', '.', regex= True)"
   ]
  },
  {
   "cell_type": "code",
   "execution_count": 88,
   "metadata": {},
   "outputs": [],
   "source": [
    "dfBasicoSaoPauloExC = dfBasicoSaoPauloExC.astype({'V003':'float','V005':'float','V009':'float','V011':'float'})"
   ]
  },
  {
   "cell_type": "code",
   "execution_count": 89,
   "metadata": {},
   "outputs": [],
   "source": [
    "dfBasicoSaoPauloExC.rename(columns = {'ï»¿Cod_setor': 'Cod_setor','V003':'MediaMoradorDomicilio',\n",
    "                     'V005':'RendaMediaDomicilio',\n",
    "                     'V009':'RendaMediaPerCapitaGeral',\n",
    "                     'V011':'RendaMediaPerCapitaComRendimento'}, inplace = True)"
   ]
  },
  {
   "cell_type": "markdown",
   "metadata": {},
   "source": [
    "**Domicilio01** - conferido"
   ]
  },
  {
   "cell_type": "code",
   "execution_count": 90,
   "metadata": {},
   "outputs": [],
   "source": [
    "dfDomicilio01SaoPauloExC = pd.read_csv('dataAgrupados/Domicilio01_SP2.csv', sep = ';', encoding = 'unicode_escape')"
   ]
  },
  {
   "cell_type": "code",
   "execution_count": 91,
   "metadata": {},
   "outputs": [],
   "source": [
    "dfDomicilio01SaoPauloExC = dfDomicilio01SaoPauloExC.replace('X', 0, regex= True)"
   ]
  },
  {
   "cell_type": "code",
   "execution_count": 92,
   "metadata": {},
   "outputs": [],
   "source": [
    "#dfDomicilio01SaoPauloExC = dfDomicilio01SaoPauloExC.astype(int)"
   ]
  },
  {
   "cell_type": "code",
   "execution_count": 93,
   "metadata": {},
   "outputs": [],
   "source": [
    "dfDomicilio01SaoPauloExC = dfDomicilio01SaoPauloExC[['Cod_setor',\n",
    "                                       'V001', 'V003', 'V005', 'V008','V050',\n",
    "                                       'V050' ,'V051' ,'V052' ,'V053' ,'V054' ,'V055' ,\n",
    "                                       'V056' ,'V057' ,'V058' ,'V059' ,]]"
   ]
  },
  {
   "cell_type": "code",
   "execution_count": 94,
   "metadata": {},
   "outputs": [],
   "source": [
    "dfDomicilio01SaoPauloExC.rename(columns = {\n",
    "'V001':'nAbsDomicilios' , \n",
    "'V003': 'nAbsDomiciliosCasa', \n",
    "'V005': 'nAbsDomiciliosApto', \n",
    "'V008': 'nAbsImoveisAlugados', \n",
    "'V050':'nAbs1PessoasDomicilio',\n",
    "'V051':'nAbs2PessoasDomicilio',\n",
    "'V052':'nAbs3PessoasDomicilio',\n",
    "'V053':'nAbs4PessoasDomicilio',\n",
    "'V054':'nAbs5PessoasDomicilio',\n",
    "'V055':'nAbs6PessoasDomicilio',\n",
    "'V056':'nAbs7PessoasDomicilio',\n",
    "'V057':'nAbs8PessoasDomicilio',\n",
    "'V058':'nAbs9PessoasDomicilio',\n",
    "'V059':'nAbs10PessoasDomicilio'}, inplace = True)"
   ]
  },
  {
   "cell_type": "code",
   "execution_count": 95,
   "metadata": {},
   "outputs": [
    {
     "data": {
      "text/plain": [
       "0        00\n",
       "1        00\n",
       "2        00\n",
       "3        10\n",
       "4        10\n",
       "         ..\n",
       "47728    22\n",
       "47729    00\n",
       "47730    00\n",
       "47731    13\n",
       "47732    20\n",
       "Length: 47733, dtype: object"
      ]
     },
     "execution_count": 95,
     "metadata": {},
     "output_type": "execute_result"
    }
   ],
   "source": [
    "dfDomicilio01SaoPauloExC['nAbs5ouMaisPessoasDomicilio'] = dfDomicilio01SaoPauloExC['nAbs5PessoasDomicilio'] +dfDomicilio01SaoPauloExC['nAbs6PessoasDomicilio'] + dfDomicilio01SaoPauloExC['nAbs7PessoasDomicilio'] + dfDomicilio01SaoPauloExC['nAbs8PessoasDomicilio']\n",
    "+ dfDomicilio01SaoPauloExC['nAbs9PessoasDomicilio'] + dfDomicilio01SaoPauloExC['nAbs10PessoasDomicilio'] "
   ]
  },
  {
   "cell_type": "code",
   "execution_count": 96,
   "metadata": {},
   "outputs": [],
   "source": [
    "dfDomicilio01SaoPauloExC.drop(['nAbs5PessoasDomicilio', 'nAbs6PessoasDomicilio', 'nAbs7PessoasDomicilio',\n",
    "                        'nAbs8PessoasDomicilio', 'nAbs9PessoasDomicilio', 'nAbs10PessoasDomicilio'], axis =1, inplace = True)"
   ]
  },
  {
   "cell_type": "markdown",
   "metadata": {},
   "source": [
    "**Domicilio02** - conferido"
   ]
  },
  {
   "cell_type": "code",
   "execution_count": 97,
   "metadata": {},
   "outputs": [],
   "source": [
    "dfDomicilio02SaoPauloExC = pd.read_csv('dataAgrupados/Domicilio02_SP2.csv', sep = ';', encoding = 'unicode_escape')"
   ]
  },
  {
   "cell_type": "code",
   "execution_count": 98,
   "metadata": {},
   "outputs": [],
   "source": [
    "dfDomicilio02SaoPauloExC = dfDomicilio02SaoPauloExC.replace('X', 0, regex= True)"
   ]
  },
  {
   "cell_type": "code",
   "execution_count": 99,
   "metadata": {},
   "outputs": [],
   "source": [
    "dfDomicilio02SaoPauloExC = dfDomicilio02SaoPauloExC.astype(int)\n"
   ]
  },
  {
   "cell_type": "code",
   "execution_count": 100,
   "metadata": {},
   "outputs": [
    {
     "name": "stdout",
     "output_type": "stream",
     "text": [
      "<class 'pandas.core.frame.DataFrame'>\n",
      "RangeIndex: 47733 entries, 0 to 47732\n",
      "Columns: 134 entries, Cod_setor to V132\n",
      "dtypes: int64(134)\n",
      "memory usage: 48.8 MB\n"
     ]
    }
   ],
   "source": [
    "dfDomicilio02SaoPauloExC.info()"
   ]
  },
  {
   "cell_type": "code",
   "execution_count": 101,
   "metadata": {},
   "outputs": [],
   "source": [
    "dfDomicilio02SaoPauloExC = dfDomicilio02SaoPauloExC[['Cod_setor',\n",
    "                                       'V001', 'V003', 'V005', 'V008']]"
   ]
  },
  {
   "cell_type": "code",
   "execution_count": 102,
   "metadata": {},
   "outputs": [],
   "source": [
    "dfDomicilio02SaoPauloExC.rename(columns = {\n",
    "'V001':'nAbsHabitantes' , \n",
    "'V003': 'nAbsMoradoresCasa', \n",
    "'V005': 'nAbsMoradoresApto', \n",
    "'V008': 'nAbsMoradoresImoveisAlugados', \n",
    "}, inplace = True)"
   ]
  },
  {
   "cell_type": "code",
   "execution_count": 103,
   "metadata": {},
   "outputs": [
    {
     "data": {
      "text/html": [
       "<div>\n",
       "<style scoped>\n",
       "    .dataframe tbody tr th:only-of-type {\n",
       "        vertical-align: middle;\n",
       "    }\n",
       "\n",
       "    .dataframe tbody tr th {\n",
       "        vertical-align: top;\n",
       "    }\n",
       "\n",
       "    .dataframe thead th {\n",
       "        text-align: right;\n",
       "    }\n",
       "</style>\n",
       "<table border=\"1\" class=\"dataframe\">\n",
       "  <thead>\n",
       "    <tr style=\"text-align: right;\">\n",
       "      <th></th>\n",
       "      <th>Cod_setor</th>\n",
       "      <th>nAbsHabitantes</th>\n",
       "      <th>nAbsMoradoresCasa</th>\n",
       "      <th>nAbsMoradoresApto</th>\n",
       "      <th>nAbsMoradoresImoveisAlugados</th>\n",
       "    </tr>\n",
       "  </thead>\n",
       "  <tbody>\n",
       "    <tr>\n",
       "      <th>0</th>\n",
       "      <td>350010505000001</td>\n",
       "      <td>304</td>\n",
       "      <td>196</td>\n",
       "      <td>100</td>\n",
       "      <td>123</td>\n",
       "    </tr>\n",
       "    <tr>\n",
       "      <th>1</th>\n",
       "      <td>350010505000002</td>\n",
       "      <td>785</td>\n",
       "      <td>772</td>\n",
       "      <td>13</td>\n",
       "      <td>264</td>\n",
       "    </tr>\n",
       "    <tr>\n",
       "      <th>2</th>\n",
       "      <td>350010505000003</td>\n",
       "      <td>524</td>\n",
       "      <td>463</td>\n",
       "      <td>56</td>\n",
       "      <td>91</td>\n",
       "    </tr>\n",
       "    <tr>\n",
       "      <th>3</th>\n",
       "      <td>350010505000004</td>\n",
       "      <td>795</td>\n",
       "      <td>780</td>\n",
       "      <td>8</td>\n",
       "      <td>254</td>\n",
       "    </tr>\n",
       "    <tr>\n",
       "      <th>4</th>\n",
       "      <td>350010505000005</td>\n",
       "      <td>813</td>\n",
       "      <td>771</td>\n",
       "      <td>40</td>\n",
       "      <td>197</td>\n",
       "    </tr>\n",
       "  </tbody>\n",
       "</table>\n",
       "</div>"
      ],
      "text/plain": [
       "         Cod_setor  nAbsHabitantes  nAbsMoradoresCasa  nAbsMoradoresApto  \\\n",
       "0  350010505000001             304                196                100   \n",
       "1  350010505000002             785                772                 13   \n",
       "2  350010505000003             524                463                 56   \n",
       "3  350010505000004             795                780                  8   \n",
       "4  350010505000005             813                771                 40   \n",
       "\n",
       "   nAbsMoradoresImoveisAlugados  \n",
       "0                           123  \n",
       "1                           264  \n",
       "2                            91  \n",
       "3                           254  \n",
       "4                           197  "
      ]
     },
     "execution_count": 103,
     "metadata": {},
     "output_type": "execute_result"
    }
   ],
   "source": [
    "dfDomicilio02SaoPauloExC.head()"
   ]
  },
  {
   "cell_type": "markdown",
   "metadata": {},
   "source": [
    "**Pessoa13** - conferido"
   ]
  },
  {
   "cell_type": "code",
   "execution_count": 104,
   "metadata": {},
   "outputs": [],
   "source": [
    "dfPessoa13SaoPauloExC = pd.read_csv('dataAgrupados/Pessoa13_SP.csv', sep = ';', encoding = 'unicode_escape')"
   ]
  },
  {
   "cell_type": "code",
   "execution_count": 105,
   "metadata": {},
   "outputs": [],
   "source": [
    "dfPessoa13SaoPauloExC = dfPessoa13SaoPauloExC[['Cod_setor', 'V001']]"
   ]
  },
  {
   "cell_type": "code",
   "execution_count": 106,
   "metadata": {},
   "outputs": [],
   "source": [
    "dfPessoa13SaoPauloExC = dfPessoa13SaoPauloExC.replace('X', 0, regex= True)"
   ]
  },
  {
   "cell_type": "code",
   "execution_count": 107,
   "metadata": {},
   "outputs": [],
   "source": [
    "dfPessoa13SaoPauloExC.rename(columns= {'V001':'nAbsConjuges'}, inplace = True)"
   ]
  },
  {
   "cell_type": "code",
   "execution_count": 108,
   "metadata": {},
   "outputs": [
    {
     "data": {
      "text/html": [
       "<div>\n",
       "<style scoped>\n",
       "    .dataframe tbody tr th:only-of-type {\n",
       "        vertical-align: middle;\n",
       "    }\n",
       "\n",
       "    .dataframe tbody tr th {\n",
       "        vertical-align: top;\n",
       "    }\n",
       "\n",
       "    .dataframe thead th {\n",
       "        text-align: right;\n",
       "    }\n",
       "</style>\n",
       "<table border=\"1\" class=\"dataframe\">\n",
       "  <thead>\n",
       "    <tr style=\"text-align: right;\">\n",
       "      <th></th>\n",
       "      <th>Cod_setor</th>\n",
       "      <th>nAbsConjuges</th>\n",
       "    </tr>\n",
       "  </thead>\n",
       "  <tbody>\n",
       "    <tr>\n",
       "      <th>0</th>\n",
       "      <td>350010505000001</td>\n",
       "      <td>304</td>\n",
       "    </tr>\n",
       "    <tr>\n",
       "      <th>1</th>\n",
       "      <td>350010505000002</td>\n",
       "      <td>785</td>\n",
       "    </tr>\n",
       "    <tr>\n",
       "      <th>2</th>\n",
       "      <td>350010505000003</td>\n",
       "      <td>524</td>\n",
       "    </tr>\n",
       "    <tr>\n",
       "      <th>3</th>\n",
       "      <td>350010505000004</td>\n",
       "      <td>795</td>\n",
       "    </tr>\n",
       "    <tr>\n",
       "      <th>4</th>\n",
       "      <td>350010505000005</td>\n",
       "      <td>813</td>\n",
       "    </tr>\n",
       "  </tbody>\n",
       "</table>\n",
       "</div>"
      ],
      "text/plain": [
       "         Cod_setor  nAbsConjuges\n",
       "0  350010505000001           304\n",
       "1  350010505000002           785\n",
       "2  350010505000003           524\n",
       "3  350010505000004           795\n",
       "4  350010505000005           813"
      ]
     },
     "execution_count": 108,
     "metadata": {},
     "output_type": "execute_result"
    }
   ],
   "source": [
    "dfPessoa13SaoPauloExC.head()"
   ]
  },
  {
   "cell_type": "markdown",
   "metadata": {},
   "source": [
    "**Pessoa11** - conferido"
   ]
  },
  {
   "cell_type": "code",
   "execution_count": 109,
   "metadata": {},
   "outputs": [],
   "source": [
    "dfPessoa11SaoPauloExC = pd.read_csv('dataAgrupados/Pessoa11_SP.csv', sep = ';', encoding = 'unicode_escape')"
   ]
  },
  {
   "cell_type": "code",
   "execution_count": 110,
   "metadata": {},
   "outputs": [],
   "source": [
    "dfPessoa11SaoPauloExC = dfPessoa11SaoPauloExC[['Cod_setor', 'V001']]"
   ]
  },
  {
   "cell_type": "code",
   "execution_count": 111,
   "metadata": {},
   "outputs": [],
   "source": [
    "dfPessoa11SaoPauloExC = dfPessoa11SaoPauloExC.replace('X', 0, regex= True)"
   ]
  },
  {
   "cell_type": "code",
   "execution_count": 112,
   "metadata": {},
   "outputs": [],
   "source": [
    "dfPessoa11SaoPauloExC.rename(columns= {'V001':'nAbsHomensResidentes'}, inplace = True)"
   ]
  },
  {
   "cell_type": "markdown",
   "metadata": {},
   "source": [
    "**Pessoa12** - conferido"
   ]
  },
  {
   "cell_type": "code",
   "execution_count": 113,
   "metadata": {},
   "outputs": [],
   "source": [
    "dfPessoa12SaoPauloExC = pd.read_csv('dataAgrupados/Pessoa12_SP.csv', sep = ';', encoding = 'unicode_escape')"
   ]
  },
  {
   "cell_type": "code",
   "execution_count": 114,
   "metadata": {},
   "outputs": [],
   "source": [
    "dfPessoa12SaoPauloExC = dfPessoa12SaoPauloExC.replace('X', 0, regex= True)"
   ]
  },
  {
   "cell_type": "code",
   "execution_count": 115,
   "metadata": {},
   "outputs": [],
   "source": [
    "dfPessoa12SaoPauloExC = dfPessoa12SaoPauloExC[['Cod_setor', 'V001']]"
   ]
  },
  {
   "cell_type": "code",
   "execution_count": 116,
   "metadata": {},
   "outputs": [
    {
     "data": {
      "text/html": [
       "<div>\n",
       "<style scoped>\n",
       "    .dataframe tbody tr th:only-of-type {\n",
       "        vertical-align: middle;\n",
       "    }\n",
       "\n",
       "    .dataframe tbody tr th {\n",
       "        vertical-align: top;\n",
       "    }\n",
       "\n",
       "    .dataframe thead th {\n",
       "        text-align: right;\n",
       "    }\n",
       "</style>\n",
       "<table border=\"1\" class=\"dataframe\">\n",
       "  <thead>\n",
       "    <tr style=\"text-align: right;\">\n",
       "      <th></th>\n",
       "      <th>Cod_setor</th>\n",
       "      <th>V001</th>\n",
       "    </tr>\n",
       "  </thead>\n",
       "  <tbody>\n",
       "    <tr>\n",
       "      <th>0</th>\n",
       "      <td>350010505000001</td>\n",
       "      <td>155</td>\n",
       "    </tr>\n",
       "    <tr>\n",
       "      <th>1</th>\n",
       "      <td>350010505000002</td>\n",
       "      <td>414</td>\n",
       "    </tr>\n",
       "    <tr>\n",
       "      <th>2</th>\n",
       "      <td>350010505000003</td>\n",
       "      <td>286</td>\n",
       "    </tr>\n",
       "    <tr>\n",
       "      <th>3</th>\n",
       "      <td>350010505000004</td>\n",
       "      <td>420</td>\n",
       "    </tr>\n",
       "    <tr>\n",
       "      <th>4</th>\n",
       "      <td>350010505000005</td>\n",
       "      <td>442</td>\n",
       "    </tr>\n",
       "  </tbody>\n",
       "</table>\n",
       "</div>"
      ],
      "text/plain": [
       "         Cod_setor  V001\n",
       "0  350010505000001   155\n",
       "1  350010505000002   414\n",
       "2  350010505000003   286\n",
       "3  350010505000004   420\n",
       "4  350010505000005   442"
      ]
     },
     "execution_count": 116,
     "metadata": {},
     "output_type": "execute_result"
    }
   ],
   "source": [
    "dfPessoa12SaoPauloExC.head()"
   ]
  },
  {
   "cell_type": "code",
   "execution_count": 117,
   "metadata": {},
   "outputs": [],
   "source": [
    "dfPessoa12SaoPauloExC.rename(columns= {'V001':'nAbsMulheresResidentes'}, inplace = True)"
   ]
  },
  {
   "cell_type": "code",
   "execution_count": 118,
   "metadata": {},
   "outputs": [
    {
     "data": {
      "text/html": [
       "<div>\n",
       "<style scoped>\n",
       "    .dataframe tbody tr th:only-of-type {\n",
       "        vertical-align: middle;\n",
       "    }\n",
       "\n",
       "    .dataframe tbody tr th {\n",
       "        vertical-align: top;\n",
       "    }\n",
       "\n",
       "    .dataframe thead th {\n",
       "        text-align: right;\n",
       "    }\n",
       "</style>\n",
       "<table border=\"1\" class=\"dataframe\">\n",
       "  <thead>\n",
       "    <tr style=\"text-align: right;\">\n",
       "      <th></th>\n",
       "      <th>Cod_setor</th>\n",
       "      <th>nAbsMulheresResidentes</th>\n",
       "    </tr>\n",
       "  </thead>\n",
       "  <tbody>\n",
       "    <tr>\n",
       "      <th>0</th>\n",
       "      <td>350010505000001</td>\n",
       "      <td>155</td>\n",
       "    </tr>\n",
       "    <tr>\n",
       "      <th>1</th>\n",
       "      <td>350010505000002</td>\n",
       "      <td>414</td>\n",
       "    </tr>\n",
       "    <tr>\n",
       "      <th>2</th>\n",
       "      <td>350010505000003</td>\n",
       "      <td>286</td>\n",
       "    </tr>\n",
       "    <tr>\n",
       "      <th>3</th>\n",
       "      <td>350010505000004</td>\n",
       "      <td>420</td>\n",
       "    </tr>\n",
       "    <tr>\n",
       "      <th>4</th>\n",
       "      <td>350010505000005</td>\n",
       "      <td>442</td>\n",
       "    </tr>\n",
       "  </tbody>\n",
       "</table>\n",
       "</div>"
      ],
      "text/plain": [
       "         Cod_setor  nAbsMulheresResidentes\n",
       "0  350010505000001                     155\n",
       "1  350010505000002                     414\n",
       "2  350010505000003                     286\n",
       "3  350010505000004                     420\n",
       "4  350010505000005                     442"
      ]
     },
     "execution_count": 118,
     "metadata": {},
     "output_type": "execute_result"
    }
   ],
   "source": [
    "dfPessoa12SaoPauloExC.head()"
   ]
  },
  {
   "cell_type": "markdown",
   "metadata": {},
   "source": [
    "**DomicilioRenda** - conferido"
   ]
  },
  {
   "cell_type": "code",
   "execution_count": 119,
   "metadata": {},
   "outputs": [],
   "source": [
    "dfDomicilioRendaSaoPauloExC = pd.read_csv('dataAgrupados/DomicilioRenda_SP2.csv', sep = ';', encoding = 'unicode_escape')"
   ]
  },
  {
   "cell_type": "code",
   "execution_count": 120,
   "metadata": {},
   "outputs": [],
   "source": [
    "dfDomicilioRendaSaoPauloExC = dfDomicilioRendaSaoPauloExC[['Cod_setor',\n",
    "                                             'V002', 'V003', 'V004']]"
   ]
  },
  {
   "cell_type": "code",
   "execution_count": 121,
   "metadata": {},
   "outputs": [],
   "source": [
    "dfDomicilioRendaSaoPauloExC = dfDomicilioRendaSaoPauloExC.replace('X', 0, regex= True)"
   ]
  },
  {
   "cell_type": "code",
   "execution_count": 122,
   "metadata": {},
   "outputs": [],
   "source": [
    "dfDomicilioRendaSaoPauloExC = dfDomicilioRendaSaoPauloExC.astype(int)"
   ]
  },
  {
   "cell_type": "code",
   "execution_count": 123,
   "metadata": {},
   "outputs": [],
   "source": [
    "dfDomicilioRendaSaoPauloExC.rename(columns = {'V002':'TotalRendNomMensalDomParticulares',\n",
    "                                       'V003':'TotalRendimentoNomMensalDomParticularesPermanentes',\n",
    "                                       'V004':'TotalRendimentoNomMensalDomParitulcaresImprovisados'}\n",
    "                            , inplace = True)"
   ]
  },
  {
   "cell_type": "code",
   "execution_count": 124,
   "metadata": {},
   "outputs": [
    {
     "data": {
      "text/html": [
       "<div>\n",
       "<style scoped>\n",
       "    .dataframe tbody tr th:only-of-type {\n",
       "        vertical-align: middle;\n",
       "    }\n",
       "\n",
       "    .dataframe tbody tr th {\n",
       "        vertical-align: top;\n",
       "    }\n",
       "\n",
       "    .dataframe thead th {\n",
       "        text-align: right;\n",
       "    }\n",
       "</style>\n",
       "<table border=\"1\" class=\"dataframe\">\n",
       "  <thead>\n",
       "    <tr style=\"text-align: right;\">\n",
       "      <th></th>\n",
       "      <th>Cod_setor</th>\n",
       "      <th>TotalRendNomMensalDomParticulares</th>\n",
       "      <th>TotalRendimentoNomMensalDomParticularesPermanentes</th>\n",
       "      <th>TotalRendimentoNomMensalDomParitulcaresImprovisados</th>\n",
       "    </tr>\n",
       "  </thead>\n",
       "  <tbody>\n",
       "    <tr>\n",
       "      <th>0</th>\n",
       "      <td>350010505000001</td>\n",
       "      <td>439255</td>\n",
       "      <td>439255</td>\n",
       "      <td>0</td>\n",
       "    </tr>\n",
       "    <tr>\n",
       "      <th>1</th>\n",
       "      <td>350010505000002</td>\n",
       "      <td>866389</td>\n",
       "      <td>866389</td>\n",
       "      <td>0</td>\n",
       "    </tr>\n",
       "    <tr>\n",
       "      <th>2</th>\n",
       "      <td>350010505000003</td>\n",
       "      <td>921529</td>\n",
       "      <td>917329</td>\n",
       "      <td>4200</td>\n",
       "    </tr>\n",
       "    <tr>\n",
       "      <th>3</th>\n",
       "      <td>350010505000004</td>\n",
       "      <td>1160677</td>\n",
       "      <td>1160677</td>\n",
       "      <td>0</td>\n",
       "    </tr>\n",
       "    <tr>\n",
       "      <th>4</th>\n",
       "      <td>350010505000005</td>\n",
       "      <td>1074174</td>\n",
       "      <td>1074174</td>\n",
       "      <td>0</td>\n",
       "    </tr>\n",
       "  </tbody>\n",
       "</table>\n",
       "</div>"
      ],
      "text/plain": [
       "         Cod_setor  TotalRendNomMensalDomParticulares  \\\n",
       "0  350010505000001                             439255   \n",
       "1  350010505000002                             866389   \n",
       "2  350010505000003                             921529   \n",
       "3  350010505000004                            1160677   \n",
       "4  350010505000005                            1074174   \n",
       "\n",
       "   TotalRendimentoNomMensalDomParticularesPermanentes  \\\n",
       "0                                             439255    \n",
       "1                                             866389    \n",
       "2                                             917329    \n",
       "3                                            1160677    \n",
       "4                                            1074174    \n",
       "\n",
       "   TotalRendimentoNomMensalDomParitulcaresImprovisados  \n",
       "0                                                  0    \n",
       "1                                                  0    \n",
       "2                                               4200    \n",
       "3                                                  0    \n",
       "4                                                  0    "
      ]
     },
     "execution_count": 124,
     "metadata": {},
     "output_type": "execute_result"
    }
   ],
   "source": [
    "dfDomicilioRendaSaoPauloExC.head()"
   ]
  },
  {
   "cell_type": "markdown",
   "metadata": {},
   "source": [
    "**ResponsavelRenda** - conferido"
   ]
  },
  {
   "cell_type": "code",
   "execution_count": 125,
   "metadata": {},
   "outputs": [],
   "source": [
    "dfResponsavelRendaSaoPauloExC = pd.read_csv('dataAgrupados/ResponsavelRenda_SP2.csv', sep = ';', encoding = 'unicode_escape')"
   ]
  },
  {
   "cell_type": "code",
   "execution_count": 126,
   "metadata": {},
   "outputs": [],
   "source": [
    "dfResponsavelRendaSaoPauloExC = dfResponsavelRendaSaoPauloExC[['Cod_setor', \n",
    "                                                 'V001','V002', 'V003',\n",
    "                                                 'V004','V005', 'V006',\n",
    "                                                 'V007','V008', 'V009']]"
   ]
  },
  {
   "cell_type": "code",
   "execution_count": 127,
   "metadata": {},
   "outputs": [],
   "source": [
    "dfResponsavelRendaSaoPauloExC = dfResponsavelRendaSaoPauloExC.replace('X', 0, regex= True)"
   ]
  },
  {
   "cell_type": "code",
   "execution_count": 128,
   "metadata": {},
   "outputs": [],
   "source": [
    "dfResponsavelRendaSaoPauloExC = dfResponsavelRendaSaoPauloExC.astype(int)"
   ]
  },
  {
   "cell_type": "code",
   "execution_count": 129,
   "metadata": {},
   "outputs": [],
   "source": [
    "dfResponsavelRendaSaoPauloExC['nAbsPessoasClasseE'] = dfResponsavelRendaSaoPauloExC['V001'] +dfResponsavelRendaSaoPauloExC['V002'] + dfResponsavelRendaSaoPauloExC['V003'] "
   ]
  },
  {
   "cell_type": "code",
   "execution_count": 130,
   "metadata": {},
   "outputs": [],
   "source": [
    "dfResponsavelRendaSaoPauloExC['nAbsPessoasClasseD'] = dfResponsavelRendaSaoPauloExC['V004']"
   ]
  },
  {
   "cell_type": "code",
   "execution_count": 131,
   "metadata": {},
   "outputs": [],
   "source": [
    "dfResponsavelRendaSaoPauloExC['nAbsPessoasClasseC'] = dfResponsavelRendaSaoPauloExC['V005'] +dfResponsavelRendaSaoPauloExC['V006']"
   ]
  },
  {
   "cell_type": "code",
   "execution_count": 132,
   "metadata": {},
   "outputs": [],
   "source": [
    "dfResponsavelRendaSaoPauloExC['nAbsPessoasClasseB'] = dfResponsavelRendaSaoPauloExC['V007']"
   ]
  },
  {
   "cell_type": "code",
   "execution_count": 133,
   "metadata": {},
   "outputs": [],
   "source": [
    "dfResponsavelRendaSaoPauloExC['nAbsPessoasClasseA'] = dfResponsavelRendaSaoPauloExC['V008'] +  dfResponsavelRendaSaoPauloExC['V009']"
   ]
  },
  {
   "cell_type": "code",
   "execution_count": 134,
   "metadata": {},
   "outputs": [],
   "source": [
    "dfResponsavelRendaSaoPauloExC.drop(['V001', 'V002', 'V003',\n",
    "                        'V004', 'V005', 'V006', 'V007', 'V008', 'V009'], axis =1, inplace = True)"
   ]
  },
  {
   "cell_type": "code",
   "execution_count": 135,
   "metadata": {},
   "outputs": [
    {
     "data": {
      "text/html": [
       "<div>\n",
       "<style scoped>\n",
       "    .dataframe tbody tr th:only-of-type {\n",
       "        vertical-align: middle;\n",
       "    }\n",
       "\n",
       "    .dataframe tbody tr th {\n",
       "        vertical-align: top;\n",
       "    }\n",
       "\n",
       "    .dataframe thead th {\n",
       "        text-align: right;\n",
       "    }\n",
       "</style>\n",
       "<table border=\"1\" class=\"dataframe\">\n",
       "  <thead>\n",
       "    <tr style=\"text-align: right;\">\n",
       "      <th></th>\n",
       "      <th>Cod_setor</th>\n",
       "      <th>nAbsPessoasClasseE</th>\n",
       "      <th>nAbsPessoasClasseD</th>\n",
       "      <th>nAbsPessoasClasseC</th>\n",
       "      <th>nAbsPessoasClasseB</th>\n",
       "      <th>nAbsPessoasClasseA</th>\n",
       "    </tr>\n",
       "  </thead>\n",
       "  <tbody>\n",
       "    <tr>\n",
       "      <th>0</th>\n",
       "      <td>350010505000001</td>\n",
       "      <td>48</td>\n",
       "      <td>24</td>\n",
       "      <td>63</td>\n",
       "      <td>3</td>\n",
       "      <td>5</td>\n",
       "    </tr>\n",
       "    <tr>\n",
       "      <th>1</th>\n",
       "      <td>350010505000002</td>\n",
       "      <td>130</td>\n",
       "      <td>48</td>\n",
       "      <td>85</td>\n",
       "      <td>10</td>\n",
       "      <td>9</td>\n",
       "    </tr>\n",
       "    <tr>\n",
       "      <th>2</th>\n",
       "      <td>350010505000003</td>\n",
       "      <td>58</td>\n",
       "      <td>27</td>\n",
       "      <td>89</td>\n",
       "      <td>13</td>\n",
       "      <td>23</td>\n",
       "    </tr>\n",
       "    <tr>\n",
       "      <th>3</th>\n",
       "      <td>350010505000004</td>\n",
       "      <td>91</td>\n",
       "      <td>42</td>\n",
       "      <td>114</td>\n",
       "      <td>12</td>\n",
       "      <td>19</td>\n",
       "    </tr>\n",
       "    <tr>\n",
       "      <th>4</th>\n",
       "      <td>350010505000005</td>\n",
       "      <td>121</td>\n",
       "      <td>34</td>\n",
       "      <td>76</td>\n",
       "      <td>2</td>\n",
       "      <td>10</td>\n",
       "    </tr>\n",
       "  </tbody>\n",
       "</table>\n",
       "</div>"
      ],
      "text/plain": [
       "         Cod_setor  nAbsPessoasClasseE  nAbsPessoasClasseD  \\\n",
       "0  350010505000001                  48                  24   \n",
       "1  350010505000002                 130                  48   \n",
       "2  350010505000003                  58                  27   \n",
       "3  350010505000004                  91                  42   \n",
       "4  350010505000005                 121                  34   \n",
       "\n",
       "   nAbsPessoasClasseC  nAbsPessoasClasseB  nAbsPessoasClasseA  \n",
       "0                  63                   3                   5  \n",
       "1                  85                  10                   9  \n",
       "2                  89                  13                  23  \n",
       "3                 114                  12                  19  \n",
       "4                  76                   2                  10  "
      ]
     },
     "execution_count": 135,
     "metadata": {},
     "output_type": "execute_result"
    }
   ],
   "source": [
    "dfResponsavelRendaSaoPauloExC.head()"
   ]
  },
  {
   "cell_type": "markdown",
   "metadata": {},
   "source": [
    "**DATAFRAME TOTAL.**"
   ]
  },
  {
   "cell_type": "code",
   "execution_count": 136,
   "metadata": {},
   "outputs": [],
   "source": [
    "data_frames = [dfBasicoSaoPauloExC, dfDomicilio01SaoPauloExC, dfDomicilio02SaoPauloExC, dfPessoa13SaoPauloExC, dfPessoa11SaoPauloExC, dfPessoa12SaoPauloExC,\n",
    "               dfDomicilioRendaSaoPauloExC, dfResponsavelRendaSaoPauloExC]"
   ]
  },
  {
   "cell_type": "code",
   "execution_count": 137,
   "metadata": {},
   "outputs": [],
   "source": [
    "dfTotalSaoPauloExC = reduce(lambda  left,right: pd.merge(left,right,on=['Cod_setor'],\n",
    "                                            how='inner'), data_frames)"
   ]
  },
  {
   "cell_type": "code",
   "execution_count": 138,
   "metadata": {},
   "outputs": [
    {
     "data": {
      "text/html": [
       "<div>\n",
       "<style scoped>\n",
       "    .dataframe tbody tr th:only-of-type {\n",
       "        vertical-align: middle;\n",
       "    }\n",
       "\n",
       "    .dataframe tbody tr th {\n",
       "        vertical-align: top;\n",
       "    }\n",
       "\n",
       "    .dataframe thead th {\n",
       "        text-align: right;\n",
       "    }\n",
       "</style>\n",
       "<table border=\"1\" class=\"dataframe\">\n",
       "  <thead>\n",
       "    <tr style=\"text-align: right;\">\n",
       "      <th></th>\n",
       "      <th>Cod_setor</th>\n",
       "      <th>MediaMoradorDomicilio</th>\n",
       "      <th>RendaMediaDomicilio</th>\n",
       "      <th>RendaMediaPerCapitaGeral</th>\n",
       "      <th>RendaMediaPerCapitaComRendimento</th>\n",
       "      <th>nAbsDomicilios</th>\n",
       "      <th>nAbsDomiciliosCasa</th>\n",
       "      <th>nAbsDomiciliosApto</th>\n",
       "      <th>nAbsImoveisAlugados</th>\n",
       "      <th>nAbs1PessoasDomicilio</th>\n",
       "      <th>...</th>\n",
       "      <th>nAbsHomensResidentes</th>\n",
       "      <th>nAbsMulheresResidentes</th>\n",
       "      <th>TotalRendNomMensalDomParticulares</th>\n",
       "      <th>TotalRendimentoNomMensalDomParticularesPermanentes</th>\n",
       "      <th>TotalRendimentoNomMensalDomParitulcaresImprovisados</th>\n",
       "      <th>nAbsPessoasClasseE</th>\n",
       "      <th>nAbsPessoasClasseD</th>\n",
       "      <th>nAbsPessoasClasseC</th>\n",
       "      <th>nAbsPessoasClasseB</th>\n",
       "      <th>nAbsPessoasClasseA</th>\n",
       "    </tr>\n",
       "  </thead>\n",
       "  <tbody>\n",
       "    <tr>\n",
       "      <th>0</th>\n",
       "      <td>350010505000001</td>\n",
       "      <td>2.04</td>\n",
       "      <td>2103.64</td>\n",
       "      <td>1530.51</td>\n",
       "      <td>1901.54</td>\n",
       "      <td>149</td>\n",
       "      <td>83</td>\n",
       "      <td>58</td>\n",
       "      <td>70</td>\n",
       "      <td>56</td>\n",
       "      <td>...</td>\n",
       "      <td>149</td>\n",
       "      <td>155</td>\n",
       "      <td>439255</td>\n",
       "      <td>439255</td>\n",
       "      <td>0</td>\n",
       "      <td>48</td>\n",
       "      <td>24</td>\n",
       "      <td>63</td>\n",
       "      <td>3</td>\n",
       "      <td>5</td>\n",
       "    </tr>\n",
       "    <tr>\n",
       "      <th>1</th>\n",
       "      <td>350010505000002</td>\n",
       "      <td>2.67</td>\n",
       "      <td>1899.91</td>\n",
       "      <td>1180.37</td>\n",
       "      <td>1572.39</td>\n",
       "      <td>294</td>\n",
       "      <td>287</td>\n",
       "      <td>7</td>\n",
       "      <td>88</td>\n",
       "      <td>56</td>\n",
       "      <td>...</td>\n",
       "      <td>371</td>\n",
       "      <td>414</td>\n",
       "      <td>866389</td>\n",
       "      <td>866389</td>\n",
       "      <td>0</td>\n",
       "      <td>130</td>\n",
       "      <td>48</td>\n",
       "      <td>85</td>\n",
       "      <td>10</td>\n",
       "      <td>9</td>\n",
       "    </tr>\n",
       "    <tr>\n",
       "      <th>2</th>\n",
       "      <td>350010505000003</td>\n",
       "      <td>2.43</td>\n",
       "      <td>3170.82</td>\n",
       "      <td>1908.64</td>\n",
       "      <td>2536.42</td>\n",
       "      <td>219</td>\n",
       "      <td>188</td>\n",
       "      <td>26</td>\n",
       "      <td>37</td>\n",
       "      <td>47</td>\n",
       "      <td>...</td>\n",
       "      <td>238</td>\n",
       "      <td>286</td>\n",
       "      <td>921529</td>\n",
       "      <td>917329</td>\n",
       "      <td>4200</td>\n",
       "      <td>58</td>\n",
       "      <td>27</td>\n",
       "      <td>89</td>\n",
       "      <td>13</td>\n",
       "      <td>23</td>\n",
       "    </tr>\n",
       "    <tr>\n",
       "      <th>3</th>\n",
       "      <td>350010505000004</td>\n",
       "      <td>2.74</td>\n",
       "      <td>2782.60</td>\n",
       "      <td>1583.46</td>\n",
       "      <td>2141.47</td>\n",
       "      <td>295</td>\n",
       "      <td>284</td>\n",
       "      <td>4</td>\n",
       "      <td>78</td>\n",
       "      <td>46</td>\n",
       "      <td>...</td>\n",
       "      <td>375</td>\n",
       "      <td>420</td>\n",
       "      <td>1160677</td>\n",
       "      <td>1160677</td>\n",
       "      <td>0</td>\n",
       "      <td>91</td>\n",
       "      <td>42</td>\n",
       "      <td>114</td>\n",
       "      <td>12</td>\n",
       "      <td>19</td>\n",
       "    </tr>\n",
       "    <tr>\n",
       "      <th>4</th>\n",
       "      <td>350010505000005</td>\n",
       "      <td>2.79</td>\n",
       "      <td>2050.27</td>\n",
       "      <td>1423.52</td>\n",
       "      <td>1908.13</td>\n",
       "      <td>291</td>\n",
       "      <td>274</td>\n",
       "      <td>16</td>\n",
       "      <td>62</td>\n",
       "      <td>48</td>\n",
       "      <td>...</td>\n",
       "      <td>371</td>\n",
       "      <td>442</td>\n",
       "      <td>1074174</td>\n",
       "      <td>1074174</td>\n",
       "      <td>0</td>\n",
       "      <td>121</td>\n",
       "      <td>34</td>\n",
       "      <td>76</td>\n",
       "      <td>2</td>\n",
       "      <td>10</td>\n",
       "    </tr>\n",
       "  </tbody>\n",
       "</table>\n",
       "<p>5 rows × 30 columns</p>\n",
       "</div>"
      ],
      "text/plain": [
       "         Cod_setor  MediaMoradorDomicilio  RendaMediaDomicilio  \\\n",
       "0  350010505000001                   2.04              2103.64   \n",
       "1  350010505000002                   2.67              1899.91   \n",
       "2  350010505000003                   2.43              3170.82   \n",
       "3  350010505000004                   2.74              2782.60   \n",
       "4  350010505000005                   2.79              2050.27   \n",
       "\n",
       "   RendaMediaPerCapitaGeral  RendaMediaPerCapitaComRendimento  nAbsDomicilios  \\\n",
       "0                   1530.51                           1901.54             149   \n",
       "1                   1180.37                           1572.39             294   \n",
       "2                   1908.64                           2536.42             219   \n",
       "3                   1583.46                           2141.47             295   \n",
       "4                   1423.52                           1908.13             291   \n",
       "\n",
       "  nAbsDomiciliosCasa nAbsDomiciliosApto nAbsImoveisAlugados  \\\n",
       "0                 83                 58                  70   \n",
       "1                287                  7                  88   \n",
       "2                188                 26                  37   \n",
       "3                284                  4                  78   \n",
       "4                274                 16                  62   \n",
       "\n",
       "  nAbs1PessoasDomicilio  ... nAbsHomensResidentes nAbsMulheresResidentes  \\\n",
       "0                    56  ...                  149                    155   \n",
       "1                    56  ...                  371                    414   \n",
       "2                    47  ...                  238                    286   \n",
       "3                    46  ...                  375                    420   \n",
       "4                    48  ...                  371                    442   \n",
       "\n",
       "  TotalRendNomMensalDomParticulares  \\\n",
       "0                            439255   \n",
       "1                            866389   \n",
       "2                            921529   \n",
       "3                           1160677   \n",
       "4                           1074174   \n",
       "\n",
       "  TotalRendimentoNomMensalDomParticularesPermanentes  \\\n",
       "0                                             439255   \n",
       "1                                             866389   \n",
       "2                                             917329   \n",
       "3                                            1160677   \n",
       "4                                            1074174   \n",
       "\n",
       "  TotalRendimentoNomMensalDomParitulcaresImprovisados  nAbsPessoasClasseE  \\\n",
       "0                                                  0                   48   \n",
       "1                                                  0                  130   \n",
       "2                                               4200                   58   \n",
       "3                                                  0                   91   \n",
       "4                                                  0                  121   \n",
       "\n",
       "   nAbsPessoasClasseD  nAbsPessoasClasseC  nAbsPessoasClasseB  \\\n",
       "0                  24                  63                   3   \n",
       "1                  48                  85                  10   \n",
       "2                  27                  89                  13   \n",
       "3                  42                 114                  12   \n",
       "4                  34                  76                   2   \n",
       "\n",
       "   nAbsPessoasClasseA  \n",
       "0                   5  \n",
       "1                   9  \n",
       "2                  23  \n",
       "3                  19  \n",
       "4                  10  \n",
       "\n",
       "[5 rows x 30 columns]"
      ]
     },
     "execution_count": 138,
     "metadata": {},
     "output_type": "execute_result"
    }
   ],
   "source": [
    "dfTotalSaoPauloExC.head()"
   ]
  },
  {
   "cell_type": "code",
   "execution_count": 139,
   "metadata": {},
   "outputs": [
    {
     "name": "stdout",
     "output_type": "stream",
     "text": [
      "<class 'pandas.core.frame.DataFrame'>\n",
      "Int64Index: 47733 entries, 0 to 47732\n",
      "Data columns (total 30 columns):\n",
      " #   Column                                               Non-Null Count  Dtype  \n",
      "---  ------                                               --------------  -----  \n",
      " 0   Cod_setor                                            47733 non-null  int64  \n",
      " 1   MediaMoradorDomicilio                                47479 non-null  float64\n",
      " 2   RendaMediaDomicilio                                  47479 non-null  float64\n",
      " 3   RendaMediaPerCapitaGeral                             47732 non-null  float64\n",
      " 4   RendaMediaPerCapitaComRendimento                     47655 non-null  float64\n",
      " 5   nAbsDomicilios                                       47733 non-null  int64  \n",
      " 6   nAbsDomiciliosCasa                                   47733 non-null  object \n",
      " 7   nAbsDomiciliosApto                                   47733 non-null  object \n",
      " 8   nAbsImoveisAlugados                                  47733 non-null  object \n",
      " 9   nAbs1PessoasDomicilio                                47733 non-null  object \n",
      " 10  nAbs1PessoasDomicilio                                47733 non-null  object \n",
      " 11  nAbs2PessoasDomicilio                                47733 non-null  object \n",
      " 12  nAbs3PessoasDomicilio                                47733 non-null  object \n",
      " 13  nAbs4PessoasDomicilio                                47733 non-null  object \n",
      " 14  nAbs5ouMaisPessoasDomicilio                          47733 non-null  object \n",
      " 15  nAbsHabitantes                                       47733 non-null  int64  \n",
      " 16  nAbsMoradoresCasa                                    47733 non-null  int64  \n",
      " 17  nAbsMoradoresApto                                    47733 non-null  int64  \n",
      " 18  nAbsMoradoresImoveisAlugados                         47733 non-null  int64  \n",
      " 19  nAbsConjuges                                         47733 non-null  int64  \n",
      " 20  nAbsHomensResidentes                                 47733 non-null  int64  \n",
      " 21  nAbsMulheresResidentes                               47733 non-null  int64  \n",
      " 22  TotalRendNomMensalDomParticulares                    47733 non-null  int64  \n",
      " 23  TotalRendimentoNomMensalDomParticularesPermanentes   47733 non-null  int64  \n",
      " 24  TotalRendimentoNomMensalDomParitulcaresImprovisados  47733 non-null  int64  \n",
      " 25  nAbsPessoasClasseE                                   47733 non-null  int64  \n",
      " 26  nAbsPessoasClasseD                                   47733 non-null  int64  \n",
      " 27  nAbsPessoasClasseC                                   47733 non-null  int64  \n",
      " 28  nAbsPessoasClasseB                                   47733 non-null  int64  \n",
      " 29  nAbsPessoasClasseA                                   47733 non-null  int64  \n",
      "dtypes: float64(4), int64(17), object(9)\n",
      "memory usage: 11.3+ MB\n"
     ]
    }
   ],
   "source": [
    "dfTotalSaoPauloExC.info()"
   ]
  },
  {
   "cell_type": "code",
   "execution_count": 140,
   "metadata": {},
   "outputs": [],
   "source": [
    "dfTotalSaoPauloExC.to_csv('SPExcetoCapital.csv', sep= ';', encoding = 'utf-8')"
   ]
  },
  {
   "cell_type": "markdown",
   "metadata": {},
   "source": [
    "Conferir num. abs. de 5 ou mais pessoas por domicilio"
   ]
  }
 ],
 "metadata": {
  "interpreter": {
   "hash": "916dbcbb3f70747c44a77c7bcd40155683ae19c65e1c03b4aa3499c5328201f1"
  },
  "kernelspec": {
   "display_name": "Python 3.8.10 64-bit",
   "language": "python",
   "name": "python3"
  },
  "language_info": {
   "codemirror_mode": {
    "name": "ipython",
    "version": 3
   },
   "file_extension": ".py",
   "mimetype": "text/x-python",
   "name": "python",
   "nbconvert_exporter": "python",
   "pygments_lexer": "ipython3",
   "version": "3.8.10"
  },
  "orig_nbformat": 4
 },
 "nbformat": 4,
 "nbformat_minor": 2
}

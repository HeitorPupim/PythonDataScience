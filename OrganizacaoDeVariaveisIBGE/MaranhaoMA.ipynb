{
 "cells": [
  {
   "cell_type": "code",
   "execution_count": 2,
   "metadata": {},
   "outputs": [],
   "source": [
    "import pandas as pd\n",
    "import numpy as np\n",
    "from functools import reduce"
   ]
  },
  {
   "cell_type": "markdown",
   "metadata": {},
   "source": [
    "**Basico** - conferido"
   ]
  },
  {
   "cell_type": "code",
   "execution_count": 3,
   "metadata": {},
   "outputs": [],
   "source": [
    "dfBasicoMaranhao = pd.read_csv('dataAgrupados/Basico_MA.csv', sep = ';', encoding = 'unicode_escape')"
   ]
  },
  {
   "cell_type": "code",
   "execution_count": 4,
   "metadata": {},
   "outputs": [],
   "source": [
    "dfBasicoMaranhao = dfBasicoMaranhao[['Cod_setor','V003', 'V005', 'V009', 'V011']]"
   ]
  },
  {
   "cell_type": "code",
   "execution_count": 5,
   "metadata": {},
   "outputs": [],
   "source": [
    "dfBasicoMaranhao = dfBasicoMaranhao.replace('X', 0, regex= True)"
   ]
  },
  {
   "cell_type": "code",
   "execution_count": 6,
   "metadata": {},
   "outputs": [
    {
     "data": {
      "text/html": [
       "<div>\n",
       "<style scoped>\n",
       "    .dataframe tbody tr th:only-of-type {\n",
       "        vertical-align: middle;\n",
       "    }\n",
       "\n",
       "    .dataframe tbody tr th {\n",
       "        vertical-align: top;\n",
       "    }\n",
       "\n",
       "    .dataframe thead th {\n",
       "        text-align: right;\n",
       "    }\n",
       "</style>\n",
       "<table border=\"1\" class=\"dataframe\">\n",
       "  <thead>\n",
       "    <tr style=\"text-align: right;\">\n",
       "      <th></th>\n",
       "      <th>Cod_setor</th>\n",
       "      <th>V003</th>\n",
       "      <th>V005</th>\n",
       "      <th>V009</th>\n",
       "      <th>V011</th>\n",
       "    </tr>\n",
       "  </thead>\n",
       "  <tbody>\n",
       "    <tr>\n",
       "      <th>0</th>\n",
       "      <td>210005505000001</td>\n",
       "      <td>3,55</td>\n",
       "      <td>1128,24</td>\n",
       "      <td>575,2</td>\n",
       "      <td>970,44</td>\n",
       "    </tr>\n",
       "    <tr>\n",
       "      <th>1</th>\n",
       "      <td>210005505000002</td>\n",
       "      <td>3,74</td>\n",
       "      <td>1105,1</td>\n",
       "      <td>546,55</td>\n",
       "      <td>941,39</td>\n",
       "    </tr>\n",
       "    <tr>\n",
       "      <th>2</th>\n",
       "      <td>210005505000003</td>\n",
       "      <td>3,77</td>\n",
       "      <td>798</td>\n",
       "      <td>430,46</td>\n",
       "      <td>706,31</td>\n",
       "    </tr>\n",
       "    <tr>\n",
       "      <th>3</th>\n",
       "      <td>210005505000004</td>\n",
       "      <td>3,66</td>\n",
       "      <td>913,93</td>\n",
       "      <td>482,66</td>\n",
       "      <td>827,96</td>\n",
       "    </tr>\n",
       "    <tr>\n",
       "      <th>4</th>\n",
       "      <td>210005505000005</td>\n",
       "      <td>3,85</td>\n",
       "      <td>964,8</td>\n",
       "      <td>497,5</td>\n",
       "      <td>832,44</td>\n",
       "    </tr>\n",
       "  </tbody>\n",
       "</table>\n",
       "</div>"
      ],
      "text/plain": [
       "         Cod_setor  V003     V005    V009    V011\n",
       "0  210005505000001  3,55  1128,24   575,2  970,44\n",
       "1  210005505000002  3,74   1105,1  546,55  941,39\n",
       "2  210005505000003  3,77      798  430,46  706,31\n",
       "3  210005505000004  3,66   913,93  482,66  827,96\n",
       "4  210005505000005  3,85    964,8   497,5  832,44"
      ]
     },
     "execution_count": 6,
     "metadata": {},
     "output_type": "execute_result"
    }
   ],
   "source": [
    "dfBasicoMaranhao.head()"
   ]
  },
  {
   "cell_type": "code",
   "execution_count": 7,
   "metadata": {},
   "outputs": [],
   "source": [
    "dfBasicoMaranhao = dfBasicoMaranhao.replace(',', '.', regex= True)"
   ]
  },
  {
   "cell_type": "code",
   "execution_count": 8,
   "metadata": {},
   "outputs": [],
   "source": [
    "dfBasicoMaranhao = dfBasicoMaranhao.astype('float')"
   ]
  },
  {
   "cell_type": "code",
   "execution_count": 9,
   "metadata": {},
   "outputs": [],
   "source": [
    "dfBasicoMaranhao.rename(columns = {'V003':'MediaMoradorDomicilio',\n",
    "                     'V005':'RendaMediaDomicilio',\n",
    "                     'V009':'RendaMediaPerCapitaGeral',\n",
    "                     'V011':'RendaMediaPerCapitaComRendimento'}, inplace = True)"
   ]
  },
  {
   "cell_type": "markdown",
   "metadata": {},
   "source": [
    "**Domicilio01** - conferido"
   ]
  },
  {
   "cell_type": "code",
   "execution_count": 10,
   "metadata": {},
   "outputs": [],
   "source": [
    "dfDomicilio01Maranhao = pd.read_csv('dataAgrupados/Domicilio01_MA.csv', sep = ';', encoding = 'unicode_escape')"
   ]
  },
  {
   "cell_type": "code",
   "execution_count": 11,
   "metadata": {},
   "outputs": [],
   "source": [
    "dfDomicilio01Maranhao = dfDomicilio01Maranhao.replace('X', 0, regex= True)"
   ]
  },
  {
   "cell_type": "code",
   "execution_count": 12,
   "metadata": {},
   "outputs": [],
   "source": [
    "#dfDomicilio01Maranhao = dfDomicilio01Maranhao.astype(int)"
   ]
  },
  {
   "cell_type": "code",
   "execution_count": 13,
   "metadata": {},
   "outputs": [],
   "source": [
    "dfDomicilio01Maranhao = dfDomicilio01Maranhao[['Cod_setor',\n",
    "                                       'V001', 'V003', 'V005', 'V008','V050',\n",
    "                                       'V050' ,'V051' ,'V052' ,'V053' ,'V054' ,'V055' ,\n",
    "                                       'V056' ,'V057' ,'V058' ,'V059' ,]]"
   ]
  },
  {
   "cell_type": "code",
   "execution_count": 14,
   "metadata": {},
   "outputs": [],
   "source": [
    "dfDomicilio01Maranhao.rename(columns = {\n",
    "'V001':'nAbsDomicilios' , \n",
    "'V003': 'nAbsDomiciliosCasa', \n",
    "'V005': 'nAbsDomiciliosApto', \n",
    "'V008': 'nAbsImoveisAlugados', \n",
    "'V050':'nAbs1PessoasDomicilio',\n",
    "'V051':'nAbs2PessoasDomicilio',\n",
    "'V052':'nAbs3PessoasDomicilio',\n",
    "'V053':'nAbs4PessoasDomicilio',\n",
    "'V054':'nAbs5PessoasDomicilio',\n",
    "'V055':'nAbs6PessoasDomicilio',\n",
    "'V056':'nAbs7PessoasDomicilio',\n",
    "'V057':'nAbs8PessoasDomicilio',\n",
    "'V058':'nAbs9PessoasDomicilio',\n",
    "'V059':'nAbs10PessoasDomicilio'}, inplace = True)"
   ]
  },
  {
   "cell_type": "code",
   "execution_count": 15,
   "metadata": {},
   "outputs": [
    {
     "data": {
      "text/plain": [
       "0        43\n",
       "1        05\n",
       "2        42\n",
       "3        23\n",
       "4        11\n",
       "       ... \n",
       "8797     21\n",
       "8798     10\n",
       "8799     02\n",
       "8800    614\n",
       "8801     10\n",
       "Length: 8802, dtype: object"
      ]
     },
     "execution_count": 15,
     "metadata": {},
     "output_type": "execute_result"
    }
   ],
   "source": [
    "dfDomicilio01Maranhao['nAbs5ouMaisPessoasDomicilio'] = dfDomicilio01Maranhao['nAbs5PessoasDomicilio'] +dfDomicilio01Maranhao['nAbs6PessoasDomicilio'] + dfDomicilio01Maranhao['nAbs7PessoasDomicilio'] + dfDomicilio01Maranhao['nAbs8PessoasDomicilio']\n",
    "+ dfDomicilio01Maranhao['nAbs9PessoasDomicilio'] + dfDomicilio01Maranhao['nAbs10PessoasDomicilio'] "
   ]
  },
  {
   "cell_type": "code",
   "execution_count": 16,
   "metadata": {},
   "outputs": [],
   "source": [
    "dfDomicilio01Maranhao.drop(['nAbs5PessoasDomicilio', 'nAbs6PessoasDomicilio', 'nAbs7PessoasDomicilio',\n",
    "                        'nAbs8PessoasDomicilio', 'nAbs9PessoasDomicilio', 'nAbs10PessoasDomicilio'], axis =1, inplace = True)"
   ]
  },
  {
   "cell_type": "markdown",
   "metadata": {},
   "source": [
    "**Domicilio02** - conferido"
   ]
  },
  {
   "cell_type": "code",
   "execution_count": 17,
   "metadata": {},
   "outputs": [],
   "source": [
    "dfDomicilio02Maranhao = pd.read_csv('dataAgrupados/Domicilio02_MA.csv', sep = ';', encoding = 'unicode_escape')"
   ]
  },
  {
   "cell_type": "code",
   "execution_count": 18,
   "metadata": {},
   "outputs": [],
   "source": [
    "dfDomicilio02Maranhao = dfDomicilio02Maranhao.replace('X', 0, regex= True)"
   ]
  },
  {
   "cell_type": "code",
   "execution_count": 19,
   "metadata": {},
   "outputs": [],
   "source": [
    "dfDomicilio02Maranhao = dfDomicilio02Maranhao.astype(int)\n"
   ]
  },
  {
   "cell_type": "code",
   "execution_count": 20,
   "metadata": {},
   "outputs": [
    {
     "name": "stdout",
     "output_type": "stream",
     "text": [
      "<class 'pandas.core.frame.DataFrame'>\n",
      "RangeIndex: 8802 entries, 0 to 8801\n",
      "Columns: 134 entries, Cod_setor to V132\n",
      "dtypes: int64(134)\n",
      "memory usage: 9.0 MB\n"
     ]
    }
   ],
   "source": [
    "dfDomicilio02Maranhao.info()"
   ]
  },
  {
   "cell_type": "code",
   "execution_count": 21,
   "metadata": {},
   "outputs": [],
   "source": [
    "dfDomicilio02Maranhao = dfDomicilio02Maranhao[['Cod_setor',\n",
    "                                       'V001', 'V003', 'V005', 'V008']]"
   ]
  },
  {
   "cell_type": "code",
   "execution_count": 22,
   "metadata": {},
   "outputs": [],
   "source": [
    "dfDomicilio02Maranhao.rename(columns = {\n",
    "'V001':'nAbsHabitantes' , \n",
    "'V003': 'nAbsMoradoresCasa', \n",
    "'V005': 'nAbsMoradoresApto', \n",
    "'V008': 'nAbsMoradoresImoveisAlugados', \n",
    "}, inplace = True)"
   ]
  },
  {
   "cell_type": "code",
   "execution_count": 23,
   "metadata": {},
   "outputs": [
    {
     "data": {
      "text/html": [
       "<div>\n",
       "<style scoped>\n",
       "    .dataframe tbody tr th:only-of-type {\n",
       "        vertical-align: middle;\n",
       "    }\n",
       "\n",
       "    .dataframe tbody tr th {\n",
       "        vertical-align: top;\n",
       "    }\n",
       "\n",
       "    .dataframe thead th {\n",
       "        text-align: right;\n",
       "    }\n",
       "</style>\n",
       "<table border=\"1\" class=\"dataframe\">\n",
       "  <thead>\n",
       "    <tr style=\"text-align: right;\">\n",
       "      <th></th>\n",
       "      <th>Cod_setor</th>\n",
       "      <th>nAbsHabitantes</th>\n",
       "      <th>nAbsMoradoresCasa</th>\n",
       "      <th>nAbsMoradoresApto</th>\n",
       "      <th>nAbsMoradoresImoveisAlugados</th>\n",
       "    </tr>\n",
       "  </thead>\n",
       "  <tbody>\n",
       "    <tr>\n",
       "      <th>0</th>\n",
       "      <td>210005505000001</td>\n",
       "      <td>1087</td>\n",
       "      <td>979</td>\n",
       "      <td>0</td>\n",
       "      <td>288</td>\n",
       "    </tr>\n",
       "    <tr>\n",
       "      <th>1</th>\n",
       "      <td>210005505000002</td>\n",
       "      <td>1836</td>\n",
       "      <td>1815</td>\n",
       "      <td>0</td>\n",
       "      <td>334</td>\n",
       "    </tr>\n",
       "    <tr>\n",
       "      <th>2</th>\n",
       "      <td>210005505000003</td>\n",
       "      <td>1078</td>\n",
       "      <td>1033</td>\n",
       "      <td>0</td>\n",
       "      <td>207</td>\n",
       "    </tr>\n",
       "    <tr>\n",
       "      <th>3</th>\n",
       "      <td>210005505000004</td>\n",
       "      <td>1309</td>\n",
       "      <td>1259</td>\n",
       "      <td>2</td>\n",
       "      <td>262</td>\n",
       "    </tr>\n",
       "    <tr>\n",
       "      <th>4</th>\n",
       "      <td>210005505000005</td>\n",
       "      <td>1454</td>\n",
       "      <td>1386</td>\n",
       "      <td>5</td>\n",
       "      <td>342</td>\n",
       "    </tr>\n",
       "  </tbody>\n",
       "</table>\n",
       "</div>"
      ],
      "text/plain": [
       "         Cod_setor  nAbsHabitantes  nAbsMoradoresCasa  nAbsMoradoresApto  \\\n",
       "0  210005505000001            1087                979                  0   \n",
       "1  210005505000002            1836               1815                  0   \n",
       "2  210005505000003            1078               1033                  0   \n",
       "3  210005505000004            1309               1259                  2   \n",
       "4  210005505000005            1454               1386                  5   \n",
       "\n",
       "   nAbsMoradoresImoveisAlugados  \n",
       "0                           288  \n",
       "1                           334  \n",
       "2                           207  \n",
       "3                           262  \n",
       "4                           342  "
      ]
     },
     "execution_count": 23,
     "metadata": {},
     "output_type": "execute_result"
    }
   ],
   "source": [
    "dfDomicilio02Maranhao.head()"
   ]
  },
  {
   "cell_type": "markdown",
   "metadata": {},
   "source": [
    "**Pessoa13** - conferido"
   ]
  },
  {
   "cell_type": "code",
   "execution_count": 24,
   "metadata": {},
   "outputs": [],
   "source": [
    "dfPessoa13Maranhao = pd.read_csv('dataAgrupados/Pessoa13_MA.csv', sep = ';', encoding = 'unicode_escape')"
   ]
  },
  {
   "cell_type": "code",
   "execution_count": 25,
   "metadata": {},
   "outputs": [],
   "source": [
    "dfPessoa13Maranhao = dfPessoa13Maranhao[['Cod_setor', 'V001']]"
   ]
  },
  {
   "cell_type": "code",
   "execution_count": 26,
   "metadata": {},
   "outputs": [],
   "source": [
    "dfPessoa13Maranhao = dfPessoa13Maranhao.replace('X', 0, regex= True)"
   ]
  },
  {
   "cell_type": "code",
   "execution_count": 27,
   "metadata": {},
   "outputs": [],
   "source": [
    "dfPessoa13Maranhao.rename(columns= {'V001':'nAbsConjuges'}, inplace = True)"
   ]
  },
  {
   "cell_type": "code",
   "execution_count": 28,
   "metadata": {},
   "outputs": [
    {
     "data": {
      "text/html": [
       "<div>\n",
       "<style scoped>\n",
       "    .dataframe tbody tr th:only-of-type {\n",
       "        vertical-align: middle;\n",
       "    }\n",
       "\n",
       "    .dataframe tbody tr th {\n",
       "        vertical-align: top;\n",
       "    }\n",
       "\n",
       "    .dataframe thead th {\n",
       "        text-align: right;\n",
       "    }\n",
       "</style>\n",
       "<table border=\"1\" class=\"dataframe\">\n",
       "  <thead>\n",
       "    <tr style=\"text-align: right;\">\n",
       "      <th></th>\n",
       "      <th>Cod_setor</th>\n",
       "      <th>nAbsConjuges</th>\n",
       "    </tr>\n",
       "  </thead>\n",
       "  <tbody>\n",
       "    <tr>\n",
       "      <th>0</th>\n",
       "      <td>210005505000001</td>\n",
       "      <td>1087</td>\n",
       "    </tr>\n",
       "    <tr>\n",
       "      <th>1</th>\n",
       "      <td>210005505000002</td>\n",
       "      <td>1836</td>\n",
       "    </tr>\n",
       "    <tr>\n",
       "      <th>2</th>\n",
       "      <td>210005505000003</td>\n",
       "      <td>1078</td>\n",
       "    </tr>\n",
       "    <tr>\n",
       "      <th>3</th>\n",
       "      <td>210005505000004</td>\n",
       "      <td>1309</td>\n",
       "    </tr>\n",
       "    <tr>\n",
       "      <th>4</th>\n",
       "      <td>210005505000005</td>\n",
       "      <td>1454</td>\n",
       "    </tr>\n",
       "  </tbody>\n",
       "</table>\n",
       "</div>"
      ],
      "text/plain": [
       "         Cod_setor  nAbsConjuges\n",
       "0  210005505000001          1087\n",
       "1  210005505000002          1836\n",
       "2  210005505000003          1078\n",
       "3  210005505000004          1309\n",
       "4  210005505000005          1454"
      ]
     },
     "execution_count": 28,
     "metadata": {},
     "output_type": "execute_result"
    }
   ],
   "source": [
    "dfPessoa13Maranhao.head()"
   ]
  },
  {
   "cell_type": "markdown",
   "metadata": {},
   "source": [
    "**Pessoa11** - conferido"
   ]
  },
  {
   "cell_type": "code",
   "execution_count": 29,
   "metadata": {},
   "outputs": [],
   "source": [
    "dfPessoa11Maranhao = pd.read_csv('dataAgrupados/Pessoa11_MA.csv', sep = ';', encoding = 'unicode_escape')"
   ]
  },
  {
   "cell_type": "code",
   "execution_count": 30,
   "metadata": {},
   "outputs": [],
   "source": [
    "dfPessoa11Maranhao = dfPessoa11Maranhao[['Cod_setor', 'V001']]"
   ]
  },
  {
   "cell_type": "code",
   "execution_count": 31,
   "metadata": {},
   "outputs": [],
   "source": [
    "dfPessoa11Maranhao = dfPessoa11Maranhao.replace('X', 0, regex= True)"
   ]
  },
  {
   "cell_type": "code",
   "execution_count": 32,
   "metadata": {},
   "outputs": [],
   "source": [
    "dfPessoa11Maranhao.rename(columns= {'V001':'nAbsHomensResidentes'}, inplace = True)"
   ]
  },
  {
   "cell_type": "markdown",
   "metadata": {},
   "source": [
    "**Pessoa12** - conferido"
   ]
  },
  {
   "cell_type": "code",
   "execution_count": 33,
   "metadata": {},
   "outputs": [],
   "source": [
    "dfPessoa12Maranhao = pd.read_csv('dataAgrupados/Pessoa12_MA.csv', sep = ';', encoding = 'unicode_escape')"
   ]
  },
  {
   "cell_type": "code",
   "execution_count": 34,
   "metadata": {},
   "outputs": [],
   "source": [
    "dfPessoa12Maranhao = dfPessoa12Maranhao.replace('X', 0, regex= True)"
   ]
  },
  {
   "cell_type": "code",
   "execution_count": 35,
   "metadata": {},
   "outputs": [],
   "source": [
    "dfPessoa12Maranhao = dfPessoa12Maranhao[['Cod_setor', 'V001']]"
   ]
  },
  {
   "cell_type": "code",
   "execution_count": 36,
   "metadata": {},
   "outputs": [
    {
     "data": {
      "text/html": [
       "<div>\n",
       "<style scoped>\n",
       "    .dataframe tbody tr th:only-of-type {\n",
       "        vertical-align: middle;\n",
       "    }\n",
       "\n",
       "    .dataframe tbody tr th {\n",
       "        vertical-align: top;\n",
       "    }\n",
       "\n",
       "    .dataframe thead th {\n",
       "        text-align: right;\n",
       "    }\n",
       "</style>\n",
       "<table border=\"1\" class=\"dataframe\">\n",
       "  <thead>\n",
       "    <tr style=\"text-align: right;\">\n",
       "      <th></th>\n",
       "      <th>Cod_setor</th>\n",
       "      <th>V001</th>\n",
       "    </tr>\n",
       "  </thead>\n",
       "  <tbody>\n",
       "    <tr>\n",
       "      <th>0</th>\n",
       "      <td>210005505000001</td>\n",
       "      <td>555</td>\n",
       "    </tr>\n",
       "    <tr>\n",
       "      <th>1</th>\n",
       "      <td>210005505000002</td>\n",
       "      <td>954</td>\n",
       "    </tr>\n",
       "    <tr>\n",
       "      <th>2</th>\n",
       "      <td>210005505000003</td>\n",
       "      <td>550</td>\n",
       "    </tr>\n",
       "    <tr>\n",
       "      <th>3</th>\n",
       "      <td>210005505000004</td>\n",
       "      <td>685</td>\n",
       "    </tr>\n",
       "    <tr>\n",
       "      <th>4</th>\n",
       "      <td>210005505000005</td>\n",
       "      <td>725</td>\n",
       "    </tr>\n",
       "  </tbody>\n",
       "</table>\n",
       "</div>"
      ],
      "text/plain": [
       "         Cod_setor  V001\n",
       "0  210005505000001   555\n",
       "1  210005505000002   954\n",
       "2  210005505000003   550\n",
       "3  210005505000004   685\n",
       "4  210005505000005   725"
      ]
     },
     "execution_count": 36,
     "metadata": {},
     "output_type": "execute_result"
    }
   ],
   "source": [
    "dfPessoa12Maranhao.head()"
   ]
  },
  {
   "cell_type": "code",
   "execution_count": 37,
   "metadata": {},
   "outputs": [],
   "source": [
    "dfPessoa12Maranhao.rename(columns= {'V001':'nAbsMulheresResidentes'}, inplace = True)"
   ]
  },
  {
   "cell_type": "code",
   "execution_count": 38,
   "metadata": {},
   "outputs": [
    {
     "data": {
      "text/html": [
       "<div>\n",
       "<style scoped>\n",
       "    .dataframe tbody tr th:only-of-type {\n",
       "        vertical-align: middle;\n",
       "    }\n",
       "\n",
       "    .dataframe tbody tr th {\n",
       "        vertical-align: top;\n",
       "    }\n",
       "\n",
       "    .dataframe thead th {\n",
       "        text-align: right;\n",
       "    }\n",
       "</style>\n",
       "<table border=\"1\" class=\"dataframe\">\n",
       "  <thead>\n",
       "    <tr style=\"text-align: right;\">\n",
       "      <th></th>\n",
       "      <th>Cod_setor</th>\n",
       "      <th>nAbsMulheresResidentes</th>\n",
       "    </tr>\n",
       "  </thead>\n",
       "  <tbody>\n",
       "    <tr>\n",
       "      <th>0</th>\n",
       "      <td>210005505000001</td>\n",
       "      <td>555</td>\n",
       "    </tr>\n",
       "    <tr>\n",
       "      <th>1</th>\n",
       "      <td>210005505000002</td>\n",
       "      <td>954</td>\n",
       "    </tr>\n",
       "    <tr>\n",
       "      <th>2</th>\n",
       "      <td>210005505000003</td>\n",
       "      <td>550</td>\n",
       "    </tr>\n",
       "    <tr>\n",
       "      <th>3</th>\n",
       "      <td>210005505000004</td>\n",
       "      <td>685</td>\n",
       "    </tr>\n",
       "    <tr>\n",
       "      <th>4</th>\n",
       "      <td>210005505000005</td>\n",
       "      <td>725</td>\n",
       "    </tr>\n",
       "  </tbody>\n",
       "</table>\n",
       "</div>"
      ],
      "text/plain": [
       "         Cod_setor  nAbsMulheresResidentes\n",
       "0  210005505000001                     555\n",
       "1  210005505000002                     954\n",
       "2  210005505000003                     550\n",
       "3  210005505000004                     685\n",
       "4  210005505000005                     725"
      ]
     },
     "execution_count": 38,
     "metadata": {},
     "output_type": "execute_result"
    }
   ],
   "source": [
    "dfPessoa12Maranhao.head()"
   ]
  },
  {
   "cell_type": "markdown",
   "metadata": {},
   "source": [
    "**DomicilioRenda** - conferido"
   ]
  },
  {
   "cell_type": "code",
   "execution_count": 39,
   "metadata": {},
   "outputs": [],
   "source": [
    "dfDomicilioRendaMaranhao = pd.read_csv('dataAgrupados/DomicilioRenda_MA.csv', sep = ';', encoding = 'unicode_escape')"
   ]
  },
  {
   "cell_type": "code",
   "execution_count": 40,
   "metadata": {},
   "outputs": [],
   "source": [
    "dfDomicilioRendaMaranhao = dfDomicilioRendaMaranhao[['Cod_setor',\n",
    "                                             'V002', 'V003', 'V004']]"
   ]
  },
  {
   "cell_type": "code",
   "execution_count": 41,
   "metadata": {},
   "outputs": [],
   "source": [
    "dfDomicilioRendaMaranhao = dfDomicilioRendaMaranhao.replace('X', 0, regex= True)"
   ]
  },
  {
   "cell_type": "code",
   "execution_count": 42,
   "metadata": {},
   "outputs": [],
   "source": [
    "#dfDomicilioRendaMaranhao = dfDomicilioRendaMaranhao.astype(int)"
   ]
  },
  {
   "cell_type": "code",
   "execution_count": 43,
   "metadata": {},
   "outputs": [],
   "source": [
    "dfDomicilioRendaMaranhao.rename(columns = {'V002':'TotalRendNomMensalDomParticulares',\n",
    "                                       'V003':'TotalRendimentoNomMensalDomParticularesPermanentes',\n",
    "                                       'V004':'TotalRendimentoNomMensalDomParitulcaresImprovisados'}\n",
    "                            , inplace = True)"
   ]
  },
  {
   "cell_type": "code",
   "execution_count": 44,
   "metadata": {},
   "outputs": [
    {
     "data": {
      "text/html": [
       "<div>\n",
       "<style scoped>\n",
       "    .dataframe tbody tr th:only-of-type {\n",
       "        vertical-align: middle;\n",
       "    }\n",
       "\n",
       "    .dataframe tbody tr th {\n",
       "        vertical-align: top;\n",
       "    }\n",
       "\n",
       "    .dataframe thead th {\n",
       "        text-align: right;\n",
       "    }\n",
       "</style>\n",
       "<table border=\"1\" class=\"dataframe\">\n",
       "  <thead>\n",
       "    <tr style=\"text-align: right;\">\n",
       "      <th></th>\n",
       "      <th>Cod_setor</th>\n",
       "      <th>TotalRendNomMensalDomParticulares</th>\n",
       "      <th>TotalRendimentoNomMensalDomParticularesPermanentes</th>\n",
       "      <th>TotalRendimentoNomMensalDomParitulcaresImprovisados</th>\n",
       "    </tr>\n",
       "  </thead>\n",
       "  <tbody>\n",
       "    <tr>\n",
       "      <th>0</th>\n",
       "      <td>210005505000001</td>\n",
       "      <td>505401</td>\n",
       "      <td>505101</td>\n",
       "      <td>300</td>\n",
       "    </tr>\n",
       "    <tr>\n",
       "      <th>1</th>\n",
       "      <td>210005505000002</td>\n",
       "      <td>808974</td>\n",
       "      <td>806914</td>\n",
       "      <td>2060</td>\n",
       "    </tr>\n",
       "    <tr>\n",
       "      <th>2</th>\n",
       "      <td>210005505000003</td>\n",
       "      <td>373636</td>\n",
       "      <td>372436</td>\n",
       "      <td>1200</td>\n",
       "    </tr>\n",
       "    <tr>\n",
       "      <th>3</th>\n",
       "      <td>210005505000004</td>\n",
       "      <td>519255</td>\n",
       "      <td>519255</td>\n",
       "      <td>0</td>\n",
       "    </tr>\n",
       "    <tr>\n",
       "      <th>4</th>\n",
       "      <td>210005505000005</td>\n",
       "      <td>590635</td>\n",
       "      <td>590635</td>\n",
       "      <td>0</td>\n",
       "    </tr>\n",
       "  </tbody>\n",
       "</table>\n",
       "</div>"
      ],
      "text/plain": [
       "         Cod_setor TotalRendNomMensalDomParticulares  \\\n",
       "0  210005505000001                            505401   \n",
       "1  210005505000002                            808974   \n",
       "2  210005505000003                            373636   \n",
       "3  210005505000004                            519255   \n",
       "4  210005505000005                            590635   \n",
       "\n",
       "  TotalRendimentoNomMensalDomParticularesPermanentes  \\\n",
       "0                                             505101   \n",
       "1                                             806914   \n",
       "2                                             372436   \n",
       "3                                             519255   \n",
       "4                                             590635   \n",
       "\n",
       "  TotalRendimentoNomMensalDomParitulcaresImprovisados  \n",
       "0                                                300   \n",
       "1                                               2060   \n",
       "2                                               1200   \n",
       "3                                                  0   \n",
       "4                                                  0   "
      ]
     },
     "execution_count": 44,
     "metadata": {},
     "output_type": "execute_result"
    }
   ],
   "source": [
    "dfDomicilioRendaMaranhao.head()"
   ]
  },
  {
   "cell_type": "markdown",
   "metadata": {},
   "source": [
    "**ResponsavelRenda** - conferido"
   ]
  },
  {
   "cell_type": "code",
   "execution_count": 45,
   "metadata": {},
   "outputs": [],
   "source": [
    "dfResponsavelRendaMaranhao = pd.read_csv('dataAgrupados/ResponsavelRenda_MA.csv', sep = ';', encoding = 'unicode_escape')"
   ]
  },
  {
   "cell_type": "code",
   "execution_count": 46,
   "metadata": {},
   "outputs": [],
   "source": [
    "dfResponsavelRendaMaranhao = dfResponsavelRendaMaranhao[['Cod_setor', \n",
    "                                                 'V001','V002', 'V003',\n",
    "                                                 'V004','V005', 'V006',\n",
    "                                                 'V007','V008', 'V009']]"
   ]
  },
  {
   "cell_type": "code",
   "execution_count": 47,
   "metadata": {},
   "outputs": [],
   "source": [
    "dfResponsavelRendaMaranhao = dfResponsavelRendaMaranhao.replace('X', 0, regex= True)"
   ]
  },
  {
   "cell_type": "code",
   "execution_count": 48,
   "metadata": {},
   "outputs": [],
   "source": [
    "dfResponsavelRendaMaranhao = dfResponsavelRendaMaranhao.astype(int)"
   ]
  },
  {
   "cell_type": "code",
   "execution_count": 49,
   "metadata": {},
   "outputs": [],
   "source": [
    "dfResponsavelRendaMaranhao['nAbsPessoasClasseE'] = dfResponsavelRendaMaranhao['V001'] +dfResponsavelRendaMaranhao['V002'] + dfResponsavelRendaMaranhao['V003'] "
   ]
  },
  {
   "cell_type": "code",
   "execution_count": 50,
   "metadata": {},
   "outputs": [],
   "source": [
    "dfResponsavelRendaMaranhao['nAbsPessoasClasseD'] = dfResponsavelRendaMaranhao['V004']"
   ]
  },
  {
   "cell_type": "code",
   "execution_count": 51,
   "metadata": {},
   "outputs": [],
   "source": [
    "dfResponsavelRendaMaranhao['nAbsPessoasClasseC'] = dfResponsavelRendaMaranhao['V005'] +dfResponsavelRendaMaranhao['V006']"
   ]
  },
  {
   "cell_type": "code",
   "execution_count": 52,
   "metadata": {},
   "outputs": [],
   "source": [
    "dfResponsavelRendaMaranhao['nAbsPessoasClasseB'] = dfResponsavelRendaMaranhao['V007']"
   ]
  },
  {
   "cell_type": "code",
   "execution_count": 53,
   "metadata": {},
   "outputs": [],
   "source": [
    "dfResponsavelRendaMaranhao['nAbsPessoasClasseA'] = dfResponsavelRendaMaranhao['V008'] +  dfResponsavelRendaMaranhao['V009']"
   ]
  },
  {
   "cell_type": "code",
   "execution_count": 54,
   "metadata": {},
   "outputs": [],
   "source": [
    "dfResponsavelRendaMaranhao.drop(['V001', 'V002', 'V003',\n",
    "                        'V004', 'V005', 'V006', 'V007', 'V008', 'V009'], axis =1, inplace = True)"
   ]
  },
  {
   "cell_type": "code",
   "execution_count": 55,
   "metadata": {},
   "outputs": [
    {
     "data": {
      "text/html": [
       "<div>\n",
       "<style scoped>\n",
       "    .dataframe tbody tr th:only-of-type {\n",
       "        vertical-align: middle;\n",
       "    }\n",
       "\n",
       "    .dataframe tbody tr th {\n",
       "        vertical-align: top;\n",
       "    }\n",
       "\n",
       "    .dataframe thead th {\n",
       "        text-align: right;\n",
       "    }\n",
       "</style>\n",
       "<table border=\"1\" class=\"dataframe\">\n",
       "  <thead>\n",
       "    <tr style=\"text-align: right;\">\n",
       "      <th></th>\n",
       "      <th>Cod_setor</th>\n",
       "      <th>nAbsPessoasClasseE</th>\n",
       "      <th>nAbsPessoasClasseD</th>\n",
       "      <th>nAbsPessoasClasseC</th>\n",
       "      <th>nAbsPessoasClasseB</th>\n",
       "      <th>nAbsPessoasClasseA</th>\n",
       "    </tr>\n",
       "  </thead>\n",
       "  <tbody>\n",
       "    <tr>\n",
       "      <th>0</th>\n",
       "      <td>210005505000001</td>\n",
       "      <td>205</td>\n",
       "      <td>23</td>\n",
       "      <td>44</td>\n",
       "      <td>2</td>\n",
       "      <td>5</td>\n",
       "    </tr>\n",
       "    <tr>\n",
       "      <th>1</th>\n",
       "      <td>210005505000002</td>\n",
       "      <td>337</td>\n",
       "      <td>31</td>\n",
       "      <td>64</td>\n",
       "      <td>3</td>\n",
       "      <td>6</td>\n",
       "    </tr>\n",
       "    <tr>\n",
       "      <th>2</th>\n",
       "      <td>210005505000003</td>\n",
       "      <td>219</td>\n",
       "      <td>27</td>\n",
       "      <td>17</td>\n",
       "      <td>2</td>\n",
       "      <td>2</td>\n",
       "    </tr>\n",
       "    <tr>\n",
       "      <th>3</th>\n",
       "      <td>210005505000004</td>\n",
       "      <td>259</td>\n",
       "      <td>25</td>\n",
       "      <td>33</td>\n",
       "      <td>2</td>\n",
       "      <td>3</td>\n",
       "    </tr>\n",
       "    <tr>\n",
       "      <th>4</th>\n",
       "      <td>210005505000005</td>\n",
       "      <td>270</td>\n",
       "      <td>24</td>\n",
       "      <td>29</td>\n",
       "      <td>4</td>\n",
       "      <td>4</td>\n",
       "    </tr>\n",
       "  </tbody>\n",
       "</table>\n",
       "</div>"
      ],
      "text/plain": [
       "         Cod_setor  nAbsPessoasClasseE  nAbsPessoasClasseD  \\\n",
       "0  210005505000001                 205                  23   \n",
       "1  210005505000002                 337                  31   \n",
       "2  210005505000003                 219                  27   \n",
       "3  210005505000004                 259                  25   \n",
       "4  210005505000005                 270                  24   \n",
       "\n",
       "   nAbsPessoasClasseC  nAbsPessoasClasseB  nAbsPessoasClasseA  \n",
       "0                  44                   2                   5  \n",
       "1                  64                   3                   6  \n",
       "2                  17                   2                   2  \n",
       "3                  33                   2                   3  \n",
       "4                  29                   4                   4  "
      ]
     },
     "execution_count": 55,
     "metadata": {},
     "output_type": "execute_result"
    }
   ],
   "source": [
    "dfResponsavelRendaMaranhao.head()"
   ]
  },
  {
   "cell_type": "markdown",
   "metadata": {},
   "source": [
    "**DATAFRAME TOTAL.**"
   ]
  },
  {
   "cell_type": "code",
   "execution_count": 56,
   "metadata": {},
   "outputs": [],
   "source": [
    "data_frames = [dfBasicoMaranhao, dfDomicilio01Maranhao, dfDomicilio02Maranhao, dfPessoa13Maranhao, dfPessoa11Maranhao, dfPessoa12Maranhao,\n",
    "               dfDomicilioRendaMaranhao, dfResponsavelRendaMaranhao]"
   ]
  },
  {
   "cell_type": "code",
   "execution_count": 57,
   "metadata": {},
   "outputs": [],
   "source": [
    "dfTotalMaranhao = reduce(lambda  left,right: pd.merge(left,right,on=['Cod_setor'],\n",
    "                                            how='inner'), data_frames)"
   ]
  },
  {
   "cell_type": "code",
   "execution_count": 58,
   "metadata": {},
   "outputs": [
    {
     "data": {
      "text/html": [
       "<div>\n",
       "<style scoped>\n",
       "    .dataframe tbody tr th:only-of-type {\n",
       "        vertical-align: middle;\n",
       "    }\n",
       "\n",
       "    .dataframe tbody tr th {\n",
       "        vertical-align: top;\n",
       "    }\n",
       "\n",
       "    .dataframe thead th {\n",
       "        text-align: right;\n",
       "    }\n",
       "</style>\n",
       "<table border=\"1\" class=\"dataframe\">\n",
       "  <thead>\n",
       "    <tr style=\"text-align: right;\">\n",
       "      <th></th>\n",
       "      <th>Cod_setor</th>\n",
       "      <th>MediaMoradorDomicilio</th>\n",
       "      <th>RendaMediaDomicilio</th>\n",
       "      <th>RendaMediaPerCapitaGeral</th>\n",
       "      <th>RendaMediaPerCapitaComRendimento</th>\n",
       "      <th>nAbsDomicilios</th>\n",
       "      <th>nAbsDomiciliosCasa</th>\n",
       "      <th>nAbsDomiciliosApto</th>\n",
       "      <th>nAbsImoveisAlugados</th>\n",
       "      <th>nAbs1PessoasDomicilio</th>\n",
       "      <th>...</th>\n",
       "      <th>nAbsHomensResidentes</th>\n",
       "      <th>nAbsMulheresResidentes</th>\n",
       "      <th>TotalRendNomMensalDomParticulares</th>\n",
       "      <th>TotalRendimentoNomMensalDomParticularesPermanentes</th>\n",
       "      <th>TotalRendimentoNomMensalDomParitulcaresImprovisados</th>\n",
       "      <th>nAbsPessoasClasseE</th>\n",
       "      <th>nAbsPessoasClasseD</th>\n",
       "      <th>nAbsPessoasClasseC</th>\n",
       "      <th>nAbsPessoasClasseB</th>\n",
       "      <th>nAbsPessoasClasseA</th>\n",
       "    </tr>\n",
       "  </thead>\n",
       "  <tbody>\n",
       "    <tr>\n",
       "      <th>0</th>\n",
       "      <td>2.100055e+14</td>\n",
       "      <td>3.55</td>\n",
       "      <td>1128.24</td>\n",
       "      <td>575.20</td>\n",
       "      <td>970.44</td>\n",
       "      <td>307</td>\n",
       "      <td>271</td>\n",
       "      <td>0</td>\n",
       "      <td>98</td>\n",
       "      <td>28</td>\n",
       "      <td>...</td>\n",
       "      <td>532</td>\n",
       "      <td>555</td>\n",
       "      <td>505401</td>\n",
       "      <td>505101</td>\n",
       "      <td>300</td>\n",
       "      <td>205</td>\n",
       "      <td>23</td>\n",
       "      <td>44</td>\n",
       "      <td>2</td>\n",
       "      <td>5</td>\n",
       "    </tr>\n",
       "    <tr>\n",
       "      <th>1</th>\n",
       "      <td>2.100055e+14</td>\n",
       "      <td>3.74</td>\n",
       "      <td>1105.10</td>\n",
       "      <td>546.55</td>\n",
       "      <td>941.39</td>\n",
       "      <td>492</td>\n",
       "      <td>483</td>\n",
       "      <td>0</td>\n",
       "      <td>93</td>\n",
       "      <td>26</td>\n",
       "      <td>...</td>\n",
       "      <td>882</td>\n",
       "      <td>954</td>\n",
       "      <td>808974</td>\n",
       "      <td>806914</td>\n",
       "      <td>2060</td>\n",
       "      <td>337</td>\n",
       "      <td>31</td>\n",
       "      <td>64</td>\n",
       "      <td>3</td>\n",
       "      <td>6</td>\n",
       "    </tr>\n",
       "    <tr>\n",
       "      <th>2</th>\n",
       "      <td>2.100055e+14</td>\n",
       "      <td>3.77</td>\n",
       "      <td>798.00</td>\n",
       "      <td>430.46</td>\n",
       "      <td>706.31</td>\n",
       "      <td>287</td>\n",
       "      <td>270</td>\n",
       "      <td>0</td>\n",
       "      <td>64</td>\n",
       "      <td>19</td>\n",
       "      <td>...</td>\n",
       "      <td>528</td>\n",
       "      <td>550</td>\n",
       "      <td>373636</td>\n",
       "      <td>372436</td>\n",
       "      <td>1200</td>\n",
       "      <td>219</td>\n",
       "      <td>27</td>\n",
       "      <td>17</td>\n",
       "      <td>2</td>\n",
       "      <td>2</td>\n",
       "    </tr>\n",
       "    <tr>\n",
       "      <th>3</th>\n",
       "      <td>2.100055e+14</td>\n",
       "      <td>3.66</td>\n",
       "      <td>913.93</td>\n",
       "      <td>482.66</td>\n",
       "      <td>827.96</td>\n",
       "      <td>358</td>\n",
       "      <td>334</td>\n",
       "      <td>1</td>\n",
       "      <td>90</td>\n",
       "      <td>24</td>\n",
       "      <td>...</td>\n",
       "      <td>624</td>\n",
       "      <td>685</td>\n",
       "      <td>519255</td>\n",
       "      <td>519255</td>\n",
       "      <td>0</td>\n",
       "      <td>259</td>\n",
       "      <td>25</td>\n",
       "      <td>33</td>\n",
       "      <td>2</td>\n",
       "      <td>3</td>\n",
       "    </tr>\n",
       "    <tr>\n",
       "      <th>4</th>\n",
       "      <td>2.100055e+14</td>\n",
       "      <td>3.85</td>\n",
       "      <td>964.80</td>\n",
       "      <td>497.50</td>\n",
       "      <td>832.44</td>\n",
       "      <td>378</td>\n",
       "      <td>354</td>\n",
       "      <td>1</td>\n",
       "      <td>100</td>\n",
       "      <td>12</td>\n",
       "      <td>...</td>\n",
       "      <td>729</td>\n",
       "      <td>725</td>\n",
       "      <td>590635</td>\n",
       "      <td>590635</td>\n",
       "      <td>0</td>\n",
       "      <td>270</td>\n",
       "      <td>24</td>\n",
       "      <td>29</td>\n",
       "      <td>4</td>\n",
       "      <td>4</td>\n",
       "    </tr>\n",
       "  </tbody>\n",
       "</table>\n",
       "<p>5 rows × 30 columns</p>\n",
       "</div>"
      ],
      "text/plain": [
       "      Cod_setor  MediaMoradorDomicilio  RendaMediaDomicilio  \\\n",
       "0  2.100055e+14                   3.55              1128.24   \n",
       "1  2.100055e+14                   3.74              1105.10   \n",
       "2  2.100055e+14                   3.77               798.00   \n",
       "3  2.100055e+14                   3.66               913.93   \n",
       "4  2.100055e+14                   3.85               964.80   \n",
       "\n",
       "   RendaMediaPerCapitaGeral  RendaMediaPerCapitaComRendimento  nAbsDomicilios  \\\n",
       "0                    575.20                            970.44             307   \n",
       "1                    546.55                            941.39             492   \n",
       "2                    430.46                            706.31             287   \n",
       "3                    482.66                            827.96             358   \n",
       "4                    497.50                            832.44             378   \n",
       "\n",
       "  nAbsDomiciliosCasa nAbsDomiciliosApto nAbsImoveisAlugados  \\\n",
       "0                271                  0                  98   \n",
       "1                483                  0                  93   \n",
       "2                270                  0                  64   \n",
       "3                334                  1                  90   \n",
       "4                354                  1                 100   \n",
       "\n",
       "  nAbs1PessoasDomicilio  ... nAbsHomensResidentes nAbsMulheresResidentes  \\\n",
       "0                    28  ...                  532                    555   \n",
       "1                    26  ...                  882                    954   \n",
       "2                    19  ...                  528                    550   \n",
       "3                    24  ...                  624                    685   \n",
       "4                    12  ...                  729                    725   \n",
       "\n",
       "  TotalRendNomMensalDomParticulares  \\\n",
       "0                            505401   \n",
       "1                            808974   \n",
       "2                            373636   \n",
       "3                            519255   \n",
       "4                            590635   \n",
       "\n",
       "  TotalRendimentoNomMensalDomParticularesPermanentes  \\\n",
       "0                                             505101   \n",
       "1                                             806914   \n",
       "2                                             372436   \n",
       "3                                             519255   \n",
       "4                                             590635   \n",
       "\n",
       "  TotalRendimentoNomMensalDomParitulcaresImprovisados  nAbsPessoasClasseE  \\\n",
       "0                                                300                  205   \n",
       "1                                               2060                  337   \n",
       "2                                               1200                  219   \n",
       "3                                                  0                  259   \n",
       "4                                                  0                  270   \n",
       "\n",
       "   nAbsPessoasClasseD  nAbsPessoasClasseC  nAbsPessoasClasseB  \\\n",
       "0                  23                  44                   2   \n",
       "1                  31                  64                   3   \n",
       "2                  27                  17                   2   \n",
       "3                  25                  33                   2   \n",
       "4                  24                  29                   4   \n",
       "\n",
       "   nAbsPessoasClasseA  \n",
       "0                   5  \n",
       "1                   6  \n",
       "2                   2  \n",
       "3                   3  \n",
       "4                   4  \n",
       "\n",
       "[5 rows x 30 columns]"
      ]
     },
     "execution_count": 58,
     "metadata": {},
     "output_type": "execute_result"
    }
   ],
   "source": [
    "dfTotalMaranhao.head()"
   ]
  },
  {
   "cell_type": "code",
   "execution_count": 59,
   "metadata": {},
   "outputs": [
    {
     "name": "stdout",
     "output_type": "stream",
     "text": [
      "<class 'pandas.core.frame.DataFrame'>\n",
      "Int64Index: 8802 entries, 0 to 8801\n",
      "Data columns (total 30 columns):\n",
      " #   Column                                               Non-Null Count  Dtype  \n",
      "---  ------                                               --------------  -----  \n",
      " 0   Cod_setor                                            8802 non-null   float64\n",
      " 1   MediaMoradorDomicilio                                8801 non-null   float64\n",
      " 2   RendaMediaDomicilio                                  8801 non-null   float64\n",
      " 3   RendaMediaPerCapitaGeral                             8802 non-null   float64\n",
      " 4   RendaMediaPerCapitaComRendimento                     8787 non-null   float64\n",
      " 5   nAbsDomicilios                                       8802 non-null   int64  \n",
      " 6   nAbsDomiciliosCasa                                   8802 non-null   object \n",
      " 7   nAbsDomiciliosApto                                   8802 non-null   object \n",
      " 8   nAbsImoveisAlugados                                  8802 non-null   object \n",
      " 9   nAbs1PessoasDomicilio                                8802 non-null   object \n",
      " 10  nAbs1PessoasDomicilio                                8802 non-null   object \n",
      " 11  nAbs2PessoasDomicilio                                8802 non-null   object \n",
      " 12  nAbs3PessoasDomicilio                                8802 non-null   object \n",
      " 13  nAbs4PessoasDomicilio                                8802 non-null   object \n",
      " 14  nAbs5ouMaisPessoasDomicilio                          8802 non-null   object \n",
      " 15  nAbsHabitantes                                       8802 non-null   int64  \n",
      " 16  nAbsMoradoresCasa                                    8802 non-null   int64  \n",
      " 17  nAbsMoradoresApto                                    8802 non-null   int64  \n",
      " 18  nAbsMoradoresImoveisAlugados                         8802 non-null   int64  \n",
      " 19  nAbsConjuges                                         8802 non-null   int64  \n",
      " 20  nAbsHomensResidentes                                 8802 non-null   int64  \n",
      " 21  nAbsMulheresResidentes                               8802 non-null   int64  \n",
      " 22  TotalRendNomMensalDomParticulares                    8802 non-null   object \n",
      " 23  TotalRendimentoNomMensalDomParticularesPermanentes   8802 non-null   object \n",
      " 24  TotalRendimentoNomMensalDomParitulcaresImprovisados  8802 non-null   object \n",
      " 25  nAbsPessoasClasseE                                   8802 non-null   int64  \n",
      " 26  nAbsPessoasClasseD                                   8802 non-null   int64  \n",
      " 27  nAbsPessoasClasseC                                   8802 non-null   int64  \n",
      " 28  nAbsPessoasClasseB                                   8802 non-null   int64  \n",
      " 29  nAbsPessoasClasseA                                   8802 non-null   int64  \n",
      "dtypes: float64(5), int64(13), object(12)\n",
      "memory usage: 2.1+ MB\n"
     ]
    }
   ],
   "source": [
    "dfTotalMaranhao.info()"
   ]
  },
  {
   "cell_type": "code",
   "execution_count": 60,
   "metadata": {},
   "outputs": [],
   "source": [
    "dfTotalMaranhao.to_csv('Maranhao.csv', sep= ';', encoding = 'utf-8')"
   ]
  }
 ],
 "metadata": {
  "interpreter": {
   "hash": "916dbcbb3f70747c44a77c7bcd40155683ae19c65e1c03b4aa3499c5328201f1"
  },
  "kernelspec": {
   "display_name": "Python 3.8.10 64-bit",
   "language": "python",
   "name": "python3"
  },
  "language_info": {
   "codemirror_mode": {
    "name": "ipython",
    "version": 3
   },
   "file_extension": ".py",
   "mimetype": "text/x-python",
   "name": "python",
   "nbconvert_exporter": "python",
   "pygments_lexer": "ipython3",
   "version": "3.8.10"
  },
  "orig_nbformat": 4
 },
 "nbformat": 4,
 "nbformat_minor": 2
}

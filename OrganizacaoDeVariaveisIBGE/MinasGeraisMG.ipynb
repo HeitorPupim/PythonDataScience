{
 "cells": [
  {
   "cell_type": "code",
   "execution_count": 1,
   "metadata": {},
   "outputs": [],
   "source": [
    "import pandas as pd\n",
    "import numpy as np\n",
    "from functools import reduce"
   ]
  },
  {
   "cell_type": "markdown",
   "metadata": {},
   "source": [
    "**Basico** - conferido"
   ]
  },
  {
   "cell_type": "code",
   "execution_count": 2,
   "metadata": {},
   "outputs": [],
   "source": [
    "dfBasicoMinasGerais = pd.read_csv('dataAgrupados/Basico_MG.csv', sep = ';', encoding = 'unicode_escape')"
   ]
  },
  {
   "cell_type": "code",
   "execution_count": 3,
   "metadata": {},
   "outputs": [],
   "source": [
    "dfBasicoMinasGerais = dfBasicoMinasGerais[['Cod_setor','V003', 'V005', 'V009', 'V011']]"
   ]
  },
  {
   "cell_type": "code",
   "execution_count": 4,
   "metadata": {},
   "outputs": [],
   "source": [
    "dfBasicoMinasGerais = dfBasicoMinasGerais.replace('X', 0, regex= True)"
   ]
  },
  {
   "cell_type": "code",
   "execution_count": 5,
   "metadata": {},
   "outputs": [
    {
     "data": {
      "text/html": [
       "<div>\n",
       "<style scoped>\n",
       "    .dataframe tbody tr th:only-of-type {\n",
       "        vertical-align: middle;\n",
       "    }\n",
       "\n",
       "    .dataframe tbody tr th {\n",
       "        vertical-align: top;\n",
       "    }\n",
       "\n",
       "    .dataframe thead th {\n",
       "        text-align: right;\n",
       "    }\n",
       "</style>\n",
       "<table border=\"1\" class=\"dataframe\">\n",
       "  <thead>\n",
       "    <tr style=\"text-align: right;\">\n",
       "      <th></th>\n",
       "      <th>Cod_setor</th>\n",
       "      <th>V003</th>\n",
       "      <th>V005</th>\n",
       "      <th>V009</th>\n",
       "      <th>V011</th>\n",
       "    </tr>\n",
       "  </thead>\n",
       "  <tbody>\n",
       "    <tr>\n",
       "      <th>0</th>\n",
       "      <td>310010405000001</td>\n",
       "      <td>2,78</td>\n",
       "      <td>751,41</td>\n",
       "      <td>477,66</td>\n",
       "      <td>689,45</td>\n",
       "    </tr>\n",
       "    <tr>\n",
       "      <th>1</th>\n",
       "      <td>310010405000002</td>\n",
       "      <td>2,82</td>\n",
       "      <td>980,65</td>\n",
       "      <td>664,95</td>\n",
       "      <td>901,74</td>\n",
       "    </tr>\n",
       "    <tr>\n",
       "      <th>2</th>\n",
       "      <td>310010405000003</td>\n",
       "      <td>2,8</td>\n",
       "      <td>1064,33</td>\n",
       "      <td>667,3</td>\n",
       "      <td>871,63</td>\n",
       "    </tr>\n",
       "    <tr>\n",
       "      <th>3</th>\n",
       "      <td>310010405000004</td>\n",
       "      <td>2,85</td>\n",
       "      <td>643,75</td>\n",
       "      <td>413,2</td>\n",
       "      <td>628,03</td>\n",
       "    </tr>\n",
       "    <tr>\n",
       "      <th>4</th>\n",
       "      <td>310010405000005</td>\n",
       "      <td>2,85</td>\n",
       "      <td>801,34</td>\n",
       "      <td>501,91</td>\n",
       "      <td>804,52</td>\n",
       "    </tr>\n",
       "  </tbody>\n",
       "</table>\n",
       "</div>"
      ],
      "text/plain": [
       "         Cod_setor  V003     V005    V009    V011\n",
       "0  310010405000001  2,78   751,41  477,66  689,45\n",
       "1  310010405000002  2,82   980,65  664,95  901,74\n",
       "2  310010405000003   2,8  1064,33   667,3  871,63\n",
       "3  310010405000004  2,85   643,75   413,2  628,03\n",
       "4  310010405000005  2,85   801,34  501,91  804,52"
      ]
     },
     "execution_count": 5,
     "metadata": {},
     "output_type": "execute_result"
    }
   ],
   "source": [
    "dfBasicoMinasGerais.head()"
   ]
  },
  {
   "cell_type": "code",
   "execution_count": 6,
   "metadata": {},
   "outputs": [],
   "source": [
    "dfBasicoMinasGerais = dfBasicoMinasGerais.replace(',', '.', regex= True)"
   ]
  },
  {
   "cell_type": "code",
   "execution_count": 7,
   "metadata": {},
   "outputs": [],
   "source": [
    "dfBasicoMinasGerais = dfBasicoMinasGerais.astype({'V003':'float','V005':'float','V009':'float','V011':'float'})"
   ]
  },
  {
   "cell_type": "code",
   "execution_count": 8,
   "metadata": {},
   "outputs": [],
   "source": [
    "dfBasicoMinasGerais.rename(columns = {'V003':'MediaMoradorDomicilio',\n",
    "                     'V005':'RendaMediaDomicilio',\n",
    "                     'V009':'RendaMediaPerCapitaGeral',\n",
    "                     'V011':'RendaMediaPerCapitaComRendimento'}, inplace = True)"
   ]
  },
  {
   "cell_type": "markdown",
   "metadata": {},
   "source": [
    "**Domicilio01** - conferido"
   ]
  },
  {
   "cell_type": "code",
   "execution_count": 9,
   "metadata": {},
   "outputs": [],
   "source": [
    "dfDomicilio01MinasGerais = pd.read_csv('dataAgrupados/Domicilio01_MG.csv', sep = ';', encoding = 'unicode_escape')"
   ]
  },
  {
   "cell_type": "code",
   "execution_count": 10,
   "metadata": {},
   "outputs": [],
   "source": [
    "dfDomicilio01MinasGerais = dfDomicilio01MinasGerais.replace('X', 0, regex= True)"
   ]
  },
  {
   "cell_type": "code",
   "execution_count": 11,
   "metadata": {},
   "outputs": [],
   "source": [
    "#dfDomicilio01MinasGerais = dfDomicilio01MinasGerais.astype(int)"
   ]
  },
  {
   "cell_type": "code",
   "execution_count": 12,
   "metadata": {},
   "outputs": [],
   "source": [
    "dfDomicilio01MinasGerais = dfDomicilio01MinasGerais[['Cod_setor',\n",
    "                                       'V001', 'V003', 'V005', 'V008','V050',\n",
    "                                       'V050' ,'V051' ,'V052' ,'V053' ,'V054' ,'V055' ,\n",
    "                                       'V056' ,'V057' ,'V058' ,'V059' ,]]"
   ]
  },
  {
   "cell_type": "code",
   "execution_count": 13,
   "metadata": {},
   "outputs": [],
   "source": [
    "dfDomicilio01MinasGerais.rename(columns = {\n",
    "'V001':'nAbsDomicilios' , \n",
    "'V003': 'nAbsDomiciliosCasa', \n",
    "'V005': 'nAbsDomiciliosApto', \n",
    "'V008': 'nAbsImoveisAlugados', \n",
    "'V050':'nAbs1PessoasDomicilio',\n",
    "'V051':'nAbs2PessoasDomicilio',\n",
    "'V052':'nAbs3PessoasDomicilio',\n",
    "'V053':'nAbs4PessoasDomicilio',\n",
    "'V054':'nAbs5PessoasDomicilio',\n",
    "'V055':'nAbs6PessoasDomicilio',\n",
    "'V056':'nAbs7PessoasDomicilio',\n",
    "'V057':'nAbs8PessoasDomicilio',\n",
    "'V058':'nAbs9PessoasDomicilio',\n",
    "'V059':'nAbs10PessoasDomicilio'}, inplace = True)"
   ]
  },
  {
   "cell_type": "code",
   "execution_count": 14,
   "metadata": {},
   "outputs": [
    {
     "data": {
      "text/plain": [
       "0        00\n",
       "1        00\n",
       "2        00\n",
       "3        00\n",
       "4        00\n",
       "         ..\n",
       "32559    21\n",
       "32560    10\n",
       "32561    40\n",
       "32562    00\n",
       "32563    00\n",
       "Length: 32564, dtype: object"
      ]
     },
     "execution_count": 14,
     "metadata": {},
     "output_type": "execute_result"
    }
   ],
   "source": [
    "dfDomicilio01MinasGerais['nAbs5ouMaisPessoasDomicilio'] = dfDomicilio01MinasGerais['nAbs5PessoasDomicilio'] +dfDomicilio01MinasGerais['nAbs6PessoasDomicilio'] + dfDomicilio01MinasGerais['nAbs7PessoasDomicilio'] + dfDomicilio01MinasGerais['nAbs8PessoasDomicilio']\n",
    "+ dfDomicilio01MinasGerais['nAbs9PessoasDomicilio'] + dfDomicilio01MinasGerais['nAbs10PessoasDomicilio'] "
   ]
  },
  {
   "cell_type": "code",
   "execution_count": 15,
   "metadata": {},
   "outputs": [],
   "source": [
    "dfDomicilio01MinasGerais.drop(['nAbs5PessoasDomicilio', 'nAbs6PessoasDomicilio', 'nAbs7PessoasDomicilio',\n",
    "                        'nAbs8PessoasDomicilio', 'nAbs9PessoasDomicilio', 'nAbs10PessoasDomicilio'], axis =1, inplace = True)"
   ]
  },
  {
   "cell_type": "markdown",
   "metadata": {},
   "source": [
    "**Domicilio02** - conferido"
   ]
  },
  {
   "cell_type": "code",
   "execution_count": 16,
   "metadata": {},
   "outputs": [],
   "source": [
    "dfDomicilio02MinasGerais = pd.read_csv('dataAgrupados/Domicilio02_MG.csv', sep = ';', encoding = 'unicode_escape')"
   ]
  },
  {
   "cell_type": "code",
   "execution_count": 17,
   "metadata": {},
   "outputs": [],
   "source": [
    "dfDomicilio02MinasGerais = dfDomicilio02MinasGerais.replace('X', 0, regex= True)"
   ]
  },
  {
   "cell_type": "code",
   "execution_count": 18,
   "metadata": {},
   "outputs": [],
   "source": [
    "dfDomicilio02MinasGerais = dfDomicilio02MinasGerais.astype(int)\n"
   ]
  },
  {
   "cell_type": "code",
   "execution_count": 19,
   "metadata": {},
   "outputs": [
    {
     "name": "stdout",
     "output_type": "stream",
     "text": [
      "<class 'pandas.core.frame.DataFrame'>\n",
      "RangeIndex: 32564 entries, 0 to 32563\n",
      "Columns: 134 entries, Cod_setor to V132\n",
      "dtypes: int64(134)\n",
      "memory usage: 33.3 MB\n"
     ]
    }
   ],
   "source": [
    "dfDomicilio02MinasGerais.info()"
   ]
  },
  {
   "cell_type": "code",
   "execution_count": 20,
   "metadata": {},
   "outputs": [],
   "source": [
    "dfDomicilio02MinasGerais = dfDomicilio02MinasGerais[['Cod_setor',\n",
    "                                       'V001', 'V003', 'V005', 'V008']]"
   ]
  },
  {
   "cell_type": "code",
   "execution_count": 21,
   "metadata": {},
   "outputs": [],
   "source": [
    "dfDomicilio02MinasGerais.rename(columns = {\n",
    "'V001':'nAbsHabitantes' , \n",
    "'V003': 'nAbsMoradoresCasa', \n",
    "'V005': 'nAbsMoradoresApto', \n",
    "'V008': 'nAbsMoradoresImoveisAlugados', \n",
    "}, inplace = True)"
   ]
  },
  {
   "cell_type": "code",
   "execution_count": 22,
   "metadata": {},
   "outputs": [
    {
     "data": {
      "text/html": [
       "<div>\n",
       "<style scoped>\n",
       "    .dataframe tbody tr th:only-of-type {\n",
       "        vertical-align: middle;\n",
       "    }\n",
       "\n",
       "    .dataframe tbody tr th {\n",
       "        vertical-align: top;\n",
       "    }\n",
       "\n",
       "    .dataframe thead th {\n",
       "        text-align: right;\n",
       "    }\n",
       "</style>\n",
       "<table border=\"1\" class=\"dataframe\">\n",
       "  <thead>\n",
       "    <tr style=\"text-align: right;\">\n",
       "      <th></th>\n",
       "      <th>Cod_setor</th>\n",
       "      <th>nAbsHabitantes</th>\n",
       "      <th>nAbsMoradoresCasa</th>\n",
       "      <th>nAbsMoradoresApto</th>\n",
       "      <th>nAbsMoradoresImoveisAlugados</th>\n",
       "    </tr>\n",
       "  </thead>\n",
       "  <tbody>\n",
       "    <tr>\n",
       "      <th>0</th>\n",
       "      <td>310010405000001</td>\n",
       "      <td>851</td>\n",
       "      <td>851</td>\n",
       "      <td>0</td>\n",
       "      <td>160</td>\n",
       "    </tr>\n",
       "    <tr>\n",
       "      <th>1</th>\n",
       "      <td>310010405000002</td>\n",
       "      <td>738</td>\n",
       "      <td>724</td>\n",
       "      <td>14</td>\n",
       "      <td>152</td>\n",
       "    </tr>\n",
       "    <tr>\n",
       "      <th>2</th>\n",
       "      <td>310010405000003</td>\n",
       "      <td>814</td>\n",
       "      <td>778</td>\n",
       "      <td>19</td>\n",
       "      <td>171</td>\n",
       "    </tr>\n",
       "    <tr>\n",
       "      <th>3</th>\n",
       "      <td>310010405000004</td>\n",
       "      <td>896</td>\n",
       "      <td>859</td>\n",
       "      <td>24</td>\n",
       "      <td>227</td>\n",
       "    </tr>\n",
       "    <tr>\n",
       "      <th>4</th>\n",
       "      <td>310010405000005</td>\n",
       "      <td>890</td>\n",
       "      <td>882</td>\n",
       "      <td>3</td>\n",
       "      <td>258</td>\n",
       "    </tr>\n",
       "  </tbody>\n",
       "</table>\n",
       "</div>"
      ],
      "text/plain": [
       "         Cod_setor  nAbsHabitantes  nAbsMoradoresCasa  nAbsMoradoresApto  \\\n",
       "0  310010405000001             851                851                  0   \n",
       "1  310010405000002             738                724                 14   \n",
       "2  310010405000003             814                778                 19   \n",
       "3  310010405000004             896                859                 24   \n",
       "4  310010405000005             890                882                  3   \n",
       "\n",
       "   nAbsMoradoresImoveisAlugados  \n",
       "0                           160  \n",
       "1                           152  \n",
       "2                           171  \n",
       "3                           227  \n",
       "4                           258  "
      ]
     },
     "execution_count": 22,
     "metadata": {},
     "output_type": "execute_result"
    }
   ],
   "source": [
    "dfDomicilio02MinasGerais.head()"
   ]
  },
  {
   "cell_type": "markdown",
   "metadata": {},
   "source": [
    "**Pessoa13** - conferido"
   ]
  },
  {
   "cell_type": "code",
   "execution_count": 23,
   "metadata": {},
   "outputs": [],
   "source": [
    "dfPessoa13MinasGerais = pd.read_csv('dataAgrupados/Pessoa13_MG.csv', sep = ';', encoding = 'unicode_escape')"
   ]
  },
  {
   "cell_type": "code",
   "execution_count": 24,
   "metadata": {},
   "outputs": [],
   "source": [
    "dfPessoa13MinasGerais = dfPessoa13MinasGerais[['Cod_setor', 'V001']]"
   ]
  },
  {
   "cell_type": "code",
   "execution_count": 25,
   "metadata": {},
   "outputs": [],
   "source": [
    "dfPessoa13MinasGerais = dfPessoa13MinasGerais.replace('X', 0, regex= True)"
   ]
  },
  {
   "cell_type": "code",
   "execution_count": 26,
   "metadata": {},
   "outputs": [],
   "source": [
    "dfPessoa13MinasGerais.rename(columns= {'V001':'nAbsConjuges'}, inplace = True)"
   ]
  },
  {
   "cell_type": "code",
   "execution_count": 27,
   "metadata": {},
   "outputs": [
    {
     "data": {
      "text/html": [
       "<div>\n",
       "<style scoped>\n",
       "    .dataframe tbody tr th:only-of-type {\n",
       "        vertical-align: middle;\n",
       "    }\n",
       "\n",
       "    .dataframe tbody tr th {\n",
       "        vertical-align: top;\n",
       "    }\n",
       "\n",
       "    .dataframe thead th {\n",
       "        text-align: right;\n",
       "    }\n",
       "</style>\n",
       "<table border=\"1\" class=\"dataframe\">\n",
       "  <thead>\n",
       "    <tr style=\"text-align: right;\">\n",
       "      <th></th>\n",
       "      <th>Cod_setor</th>\n",
       "      <th>nAbsConjuges</th>\n",
       "    </tr>\n",
       "  </thead>\n",
       "  <tbody>\n",
       "    <tr>\n",
       "      <th>0</th>\n",
       "      <td>310010405000001</td>\n",
       "      <td>851</td>\n",
       "    </tr>\n",
       "    <tr>\n",
       "      <th>1</th>\n",
       "      <td>310010405000002</td>\n",
       "      <td>738</td>\n",
       "    </tr>\n",
       "    <tr>\n",
       "      <th>2</th>\n",
       "      <td>310010405000003</td>\n",
       "      <td>814</td>\n",
       "    </tr>\n",
       "    <tr>\n",
       "      <th>3</th>\n",
       "      <td>310010405000004</td>\n",
       "      <td>896</td>\n",
       "    </tr>\n",
       "    <tr>\n",
       "      <th>4</th>\n",
       "      <td>310010405000005</td>\n",
       "      <td>890</td>\n",
       "    </tr>\n",
       "  </tbody>\n",
       "</table>\n",
       "</div>"
      ],
      "text/plain": [
       "         Cod_setor  nAbsConjuges\n",
       "0  310010405000001           851\n",
       "1  310010405000002           738\n",
       "2  310010405000003           814\n",
       "3  310010405000004           896\n",
       "4  310010405000005           890"
      ]
     },
     "execution_count": 27,
     "metadata": {},
     "output_type": "execute_result"
    }
   ],
   "source": [
    "dfPessoa13MinasGerais.head()"
   ]
  },
  {
   "cell_type": "markdown",
   "metadata": {},
   "source": [
    "**Pessoa11** - conferido"
   ]
  },
  {
   "cell_type": "code",
   "execution_count": 28,
   "metadata": {},
   "outputs": [],
   "source": [
    "dfPessoa11MinasGerais = pd.read_csv('dataAgrupados/Pessoa11_MG.csv', sep = ';', encoding = 'unicode_escape')"
   ]
  },
  {
   "cell_type": "code",
   "execution_count": 29,
   "metadata": {},
   "outputs": [],
   "source": [
    "dfPessoa11MinasGerais = dfPessoa11MinasGerais[['Cod_setor', 'V001']]"
   ]
  },
  {
   "cell_type": "code",
   "execution_count": 30,
   "metadata": {},
   "outputs": [],
   "source": [
    "dfPessoa11MinasGerais = dfPessoa11MinasGerais.replace('X', 0, regex= True)"
   ]
  },
  {
   "cell_type": "code",
   "execution_count": 31,
   "metadata": {},
   "outputs": [],
   "source": [
    "dfPessoa11MinasGerais.rename(columns= {'V001':'nAbsHomensResidentes'}, inplace = True)"
   ]
  },
  {
   "cell_type": "markdown",
   "metadata": {},
   "source": [
    "**Pessoa12** - conferido"
   ]
  },
  {
   "cell_type": "code",
   "execution_count": 32,
   "metadata": {},
   "outputs": [],
   "source": [
    "dfPessoa12MinasGerais = pd.read_csv('dataAgrupados/Pessoa12_MG.csv', sep = ';', encoding = 'unicode_escape')"
   ]
  },
  {
   "cell_type": "code",
   "execution_count": 33,
   "metadata": {},
   "outputs": [],
   "source": [
    "dfPessoa12MinasGerais = dfPessoa12MinasGerais.replace('X', 0, regex= True)"
   ]
  },
  {
   "cell_type": "code",
   "execution_count": 34,
   "metadata": {},
   "outputs": [],
   "source": [
    "dfPessoa12MinasGerais = dfPessoa12MinasGerais[['Cod_setor', 'V001']]"
   ]
  },
  {
   "cell_type": "code",
   "execution_count": 35,
   "metadata": {},
   "outputs": [
    {
     "data": {
      "text/html": [
       "<div>\n",
       "<style scoped>\n",
       "    .dataframe tbody tr th:only-of-type {\n",
       "        vertical-align: middle;\n",
       "    }\n",
       "\n",
       "    .dataframe tbody tr th {\n",
       "        vertical-align: top;\n",
       "    }\n",
       "\n",
       "    .dataframe thead th {\n",
       "        text-align: right;\n",
       "    }\n",
       "</style>\n",
       "<table border=\"1\" class=\"dataframe\">\n",
       "  <thead>\n",
       "    <tr style=\"text-align: right;\">\n",
       "      <th></th>\n",
       "      <th>Cod_setor</th>\n",
       "      <th>V001</th>\n",
       "    </tr>\n",
       "  </thead>\n",
       "  <tbody>\n",
       "    <tr>\n",
       "      <th>0</th>\n",
       "      <td>310010405000001</td>\n",
       "      <td>435</td>\n",
       "    </tr>\n",
       "    <tr>\n",
       "      <th>1</th>\n",
       "      <td>310010405000002</td>\n",
       "      <td>391</td>\n",
       "    </tr>\n",
       "    <tr>\n",
       "      <th>2</th>\n",
       "      <td>310010405000003</td>\n",
       "      <td>417</td>\n",
       "    </tr>\n",
       "    <tr>\n",
       "      <th>3</th>\n",
       "      <td>310010405000004</td>\n",
       "      <td>456</td>\n",
       "    </tr>\n",
       "    <tr>\n",
       "      <th>4</th>\n",
       "      <td>310010405000005</td>\n",
       "      <td>458</td>\n",
       "    </tr>\n",
       "  </tbody>\n",
       "</table>\n",
       "</div>"
      ],
      "text/plain": [
       "         Cod_setor  V001\n",
       "0  310010405000001   435\n",
       "1  310010405000002   391\n",
       "2  310010405000003   417\n",
       "3  310010405000004   456\n",
       "4  310010405000005   458"
      ]
     },
     "execution_count": 35,
     "metadata": {},
     "output_type": "execute_result"
    }
   ],
   "source": [
    "dfPessoa12MinasGerais.head()"
   ]
  },
  {
   "cell_type": "code",
   "execution_count": 36,
   "metadata": {},
   "outputs": [],
   "source": [
    "dfPessoa12MinasGerais.rename(columns= {'V001':'nAbsMulheresResidentes'}, inplace = True)"
   ]
  },
  {
   "cell_type": "code",
   "execution_count": 37,
   "metadata": {},
   "outputs": [
    {
     "data": {
      "text/html": [
       "<div>\n",
       "<style scoped>\n",
       "    .dataframe tbody tr th:only-of-type {\n",
       "        vertical-align: middle;\n",
       "    }\n",
       "\n",
       "    .dataframe tbody tr th {\n",
       "        vertical-align: top;\n",
       "    }\n",
       "\n",
       "    .dataframe thead th {\n",
       "        text-align: right;\n",
       "    }\n",
       "</style>\n",
       "<table border=\"1\" class=\"dataframe\">\n",
       "  <thead>\n",
       "    <tr style=\"text-align: right;\">\n",
       "      <th></th>\n",
       "      <th>Cod_setor</th>\n",
       "      <th>nAbsMulheresResidentes</th>\n",
       "    </tr>\n",
       "  </thead>\n",
       "  <tbody>\n",
       "    <tr>\n",
       "      <th>0</th>\n",
       "      <td>310010405000001</td>\n",
       "      <td>435</td>\n",
       "    </tr>\n",
       "    <tr>\n",
       "      <th>1</th>\n",
       "      <td>310010405000002</td>\n",
       "      <td>391</td>\n",
       "    </tr>\n",
       "    <tr>\n",
       "      <th>2</th>\n",
       "      <td>310010405000003</td>\n",
       "      <td>417</td>\n",
       "    </tr>\n",
       "    <tr>\n",
       "      <th>3</th>\n",
       "      <td>310010405000004</td>\n",
       "      <td>456</td>\n",
       "    </tr>\n",
       "    <tr>\n",
       "      <th>4</th>\n",
       "      <td>310010405000005</td>\n",
       "      <td>458</td>\n",
       "    </tr>\n",
       "  </tbody>\n",
       "</table>\n",
       "</div>"
      ],
      "text/plain": [
       "         Cod_setor  nAbsMulheresResidentes\n",
       "0  310010405000001                     435\n",
       "1  310010405000002                     391\n",
       "2  310010405000003                     417\n",
       "3  310010405000004                     456\n",
       "4  310010405000005                     458"
      ]
     },
     "execution_count": 37,
     "metadata": {},
     "output_type": "execute_result"
    }
   ],
   "source": [
    "dfPessoa12MinasGerais.head()"
   ]
  },
  {
   "cell_type": "markdown",
   "metadata": {},
   "source": [
    "**DomicilioRenda** - conferido"
   ]
  },
  {
   "cell_type": "code",
   "execution_count": 38,
   "metadata": {},
   "outputs": [],
   "source": [
    "dfDomicilioRendaMinasGerais = pd.read_csv('dataAgrupados/DomicilioRenda_MG.csv', sep = ';', encoding = 'unicode_escape')"
   ]
  },
  {
   "cell_type": "code",
   "execution_count": 39,
   "metadata": {},
   "outputs": [],
   "source": [
    "dfDomicilioRendaMinasGerais = dfDomicilioRendaMinasGerais[['Cod_setor',\n",
    "                                             'V002', 'V003', 'V004']]"
   ]
  },
  {
   "cell_type": "code",
   "execution_count": 40,
   "metadata": {},
   "outputs": [],
   "source": [
    "dfDomicilioRendaMinasGerais = dfDomicilioRendaMinasGerais.replace('X', 0, regex= True)"
   ]
  },
  {
   "cell_type": "code",
   "execution_count": 41,
   "metadata": {},
   "outputs": [],
   "source": [
    "dfDomicilioRendaMinasGerais = dfDomicilioRendaMinasGerais.astype(int)"
   ]
  },
  {
   "cell_type": "code",
   "execution_count": 42,
   "metadata": {},
   "outputs": [],
   "source": [
    "dfDomicilioRendaMinasGerais.rename(columns = {'V002':'TotalRendNomMensalDomParticulares',\n",
    "                                       'V003':'TotalRendimentoNomMensalDomParticularesPermanentes',\n",
    "                                       'V004':'TotalRendimentoNomMensalDomParitulcaresImprovisados'}\n",
    "                            , inplace = True)"
   ]
  },
  {
   "cell_type": "code",
   "execution_count": 43,
   "metadata": {},
   "outputs": [
    {
     "data": {
      "text/html": [
       "<div>\n",
       "<style scoped>\n",
       "    .dataframe tbody tr th:only-of-type {\n",
       "        vertical-align: middle;\n",
       "    }\n",
       "\n",
       "    .dataframe tbody tr th {\n",
       "        vertical-align: top;\n",
       "    }\n",
       "\n",
       "    .dataframe thead th {\n",
       "        text-align: right;\n",
       "    }\n",
       "</style>\n",
       "<table border=\"1\" class=\"dataframe\">\n",
       "  <thead>\n",
       "    <tr style=\"text-align: right;\">\n",
       "      <th></th>\n",
       "      <th>Cod_setor</th>\n",
       "      <th>TotalRendNomMensalDomParticulares</th>\n",
       "      <th>TotalRendimentoNomMensalDomParticularesPermanentes</th>\n",
       "      <th>TotalRendimentoNomMensalDomParitulcaresImprovisados</th>\n",
       "    </tr>\n",
       "  </thead>\n",
       "  <tbody>\n",
       "    <tr>\n",
       "      <th>0</th>\n",
       "      <td>310010405000001</td>\n",
       "      <td>358401</td>\n",
       "      <td>358401</td>\n",
       "      <td>0</td>\n",
       "    </tr>\n",
       "    <tr>\n",
       "      <th>1</th>\n",
       "      <td>310010405000002</td>\n",
       "      <td>435032</td>\n",
       "      <td>435032</td>\n",
       "      <td>0</td>\n",
       "    </tr>\n",
       "    <tr>\n",
       "      <th>2</th>\n",
       "      <td>310010405000003</td>\n",
       "      <td>486861</td>\n",
       "      <td>484441</td>\n",
       "      <td>2420</td>\n",
       "    </tr>\n",
       "    <tr>\n",
       "      <th>3</th>\n",
       "      <td>310010405000004</td>\n",
       "      <td>315271</td>\n",
       "      <td>310481</td>\n",
       "      <td>4790</td>\n",
       "    </tr>\n",
       "    <tr>\n",
       "      <th>4</th>\n",
       "      <td>310010405000005</td>\n",
       "      <td>386976</td>\n",
       "      <td>384966</td>\n",
       "      <td>2010</td>\n",
       "    </tr>\n",
       "  </tbody>\n",
       "</table>\n",
       "</div>"
      ],
      "text/plain": [
       "         Cod_setor  TotalRendNomMensalDomParticulares  \\\n",
       "0  310010405000001                             358401   \n",
       "1  310010405000002                             435032   \n",
       "2  310010405000003                             486861   \n",
       "3  310010405000004                             315271   \n",
       "4  310010405000005                             386976   \n",
       "\n",
       "   TotalRendimentoNomMensalDomParticularesPermanentes  \\\n",
       "0                                             358401    \n",
       "1                                             435032    \n",
       "2                                             484441    \n",
       "3                                             310481    \n",
       "4                                             384966    \n",
       "\n",
       "   TotalRendimentoNomMensalDomParitulcaresImprovisados  \n",
       "0                                                  0    \n",
       "1                                                  0    \n",
       "2                                               2420    \n",
       "3                                               4790    \n",
       "4                                               2010    "
      ]
     },
     "execution_count": 43,
     "metadata": {},
     "output_type": "execute_result"
    }
   ],
   "source": [
    "dfDomicilioRendaMinasGerais.head()"
   ]
  },
  {
   "cell_type": "markdown",
   "metadata": {},
   "source": [
    "**ResponsavelRenda** - conferido"
   ]
  },
  {
   "cell_type": "code",
   "execution_count": 44,
   "metadata": {},
   "outputs": [],
   "source": [
    "dfResponsavelRendaMinasGerais = pd.read_csv('dataAgrupados/ResponsavelRenda_MG.csv', sep = ';', encoding = 'unicode_escape')"
   ]
  },
  {
   "cell_type": "code",
   "execution_count": 45,
   "metadata": {},
   "outputs": [],
   "source": [
    "dfResponsavelRendaMinasGerais = dfResponsavelRendaMinasGerais[['Cod_setor', \n",
    "                                                 'V001','V002', 'V003',\n",
    "                                                 'V004','V005', 'V006',\n",
    "                                                 'V007','V008', 'V009']]"
   ]
  },
  {
   "cell_type": "code",
   "execution_count": 46,
   "metadata": {},
   "outputs": [],
   "source": [
    "dfResponsavelRendaMinasGerais = dfResponsavelRendaMinasGerais.replace('X', 0, regex= True)"
   ]
  },
  {
   "cell_type": "code",
   "execution_count": 47,
   "metadata": {},
   "outputs": [],
   "source": [
    "dfResponsavelRendaMinasGerais = dfResponsavelRendaMinasGerais.astype(int)"
   ]
  },
  {
   "cell_type": "code",
   "execution_count": 48,
   "metadata": {},
   "outputs": [],
   "source": [
    "dfResponsavelRendaMinasGerais['nAbsPessoasClasseE'] = dfResponsavelRendaMinasGerais['V001'] +dfResponsavelRendaMinasGerais['V002'] + dfResponsavelRendaMinasGerais['V003'] "
   ]
  },
  {
   "cell_type": "code",
   "execution_count": 49,
   "metadata": {},
   "outputs": [],
   "source": [
    "dfResponsavelRendaMinasGerais['nAbsPessoasClasseD'] = dfResponsavelRendaMinasGerais['V004']"
   ]
  },
  {
   "cell_type": "code",
   "execution_count": 50,
   "metadata": {},
   "outputs": [],
   "source": [
    "dfResponsavelRendaMinasGerais['nAbsPessoasClasseC'] = dfResponsavelRendaMinasGerais['V005'] +dfResponsavelRendaMinasGerais['V006']"
   ]
  },
  {
   "cell_type": "code",
   "execution_count": 51,
   "metadata": {},
   "outputs": [],
   "source": [
    "dfResponsavelRendaMinasGerais['nAbsPessoasClasseB'] = dfResponsavelRendaMinasGerais['V007']"
   ]
  },
  {
   "cell_type": "code",
   "execution_count": 52,
   "metadata": {},
   "outputs": [],
   "source": [
    "dfResponsavelRendaMinasGerais['nAbsPessoasClasseA'] = dfResponsavelRendaMinasGerais['V008'] +  dfResponsavelRendaMinasGerais['V009']"
   ]
  },
  {
   "cell_type": "code",
   "execution_count": 53,
   "metadata": {},
   "outputs": [],
   "source": [
    "dfResponsavelRendaMinasGerais.drop(['V001', 'V002', 'V003',\n",
    "                        'V004', 'V005', 'V006', 'V007', 'V008', 'V009'], axis =1, inplace = True)"
   ]
  },
  {
   "cell_type": "code",
   "execution_count": 54,
   "metadata": {},
   "outputs": [
    {
     "data": {
      "text/html": [
       "<div>\n",
       "<style scoped>\n",
       "    .dataframe tbody tr th:only-of-type {\n",
       "        vertical-align: middle;\n",
       "    }\n",
       "\n",
       "    .dataframe tbody tr th {\n",
       "        vertical-align: top;\n",
       "    }\n",
       "\n",
       "    .dataframe thead th {\n",
       "        text-align: right;\n",
       "    }\n",
       "</style>\n",
       "<table border=\"1\" class=\"dataframe\">\n",
       "  <thead>\n",
       "    <tr style=\"text-align: right;\">\n",
       "      <th></th>\n",
       "      <th>Cod_setor</th>\n",
       "      <th>nAbsPessoasClasseE</th>\n",
       "      <th>nAbsPessoasClasseD</th>\n",
       "      <th>nAbsPessoasClasseC</th>\n",
       "      <th>nAbsPessoasClasseB</th>\n",
       "      <th>nAbsPessoasClasseA</th>\n",
       "    </tr>\n",
       "  </thead>\n",
       "  <tbody>\n",
       "    <tr>\n",
       "      <th>0</th>\n",
       "      <td>310010405000001</td>\n",
       "      <td>251</td>\n",
       "      <td>17</td>\n",
       "      <td>19</td>\n",
       "      <td>0</td>\n",
       "      <td>0</td>\n",
       "    </tr>\n",
       "    <tr>\n",
       "      <th>1</th>\n",
       "      <td>310010405000002</td>\n",
       "      <td>198</td>\n",
       "      <td>25</td>\n",
       "      <td>22</td>\n",
       "      <td>1</td>\n",
       "      <td>3</td>\n",
       "    </tr>\n",
       "    <tr>\n",
       "      <th>2</th>\n",
       "      <td>310010405000003</td>\n",
       "      <td>222</td>\n",
       "      <td>30</td>\n",
       "      <td>24</td>\n",
       "      <td>2</td>\n",
       "      <td>2</td>\n",
       "    </tr>\n",
       "    <tr>\n",
       "      <th>3</th>\n",
       "      <td>310010405000004</td>\n",
       "      <td>282</td>\n",
       "      <td>12</td>\n",
       "      <td>2</td>\n",
       "      <td>0</td>\n",
       "      <td>1</td>\n",
       "    </tr>\n",
       "    <tr>\n",
       "      <th>4</th>\n",
       "      <td>310010405000005</td>\n",
       "      <td>214</td>\n",
       "      <td>29</td>\n",
       "      <td>22</td>\n",
       "      <td>0</td>\n",
       "      <td>3</td>\n",
       "    </tr>\n",
       "  </tbody>\n",
       "</table>\n",
       "</div>"
      ],
      "text/plain": [
       "         Cod_setor  nAbsPessoasClasseE  nAbsPessoasClasseD  \\\n",
       "0  310010405000001                 251                  17   \n",
       "1  310010405000002                 198                  25   \n",
       "2  310010405000003                 222                  30   \n",
       "3  310010405000004                 282                  12   \n",
       "4  310010405000005                 214                  29   \n",
       "\n",
       "   nAbsPessoasClasseC  nAbsPessoasClasseB  nAbsPessoasClasseA  \n",
       "0                  19                   0                   0  \n",
       "1                  22                   1                   3  \n",
       "2                  24                   2                   2  \n",
       "3                   2                   0                   1  \n",
       "4                  22                   0                   3  "
      ]
     },
     "execution_count": 54,
     "metadata": {},
     "output_type": "execute_result"
    }
   ],
   "source": [
    "dfResponsavelRendaMinasGerais.head()"
   ]
  },
  {
   "cell_type": "markdown",
   "metadata": {},
   "source": [
    "**DATAFRAME TOTAL.**"
   ]
  },
  {
   "cell_type": "code",
   "execution_count": 55,
   "metadata": {},
   "outputs": [],
   "source": [
    "data_frames = [dfBasicoMinasGerais, dfDomicilio01MinasGerais, dfDomicilio02MinasGerais, dfPessoa13MinasGerais, dfPessoa11MinasGerais, dfPessoa12MinasGerais,\n",
    "               dfDomicilioRendaMinasGerais, dfResponsavelRendaMinasGerais]"
   ]
  },
  {
   "cell_type": "code",
   "execution_count": 56,
   "metadata": {},
   "outputs": [],
   "source": [
    "dfTotalMinasGerais = reduce(lambda  left,right: pd.merge(left,right,on=['Cod_setor'],\n",
    "                                            how='inner'), data_frames)"
   ]
  },
  {
   "cell_type": "code",
   "execution_count": 57,
   "metadata": {},
   "outputs": [
    {
     "data": {
      "text/html": [
       "<div>\n",
       "<style scoped>\n",
       "    .dataframe tbody tr th:only-of-type {\n",
       "        vertical-align: middle;\n",
       "    }\n",
       "\n",
       "    .dataframe tbody tr th {\n",
       "        vertical-align: top;\n",
       "    }\n",
       "\n",
       "    .dataframe thead th {\n",
       "        text-align: right;\n",
       "    }\n",
       "</style>\n",
       "<table border=\"1\" class=\"dataframe\">\n",
       "  <thead>\n",
       "    <tr style=\"text-align: right;\">\n",
       "      <th></th>\n",
       "      <th>Cod_setor</th>\n",
       "      <th>MediaMoradorDomicilio</th>\n",
       "      <th>RendaMediaDomicilio</th>\n",
       "      <th>RendaMediaPerCapitaGeral</th>\n",
       "      <th>RendaMediaPerCapitaComRendimento</th>\n",
       "      <th>nAbsDomicilios</th>\n",
       "      <th>nAbsDomiciliosCasa</th>\n",
       "      <th>nAbsDomiciliosApto</th>\n",
       "      <th>nAbsImoveisAlugados</th>\n",
       "      <th>nAbs1PessoasDomicilio</th>\n",
       "      <th>...</th>\n",
       "      <th>nAbsHomensResidentes</th>\n",
       "      <th>nAbsMulheresResidentes</th>\n",
       "      <th>TotalRendNomMensalDomParticulares</th>\n",
       "      <th>TotalRendimentoNomMensalDomParticularesPermanentes</th>\n",
       "      <th>TotalRendimentoNomMensalDomParitulcaresImprovisados</th>\n",
       "      <th>nAbsPessoasClasseE</th>\n",
       "      <th>nAbsPessoasClasseD</th>\n",
       "      <th>nAbsPessoasClasseC</th>\n",
       "      <th>nAbsPessoasClasseB</th>\n",
       "      <th>nAbsPessoasClasseA</th>\n",
       "    </tr>\n",
       "  </thead>\n",
       "  <tbody>\n",
       "    <tr>\n",
       "      <th>0</th>\n",
       "      <td>310010405000001</td>\n",
       "      <td>2.78</td>\n",
       "      <td>751.41</td>\n",
       "      <td>477.66</td>\n",
       "      <td>689.45</td>\n",
       "      <td>306</td>\n",
       "      <td>306</td>\n",
       "      <td>0</td>\n",
       "      <td>62</td>\n",
       "      <td>53</td>\n",
       "      <td>...</td>\n",
       "      <td>416</td>\n",
       "      <td>435</td>\n",
       "      <td>358401</td>\n",
       "      <td>358401</td>\n",
       "      <td>0</td>\n",
       "      <td>251</td>\n",
       "      <td>17</td>\n",
       "      <td>19</td>\n",
       "      <td>0</td>\n",
       "      <td>0</td>\n",
       "    </tr>\n",
       "    <tr>\n",
       "      <th>1</th>\n",
       "      <td>310010405000002</td>\n",
       "      <td>2.82</td>\n",
       "      <td>980.65</td>\n",
       "      <td>664.95</td>\n",
       "      <td>901.74</td>\n",
       "      <td>262</td>\n",
       "      <td>257</td>\n",
       "      <td>5</td>\n",
       "      <td>51</td>\n",
       "      <td>49</td>\n",
       "      <td>...</td>\n",
       "      <td>347</td>\n",
       "      <td>391</td>\n",
       "      <td>435032</td>\n",
       "      <td>435032</td>\n",
       "      <td>0</td>\n",
       "      <td>198</td>\n",
       "      <td>25</td>\n",
       "      <td>22</td>\n",
       "      <td>1</td>\n",
       "      <td>3</td>\n",
       "    </tr>\n",
       "    <tr>\n",
       "      <th>2</th>\n",
       "      <td>310010405000003</td>\n",
       "      <td>2.80</td>\n",
       "      <td>1064.33</td>\n",
       "      <td>667.30</td>\n",
       "      <td>871.63</td>\n",
       "      <td>299</td>\n",
       "      <td>278</td>\n",
       "      <td>7</td>\n",
       "      <td>64</td>\n",
       "      <td>53</td>\n",
       "      <td>...</td>\n",
       "      <td>397</td>\n",
       "      <td>417</td>\n",
       "      <td>486861</td>\n",
       "      <td>484441</td>\n",
       "      <td>2420</td>\n",
       "      <td>222</td>\n",
       "      <td>30</td>\n",
       "      <td>24</td>\n",
       "      <td>2</td>\n",
       "      <td>2</td>\n",
       "    </tr>\n",
       "    <tr>\n",
       "      <th>3</th>\n",
       "      <td>310010405000004</td>\n",
       "      <td>2.85</td>\n",
       "      <td>643.75</td>\n",
       "      <td>413.20</td>\n",
       "      <td>628.03</td>\n",
       "      <td>314</td>\n",
       "      <td>304</td>\n",
       "      <td>6</td>\n",
       "      <td>79</td>\n",
       "      <td>60</td>\n",
       "      <td>...</td>\n",
       "      <td>440</td>\n",
       "      <td>456</td>\n",
       "      <td>315271</td>\n",
       "      <td>310481</td>\n",
       "      <td>4790</td>\n",
       "      <td>282</td>\n",
       "      <td>12</td>\n",
       "      <td>2</td>\n",
       "      <td>0</td>\n",
       "      <td>1</td>\n",
       "    </tr>\n",
       "    <tr>\n",
       "      <th>4</th>\n",
       "      <td>310010405000005</td>\n",
       "      <td>2.85</td>\n",
       "      <td>801.34</td>\n",
       "      <td>501.91</td>\n",
       "      <td>804.52</td>\n",
       "      <td>312</td>\n",
       "      <td>309</td>\n",
       "      <td>1</td>\n",
       "      <td>92</td>\n",
       "      <td>58</td>\n",
       "      <td>...</td>\n",
       "      <td>432</td>\n",
       "      <td>458</td>\n",
       "      <td>386976</td>\n",
       "      <td>384966</td>\n",
       "      <td>2010</td>\n",
       "      <td>214</td>\n",
       "      <td>29</td>\n",
       "      <td>22</td>\n",
       "      <td>0</td>\n",
       "      <td>3</td>\n",
       "    </tr>\n",
       "  </tbody>\n",
       "</table>\n",
       "<p>5 rows × 30 columns</p>\n",
       "</div>"
      ],
      "text/plain": [
       "         Cod_setor  MediaMoradorDomicilio  RendaMediaDomicilio  \\\n",
       "0  310010405000001                   2.78               751.41   \n",
       "1  310010405000002                   2.82               980.65   \n",
       "2  310010405000003                   2.80              1064.33   \n",
       "3  310010405000004                   2.85               643.75   \n",
       "4  310010405000005                   2.85               801.34   \n",
       "\n",
       "   RendaMediaPerCapitaGeral  RendaMediaPerCapitaComRendimento  nAbsDomicilios  \\\n",
       "0                    477.66                            689.45             306   \n",
       "1                    664.95                            901.74             262   \n",
       "2                    667.30                            871.63             299   \n",
       "3                    413.20                            628.03             314   \n",
       "4                    501.91                            804.52             312   \n",
       "\n",
       "  nAbsDomiciliosCasa nAbsDomiciliosApto nAbsImoveisAlugados  \\\n",
       "0                306                  0                  62   \n",
       "1                257                  5                  51   \n",
       "2                278                  7                  64   \n",
       "3                304                  6                  79   \n",
       "4                309                  1                  92   \n",
       "\n",
       "  nAbs1PessoasDomicilio  ... nAbsHomensResidentes nAbsMulheresResidentes  \\\n",
       "0                    53  ...                  416                    435   \n",
       "1                    49  ...                  347                    391   \n",
       "2                    53  ...                  397                    417   \n",
       "3                    60  ...                  440                    456   \n",
       "4                    58  ...                  432                    458   \n",
       "\n",
       "  TotalRendNomMensalDomParticulares  \\\n",
       "0                            358401   \n",
       "1                            435032   \n",
       "2                            486861   \n",
       "3                            315271   \n",
       "4                            386976   \n",
       "\n",
       "  TotalRendimentoNomMensalDomParticularesPermanentes  \\\n",
       "0                                             358401   \n",
       "1                                             435032   \n",
       "2                                             484441   \n",
       "3                                             310481   \n",
       "4                                             384966   \n",
       "\n",
       "  TotalRendimentoNomMensalDomParitulcaresImprovisados  nAbsPessoasClasseE  \\\n",
       "0                                                  0                  251   \n",
       "1                                                  0                  198   \n",
       "2                                               2420                  222   \n",
       "3                                               4790                  282   \n",
       "4                                               2010                  214   \n",
       "\n",
       "   nAbsPessoasClasseD  nAbsPessoasClasseC  nAbsPessoasClasseB  \\\n",
       "0                  17                  19                   0   \n",
       "1                  25                  22                   1   \n",
       "2                  30                  24                   2   \n",
       "3                  12                   2                   0   \n",
       "4                  29                  22                   0   \n",
       "\n",
       "   nAbsPessoasClasseA  \n",
       "0                   0  \n",
       "1                   3  \n",
       "2                   2  \n",
       "3                   1  \n",
       "4                   3  \n",
       "\n",
       "[5 rows x 30 columns]"
      ]
     },
     "execution_count": 57,
     "metadata": {},
     "output_type": "execute_result"
    }
   ],
   "source": [
    "dfTotalMinasGerais.head()"
   ]
  },
  {
   "cell_type": "code",
   "execution_count": 58,
   "metadata": {},
   "outputs": [
    {
     "name": "stdout",
     "output_type": "stream",
     "text": [
      "<class 'pandas.core.frame.DataFrame'>\n",
      "Int64Index: 32564 entries, 0 to 32563\n",
      "Data columns (total 30 columns):\n",
      " #   Column                                               Non-Null Count  Dtype  \n",
      "---  ------                                               --------------  -----  \n",
      " 0   Cod_setor                                            32564 non-null  int64  \n",
      " 1   MediaMoradorDomicilio                                32441 non-null  float64\n",
      " 2   RendaMediaDomicilio                                  32441 non-null  float64\n",
      " 3   RendaMediaPerCapitaGeral                             32564 non-null  float64\n",
      " 4   RendaMediaPerCapitaComRendimento                     32545 non-null  float64\n",
      " 5   nAbsDomicilios                                       32564 non-null  int64  \n",
      " 6   nAbsDomiciliosCasa                                   32564 non-null  object \n",
      " 7   nAbsDomiciliosApto                                   32564 non-null  object \n",
      " 8   nAbsImoveisAlugados                                  32564 non-null  object \n",
      " 9   nAbs1PessoasDomicilio                                32564 non-null  object \n",
      " 10  nAbs1PessoasDomicilio                                32564 non-null  object \n",
      " 11  nAbs2PessoasDomicilio                                32564 non-null  object \n",
      " 12  nAbs3PessoasDomicilio                                32564 non-null  object \n",
      " 13  nAbs4PessoasDomicilio                                32564 non-null  object \n",
      " 14  nAbs5ouMaisPessoasDomicilio                          32564 non-null  object \n",
      " 15  nAbsHabitantes                                       32564 non-null  int64  \n",
      " 16  nAbsMoradoresCasa                                    32564 non-null  int64  \n",
      " 17  nAbsMoradoresApto                                    32564 non-null  int64  \n",
      " 18  nAbsMoradoresImoveisAlugados                         32564 non-null  int64  \n",
      " 19  nAbsConjuges                                         32564 non-null  int64  \n",
      " 20  nAbsHomensResidentes                                 32564 non-null  int64  \n",
      " 21  nAbsMulheresResidentes                               32564 non-null  int64  \n",
      " 22  TotalRendNomMensalDomParticulares                    32564 non-null  int64  \n",
      " 23  TotalRendimentoNomMensalDomParticularesPermanentes   32564 non-null  int64  \n",
      " 24  TotalRendimentoNomMensalDomParitulcaresImprovisados  32564 non-null  int64  \n",
      " 25  nAbsPessoasClasseE                                   32564 non-null  int64  \n",
      " 26  nAbsPessoasClasseD                                   32564 non-null  int64  \n",
      " 27  nAbsPessoasClasseC                                   32564 non-null  int64  \n",
      " 28  nAbsPessoasClasseB                                   32564 non-null  int64  \n",
      " 29  nAbsPessoasClasseA                                   32564 non-null  int64  \n",
      "dtypes: float64(4), int64(17), object(9)\n",
      "memory usage: 7.7+ MB\n"
     ]
    }
   ],
   "source": [
    "dfTotalMinasGerais.info()"
   ]
  },
  {
   "cell_type": "code",
   "execution_count": 59,
   "metadata": {},
   "outputs": [],
   "source": [
    "dfTotalMinasGerais.to_csv('MinasGerais.csv', sep= ';', encoding = 'utf-8')"
   ]
  },
  {
   "cell_type": "markdown",
   "metadata": {},
   "source": [
    "Conferir num. abs. de 5 ou mais pessoas por domicilio"
   ]
  }
 ],
 "metadata": {
  "interpreter": {
   "hash": "916dbcbb3f70747c44a77c7bcd40155683ae19c65e1c03b4aa3499c5328201f1"
  },
  "kernelspec": {
   "display_name": "Python 3.8.10 64-bit",
   "language": "python",
   "name": "python3"
  },
  "language_info": {
   "codemirror_mode": {
    "name": "ipython",
    "version": 3
   },
   "file_extension": ".py",
   "mimetype": "text/x-python",
   "name": "python",
   "nbconvert_exporter": "python",
   "pygments_lexer": "ipython3",
   "version": "3.8.10"
  },
  "orig_nbformat": 4
 },
 "nbformat": 4,
 "nbformat_minor": 2
}

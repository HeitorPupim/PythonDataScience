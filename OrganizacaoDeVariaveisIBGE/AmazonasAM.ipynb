{
 "cells": [
  {
   "cell_type": "code",
   "execution_count": 12,
   "metadata": {},
   "outputs": [],
   "source": [
    "import pandas as pd\n",
    "import numpy as np\n",
    "from functools import reduce"
   ]
  },
  {
   "cell_type": "markdown",
   "metadata": {},
   "source": [
    "**Basico** - conferido"
   ]
  },
  {
   "cell_type": "code",
   "execution_count": 13,
   "metadata": {},
   "outputs": [],
   "source": [
    "dfBasicoAmazonas = pd.read_csv('dataAgrupados/Basico_AM.csv', sep = ';', encoding = 'unicode_escape')"
   ]
  },
  {
   "cell_type": "code",
   "execution_count": 14,
   "metadata": {},
   "outputs": [],
   "source": [
    "dfBasicoAmazonas = dfBasicoAmazonas[['Cod_setor','V003', 'V005', 'V009', 'V011']]"
   ]
  },
  {
   "cell_type": "code",
   "execution_count": 15,
   "metadata": {},
   "outputs": [],
   "source": [
    "dfBasicoAmazonas = dfBasicoAmazonas.replace('X', 0, regex= True)"
   ]
  },
  {
   "cell_type": "code",
   "execution_count": 16,
   "metadata": {},
   "outputs": [
    {
     "data": {
      "text/html": [
       "<div>\n",
       "<style scoped>\n",
       "    .dataframe tbody tr th:only-of-type {\n",
       "        vertical-align: middle;\n",
       "    }\n",
       "\n",
       "    .dataframe tbody tr th {\n",
       "        vertical-align: top;\n",
       "    }\n",
       "\n",
       "    .dataframe thead th {\n",
       "        text-align: right;\n",
       "    }\n",
       "</style>\n",
       "<table border=\"1\" class=\"dataframe\">\n",
       "  <thead>\n",
       "    <tr style=\"text-align: right;\">\n",
       "      <th></th>\n",
       "      <th>Cod_setor</th>\n",
       "      <th>V003</th>\n",
       "      <th>V005</th>\n",
       "      <th>V009</th>\n",
       "      <th>V011</th>\n",
       "    </tr>\n",
       "  </thead>\n",
       "  <tbody>\n",
       "    <tr>\n",
       "      <th>0</th>\n",
       "      <td>130002905000001</td>\n",
       "      <td>5,45</td>\n",
       "      <td>563,03</td>\n",
       "      <td>240,11</td>\n",
       "      <td>932,21</td>\n",
       "    </tr>\n",
       "    <tr>\n",
       "      <th>1</th>\n",
       "      <td>130002905000002</td>\n",
       "      <td>5,56</td>\n",
       "      <td>558,4</td>\n",
       "      <td>243,57</td>\n",
       "      <td>591,07</td>\n",
       "    </tr>\n",
       "    <tr>\n",
       "      <th>2</th>\n",
       "      <td>130002905000003</td>\n",
       "      <td>5,52</td>\n",
       "      <td>655,95</td>\n",
       "      <td>285,81</td>\n",
       "      <td>798,75</td>\n",
       "    </tr>\n",
       "    <tr>\n",
       "      <th>3</th>\n",
       "      <td>130002905000004</td>\n",
       "      <td>5,13</td>\n",
       "      <td>460,61</td>\n",
       "      <td>147,79</td>\n",
       "      <td>564,27</td>\n",
       "    </tr>\n",
       "    <tr>\n",
       "      <th>4</th>\n",
       "      <td>130002905000006</td>\n",
       "      <td>5,48</td>\n",
       "      <td>538,83</td>\n",
       "      <td>208,37</td>\n",
       "      <td>576,35</td>\n",
       "    </tr>\n",
       "  </tbody>\n",
       "</table>\n",
       "</div>"
      ],
      "text/plain": [
       "         Cod_setor  V003    V005    V009    V011\n",
       "0  130002905000001  5,45  563,03  240,11  932,21\n",
       "1  130002905000002  5,56   558,4  243,57  591,07\n",
       "2  130002905000003  5,52  655,95  285,81  798,75\n",
       "3  130002905000004  5,13  460,61  147,79  564,27\n",
       "4  130002905000006  5,48  538,83  208,37  576,35"
      ]
     },
     "execution_count": 16,
     "metadata": {},
     "output_type": "execute_result"
    }
   ],
   "source": [
    "dfBasicoAmazonas.head()"
   ]
  },
  {
   "cell_type": "code",
   "execution_count": 17,
   "metadata": {},
   "outputs": [],
   "source": [
    "dfBasicoAmazonas = dfBasicoAmazonas.replace(',', '.', regex= True)"
   ]
  },
  {
   "cell_type": "code",
   "execution_count": 18,
   "metadata": {},
   "outputs": [],
   "source": [
    "dfBasicoAmazonas = dfBasicoAmazonas.astype({'V003':'float','V005':'float','V009':'float','V011':'float'})"
   ]
  },
  {
   "cell_type": "code",
   "execution_count": 19,
   "metadata": {},
   "outputs": [],
   "source": [
    "dfBasicoAmazonas.rename(columns = {'V003':'MediaMoradorDomicilio',\n",
    "                     'V005':'RendaMediaDomicilio',\n",
    "                     'V009':'RendaMediaPerCapitaGeral',\n",
    "                     'V011':'RendaMediaPerCapitaComRendimento'}, inplace = True)"
   ]
  },
  {
   "cell_type": "markdown",
   "metadata": {},
   "source": [
    "**Domicilio01** - conferido"
   ]
  },
  {
   "cell_type": "code",
   "execution_count": 20,
   "metadata": {},
   "outputs": [],
   "source": [
    "dfDomicilio01Amazonas = pd.read_csv('dataAgrupados/Domicilio01_AM.csv', sep = ';', encoding = 'unicode_escape')"
   ]
  },
  {
   "cell_type": "code",
   "execution_count": 21,
   "metadata": {},
   "outputs": [],
   "source": [
    "dfDomicilio01Amazonas = dfDomicilio01Amazonas.replace('X', 0, regex= True)"
   ]
  },
  {
   "cell_type": "code",
   "execution_count": 22,
   "metadata": {},
   "outputs": [],
   "source": [
    "#dfDomicilio01Amazonas = dfDomicilio01Amazonas.astype(int)"
   ]
  },
  {
   "cell_type": "code",
   "execution_count": 23,
   "metadata": {},
   "outputs": [],
   "source": [
    "dfDomicilio01Amazonas = dfDomicilio01Amazonas[['Cod_setor',\n",
    "                                       'V001', 'V003', 'V005', 'V008','V050',\n",
    "                                       'V050' ,'V051' ,'V052' ,'V053' ,'V054' ,'V055' ,\n",
    "                                       'V056' ,'V057' ,'V058' ,'V059' ,]]"
   ]
  },
  {
   "cell_type": "code",
   "execution_count": 24,
   "metadata": {},
   "outputs": [],
   "source": [
    "dfDomicilio01Amazonas.rename(columns = {\n",
    "'V001':'nAbsDomicilios' , \n",
    "'V003': 'nAbsDomiciliosCasa', \n",
    "'V005': 'nAbsDomiciliosApto', \n",
    "'V008': 'nAbsImoveisAlugados', \n",
    "'V050':'nAbs1PessoasDomicilio',\n",
    "'V051':'nAbs2PessoasDomicilio',\n",
    "'V052':'nAbs3PessoasDomicilio',\n",
    "'V053':'nAbs4PessoasDomicilio',\n",
    "'V054':'nAbs5PessoasDomicilio',\n",
    "'V055':'nAbs6PessoasDomicilio',\n",
    "'V056':'nAbs7PessoasDomicilio',\n",
    "'V057':'nAbs8PessoasDomicilio',\n",
    "'V058':'nAbs9PessoasDomicilio',\n",
    "'V059':'nAbs10PessoasDomicilio'}, inplace = True)"
   ]
  },
  {
   "cell_type": "code",
   "execution_count": 25,
   "metadata": {},
   "outputs": [
    {
     "data": {
      "text/plain": [
       "0       810\n",
       "1       521\n",
       "2       514\n",
       "3        13\n",
       "4        59\n",
       "       ... \n",
       "5636     06\n",
       "5637     08\n",
       "5638    714\n",
       "5639    613\n",
       "5640     88\n",
       "Length: 5641, dtype: object"
      ]
     },
     "execution_count": 25,
     "metadata": {},
     "output_type": "execute_result"
    }
   ],
   "source": [
    "dfDomicilio01Amazonas['nAbs5ouMaisPessoasDomicilio'] = dfDomicilio01Amazonas['nAbs5PessoasDomicilio'] +dfDomicilio01Amazonas['nAbs6PessoasDomicilio'] + dfDomicilio01Amazonas['nAbs7PessoasDomicilio'] + dfDomicilio01Amazonas['nAbs8PessoasDomicilio']\n",
    "+ dfDomicilio01Amazonas['nAbs9PessoasDomicilio'] + dfDomicilio01Amazonas['nAbs10PessoasDomicilio'] "
   ]
  },
  {
   "cell_type": "code",
   "execution_count": 26,
   "metadata": {},
   "outputs": [],
   "source": [
    "dfDomicilio01Amazonas.drop(['nAbs5PessoasDomicilio', 'nAbs6PessoasDomicilio', 'nAbs7PessoasDomicilio',\n",
    "                        'nAbs8PessoasDomicilio', 'nAbs9PessoasDomicilio', 'nAbs10PessoasDomicilio'], axis =1, inplace = True)"
   ]
  },
  {
   "cell_type": "markdown",
   "metadata": {},
   "source": [
    "**Domicilio02** - conferido"
   ]
  },
  {
   "cell_type": "code",
   "execution_count": 27,
   "metadata": {},
   "outputs": [],
   "source": [
    "dfDomicilio02Amazonas = pd.read_csv('dataAgrupados/Domicilio02_AM.csv', sep = ';', encoding = 'unicode_escape')"
   ]
  },
  {
   "cell_type": "code",
   "execution_count": 28,
   "metadata": {},
   "outputs": [],
   "source": [
    "dfDomicilio02Amazonas = dfDomicilio02Amazonas.replace('X', 0, regex= True)"
   ]
  },
  {
   "cell_type": "code",
   "execution_count": 29,
   "metadata": {},
   "outputs": [],
   "source": [
    "dfDomicilio02Amazonas = dfDomicilio02Amazonas.astype(int)\n"
   ]
  },
  {
   "cell_type": "code",
   "execution_count": 30,
   "metadata": {},
   "outputs": [
    {
     "name": "stdout",
     "output_type": "stream",
     "text": [
      "<class 'pandas.core.frame.DataFrame'>\n",
      "RangeIndex: 5641 entries, 0 to 5640\n",
      "Columns: 134 entries, Cod_setor to V132\n",
      "dtypes: int64(134)\n",
      "memory usage: 5.8 MB\n"
     ]
    }
   ],
   "source": [
    "dfDomicilio02Amazonas.info()"
   ]
  },
  {
   "cell_type": "code",
   "execution_count": 31,
   "metadata": {},
   "outputs": [],
   "source": [
    "dfDomicilio02Amazonas = dfDomicilio02Amazonas[['Cod_setor',\n",
    "                                       'V001', 'V003', 'V005', 'V008']]"
   ]
  },
  {
   "cell_type": "code",
   "execution_count": 32,
   "metadata": {},
   "outputs": [],
   "source": [
    "dfDomicilio02Amazonas.rename(columns = {\n",
    "'V001':'nAbsHabitantes' , \n",
    "'V003': 'nAbsMoradoresCasa', \n",
    "'V005': 'nAbsMoradoresApto', \n",
    "'V008': 'nAbsMoradoresImoveisAlugados', \n",
    "}, inplace = True)"
   ]
  },
  {
   "cell_type": "code",
   "execution_count": 33,
   "metadata": {},
   "outputs": [
    {
     "data": {
      "text/html": [
       "<div>\n",
       "<style scoped>\n",
       "    .dataframe tbody tr th:only-of-type {\n",
       "        vertical-align: middle;\n",
       "    }\n",
       "\n",
       "    .dataframe tbody tr th {\n",
       "        vertical-align: top;\n",
       "    }\n",
       "\n",
       "    .dataframe thead th {\n",
       "        text-align: right;\n",
       "    }\n",
       "</style>\n",
       "<table border=\"1\" class=\"dataframe\">\n",
       "  <thead>\n",
       "    <tr style=\"text-align: right;\">\n",
       "      <th></th>\n",
       "      <th>Cod_setor</th>\n",
       "      <th>nAbsHabitantes</th>\n",
       "      <th>nAbsMoradoresCasa</th>\n",
       "      <th>nAbsMoradoresApto</th>\n",
       "      <th>nAbsMoradoresImoveisAlugados</th>\n",
       "    </tr>\n",
       "  </thead>\n",
       "  <tbody>\n",
       "    <tr>\n",
       "      <th>0</th>\n",
       "      <td>130002905000001</td>\n",
       "      <td>806</td>\n",
       "      <td>796</td>\n",
       "      <td>0</td>\n",
       "      <td>32</td>\n",
       "    </tr>\n",
       "    <tr>\n",
       "      <th>1</th>\n",
       "      <td>130002905000002</td>\n",
       "      <td>1098</td>\n",
       "      <td>1090</td>\n",
       "      <td>0</td>\n",
       "      <td>58</td>\n",
       "    </tr>\n",
       "    <tr>\n",
       "      <th>2</th>\n",
       "      <td>130002905000003</td>\n",
       "      <td>807</td>\n",
       "      <td>806</td>\n",
       "      <td>0</td>\n",
       "      <td>1</td>\n",
       "    </tr>\n",
       "    <tr>\n",
       "      <th>3</th>\n",
       "      <td>130002905000004</td>\n",
       "      <td>118</td>\n",
       "      <td>118</td>\n",
       "      <td>0</td>\n",
       "      <td>0</td>\n",
       "    </tr>\n",
       "    <tr>\n",
       "      <th>4</th>\n",
       "      <td>130002905000006</td>\n",
       "      <td>564</td>\n",
       "      <td>564</td>\n",
       "      <td>0</td>\n",
       "      <td>0</td>\n",
       "    </tr>\n",
       "  </tbody>\n",
       "</table>\n",
       "</div>"
      ],
      "text/plain": [
       "         Cod_setor  nAbsHabitantes  nAbsMoradoresCasa  nAbsMoradoresApto  \\\n",
       "0  130002905000001             806                796                  0   \n",
       "1  130002905000002            1098               1090                  0   \n",
       "2  130002905000003             807                806                  0   \n",
       "3  130002905000004             118                118                  0   \n",
       "4  130002905000006             564                564                  0   \n",
       "\n",
       "   nAbsMoradoresImoveisAlugados  \n",
       "0                            32  \n",
       "1                            58  \n",
       "2                             1  \n",
       "3                             0  \n",
       "4                             0  "
      ]
     },
     "execution_count": 33,
     "metadata": {},
     "output_type": "execute_result"
    }
   ],
   "source": [
    "dfDomicilio02Amazonas.head()"
   ]
  },
  {
   "cell_type": "markdown",
   "metadata": {},
   "source": [
    "**Pessoa13** - conferido"
   ]
  },
  {
   "cell_type": "code",
   "execution_count": 34,
   "metadata": {},
   "outputs": [],
   "source": [
    "dfPessoa13Amazonas = pd.read_csv('dataAgrupados/Pessoa13_AM.csv', sep = ';', encoding = 'unicode_escape')"
   ]
  },
  {
   "cell_type": "code",
   "execution_count": 35,
   "metadata": {},
   "outputs": [],
   "source": [
    "dfPessoa13Amazonas = dfPessoa13Amazonas[['Cod_setor', 'V001']]"
   ]
  },
  {
   "cell_type": "code",
   "execution_count": 36,
   "metadata": {},
   "outputs": [],
   "source": [
    "dfPessoa13Amazonas = dfPessoa13Amazonas.replace('X', 0, regex= True)"
   ]
  },
  {
   "cell_type": "code",
   "execution_count": 37,
   "metadata": {},
   "outputs": [],
   "source": [
    "dfPessoa13Amazonas.rename(columns= {'V001':'nAbsConjuges'}, inplace = True)"
   ]
  },
  {
   "cell_type": "code",
   "execution_count": 38,
   "metadata": {},
   "outputs": [
    {
     "data": {
      "text/html": [
       "<div>\n",
       "<style scoped>\n",
       "    .dataframe tbody tr th:only-of-type {\n",
       "        vertical-align: middle;\n",
       "    }\n",
       "\n",
       "    .dataframe tbody tr th {\n",
       "        vertical-align: top;\n",
       "    }\n",
       "\n",
       "    .dataframe thead th {\n",
       "        text-align: right;\n",
       "    }\n",
       "</style>\n",
       "<table border=\"1\" class=\"dataframe\">\n",
       "  <thead>\n",
       "    <tr style=\"text-align: right;\">\n",
       "      <th></th>\n",
       "      <th>Cod_setor</th>\n",
       "      <th>nAbsConjuges</th>\n",
       "    </tr>\n",
       "  </thead>\n",
       "  <tbody>\n",
       "    <tr>\n",
       "      <th>0</th>\n",
       "      <td>130002905000001</td>\n",
       "      <td>806</td>\n",
       "    </tr>\n",
       "    <tr>\n",
       "      <th>1</th>\n",
       "      <td>130002905000002</td>\n",
       "      <td>1098</td>\n",
       "    </tr>\n",
       "    <tr>\n",
       "      <th>2</th>\n",
       "      <td>130002905000003</td>\n",
       "      <td>807</td>\n",
       "    </tr>\n",
       "    <tr>\n",
       "      <th>3</th>\n",
       "      <td>130002905000004</td>\n",
       "      <td>118</td>\n",
       "    </tr>\n",
       "    <tr>\n",
       "      <th>4</th>\n",
       "      <td>130002905000006</td>\n",
       "      <td>564</td>\n",
       "    </tr>\n",
       "  </tbody>\n",
       "</table>\n",
       "</div>"
      ],
      "text/plain": [
       "         Cod_setor  nAbsConjuges\n",
       "0  130002905000001           806\n",
       "1  130002905000002          1098\n",
       "2  130002905000003           807\n",
       "3  130002905000004           118\n",
       "4  130002905000006           564"
      ]
     },
     "execution_count": 38,
     "metadata": {},
     "output_type": "execute_result"
    }
   ],
   "source": [
    "dfPessoa13Amazonas.head()"
   ]
  },
  {
   "cell_type": "markdown",
   "metadata": {},
   "source": [
    "**Pessoa11** - conferido"
   ]
  },
  {
   "cell_type": "code",
   "execution_count": 39,
   "metadata": {},
   "outputs": [],
   "source": [
    "dfPessoa11Amazonas = pd.read_csv('dataAgrupados/Pessoa11_AM.csv', sep = ';', encoding = 'unicode_escape')"
   ]
  },
  {
   "cell_type": "code",
   "execution_count": 40,
   "metadata": {},
   "outputs": [],
   "source": [
    "dfPessoa11Amazonas = dfPessoa11Amazonas[['Cod_setor', 'V001']]"
   ]
  },
  {
   "cell_type": "code",
   "execution_count": 41,
   "metadata": {},
   "outputs": [],
   "source": [
    "dfPessoa11Amazonas = dfPessoa11Amazonas.replace('X', 0, regex= True)"
   ]
  },
  {
   "cell_type": "code",
   "execution_count": 42,
   "metadata": {},
   "outputs": [],
   "source": [
    "dfPessoa11Amazonas.rename(columns= {'V001':'nAbsHomensResidentes'}, inplace = True)"
   ]
  },
  {
   "cell_type": "markdown",
   "metadata": {},
   "source": [
    "**Pessoa12** - conferido"
   ]
  },
  {
   "cell_type": "code",
   "execution_count": 43,
   "metadata": {},
   "outputs": [],
   "source": [
    "dfPessoa12Amazonas = pd.read_csv('dataAgrupados/Pessoa12_AM.csv', sep = ';', encoding = 'unicode_escape')"
   ]
  },
  {
   "cell_type": "code",
   "execution_count": 44,
   "metadata": {},
   "outputs": [],
   "source": [
    "dfPessoa12Amazonas = dfPessoa12Amazonas.replace('X', 0, regex= True)"
   ]
  },
  {
   "cell_type": "code",
   "execution_count": 45,
   "metadata": {},
   "outputs": [],
   "source": [
    "dfPessoa12Amazonas = dfPessoa12Amazonas[['Cod_setor', 'V001']]"
   ]
  },
  {
   "cell_type": "code",
   "execution_count": 46,
   "metadata": {},
   "outputs": [
    {
     "data": {
      "text/html": [
       "<div>\n",
       "<style scoped>\n",
       "    .dataframe tbody tr th:only-of-type {\n",
       "        vertical-align: middle;\n",
       "    }\n",
       "\n",
       "    .dataframe tbody tr th {\n",
       "        vertical-align: top;\n",
       "    }\n",
       "\n",
       "    .dataframe thead th {\n",
       "        text-align: right;\n",
       "    }\n",
       "</style>\n",
       "<table border=\"1\" class=\"dataframe\">\n",
       "  <thead>\n",
       "    <tr style=\"text-align: right;\">\n",
       "      <th></th>\n",
       "      <th>Cod_setor</th>\n",
       "      <th>V001</th>\n",
       "    </tr>\n",
       "  </thead>\n",
       "  <tbody>\n",
       "    <tr>\n",
       "      <th>0</th>\n",
       "      <td>130002905000001</td>\n",
       "      <td>392</td>\n",
       "    </tr>\n",
       "    <tr>\n",
       "      <th>1</th>\n",
       "      <td>130002905000002</td>\n",
       "      <td>545</td>\n",
       "    </tr>\n",
       "    <tr>\n",
       "      <th>2</th>\n",
       "      <td>130002905000003</td>\n",
       "      <td>395</td>\n",
       "    </tr>\n",
       "    <tr>\n",
       "      <th>3</th>\n",
       "      <td>130002905000004</td>\n",
       "      <td>49</td>\n",
       "    </tr>\n",
       "    <tr>\n",
       "      <th>4</th>\n",
       "      <td>130002905000006</td>\n",
       "      <td>240</td>\n",
       "    </tr>\n",
       "  </tbody>\n",
       "</table>\n",
       "</div>"
      ],
      "text/plain": [
       "         Cod_setor  V001\n",
       "0  130002905000001   392\n",
       "1  130002905000002   545\n",
       "2  130002905000003   395\n",
       "3  130002905000004    49\n",
       "4  130002905000006   240"
      ]
     },
     "execution_count": 46,
     "metadata": {},
     "output_type": "execute_result"
    }
   ],
   "source": [
    "dfPessoa12Amazonas.head()"
   ]
  },
  {
   "cell_type": "code",
   "execution_count": 47,
   "metadata": {},
   "outputs": [],
   "source": [
    "dfPessoa12Amazonas.rename(columns= {'V001':'nAbsMulheresResidentes'}, inplace = True)"
   ]
  },
  {
   "cell_type": "code",
   "execution_count": 48,
   "metadata": {},
   "outputs": [
    {
     "data": {
      "text/html": [
       "<div>\n",
       "<style scoped>\n",
       "    .dataframe tbody tr th:only-of-type {\n",
       "        vertical-align: middle;\n",
       "    }\n",
       "\n",
       "    .dataframe tbody tr th {\n",
       "        vertical-align: top;\n",
       "    }\n",
       "\n",
       "    .dataframe thead th {\n",
       "        text-align: right;\n",
       "    }\n",
       "</style>\n",
       "<table border=\"1\" class=\"dataframe\">\n",
       "  <thead>\n",
       "    <tr style=\"text-align: right;\">\n",
       "      <th></th>\n",
       "      <th>Cod_setor</th>\n",
       "      <th>nAbsMulheresResidentes</th>\n",
       "    </tr>\n",
       "  </thead>\n",
       "  <tbody>\n",
       "    <tr>\n",
       "      <th>0</th>\n",
       "      <td>130002905000001</td>\n",
       "      <td>392</td>\n",
       "    </tr>\n",
       "    <tr>\n",
       "      <th>1</th>\n",
       "      <td>130002905000002</td>\n",
       "      <td>545</td>\n",
       "    </tr>\n",
       "    <tr>\n",
       "      <th>2</th>\n",
       "      <td>130002905000003</td>\n",
       "      <td>395</td>\n",
       "    </tr>\n",
       "    <tr>\n",
       "      <th>3</th>\n",
       "      <td>130002905000004</td>\n",
       "      <td>49</td>\n",
       "    </tr>\n",
       "    <tr>\n",
       "      <th>4</th>\n",
       "      <td>130002905000006</td>\n",
       "      <td>240</td>\n",
       "    </tr>\n",
       "  </tbody>\n",
       "</table>\n",
       "</div>"
      ],
      "text/plain": [
       "         Cod_setor  nAbsMulheresResidentes\n",
       "0  130002905000001                     392\n",
       "1  130002905000002                     545\n",
       "2  130002905000003                     395\n",
       "3  130002905000004                      49\n",
       "4  130002905000006                     240"
      ]
     },
     "execution_count": 48,
     "metadata": {},
     "output_type": "execute_result"
    }
   ],
   "source": [
    "dfPessoa12Amazonas.head()"
   ]
  },
  {
   "cell_type": "markdown",
   "metadata": {},
   "source": [
    "**DomicilioRenda** - conferido"
   ]
  },
  {
   "cell_type": "code",
   "execution_count": 49,
   "metadata": {},
   "outputs": [],
   "source": [
    "dfDomicilioRendaAmazonas = pd.read_csv('dataAgrupados/DomicilioRenda_AM.csv', sep = ';', encoding = 'unicode_escape')"
   ]
  },
  {
   "cell_type": "code",
   "execution_count": 50,
   "metadata": {},
   "outputs": [],
   "source": [
    "dfDomicilioRendaAmazonas = dfDomicilioRendaAmazonas[['Cod_setor',\n",
    "                                             'V002', 'V003', 'V004']]"
   ]
  },
  {
   "cell_type": "code",
   "execution_count": 51,
   "metadata": {},
   "outputs": [],
   "source": [
    "dfDomicilioRendaAmazonas = dfDomicilioRendaAmazonas.replace('X', 0, regex= True)"
   ]
  },
  {
   "cell_type": "code",
   "execution_count": 52,
   "metadata": {},
   "outputs": [],
   "source": [
    "dfDomicilioRendaAmazonas = dfDomicilioRendaAmazonas.astype(int)"
   ]
  },
  {
   "cell_type": "code",
   "execution_count": 53,
   "metadata": {},
   "outputs": [],
   "source": [
    "dfDomicilioRendaAmazonas.rename(columns = {'V002':'TotalRendNomMensalDomParticulares',\n",
    "                                       'V003':'TotalRendimentoNomMensalDomParticularesPermanentes',\n",
    "                                       'V004':'TotalRendimentoNomMensalDomParitulcaresImprovisados'}\n",
    "                            , inplace = True)"
   ]
  },
  {
   "cell_type": "code",
   "execution_count": 54,
   "metadata": {},
   "outputs": [
    {
     "data": {
      "text/html": [
       "<div>\n",
       "<style scoped>\n",
       "    .dataframe tbody tr th:only-of-type {\n",
       "        vertical-align: middle;\n",
       "    }\n",
       "\n",
       "    .dataframe tbody tr th {\n",
       "        vertical-align: top;\n",
       "    }\n",
       "\n",
       "    .dataframe thead th {\n",
       "        text-align: right;\n",
       "    }\n",
       "</style>\n",
       "<table border=\"1\" class=\"dataframe\">\n",
       "  <thead>\n",
       "    <tr style=\"text-align: right;\">\n",
       "      <th></th>\n",
       "      <th>Cod_setor</th>\n",
       "      <th>TotalRendNomMensalDomParticulares</th>\n",
       "      <th>TotalRendimentoNomMensalDomParticularesPermanentes</th>\n",
       "      <th>TotalRendimentoNomMensalDomParitulcaresImprovisados</th>\n",
       "    </tr>\n",
       "  </thead>\n",
       "  <tbody>\n",
       "    <tr>\n",
       "      <th>0</th>\n",
       "      <td>130002905000001</td>\n",
       "      <td>134276</td>\n",
       "      <td>134276</td>\n",
       "      <td>0</td>\n",
       "    </tr>\n",
       "    <tr>\n",
       "      <th>1</th>\n",
       "      <td>130002905000002</td>\n",
       "      <td>185463</td>\n",
       "      <td>185463</td>\n",
       "      <td>0</td>\n",
       "    </tr>\n",
       "    <tr>\n",
       "      <th>2</th>\n",
       "      <td>130002905000003</td>\n",
       "      <td>178919</td>\n",
       "      <td>178919</td>\n",
       "      <td>0</td>\n",
       "    </tr>\n",
       "    <tr>\n",
       "      <th>3</th>\n",
       "      <td>130002905000004</td>\n",
       "      <td>12414</td>\n",
       "      <td>12414</td>\n",
       "      <td>0</td>\n",
       "    </tr>\n",
       "    <tr>\n",
       "      <th>4</th>\n",
       "      <td>130002905000006</td>\n",
       "      <td>81266</td>\n",
       "      <td>81266</td>\n",
       "      <td>0</td>\n",
       "    </tr>\n",
       "  </tbody>\n",
       "</table>\n",
       "</div>"
      ],
      "text/plain": [
       "         Cod_setor  TotalRendNomMensalDomParticulares  \\\n",
       "0  130002905000001                             134276   \n",
       "1  130002905000002                             185463   \n",
       "2  130002905000003                             178919   \n",
       "3  130002905000004                              12414   \n",
       "4  130002905000006                              81266   \n",
       "\n",
       "   TotalRendimentoNomMensalDomParticularesPermanentes  \\\n",
       "0                                             134276    \n",
       "1                                             185463    \n",
       "2                                             178919    \n",
       "3                                              12414    \n",
       "4                                              81266    \n",
       "\n",
       "   TotalRendimentoNomMensalDomParitulcaresImprovisados  \n",
       "0                                                  0    \n",
       "1                                                  0    \n",
       "2                                                  0    \n",
       "3                                                  0    \n",
       "4                                                  0    "
      ]
     },
     "execution_count": 54,
     "metadata": {},
     "output_type": "execute_result"
    }
   ],
   "source": [
    "dfDomicilioRendaAmazonas.head()"
   ]
  },
  {
   "cell_type": "markdown",
   "metadata": {},
   "source": [
    "**ResponsavelRenda** - conferido"
   ]
  },
  {
   "cell_type": "code",
   "execution_count": 55,
   "metadata": {},
   "outputs": [],
   "source": [
    "dfResponsavelRendaAmazonas = pd.read_csv('dataAgrupados/ResponsavelRenda_AM.csv', sep = ';', encoding = 'unicode_escape')"
   ]
  },
  {
   "cell_type": "code",
   "execution_count": 56,
   "metadata": {},
   "outputs": [],
   "source": [
    "dfResponsavelRendaAmazonas = dfResponsavelRendaAmazonas[['Cod_setor', \n",
    "                                                 'V001','V002', 'V003',\n",
    "                                                 'V004','V005', 'V006',\n",
    "                                                 'V007','V008', 'V009']]"
   ]
  },
  {
   "cell_type": "code",
   "execution_count": 57,
   "metadata": {},
   "outputs": [],
   "source": [
    "dfResponsavelRendaAmazonas = dfResponsavelRendaAmazonas.replace('X', 0, regex= True)"
   ]
  },
  {
   "cell_type": "code",
   "execution_count": 58,
   "metadata": {},
   "outputs": [],
   "source": [
    "dfResponsavelRendaAmazonas = dfResponsavelRendaAmazonas.astype(int)"
   ]
  },
  {
   "cell_type": "code",
   "execution_count": 59,
   "metadata": {},
   "outputs": [],
   "source": [
    "dfResponsavelRendaAmazonas['nAbsPessoasClasseE'] = dfResponsavelRendaAmazonas['V001'] +dfResponsavelRendaAmazonas['V002'] + dfResponsavelRendaAmazonas['V003'] "
   ]
  },
  {
   "cell_type": "code",
   "execution_count": 60,
   "metadata": {},
   "outputs": [],
   "source": [
    "dfResponsavelRendaAmazonas['nAbsPessoasClasseD'] = dfResponsavelRendaAmazonas['V004']"
   ]
  },
  {
   "cell_type": "code",
   "execution_count": 61,
   "metadata": {},
   "outputs": [],
   "source": [
    "dfResponsavelRendaAmazonas['nAbsPessoasClasseC'] = dfResponsavelRendaAmazonas['V005'] +dfResponsavelRendaAmazonas['V006']"
   ]
  },
  {
   "cell_type": "code",
   "execution_count": 62,
   "metadata": {},
   "outputs": [],
   "source": [
    "dfResponsavelRendaAmazonas['nAbsPessoasClasseB'] = dfResponsavelRendaAmazonas['V007']"
   ]
  },
  {
   "cell_type": "code",
   "execution_count": 63,
   "metadata": {},
   "outputs": [],
   "source": [
    "dfResponsavelRendaAmazonas['nAbsPessoasClasseA'] = dfResponsavelRendaAmazonas['V008'] +  dfResponsavelRendaAmazonas['V009']"
   ]
  },
  {
   "cell_type": "code",
   "execution_count": 64,
   "metadata": {},
   "outputs": [],
   "source": [
    "dfResponsavelRendaAmazonas.drop(['V001', 'V002', 'V003',\n",
    "                        'V004', 'V005', 'V006', 'V007', 'V008', 'V009'], axis =1, inplace = True)"
   ]
  },
  {
   "cell_type": "code",
   "execution_count": 65,
   "metadata": {},
   "outputs": [
    {
     "data": {
      "text/html": [
       "<div>\n",
       "<style scoped>\n",
       "    .dataframe tbody tr th:only-of-type {\n",
       "        vertical-align: middle;\n",
       "    }\n",
       "\n",
       "    .dataframe tbody tr th {\n",
       "        vertical-align: top;\n",
       "    }\n",
       "\n",
       "    .dataframe thead th {\n",
       "        text-align: right;\n",
       "    }\n",
       "</style>\n",
       "<table border=\"1\" class=\"dataframe\">\n",
       "  <thead>\n",
       "    <tr style=\"text-align: right;\">\n",
       "      <th></th>\n",
       "      <th>Cod_setor</th>\n",
       "      <th>nAbsPessoasClasseE</th>\n",
       "      <th>nAbsPessoasClasseD</th>\n",
       "      <th>nAbsPessoasClasseC</th>\n",
       "      <th>nAbsPessoasClasseB</th>\n",
       "      <th>nAbsPessoasClasseA</th>\n",
       "    </tr>\n",
       "  </thead>\n",
       "  <tbody>\n",
       "    <tr>\n",
       "      <th>0</th>\n",
       "      <td>130002905000001</td>\n",
       "      <td>60</td>\n",
       "      <td>6</td>\n",
       "      <td>7</td>\n",
       "      <td>2</td>\n",
       "      <td>1</td>\n",
       "    </tr>\n",
       "    <tr>\n",
       "      <th>1</th>\n",
       "      <td>130002905000002</td>\n",
       "      <td>131</td>\n",
       "      <td>11</td>\n",
       "      <td>11</td>\n",
       "      <td>1</td>\n",
       "      <td>1</td>\n",
       "    </tr>\n",
       "    <tr>\n",
       "      <th>2</th>\n",
       "      <td>130002905000003</td>\n",
       "      <td>90</td>\n",
       "      <td>17</td>\n",
       "      <td>9</td>\n",
       "      <td>0</td>\n",
       "      <td>0</td>\n",
       "    </tr>\n",
       "    <tr>\n",
       "      <th>3</th>\n",
       "      <td>130002905000004</td>\n",
       "      <td>18</td>\n",
       "      <td>0</td>\n",
       "      <td>0</td>\n",
       "      <td>0</td>\n",
       "      <td>0</td>\n",
       "    </tr>\n",
       "    <tr>\n",
       "      <th>4</th>\n",
       "      <td>130002905000006</td>\n",
       "      <td>78</td>\n",
       "      <td>7</td>\n",
       "      <td>2</td>\n",
       "      <td>0</td>\n",
       "      <td>0</td>\n",
       "    </tr>\n",
       "  </tbody>\n",
       "</table>\n",
       "</div>"
      ],
      "text/plain": [
       "         Cod_setor  nAbsPessoasClasseE  nAbsPessoasClasseD  \\\n",
       "0  130002905000001                  60                   6   \n",
       "1  130002905000002                 131                  11   \n",
       "2  130002905000003                  90                  17   \n",
       "3  130002905000004                  18                   0   \n",
       "4  130002905000006                  78                   7   \n",
       "\n",
       "   nAbsPessoasClasseC  nAbsPessoasClasseB  nAbsPessoasClasseA  \n",
       "0                   7                   2                   1  \n",
       "1                  11                   1                   1  \n",
       "2                   9                   0                   0  \n",
       "3                   0                   0                   0  \n",
       "4                   2                   0                   0  "
      ]
     },
     "execution_count": 65,
     "metadata": {},
     "output_type": "execute_result"
    }
   ],
   "source": [
    "dfResponsavelRendaAmazonas.head()"
   ]
  },
  {
   "cell_type": "markdown",
   "metadata": {},
   "source": [
    "**DATAFRAME TOTAL.**"
   ]
  },
  {
   "cell_type": "code",
   "execution_count": 66,
   "metadata": {},
   "outputs": [],
   "source": [
    "data_frames = [dfBasicoAmazonas, dfDomicilio01Amazonas, dfDomicilio02Amazonas, dfPessoa13Amazonas, dfPessoa11Amazonas, dfPessoa12Amazonas,\n",
    "               dfDomicilioRendaAmazonas, dfResponsavelRendaAmazonas]"
   ]
  },
  {
   "cell_type": "code",
   "execution_count": 67,
   "metadata": {},
   "outputs": [],
   "source": [
    "dfTotalAmazonas = reduce(lambda  left,right: pd.merge(left,right,on=['Cod_setor'],\n",
    "                                            how='inner'), data_frames)"
   ]
  },
  {
   "cell_type": "code",
   "execution_count": 68,
   "metadata": {},
   "outputs": [
    {
     "data": {
      "text/html": [
       "<div>\n",
       "<style scoped>\n",
       "    .dataframe tbody tr th:only-of-type {\n",
       "        vertical-align: middle;\n",
       "    }\n",
       "\n",
       "    .dataframe tbody tr th {\n",
       "        vertical-align: top;\n",
       "    }\n",
       "\n",
       "    .dataframe thead th {\n",
       "        text-align: right;\n",
       "    }\n",
       "</style>\n",
       "<table border=\"1\" class=\"dataframe\">\n",
       "  <thead>\n",
       "    <tr style=\"text-align: right;\">\n",
       "      <th></th>\n",
       "      <th>Cod_setor</th>\n",
       "      <th>MediaMoradorDomicilio</th>\n",
       "      <th>RendaMediaDomicilio</th>\n",
       "      <th>RendaMediaPerCapitaGeral</th>\n",
       "      <th>RendaMediaPerCapitaComRendimento</th>\n",
       "      <th>nAbsDomicilios</th>\n",
       "      <th>nAbsDomiciliosCasa</th>\n",
       "      <th>nAbsDomiciliosApto</th>\n",
       "      <th>nAbsImoveisAlugados</th>\n",
       "      <th>nAbs1PessoasDomicilio</th>\n",
       "      <th>...</th>\n",
       "      <th>nAbsHomensResidentes</th>\n",
       "      <th>nAbsMulheresResidentes</th>\n",
       "      <th>TotalRendNomMensalDomParticulares</th>\n",
       "      <th>TotalRendimentoNomMensalDomParticularesPermanentes</th>\n",
       "      <th>TotalRendimentoNomMensalDomParitulcaresImprovisados</th>\n",
       "      <th>nAbsPessoasClasseE</th>\n",
       "      <th>nAbsPessoasClasseD</th>\n",
       "      <th>nAbsPessoasClasseC</th>\n",
       "      <th>nAbsPessoasClasseB</th>\n",
       "      <th>nAbsPessoasClasseA</th>\n",
       "    </tr>\n",
       "  </thead>\n",
       "  <tbody>\n",
       "    <tr>\n",
       "      <th>0</th>\n",
       "      <td>130002905000001</td>\n",
       "      <td>5.45</td>\n",
       "      <td>563.03</td>\n",
       "      <td>240.11</td>\n",
       "      <td>932.21</td>\n",
       "      <td>149</td>\n",
       "      <td>146</td>\n",
       "      <td>0</td>\n",
       "      <td>6</td>\n",
       "      <td>6</td>\n",
       "      <td>...</td>\n",
       "      <td>414</td>\n",
       "      <td>392</td>\n",
       "      <td>134276</td>\n",
       "      <td>134276</td>\n",
       "      <td>0</td>\n",
       "      <td>60</td>\n",
       "      <td>6</td>\n",
       "      <td>7</td>\n",
       "      <td>2</td>\n",
       "      <td>1</td>\n",
       "    </tr>\n",
       "    <tr>\n",
       "      <th>1</th>\n",
       "      <td>130002905000002</td>\n",
       "      <td>5.56</td>\n",
       "      <td>558.40</td>\n",
       "      <td>243.57</td>\n",
       "      <td>591.07</td>\n",
       "      <td>199</td>\n",
       "      <td>196</td>\n",
       "      <td>0</td>\n",
       "      <td>14</td>\n",
       "      <td>6</td>\n",
       "      <td>...</td>\n",
       "      <td>553</td>\n",
       "      <td>545</td>\n",
       "      <td>185463</td>\n",
       "      <td>185463</td>\n",
       "      <td>0</td>\n",
       "      <td>131</td>\n",
       "      <td>11</td>\n",
       "      <td>11</td>\n",
       "      <td>1</td>\n",
       "      <td>1</td>\n",
       "    </tr>\n",
       "    <tr>\n",
       "      <th>2</th>\n",
       "      <td>130002905000003</td>\n",
       "      <td>5.52</td>\n",
       "      <td>655.95</td>\n",
       "      <td>285.81</td>\n",
       "      <td>798.75</td>\n",
       "      <td>147</td>\n",
       "      <td>146</td>\n",
       "      <td>0</td>\n",
       "      <td>1</td>\n",
       "      <td>13</td>\n",
       "      <td>...</td>\n",
       "      <td>412</td>\n",
       "      <td>395</td>\n",
       "      <td>178919</td>\n",
       "      <td>178919</td>\n",
       "      <td>0</td>\n",
       "      <td>90</td>\n",
       "      <td>17</td>\n",
       "      <td>9</td>\n",
       "      <td>0</td>\n",
       "      <td>0</td>\n",
       "    </tr>\n",
       "    <tr>\n",
       "      <th>3</th>\n",
       "      <td>130002905000004</td>\n",
       "      <td>5.13</td>\n",
       "      <td>460.61</td>\n",
       "      <td>147.79</td>\n",
       "      <td>564.27</td>\n",
       "      <td>23</td>\n",
       "      <td>23</td>\n",
       "      <td>0</td>\n",
       "      <td>0</td>\n",
       "      <td>3</td>\n",
       "      <td>...</td>\n",
       "      <td>69</td>\n",
       "      <td>49</td>\n",
       "      <td>12414</td>\n",
       "      <td>12414</td>\n",
       "      <td>0</td>\n",
       "      <td>18</td>\n",
       "      <td>0</td>\n",
       "      <td>0</td>\n",
       "      <td>0</td>\n",
       "      <td>0</td>\n",
       "    </tr>\n",
       "    <tr>\n",
       "      <th>4</th>\n",
       "      <td>130002905000006</td>\n",
       "      <td>5.48</td>\n",
       "      <td>538.83</td>\n",
       "      <td>208.37</td>\n",
       "      <td>576.35</td>\n",
       "      <td>103</td>\n",
       "      <td>103</td>\n",
       "      <td>0</td>\n",
       "      <td>0</td>\n",
       "      <td>5</td>\n",
       "      <td>...</td>\n",
       "      <td>324</td>\n",
       "      <td>240</td>\n",
       "      <td>81266</td>\n",
       "      <td>81266</td>\n",
       "      <td>0</td>\n",
       "      <td>78</td>\n",
       "      <td>7</td>\n",
       "      <td>2</td>\n",
       "      <td>0</td>\n",
       "      <td>0</td>\n",
       "    </tr>\n",
       "  </tbody>\n",
       "</table>\n",
       "<p>5 rows × 30 columns</p>\n",
       "</div>"
      ],
      "text/plain": [
       "         Cod_setor  MediaMoradorDomicilio  RendaMediaDomicilio  \\\n",
       "0  130002905000001                   5.45               563.03   \n",
       "1  130002905000002                   5.56               558.40   \n",
       "2  130002905000003                   5.52               655.95   \n",
       "3  130002905000004                   5.13               460.61   \n",
       "4  130002905000006                   5.48               538.83   \n",
       "\n",
       "   RendaMediaPerCapitaGeral  RendaMediaPerCapitaComRendimento  nAbsDomicilios  \\\n",
       "0                    240.11                            932.21             149   \n",
       "1                    243.57                            591.07             199   \n",
       "2                    285.81                            798.75             147   \n",
       "3                    147.79                            564.27              23   \n",
       "4                    208.37                            576.35             103   \n",
       "\n",
       "  nAbsDomiciliosCasa nAbsDomiciliosApto nAbsImoveisAlugados  \\\n",
       "0                146                  0                   6   \n",
       "1                196                  0                  14   \n",
       "2                146                  0                   1   \n",
       "3                 23                  0                   0   \n",
       "4                103                  0                   0   \n",
       "\n",
       "  nAbs1PessoasDomicilio  ... nAbsHomensResidentes nAbsMulheresResidentes  \\\n",
       "0                     6  ...                  414                    392   \n",
       "1                     6  ...                  553                    545   \n",
       "2                    13  ...                  412                    395   \n",
       "3                     3  ...                   69                     49   \n",
       "4                     5  ...                  324                    240   \n",
       "\n",
       "  TotalRendNomMensalDomParticulares  \\\n",
       "0                            134276   \n",
       "1                            185463   \n",
       "2                            178919   \n",
       "3                             12414   \n",
       "4                             81266   \n",
       "\n",
       "  TotalRendimentoNomMensalDomParticularesPermanentes  \\\n",
       "0                                             134276   \n",
       "1                                             185463   \n",
       "2                                             178919   \n",
       "3                                              12414   \n",
       "4                                              81266   \n",
       "\n",
       "  TotalRendimentoNomMensalDomParitulcaresImprovisados  nAbsPessoasClasseE  \\\n",
       "0                                                  0                   60   \n",
       "1                                                  0                  131   \n",
       "2                                                  0                   90   \n",
       "3                                                  0                   18   \n",
       "4                                                  0                   78   \n",
       "\n",
       "   nAbsPessoasClasseD  nAbsPessoasClasseC  nAbsPessoasClasseB  \\\n",
       "0                   6                   7                   2   \n",
       "1                  11                  11                   1   \n",
       "2                  17                   9                   0   \n",
       "3                   0                   0                   0   \n",
       "4                   7                   2                   0   \n",
       "\n",
       "   nAbsPessoasClasseA  \n",
       "0                   1  \n",
       "1                   1  \n",
       "2                   0  \n",
       "3                   0  \n",
       "4                   0  \n",
       "\n",
       "[5 rows x 30 columns]"
      ]
     },
     "execution_count": 68,
     "metadata": {},
     "output_type": "execute_result"
    }
   ],
   "source": [
    "dfTotalAmazonas.head()"
   ]
  },
  {
   "cell_type": "code",
   "execution_count": 69,
   "metadata": {},
   "outputs": [
    {
     "name": "stdout",
     "output_type": "stream",
     "text": [
      "<class 'pandas.core.frame.DataFrame'>\n",
      "Int64Index: 5641 entries, 0 to 5640\n",
      "Data columns (total 30 columns):\n",
      " #   Column                                               Non-Null Count  Dtype  \n",
      "---  ------                                               --------------  -----  \n",
      " 0   Cod_setor                                            5641 non-null   int64  \n",
      " 1   MediaMoradorDomicilio                                5625 non-null   float64\n",
      " 2   RendaMediaDomicilio                                  5625 non-null   float64\n",
      " 3   RendaMediaPerCapitaGeral                             5641 non-null   float64\n",
      " 4   RendaMediaPerCapitaComRendimento                     5566 non-null   float64\n",
      " 5   nAbsDomicilios                                       5641 non-null   int64  \n",
      " 6   nAbsDomiciliosCasa                                   5641 non-null   object \n",
      " 7   nAbsDomiciliosApto                                   5641 non-null   object \n",
      " 8   nAbsImoveisAlugados                                  5641 non-null   object \n",
      " 9   nAbs1PessoasDomicilio                                5641 non-null   object \n",
      " 10  nAbs1PessoasDomicilio                                5641 non-null   object \n",
      " 11  nAbs2PessoasDomicilio                                5641 non-null   object \n",
      " 12  nAbs3PessoasDomicilio                                5641 non-null   object \n",
      " 13  nAbs4PessoasDomicilio                                5641 non-null   object \n",
      " 14  nAbs5ouMaisPessoasDomicilio                          5641 non-null   object \n",
      " 15  nAbsHabitantes                                       5641 non-null   int64  \n",
      " 16  nAbsMoradoresCasa                                    5641 non-null   int64  \n",
      " 17  nAbsMoradoresApto                                    5641 non-null   int64  \n",
      " 18  nAbsMoradoresImoveisAlugados                         5641 non-null   int64  \n",
      " 19  nAbsConjuges                                         5641 non-null   int64  \n",
      " 20  nAbsHomensResidentes                                 5641 non-null   int64  \n",
      " 21  nAbsMulheresResidentes                               5641 non-null   int64  \n",
      " 22  TotalRendNomMensalDomParticulares                    5641 non-null   int64  \n",
      " 23  TotalRendimentoNomMensalDomParticularesPermanentes   5641 non-null   int64  \n",
      " 24  TotalRendimentoNomMensalDomParitulcaresImprovisados  5641 non-null   int64  \n",
      " 25  nAbsPessoasClasseE                                   5641 non-null   int64  \n",
      " 26  nAbsPessoasClasseD                                   5641 non-null   int64  \n",
      " 27  nAbsPessoasClasseC                                   5641 non-null   int64  \n",
      " 28  nAbsPessoasClasseB                                   5641 non-null   int64  \n",
      " 29  nAbsPessoasClasseA                                   5641 non-null   int64  \n",
      "dtypes: float64(4), int64(17), object(9)\n",
      "memory usage: 1.3+ MB\n"
     ]
    }
   ],
   "source": [
    "dfTotalAmazonas.info()"
   ]
  },
  {
   "cell_type": "code",
   "execution_count": 70,
   "metadata": {},
   "outputs": [],
   "source": [
    "dfTotalAmazonas.to_csv('Amazonas.csv', sep= ';', encoding = 'utf-8')"
   ]
  },
  {
   "cell_type": "markdown",
   "metadata": {},
   "source": [
    "Conferir num. abs. de 5 ou mais pessoas por domicilio"
   ]
  }
 ],
 "metadata": {
  "interpreter": {
   "hash": "916dbcbb3f70747c44a77c7bcd40155683ae19c65e1c03b4aa3499c5328201f1"
  },
  "kernelspec": {
   "display_name": "Python 3.8.10 64-bit",
   "language": "python",
   "name": "python3"
  },
  "language_info": {
   "codemirror_mode": {
    "name": "ipython",
    "version": 3
   },
   "file_extension": ".py",
   "mimetype": "text/x-python",
   "name": "python",
   "nbconvert_exporter": "python",
   "pygments_lexer": "ipython3",
   "version": "3.8.10"
  },
  "orig_nbformat": 4
 },
 "nbformat": 4,
 "nbformat_minor": 2
}

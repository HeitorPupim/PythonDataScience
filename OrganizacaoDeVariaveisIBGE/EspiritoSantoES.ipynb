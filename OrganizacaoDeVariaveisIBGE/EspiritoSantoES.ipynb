{
 "cells": [
  {
   "cell_type": "code",
   "execution_count": 12,
   "metadata": {},
   "outputs": [],
   "source": [
    "import pandas as pd\n",
    "import numpy as np\n",
    "from functools import reduce"
   ]
  },
  {
   "cell_type": "markdown",
   "metadata": {},
   "source": [
    "**Basico** - conferido"
   ]
  },
  {
   "cell_type": "code",
   "execution_count": 13,
   "metadata": {},
   "outputs": [],
   "source": [
    "dfBasicoEspiritoSanto = pd.read_csv('dataAgrupados/Basico_ES.csv', sep = ';', encoding = 'unicode_escape')"
   ]
  },
  {
   "cell_type": "code",
   "execution_count": 14,
   "metadata": {},
   "outputs": [],
   "source": [
    "dfBasicoEspiritoSanto = dfBasicoEspiritoSanto[['Cod_setor','V003', 'V005', 'V009', 'V011']]"
   ]
  },
  {
   "cell_type": "code",
   "execution_count": 15,
   "metadata": {},
   "outputs": [],
   "source": [
    "dfBasicoEspiritoSanto = dfBasicoEspiritoSanto.replace('X', 0, regex= True)"
   ]
  },
  {
   "cell_type": "code",
   "execution_count": 16,
   "metadata": {},
   "outputs": [
    {
     "data": {
      "text/html": [
       "<div>\n",
       "<style scoped>\n",
       "    .dataframe tbody tr th:only-of-type {\n",
       "        vertical-align: middle;\n",
       "    }\n",
       "\n",
       "    .dataframe tbody tr th {\n",
       "        vertical-align: top;\n",
       "    }\n",
       "\n",
       "    .dataframe thead th {\n",
       "        text-align: right;\n",
       "    }\n",
       "</style>\n",
       "<table border=\"1\" class=\"dataframe\">\n",
       "  <thead>\n",
       "    <tr style=\"text-align: right;\">\n",
       "      <th></th>\n",
       "      <th>Cod_setor</th>\n",
       "      <th>V003</th>\n",
       "      <th>V005</th>\n",
       "      <th>V009</th>\n",
       "      <th>V011</th>\n",
       "    </tr>\n",
       "  </thead>\n",
       "  <tbody>\n",
       "    <tr>\n",
       "      <th>0</th>\n",
       "      <td>320010205000001</td>\n",
       "      <td>2,78</td>\n",
       "      <td>2202,33</td>\n",
       "      <td>1362,31</td>\n",
       "      <td>1704,79</td>\n",
       "    </tr>\n",
       "    <tr>\n",
       "      <th>1</th>\n",
       "      <td>320010205000002</td>\n",
       "      <td>2,85</td>\n",
       "      <td>800,33</td>\n",
       "      <td>632,95</td>\n",
       "      <td>839,46</td>\n",
       "    </tr>\n",
       "    <tr>\n",
       "      <th>2</th>\n",
       "      <td>320010205000003</td>\n",
       "      <td>3,1</td>\n",
       "      <td>741,66</td>\n",
       "      <td>471,31</td>\n",
       "      <td>672,63</td>\n",
       "    </tr>\n",
       "    <tr>\n",
       "      <th>3</th>\n",
       "      <td>320010205000004</td>\n",
       "      <td>3,32</td>\n",
       "      <td>462,69</td>\n",
       "      <td>295,35</td>\n",
       "      <td>449,1</td>\n",
       "    </tr>\n",
       "    <tr>\n",
       "      <th>4</th>\n",
       "      <td>320010205000005</td>\n",
       "      <td>3,16</td>\n",
       "      <td>942,75</td>\n",
       "      <td>560,39</td>\n",
       "      <td>843,79</td>\n",
       "    </tr>\n",
       "  </tbody>\n",
       "</table>\n",
       "</div>"
      ],
      "text/plain": [
       "         Cod_setor  V003     V005     V009     V011\n",
       "0  320010205000001  2,78  2202,33  1362,31  1704,79\n",
       "1  320010205000002  2,85   800,33   632,95   839,46\n",
       "2  320010205000003   3,1   741,66   471,31   672,63\n",
       "3  320010205000004  3,32   462,69   295,35    449,1\n",
       "4  320010205000005  3,16   942,75   560,39   843,79"
      ]
     },
     "execution_count": 16,
     "metadata": {},
     "output_type": "execute_result"
    }
   ],
   "source": [
    "dfBasicoEspiritoSanto.head()"
   ]
  },
  {
   "cell_type": "code",
   "execution_count": 17,
   "metadata": {},
   "outputs": [],
   "source": [
    "dfBasicoEspiritoSanto = dfBasicoEspiritoSanto.replace(',', '.', regex= True)"
   ]
  },
  {
   "cell_type": "code",
   "execution_count": 18,
   "metadata": {},
   "outputs": [],
   "source": [
    "dfBasicoEspiritoSanto = dfBasicoEspiritoSanto.astype({'V003':'float','V005':'float','V009':'float','V011':'float'})"
   ]
  },
  {
   "cell_type": "code",
   "execution_count": 19,
   "metadata": {},
   "outputs": [],
   "source": [
    "dfBasicoEspiritoSanto.rename(columns = {'V003':'MediaMoradorDomicilio',\n",
    "                     'V005':'RendaMediaDomicilio',\n",
    "                     'V009':'RendaMediaPerCapitaGeral',\n",
    "                     'V011':'RendaMediaPerCapitaComRendimento'}, inplace = True)"
   ]
  },
  {
   "cell_type": "markdown",
   "metadata": {},
   "source": [
    "**Domicilio01** - conferido"
   ]
  },
  {
   "cell_type": "code",
   "execution_count": 20,
   "metadata": {},
   "outputs": [],
   "source": [
    "dfDomicilio01EspiritoSanto = pd.read_csv('dataAgrupados/Domicilio01_ES.csv', sep = ';', encoding = 'unicode_escape')"
   ]
  },
  {
   "cell_type": "code",
   "execution_count": 21,
   "metadata": {},
   "outputs": [],
   "source": [
    "dfDomicilio01EspiritoSanto = dfDomicilio01EspiritoSanto.replace('X', 0, regex= True)"
   ]
  },
  {
   "cell_type": "code",
   "execution_count": 22,
   "metadata": {},
   "outputs": [],
   "source": [
    "#dfDomicilio01EspiritoSanto = dfDomicilio01EspiritoSanto.astype(int)"
   ]
  },
  {
   "cell_type": "code",
   "execution_count": 23,
   "metadata": {},
   "outputs": [],
   "source": [
    "dfDomicilio01EspiritoSanto = dfDomicilio01EspiritoSanto[['Cod_setor',\n",
    "                                       'V001', 'V003', 'V005', 'V008','V050',\n",
    "                                       'V050' ,'V051' ,'V052' ,'V053' ,'V054' ,'V055' ,\n",
    "                                       'V056' ,'V057' ,'V058' ,'V059' ,]]"
   ]
  },
  {
   "cell_type": "code",
   "execution_count": 24,
   "metadata": {},
   "outputs": [],
   "source": [
    "dfDomicilio01EspiritoSanto.rename(columns = {\n",
    "'V001':'nAbsDomicilios' , \n",
    "'V003': 'nAbsDomiciliosCasa', \n",
    "'V005': 'nAbsDomiciliosApto', \n",
    "'V008': 'nAbsImoveisAlugados', \n",
    "'V050':'nAbs1PessoasDomicilio',\n",
    "'V051':'nAbs2PessoasDomicilio',\n",
    "'V052':'nAbs3PessoasDomicilio',\n",
    "'V053':'nAbs4PessoasDomicilio',\n",
    "'V054':'nAbs5PessoasDomicilio',\n",
    "'V055':'nAbs6PessoasDomicilio',\n",
    "'V056':'nAbs7PessoasDomicilio',\n",
    "'V057':'nAbs8PessoasDomicilio',\n",
    "'V058':'nAbs9PessoasDomicilio',\n",
    "'V059':'nAbs10PessoasDomicilio'}, inplace = True)"
   ]
  },
  {
   "cell_type": "code",
   "execution_count": 25,
   "metadata": {},
   "outputs": [
    {
     "data": {
      "text/plain": [
       "0       00\n",
       "1       00\n",
       "2       20\n",
       "3       12\n",
       "4       10\n",
       "        ..\n",
       "6375    01\n",
       "6376    00\n",
       "6377    00\n",
       "6378    00\n",
       "6379    00\n",
       "Length: 6380, dtype: object"
      ]
     },
     "execution_count": 25,
     "metadata": {},
     "output_type": "execute_result"
    }
   ],
   "source": [
    "dfDomicilio01EspiritoSanto['nAbs5ouMaisPessoasDomicilio'] = dfDomicilio01EspiritoSanto['nAbs5PessoasDomicilio'] +dfDomicilio01EspiritoSanto['nAbs6PessoasDomicilio'] + dfDomicilio01EspiritoSanto['nAbs7PessoasDomicilio'] + dfDomicilio01EspiritoSanto['nAbs8PessoasDomicilio']\n",
    "+ dfDomicilio01EspiritoSanto['nAbs9PessoasDomicilio'] + dfDomicilio01EspiritoSanto['nAbs10PessoasDomicilio'] "
   ]
  },
  {
   "cell_type": "code",
   "execution_count": 26,
   "metadata": {},
   "outputs": [],
   "source": [
    "dfDomicilio01EspiritoSanto.drop(['nAbs5PessoasDomicilio', 'nAbs6PessoasDomicilio', 'nAbs7PessoasDomicilio',\n",
    "                        'nAbs8PessoasDomicilio', 'nAbs9PessoasDomicilio', 'nAbs10PessoasDomicilio'], axis =1, inplace = True)"
   ]
  },
  {
   "cell_type": "markdown",
   "metadata": {},
   "source": [
    "**Domicilio02** - conferido"
   ]
  },
  {
   "cell_type": "code",
   "execution_count": 27,
   "metadata": {},
   "outputs": [],
   "source": [
    "dfDomicilio02EspiritoSanto = pd.read_csv('dataAgrupados/Domicilio02_ES.csv', sep = ';', encoding = 'unicode_escape')"
   ]
  },
  {
   "cell_type": "code",
   "execution_count": 28,
   "metadata": {},
   "outputs": [],
   "source": [
    "dfDomicilio02EspiritoSanto = dfDomicilio02EspiritoSanto.replace('X', 0, regex= True)"
   ]
  },
  {
   "cell_type": "code",
   "execution_count": 29,
   "metadata": {},
   "outputs": [],
   "source": [
    "dfDomicilio02EspiritoSanto = dfDomicilio02EspiritoSanto.astype(int)\n"
   ]
  },
  {
   "cell_type": "code",
   "execution_count": 30,
   "metadata": {},
   "outputs": [
    {
     "name": "stdout",
     "output_type": "stream",
     "text": [
      "<class 'pandas.core.frame.DataFrame'>\n",
      "RangeIndex: 6380 entries, 0 to 6379\n",
      "Columns: 134 entries, Cod_setor to V132\n",
      "dtypes: int64(134)\n",
      "memory usage: 6.5 MB\n"
     ]
    }
   ],
   "source": [
    "dfDomicilio02EspiritoSanto.info()"
   ]
  },
  {
   "cell_type": "code",
   "execution_count": 31,
   "metadata": {},
   "outputs": [],
   "source": [
    "dfDomicilio02EspiritoSanto = dfDomicilio02EspiritoSanto[['Cod_setor',\n",
    "                                       'V001', 'V003', 'V005', 'V008']]"
   ]
  },
  {
   "cell_type": "code",
   "execution_count": 32,
   "metadata": {},
   "outputs": [],
   "source": [
    "dfDomicilio02EspiritoSanto.rename(columns = {\n",
    "'V001':'nAbsHabitantes' , \n",
    "'V003': 'nAbsMoradoresCasa', \n",
    "'V005': 'nAbsMoradoresApto', \n",
    "'V008': 'nAbsMoradoresImoveisAlugados', \n",
    "}, inplace = True)"
   ]
  },
  {
   "cell_type": "code",
   "execution_count": 33,
   "metadata": {},
   "outputs": [
    {
     "data": {
      "text/html": [
       "<div>\n",
       "<style scoped>\n",
       "    .dataframe tbody tr th:only-of-type {\n",
       "        vertical-align: middle;\n",
       "    }\n",
       "\n",
       "    .dataframe tbody tr th {\n",
       "        vertical-align: top;\n",
       "    }\n",
       "\n",
       "    .dataframe thead th {\n",
       "        text-align: right;\n",
       "    }\n",
       "</style>\n",
       "<table border=\"1\" class=\"dataframe\">\n",
       "  <thead>\n",
       "    <tr style=\"text-align: right;\">\n",
       "      <th></th>\n",
       "      <th>Cod_setor</th>\n",
       "      <th>nAbsHabitantes</th>\n",
       "      <th>nAbsMoradoresCasa</th>\n",
       "      <th>nAbsMoradoresApto</th>\n",
       "      <th>nAbsMoradoresImoveisAlugados</th>\n",
       "    </tr>\n",
       "  </thead>\n",
       "  <tbody>\n",
       "    <tr>\n",
       "      <th>0</th>\n",
       "      <td>320010205000001</td>\n",
       "      <td>247</td>\n",
       "      <td>179</td>\n",
       "      <td>63</td>\n",
       "      <td>84</td>\n",
       "    </tr>\n",
       "    <tr>\n",
       "      <th>1</th>\n",
       "      <td>320010205000002</td>\n",
       "      <td>576</td>\n",
       "      <td>492</td>\n",
       "      <td>79</td>\n",
       "      <td>181</td>\n",
       "    </tr>\n",
       "    <tr>\n",
       "      <th>2</th>\n",
       "      <td>320010205000003</td>\n",
       "      <td>1220</td>\n",
       "      <td>1006</td>\n",
       "      <td>157</td>\n",
       "      <td>238</td>\n",
       "    </tr>\n",
       "    <tr>\n",
       "      <th>3</th>\n",
       "      <td>320010205000004</td>\n",
       "      <td>694</td>\n",
       "      <td>694</td>\n",
       "      <td>0</td>\n",
       "      <td>119</td>\n",
       "    </tr>\n",
       "    <tr>\n",
       "      <th>4</th>\n",
       "      <td>320010205000005</td>\n",
       "      <td>605</td>\n",
       "      <td>584</td>\n",
       "      <td>14</td>\n",
       "      <td>151</td>\n",
       "    </tr>\n",
       "  </tbody>\n",
       "</table>\n",
       "</div>"
      ],
      "text/plain": [
       "         Cod_setor  nAbsHabitantes  nAbsMoradoresCasa  nAbsMoradoresApto  \\\n",
       "0  320010205000001             247                179                 63   \n",
       "1  320010205000002             576                492                 79   \n",
       "2  320010205000003            1220               1006                157   \n",
       "3  320010205000004             694                694                  0   \n",
       "4  320010205000005             605                584                 14   \n",
       "\n",
       "   nAbsMoradoresImoveisAlugados  \n",
       "0                            84  \n",
       "1                           181  \n",
       "2                           238  \n",
       "3                           119  \n",
       "4                           151  "
      ]
     },
     "execution_count": 33,
     "metadata": {},
     "output_type": "execute_result"
    }
   ],
   "source": [
    "dfDomicilio02EspiritoSanto.head()"
   ]
  },
  {
   "cell_type": "markdown",
   "metadata": {},
   "source": [
    "**Pessoa13** - conferido"
   ]
  },
  {
   "cell_type": "code",
   "execution_count": 34,
   "metadata": {},
   "outputs": [],
   "source": [
    "dfPessoa13EspiritoSanto = pd.read_csv('dataAgrupados/Pessoa13_ES.csv', sep = ';', encoding = 'unicode_escape')"
   ]
  },
  {
   "cell_type": "code",
   "execution_count": 35,
   "metadata": {},
   "outputs": [],
   "source": [
    "dfPessoa13EspiritoSanto = dfPessoa13EspiritoSanto[['Cod_setor', 'V001']]"
   ]
  },
  {
   "cell_type": "code",
   "execution_count": 36,
   "metadata": {},
   "outputs": [],
   "source": [
    "dfPessoa13EspiritoSanto = dfPessoa13EspiritoSanto.replace('X', 0, regex= True)"
   ]
  },
  {
   "cell_type": "code",
   "execution_count": 37,
   "metadata": {},
   "outputs": [],
   "source": [
    "dfPessoa13EspiritoSanto.rename(columns= {'V001':'nAbsConjuges'}, inplace = True)"
   ]
  },
  {
   "cell_type": "code",
   "execution_count": 38,
   "metadata": {},
   "outputs": [
    {
     "data": {
      "text/html": [
       "<div>\n",
       "<style scoped>\n",
       "    .dataframe tbody tr th:only-of-type {\n",
       "        vertical-align: middle;\n",
       "    }\n",
       "\n",
       "    .dataframe tbody tr th {\n",
       "        vertical-align: top;\n",
       "    }\n",
       "\n",
       "    .dataframe thead th {\n",
       "        text-align: right;\n",
       "    }\n",
       "</style>\n",
       "<table border=\"1\" class=\"dataframe\">\n",
       "  <thead>\n",
       "    <tr style=\"text-align: right;\">\n",
       "      <th></th>\n",
       "      <th>Cod_setor</th>\n",
       "      <th>nAbsConjuges</th>\n",
       "    </tr>\n",
       "  </thead>\n",
       "  <tbody>\n",
       "    <tr>\n",
       "      <th>0</th>\n",
       "      <td>320010205000001</td>\n",
       "      <td>247</td>\n",
       "    </tr>\n",
       "    <tr>\n",
       "      <th>1</th>\n",
       "      <td>320010205000002</td>\n",
       "      <td>576</td>\n",
       "    </tr>\n",
       "    <tr>\n",
       "      <th>2</th>\n",
       "      <td>320010205000003</td>\n",
       "      <td>1220</td>\n",
       "    </tr>\n",
       "    <tr>\n",
       "      <th>3</th>\n",
       "      <td>320010205000004</td>\n",
       "      <td>694</td>\n",
       "    </tr>\n",
       "    <tr>\n",
       "      <th>4</th>\n",
       "      <td>320010205000005</td>\n",
       "      <td>605</td>\n",
       "    </tr>\n",
       "  </tbody>\n",
       "</table>\n",
       "</div>"
      ],
      "text/plain": [
       "         Cod_setor  nAbsConjuges\n",
       "0  320010205000001           247\n",
       "1  320010205000002           576\n",
       "2  320010205000003          1220\n",
       "3  320010205000004           694\n",
       "4  320010205000005           605"
      ]
     },
     "execution_count": 38,
     "metadata": {},
     "output_type": "execute_result"
    }
   ],
   "source": [
    "dfPessoa13EspiritoSanto.head()"
   ]
  },
  {
   "cell_type": "markdown",
   "metadata": {},
   "source": [
    "**Pessoa11** - conferido"
   ]
  },
  {
   "cell_type": "code",
   "execution_count": 39,
   "metadata": {},
   "outputs": [],
   "source": [
    "dfPessoa11EspiritoSanto = pd.read_csv('dataAgrupados/Pessoa11_ES.csv', sep = ';', encoding = 'unicode_escape')"
   ]
  },
  {
   "cell_type": "code",
   "execution_count": 40,
   "metadata": {},
   "outputs": [],
   "source": [
    "dfPessoa11EspiritoSanto = dfPessoa11EspiritoSanto[['Cod_setor', 'V001']]"
   ]
  },
  {
   "cell_type": "code",
   "execution_count": 41,
   "metadata": {},
   "outputs": [],
   "source": [
    "dfPessoa11EspiritoSanto = dfPessoa11EspiritoSanto.replace('X', 0, regex= True)"
   ]
  },
  {
   "cell_type": "code",
   "execution_count": 42,
   "metadata": {},
   "outputs": [],
   "source": [
    "dfPessoa11EspiritoSanto.rename(columns= {'V001':'nAbsHomensResidentes'}, inplace = True)"
   ]
  },
  {
   "cell_type": "markdown",
   "metadata": {},
   "source": [
    "**Pessoa12** - conferido"
   ]
  },
  {
   "cell_type": "code",
   "execution_count": 43,
   "metadata": {},
   "outputs": [],
   "source": [
    "dfPessoa12EspiritoSanto = pd.read_csv('dataAgrupados/Pessoa12_ES.csv', sep = ';', encoding = 'unicode_escape')"
   ]
  },
  {
   "cell_type": "code",
   "execution_count": 44,
   "metadata": {},
   "outputs": [],
   "source": [
    "dfPessoa12EspiritoSanto = dfPessoa12EspiritoSanto.replace('X', 0, regex= True)"
   ]
  },
  {
   "cell_type": "code",
   "execution_count": 45,
   "metadata": {},
   "outputs": [],
   "source": [
    "dfPessoa12EspiritoSanto = dfPessoa12EspiritoSanto[['Cod_setor', 'V001']]"
   ]
  },
  {
   "cell_type": "code",
   "execution_count": 46,
   "metadata": {},
   "outputs": [
    {
     "data": {
      "text/html": [
       "<div>\n",
       "<style scoped>\n",
       "    .dataframe tbody tr th:only-of-type {\n",
       "        vertical-align: middle;\n",
       "    }\n",
       "\n",
       "    .dataframe tbody tr th {\n",
       "        vertical-align: top;\n",
       "    }\n",
       "\n",
       "    .dataframe thead th {\n",
       "        text-align: right;\n",
       "    }\n",
       "</style>\n",
       "<table border=\"1\" class=\"dataframe\">\n",
       "  <thead>\n",
       "    <tr style=\"text-align: right;\">\n",
       "      <th></th>\n",
       "      <th>Cod_setor</th>\n",
       "      <th>V001</th>\n",
       "    </tr>\n",
       "  </thead>\n",
       "  <tbody>\n",
       "    <tr>\n",
       "      <th>0</th>\n",
       "      <td>320010205000001</td>\n",
       "      <td>134</td>\n",
       "    </tr>\n",
       "    <tr>\n",
       "      <th>1</th>\n",
       "      <td>320010205000002</td>\n",
       "      <td>293</td>\n",
       "    </tr>\n",
       "    <tr>\n",
       "      <th>2</th>\n",
       "      <td>320010205000003</td>\n",
       "      <td>624</td>\n",
       "    </tr>\n",
       "    <tr>\n",
       "      <th>3</th>\n",
       "      <td>320010205000004</td>\n",
       "      <td>361</td>\n",
       "    </tr>\n",
       "    <tr>\n",
       "      <th>4</th>\n",
       "      <td>320010205000005</td>\n",
       "      <td>312</td>\n",
       "    </tr>\n",
       "  </tbody>\n",
       "</table>\n",
       "</div>"
      ],
      "text/plain": [
       "         Cod_setor  V001\n",
       "0  320010205000001   134\n",
       "1  320010205000002   293\n",
       "2  320010205000003   624\n",
       "3  320010205000004   361\n",
       "4  320010205000005   312"
      ]
     },
     "execution_count": 46,
     "metadata": {},
     "output_type": "execute_result"
    }
   ],
   "source": [
    "dfPessoa12EspiritoSanto.head()"
   ]
  },
  {
   "cell_type": "code",
   "execution_count": 47,
   "metadata": {},
   "outputs": [],
   "source": [
    "dfPessoa12EspiritoSanto.rename(columns= {'V001':'nAbsMulheresResidentes'}, inplace = True)"
   ]
  },
  {
   "cell_type": "code",
   "execution_count": 48,
   "metadata": {},
   "outputs": [
    {
     "data": {
      "text/html": [
       "<div>\n",
       "<style scoped>\n",
       "    .dataframe tbody tr th:only-of-type {\n",
       "        vertical-align: middle;\n",
       "    }\n",
       "\n",
       "    .dataframe tbody tr th {\n",
       "        vertical-align: top;\n",
       "    }\n",
       "\n",
       "    .dataframe thead th {\n",
       "        text-align: right;\n",
       "    }\n",
       "</style>\n",
       "<table border=\"1\" class=\"dataframe\">\n",
       "  <thead>\n",
       "    <tr style=\"text-align: right;\">\n",
       "      <th></th>\n",
       "      <th>Cod_setor</th>\n",
       "      <th>nAbsMulheresResidentes</th>\n",
       "    </tr>\n",
       "  </thead>\n",
       "  <tbody>\n",
       "    <tr>\n",
       "      <th>0</th>\n",
       "      <td>320010205000001</td>\n",
       "      <td>134</td>\n",
       "    </tr>\n",
       "    <tr>\n",
       "      <th>1</th>\n",
       "      <td>320010205000002</td>\n",
       "      <td>293</td>\n",
       "    </tr>\n",
       "    <tr>\n",
       "      <th>2</th>\n",
       "      <td>320010205000003</td>\n",
       "      <td>624</td>\n",
       "    </tr>\n",
       "    <tr>\n",
       "      <th>3</th>\n",
       "      <td>320010205000004</td>\n",
       "      <td>361</td>\n",
       "    </tr>\n",
       "    <tr>\n",
       "      <th>4</th>\n",
       "      <td>320010205000005</td>\n",
       "      <td>312</td>\n",
       "    </tr>\n",
       "  </tbody>\n",
       "</table>\n",
       "</div>"
      ],
      "text/plain": [
       "         Cod_setor  nAbsMulheresResidentes\n",
       "0  320010205000001                     134\n",
       "1  320010205000002                     293\n",
       "2  320010205000003                     624\n",
       "3  320010205000004                     361\n",
       "4  320010205000005                     312"
      ]
     },
     "execution_count": 48,
     "metadata": {},
     "output_type": "execute_result"
    }
   ],
   "source": [
    "dfPessoa12EspiritoSanto.head()"
   ]
  },
  {
   "cell_type": "markdown",
   "metadata": {},
   "source": [
    "**DomicilioRenda** - conferido"
   ]
  },
  {
   "cell_type": "code",
   "execution_count": 49,
   "metadata": {},
   "outputs": [],
   "source": [
    "dfDomicilioRendaEspiritoSanto = pd.read_csv('dataAgrupados/DomicilioRenda_ES.csv', sep = ';', encoding = 'unicode_escape')"
   ]
  },
  {
   "cell_type": "code",
   "execution_count": 50,
   "metadata": {},
   "outputs": [],
   "source": [
    "dfDomicilioRendaEspiritoSanto = dfDomicilioRendaEspiritoSanto[['Cod_setor',\n",
    "                                             'V002', 'V003', 'V004']]"
   ]
  },
  {
   "cell_type": "code",
   "execution_count": 51,
   "metadata": {},
   "outputs": [],
   "source": [
    "dfDomicilioRendaEspiritoSanto = dfDomicilioRendaEspiritoSanto.replace('X', 0, regex= True)"
   ]
  },
  {
   "cell_type": "code",
   "execution_count": 52,
   "metadata": {},
   "outputs": [],
   "source": [
    "dfDomicilioRendaEspiritoSanto = dfDomicilioRendaEspiritoSanto.astype(int)"
   ]
  },
  {
   "cell_type": "code",
   "execution_count": 53,
   "metadata": {},
   "outputs": [],
   "source": [
    "dfDomicilioRendaEspiritoSanto.rename(columns = {'V002':'TotalRendNomMensalDomParticulares',\n",
    "                                       'V003':'TotalRendimentoNomMensalDomParticularesPermanentes',\n",
    "                                       'V004':'TotalRendimentoNomMensalDomParitulcaresImprovisados'}\n",
    "                            , inplace = True)"
   ]
  },
  {
   "cell_type": "code",
   "execution_count": 54,
   "metadata": {},
   "outputs": [
    {
     "data": {
      "text/html": [
       "<div>\n",
       "<style scoped>\n",
       "    .dataframe tbody tr th:only-of-type {\n",
       "        vertical-align: middle;\n",
       "    }\n",
       "\n",
       "    .dataframe tbody tr th {\n",
       "        vertical-align: top;\n",
       "    }\n",
       "\n",
       "    .dataframe thead th {\n",
       "        text-align: right;\n",
       "    }\n",
       "</style>\n",
       "<table border=\"1\" class=\"dataframe\">\n",
       "  <thead>\n",
       "    <tr style=\"text-align: right;\">\n",
       "      <th></th>\n",
       "      <th>Cod_setor</th>\n",
       "      <th>TotalRendNomMensalDomParticulares</th>\n",
       "      <th>TotalRendimentoNomMensalDomParticularesPermanentes</th>\n",
       "      <th>TotalRendimentoNomMensalDomParitulcaresImprovisados</th>\n",
       "    </tr>\n",
       "  </thead>\n",
       "  <tbody>\n",
       "    <tr>\n",
       "      <th>0</th>\n",
       "      <td>320010205000001</td>\n",
       "      <td>304647</td>\n",
       "      <td>304647</td>\n",
       "      <td>0</td>\n",
       "    </tr>\n",
       "    <tr>\n",
       "      <th>1</th>\n",
       "      <td>320010205000002</td>\n",
       "      <td>316477</td>\n",
       "      <td>316477</td>\n",
       "      <td>0</td>\n",
       "    </tr>\n",
       "    <tr>\n",
       "      <th>2</th>\n",
       "      <td>320010205000003</td>\n",
       "      <td>443684</td>\n",
       "      <td>443684</td>\n",
       "      <td>0</td>\n",
       "    </tr>\n",
       "    <tr>\n",
       "      <th>3</th>\n",
       "      <td>320010205000004</td>\n",
       "      <td>163921</td>\n",
       "      <td>163921</td>\n",
       "      <td>0</td>\n",
       "    </tr>\n",
       "    <tr>\n",
       "      <th>4</th>\n",
       "      <td>320010205000005</td>\n",
       "      <td>295328</td>\n",
       "      <td>294818</td>\n",
       "      <td>510</td>\n",
       "    </tr>\n",
       "  </tbody>\n",
       "</table>\n",
       "</div>"
      ],
      "text/plain": [
       "         Cod_setor  TotalRendNomMensalDomParticulares  \\\n",
       "0  320010205000001                             304647   \n",
       "1  320010205000002                             316477   \n",
       "2  320010205000003                             443684   \n",
       "3  320010205000004                             163921   \n",
       "4  320010205000005                             295328   \n",
       "\n",
       "   TotalRendimentoNomMensalDomParticularesPermanentes  \\\n",
       "0                                             304647    \n",
       "1                                             316477    \n",
       "2                                             443684    \n",
       "3                                             163921    \n",
       "4                                             294818    \n",
       "\n",
       "   TotalRendimentoNomMensalDomParitulcaresImprovisados  \n",
       "0                                                  0    \n",
       "1                                                  0    \n",
       "2                                                  0    \n",
       "3                                                  0    \n",
       "4                                                510    "
      ]
     },
     "execution_count": 54,
     "metadata": {},
     "output_type": "execute_result"
    }
   ],
   "source": [
    "dfDomicilioRendaEspiritoSanto.head()"
   ]
  },
  {
   "cell_type": "markdown",
   "metadata": {},
   "source": [
    "**ResponsavelRenda** - conferido"
   ]
  },
  {
   "cell_type": "code",
   "execution_count": 55,
   "metadata": {},
   "outputs": [],
   "source": [
    "dfResponsavelRendaEspiritoSanto = pd.read_csv('dataAgrupados/ResponsavelRenda_ES.csv', sep = ';', encoding = 'unicode_escape')"
   ]
  },
  {
   "cell_type": "code",
   "execution_count": 56,
   "metadata": {},
   "outputs": [],
   "source": [
    "dfResponsavelRendaEspiritoSanto = dfResponsavelRendaEspiritoSanto[['Cod_setor', \n",
    "                                                 'V001','V002', 'V003',\n",
    "                                                 'V004','V005', 'V006',\n",
    "                                                 'V007','V008', 'V009']]"
   ]
  },
  {
   "cell_type": "code",
   "execution_count": 57,
   "metadata": {},
   "outputs": [],
   "source": [
    "dfResponsavelRendaEspiritoSanto = dfResponsavelRendaEspiritoSanto.replace('X', 0, regex= True)"
   ]
  },
  {
   "cell_type": "code",
   "execution_count": 58,
   "metadata": {},
   "outputs": [],
   "source": [
    "dfResponsavelRendaEspiritoSanto = dfResponsavelRendaEspiritoSanto.astype(int)"
   ]
  },
  {
   "cell_type": "code",
   "execution_count": 59,
   "metadata": {},
   "outputs": [],
   "source": [
    "dfResponsavelRendaEspiritoSanto['nAbsPessoasClasseE'] = dfResponsavelRendaEspiritoSanto['V001'] +dfResponsavelRendaEspiritoSanto['V002'] + dfResponsavelRendaEspiritoSanto['V003'] "
   ]
  },
  {
   "cell_type": "code",
   "execution_count": 60,
   "metadata": {},
   "outputs": [],
   "source": [
    "dfResponsavelRendaEspiritoSanto['nAbsPessoasClasseD'] = dfResponsavelRendaEspiritoSanto['V004']"
   ]
  },
  {
   "cell_type": "code",
   "execution_count": 61,
   "metadata": {},
   "outputs": [],
   "source": [
    "dfResponsavelRendaEspiritoSanto['nAbsPessoasClasseC'] = dfResponsavelRendaEspiritoSanto['V005'] +dfResponsavelRendaEspiritoSanto['V006']"
   ]
  },
  {
   "cell_type": "code",
   "execution_count": 62,
   "metadata": {},
   "outputs": [],
   "source": [
    "dfResponsavelRendaEspiritoSanto['nAbsPessoasClasseB'] = dfResponsavelRendaEspiritoSanto['V007']"
   ]
  },
  {
   "cell_type": "code",
   "execution_count": 63,
   "metadata": {},
   "outputs": [],
   "source": [
    "dfResponsavelRendaEspiritoSanto['nAbsPessoasClasseA'] = dfResponsavelRendaEspiritoSanto['V008'] +  dfResponsavelRendaEspiritoSanto['V009']"
   ]
  },
  {
   "cell_type": "code",
   "execution_count": 64,
   "metadata": {},
   "outputs": [],
   "source": [
    "dfResponsavelRendaEspiritoSanto.drop(['V001', 'V002', 'V003',\n",
    "                        'V004', 'V005', 'V006', 'V007', 'V008', 'V009'], axis =1, inplace = True)"
   ]
  },
  {
   "cell_type": "code",
   "execution_count": 65,
   "metadata": {},
   "outputs": [
    {
     "data": {
      "text/html": [
       "<div>\n",
       "<style scoped>\n",
       "    .dataframe tbody tr th:only-of-type {\n",
       "        vertical-align: middle;\n",
       "    }\n",
       "\n",
       "    .dataframe tbody tr th {\n",
       "        vertical-align: top;\n",
       "    }\n",
       "\n",
       "    .dataframe thead th {\n",
       "        text-align: right;\n",
       "    }\n",
       "</style>\n",
       "<table border=\"1\" class=\"dataframe\">\n",
       "  <thead>\n",
       "    <tr style=\"text-align: right;\">\n",
       "      <th></th>\n",
       "      <th>Cod_setor</th>\n",
       "      <th>nAbsPessoasClasseE</th>\n",
       "      <th>nAbsPessoasClasseD</th>\n",
       "      <th>nAbsPessoasClasseC</th>\n",
       "      <th>nAbsPessoasClasseB</th>\n",
       "      <th>nAbsPessoasClasseA</th>\n",
       "    </tr>\n",
       "  </thead>\n",
       "  <tbody>\n",
       "    <tr>\n",
       "      <th>0</th>\n",
       "      <td>320010205000001</td>\n",
       "      <td>41</td>\n",
       "      <td>16</td>\n",
       "      <td>19</td>\n",
       "      <td>6</td>\n",
       "      <td>4</td>\n",
       "    </tr>\n",
       "    <tr>\n",
       "      <th>1</th>\n",
       "      <td>320010205000002</td>\n",
       "      <td>134</td>\n",
       "      <td>19</td>\n",
       "      <td>21</td>\n",
       "      <td>0</td>\n",
       "      <td>0</td>\n",
       "    </tr>\n",
       "    <tr>\n",
       "      <th>2</th>\n",
       "      <td>320010205000003</td>\n",
       "      <td>303</td>\n",
       "      <td>23</td>\n",
       "      <td>21</td>\n",
       "      <td>1</td>\n",
       "      <td>2</td>\n",
       "    </tr>\n",
       "    <tr>\n",
       "      <th>3</th>\n",
       "      <td>320010205000004</td>\n",
       "      <td>184</td>\n",
       "      <td>4</td>\n",
       "      <td>2</td>\n",
       "      <td>0</td>\n",
       "      <td>0</td>\n",
       "    </tr>\n",
       "    <tr>\n",
       "      <th>4</th>\n",
       "      <td>320010205000005</td>\n",
       "      <td>144</td>\n",
       "      <td>17</td>\n",
       "      <td>17</td>\n",
       "      <td>2</td>\n",
       "      <td>1</td>\n",
       "    </tr>\n",
       "  </tbody>\n",
       "</table>\n",
       "</div>"
      ],
      "text/plain": [
       "         Cod_setor  nAbsPessoasClasseE  nAbsPessoasClasseD  \\\n",
       "0  320010205000001                  41                  16   \n",
       "1  320010205000002                 134                  19   \n",
       "2  320010205000003                 303                  23   \n",
       "3  320010205000004                 184                   4   \n",
       "4  320010205000005                 144                  17   \n",
       "\n",
       "   nAbsPessoasClasseC  nAbsPessoasClasseB  nAbsPessoasClasseA  \n",
       "0                  19                   6                   4  \n",
       "1                  21                   0                   0  \n",
       "2                  21                   1                   2  \n",
       "3                   2                   0                   0  \n",
       "4                  17                   2                   1  "
      ]
     },
     "execution_count": 65,
     "metadata": {},
     "output_type": "execute_result"
    }
   ],
   "source": [
    "dfResponsavelRendaEspiritoSanto.head()"
   ]
  },
  {
   "cell_type": "markdown",
   "metadata": {},
   "source": [
    "**DATAFRAME TOTAL.**"
   ]
  },
  {
   "cell_type": "code",
   "execution_count": 66,
   "metadata": {},
   "outputs": [],
   "source": [
    "data_frames = [dfBasicoEspiritoSanto, dfDomicilio01EspiritoSanto, dfDomicilio02EspiritoSanto, dfPessoa13EspiritoSanto, dfPessoa11EspiritoSanto, dfPessoa12EspiritoSanto,\n",
    "               dfDomicilioRendaEspiritoSanto, dfResponsavelRendaEspiritoSanto]"
   ]
  },
  {
   "cell_type": "code",
   "execution_count": 67,
   "metadata": {},
   "outputs": [],
   "source": [
    "dfTotalEspiritoSanto = reduce(lambda  left,right: pd.merge(left,right,on=['Cod_setor'],\n",
    "                                            how='inner'), data_frames)"
   ]
  },
  {
   "cell_type": "code",
   "execution_count": 68,
   "metadata": {},
   "outputs": [
    {
     "data": {
      "text/html": [
       "<div>\n",
       "<style scoped>\n",
       "    .dataframe tbody tr th:only-of-type {\n",
       "        vertical-align: middle;\n",
       "    }\n",
       "\n",
       "    .dataframe tbody tr th {\n",
       "        vertical-align: top;\n",
       "    }\n",
       "\n",
       "    .dataframe thead th {\n",
       "        text-align: right;\n",
       "    }\n",
       "</style>\n",
       "<table border=\"1\" class=\"dataframe\">\n",
       "  <thead>\n",
       "    <tr style=\"text-align: right;\">\n",
       "      <th></th>\n",
       "      <th>Cod_setor</th>\n",
       "      <th>MediaMoradorDomicilio</th>\n",
       "      <th>RendaMediaDomicilio</th>\n",
       "      <th>RendaMediaPerCapitaGeral</th>\n",
       "      <th>RendaMediaPerCapitaComRendimento</th>\n",
       "      <th>nAbsDomicilios</th>\n",
       "      <th>nAbsDomiciliosCasa</th>\n",
       "      <th>nAbsDomiciliosApto</th>\n",
       "      <th>nAbsImoveisAlugados</th>\n",
       "      <th>nAbs1PessoasDomicilio</th>\n",
       "      <th>...</th>\n",
       "      <th>nAbsHomensResidentes</th>\n",
       "      <th>nAbsMulheresResidentes</th>\n",
       "      <th>TotalRendNomMensalDomParticulares</th>\n",
       "      <th>TotalRendimentoNomMensalDomParticularesPermanentes</th>\n",
       "      <th>TotalRendimentoNomMensalDomParitulcaresImprovisados</th>\n",
       "      <th>nAbsPessoasClasseE</th>\n",
       "      <th>nAbsPessoasClasseD</th>\n",
       "      <th>nAbsPessoasClasseC</th>\n",
       "      <th>nAbsPessoasClasseB</th>\n",
       "      <th>nAbsPessoasClasseA</th>\n",
       "    </tr>\n",
       "  </thead>\n",
       "  <tbody>\n",
       "    <tr>\n",
       "      <th>0</th>\n",
       "      <td>320010205000001</td>\n",
       "      <td>2.78</td>\n",
       "      <td>2202.33</td>\n",
       "      <td>1362.31</td>\n",
       "      <td>1704.79</td>\n",
       "      <td>89</td>\n",
       "      <td>59</td>\n",
       "      <td>27</td>\n",
       "      <td>34</td>\n",
       "      <td>14</td>\n",
       "      <td>...</td>\n",
       "      <td>113</td>\n",
       "      <td>134</td>\n",
       "      <td>304647</td>\n",
       "      <td>304647</td>\n",
       "      <td>0</td>\n",
       "      <td>41</td>\n",
       "      <td>16</td>\n",
       "      <td>19</td>\n",
       "      <td>6</td>\n",
       "      <td>4</td>\n",
       "    </tr>\n",
       "    <tr>\n",
       "      <th>1</th>\n",
       "      <td>320010205000002</td>\n",
       "      <td>2.85</td>\n",
       "      <td>800.33</td>\n",
       "      <td>632.95</td>\n",
       "      <td>839.46</td>\n",
       "      <td>202</td>\n",
       "      <td>172</td>\n",
       "      <td>28</td>\n",
       "      <td>60</td>\n",
       "      <td>32</td>\n",
       "      <td>...</td>\n",
       "      <td>283</td>\n",
       "      <td>293</td>\n",
       "      <td>316477</td>\n",
       "      <td>316477</td>\n",
       "      <td>0</td>\n",
       "      <td>134</td>\n",
       "      <td>19</td>\n",
       "      <td>21</td>\n",
       "      <td>0</td>\n",
       "      <td>0</td>\n",
       "    </tr>\n",
       "    <tr>\n",
       "      <th>2</th>\n",
       "      <td>320010205000003</td>\n",
       "      <td>3.10</td>\n",
       "      <td>741.66</td>\n",
       "      <td>471.31</td>\n",
       "      <td>672.63</td>\n",
       "      <td>430</td>\n",
       "      <td>317</td>\n",
       "      <td>59</td>\n",
       "      <td>84</td>\n",
       "      <td>63</td>\n",
       "      <td>...</td>\n",
       "      <td>596</td>\n",
       "      <td>624</td>\n",
       "      <td>443684</td>\n",
       "      <td>443684</td>\n",
       "      <td>0</td>\n",
       "      <td>303</td>\n",
       "      <td>23</td>\n",
       "      <td>21</td>\n",
       "      <td>1</td>\n",
       "      <td>2</td>\n",
       "    </tr>\n",
       "    <tr>\n",
       "      <th>3</th>\n",
       "      <td>320010205000004</td>\n",
       "      <td>3.32</td>\n",
       "      <td>462.69</td>\n",
       "      <td>295.35</td>\n",
       "      <td>449.10</td>\n",
       "      <td>209</td>\n",
       "      <td>209</td>\n",
       "      <td>0</td>\n",
       "      <td>37</td>\n",
       "      <td>38</td>\n",
       "      <td>...</td>\n",
       "      <td>333</td>\n",
       "      <td>361</td>\n",
       "      <td>163921</td>\n",
       "      <td>163921</td>\n",
       "      <td>0</td>\n",
       "      <td>184</td>\n",
       "      <td>4</td>\n",
       "      <td>2</td>\n",
       "      <td>0</td>\n",
       "      <td>0</td>\n",
       "    </tr>\n",
       "    <tr>\n",
       "      <th>4</th>\n",
       "      <td>320010205000005</td>\n",
       "      <td>3.16</td>\n",
       "      <td>942.75</td>\n",
       "      <td>560.39</td>\n",
       "      <td>843.79</td>\n",
       "      <td>190</td>\n",
       "      <td>183</td>\n",
       "      <td>6</td>\n",
       "      <td>50</td>\n",
       "      <td>21</td>\n",
       "      <td>...</td>\n",
       "      <td>293</td>\n",
       "      <td>312</td>\n",
       "      <td>295328</td>\n",
       "      <td>294818</td>\n",
       "      <td>510</td>\n",
       "      <td>144</td>\n",
       "      <td>17</td>\n",
       "      <td>17</td>\n",
       "      <td>2</td>\n",
       "      <td>1</td>\n",
       "    </tr>\n",
       "  </tbody>\n",
       "</table>\n",
       "<p>5 rows × 30 columns</p>\n",
       "</div>"
      ],
      "text/plain": [
       "         Cod_setor  MediaMoradorDomicilio  RendaMediaDomicilio  \\\n",
       "0  320010205000001                   2.78              2202.33   \n",
       "1  320010205000002                   2.85               800.33   \n",
       "2  320010205000003                   3.10               741.66   \n",
       "3  320010205000004                   3.32               462.69   \n",
       "4  320010205000005                   3.16               942.75   \n",
       "\n",
       "   RendaMediaPerCapitaGeral  RendaMediaPerCapitaComRendimento  nAbsDomicilios  \\\n",
       "0                   1362.31                           1704.79              89   \n",
       "1                    632.95                            839.46             202   \n",
       "2                    471.31                            672.63             430   \n",
       "3                    295.35                            449.10             209   \n",
       "4                    560.39                            843.79             190   \n",
       "\n",
       "  nAbsDomiciliosCasa nAbsDomiciliosApto nAbsImoveisAlugados  \\\n",
       "0                 59                 27                  34   \n",
       "1                172                 28                  60   \n",
       "2                317                 59                  84   \n",
       "3                209                  0                  37   \n",
       "4                183                  6                  50   \n",
       "\n",
       "  nAbs1PessoasDomicilio  ... nAbsHomensResidentes nAbsMulheresResidentes  \\\n",
       "0                    14  ...                  113                    134   \n",
       "1                    32  ...                  283                    293   \n",
       "2                    63  ...                  596                    624   \n",
       "3                    38  ...                  333                    361   \n",
       "4                    21  ...                  293                    312   \n",
       "\n",
       "  TotalRendNomMensalDomParticulares  \\\n",
       "0                            304647   \n",
       "1                            316477   \n",
       "2                            443684   \n",
       "3                            163921   \n",
       "4                            295328   \n",
       "\n",
       "  TotalRendimentoNomMensalDomParticularesPermanentes  \\\n",
       "0                                             304647   \n",
       "1                                             316477   \n",
       "2                                             443684   \n",
       "3                                             163921   \n",
       "4                                             294818   \n",
       "\n",
       "  TotalRendimentoNomMensalDomParitulcaresImprovisados  nAbsPessoasClasseE  \\\n",
       "0                                                  0                   41   \n",
       "1                                                  0                  134   \n",
       "2                                                  0                  303   \n",
       "3                                                  0                  184   \n",
       "4                                                510                  144   \n",
       "\n",
       "   nAbsPessoasClasseD  nAbsPessoasClasseC  nAbsPessoasClasseB  \\\n",
       "0                  16                  19                   6   \n",
       "1                  19                  21                   0   \n",
       "2                  23                  21                   1   \n",
       "3                   4                   2                   0   \n",
       "4                  17                  17                   2   \n",
       "\n",
       "   nAbsPessoasClasseA  \n",
       "0                   4  \n",
       "1                   0  \n",
       "2                   2  \n",
       "3                   0  \n",
       "4                   1  \n",
       "\n",
       "[5 rows x 30 columns]"
      ]
     },
     "execution_count": 68,
     "metadata": {},
     "output_type": "execute_result"
    }
   ],
   "source": [
    "dfTotalEspiritoSanto.head()"
   ]
  },
  {
   "cell_type": "code",
   "execution_count": 69,
   "metadata": {},
   "outputs": [
    {
     "name": "stdout",
     "output_type": "stream",
     "text": [
      "<class 'pandas.core.frame.DataFrame'>\n",
      "Int64Index: 6380 entries, 0 to 6379\n",
      "Data columns (total 30 columns):\n",
      " #   Column                                               Non-Null Count  Dtype  \n",
      "---  ------                                               --------------  -----  \n",
      " 0   Cod_setor                                            6380 non-null   int64  \n",
      " 1   MediaMoradorDomicilio                                6370 non-null   float64\n",
      " 2   RendaMediaDomicilio                                  6370 non-null   float64\n",
      " 3   RendaMediaPerCapitaGeral                             6380 non-null   float64\n",
      " 4   RendaMediaPerCapitaComRendimento                     6375 non-null   float64\n",
      " 5   nAbsDomicilios                                       6380 non-null   int64  \n",
      " 6   nAbsDomiciliosCasa                                   6380 non-null   object \n",
      " 7   nAbsDomiciliosApto                                   6380 non-null   object \n",
      " 8   nAbsImoveisAlugados                                  6380 non-null   object \n",
      " 9   nAbs1PessoasDomicilio                                6380 non-null   object \n",
      " 10  nAbs1PessoasDomicilio                                6380 non-null   object \n",
      " 11  nAbs2PessoasDomicilio                                6380 non-null   object \n",
      " 12  nAbs3PessoasDomicilio                                6380 non-null   object \n",
      " 13  nAbs4PessoasDomicilio                                6380 non-null   object \n",
      " 14  nAbs5ouMaisPessoasDomicilio                          6380 non-null   object \n",
      " 15  nAbsHabitantes                                       6380 non-null   int64  \n",
      " 16  nAbsMoradoresCasa                                    6380 non-null   int64  \n",
      " 17  nAbsMoradoresApto                                    6380 non-null   int64  \n",
      " 18  nAbsMoradoresImoveisAlugados                         6380 non-null   int64  \n",
      " 19  nAbsConjuges                                         6380 non-null   int64  \n",
      " 20  nAbsHomensResidentes                                 6380 non-null   int64  \n",
      " 21  nAbsMulheresResidentes                               6380 non-null   int64  \n",
      " 22  TotalRendNomMensalDomParticulares                    6380 non-null   int64  \n",
      " 23  TotalRendimentoNomMensalDomParticularesPermanentes   6380 non-null   int64  \n",
      " 24  TotalRendimentoNomMensalDomParitulcaresImprovisados  6380 non-null   int64  \n",
      " 25  nAbsPessoasClasseE                                   6380 non-null   int64  \n",
      " 26  nAbsPessoasClasseD                                   6380 non-null   int64  \n",
      " 27  nAbsPessoasClasseC                                   6380 non-null   int64  \n",
      " 28  nAbsPessoasClasseB                                   6380 non-null   int64  \n",
      " 29  nAbsPessoasClasseA                                   6380 non-null   int64  \n",
      "dtypes: float64(4), int64(17), object(9)\n",
      "memory usage: 1.5+ MB\n"
     ]
    }
   ],
   "source": [
    "dfTotalEspiritoSanto.info()"
   ]
  },
  {
   "cell_type": "markdown",
   "metadata": {},
   "source": [
    "Conferir num. abs. de 5 ou mais pessoas por domicilio"
   ]
  },
  {
   "cell_type": "code",
   "execution_count": 70,
   "metadata": {},
   "outputs": [],
   "source": [
    "dfTotalEspiritoSanto.to_csv('EspiritoSanto.csv', sep= ';', encoding = 'utf-8')"
   ]
  }
 ],
 "metadata": {
  "interpreter": {
   "hash": "916dbcbb3f70747c44a77c7bcd40155683ae19c65e1c03b4aa3499c5328201f1"
  },
  "kernelspec": {
   "display_name": "Python 3.8.10 64-bit",
   "language": "python",
   "name": "python3"
  },
  "language_info": {
   "codemirror_mode": {
    "name": "ipython",
    "version": 3
   },
   "file_extension": ".py",
   "mimetype": "text/x-python",
   "name": "python",
   "nbconvert_exporter": "python",
   "pygments_lexer": "ipython3",
   "version": "3.8.10"
  },
  "orig_nbformat": 4
 },
 "nbformat": 4,
 "nbformat_minor": 2
}

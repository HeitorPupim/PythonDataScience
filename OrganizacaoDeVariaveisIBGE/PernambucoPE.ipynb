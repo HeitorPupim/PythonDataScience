{
 "cells": [
  {
   "cell_type": "code",
   "execution_count": 37,
   "metadata": {},
   "outputs": [],
   "source": [
    "import pandas as pd\n",
    "import numpy as np\n",
    "from functools import reduce"
   ]
  },
  {
   "cell_type": "markdown",
   "metadata": {},
   "source": [
    "**Basico** - conferido"
   ]
  },
  {
   "cell_type": "code",
   "execution_count": 38,
   "metadata": {},
   "outputs": [],
   "source": [
    "dfBasicoPernambuco = pd.read_csv('dataAgrupados/Basico_PE.csv', sep = ';', encoding = 'unicode_escape')"
   ]
  },
  {
   "cell_type": "code",
   "execution_count": 39,
   "metadata": {},
   "outputs": [],
   "source": [
    "dfBasicoPernambuco = dfBasicoPernambuco[['Cod_setor','V003', 'V005', 'V009', 'V011']]"
   ]
  },
  {
   "cell_type": "code",
   "execution_count": 40,
   "metadata": {},
   "outputs": [],
   "source": [
    "dfBasicoPernambuco = dfBasicoPernambuco.replace('X', 0, regex= True)"
   ]
  },
  {
   "cell_type": "code",
   "execution_count": 41,
   "metadata": {},
   "outputs": [
    {
     "data": {
      "text/html": [
       "<div>\n",
       "<style scoped>\n",
       "    .dataframe tbody tr th:only-of-type {\n",
       "        vertical-align: middle;\n",
       "    }\n",
       "\n",
       "    .dataframe tbody tr th {\n",
       "        vertical-align: top;\n",
       "    }\n",
       "\n",
       "    .dataframe thead th {\n",
       "        text-align: right;\n",
       "    }\n",
       "</style>\n",
       "<table border=\"1\" class=\"dataframe\">\n",
       "  <thead>\n",
       "    <tr style=\"text-align: right;\">\n",
       "      <th></th>\n",
       "      <th>Cod_setor</th>\n",
       "      <th>V003</th>\n",
       "      <th>V005</th>\n",
       "      <th>V009</th>\n",
       "      <th>V011</th>\n",
       "    </tr>\n",
       "  </thead>\n",
       "  <tbody>\n",
       "    <tr>\n",
       "      <th>0</th>\n",
       "      <td>260005405000001</td>\n",
       "      <td>3,43</td>\n",
       "      <td>452,8</td>\n",
       "      <td>322,3</td>\n",
       "      <td>693,75</td>\n",
       "    </tr>\n",
       "    <tr>\n",
       "      <th>1</th>\n",
       "      <td>260005405000002</td>\n",
       "      <td>3,36</td>\n",
       "      <td>632,62</td>\n",
       "      <td>386,56</td>\n",
       "      <td>686,42</td>\n",
       "    </tr>\n",
       "    <tr>\n",
       "      <th>2</th>\n",
       "      <td>260005405000003</td>\n",
       "      <td>2,98</td>\n",
       "      <td>973,5</td>\n",
       "      <td>623,45</td>\n",
       "      <td>1005,48</td>\n",
       "    </tr>\n",
       "    <tr>\n",
       "      <th>3</th>\n",
       "      <td>260005405000004</td>\n",
       "      <td>3,05</td>\n",
       "      <td>637,76</td>\n",
       "      <td>382,99</td>\n",
       "      <td>658,24</td>\n",
       "    </tr>\n",
       "    <tr>\n",
       "      <th>4</th>\n",
       "      <td>260005405000005</td>\n",
       "      <td>3,45</td>\n",
       "      <td>401,38</td>\n",
       "      <td>249,22</td>\n",
       "      <td>474,34</td>\n",
       "    </tr>\n",
       "  </tbody>\n",
       "</table>\n",
       "</div>"
      ],
      "text/plain": [
       "         Cod_setor  V003    V005    V009     V011\n",
       "0  260005405000001  3,43   452,8   322,3   693,75\n",
       "1  260005405000002  3,36  632,62  386,56   686,42\n",
       "2  260005405000003  2,98   973,5  623,45  1005,48\n",
       "3  260005405000004  3,05  637,76  382,99   658,24\n",
       "4  260005405000005  3,45  401,38  249,22   474,34"
      ]
     },
     "execution_count": 41,
     "metadata": {},
     "output_type": "execute_result"
    }
   ],
   "source": [
    "dfBasicoPernambuco.head()"
   ]
  },
  {
   "cell_type": "code",
   "execution_count": 42,
   "metadata": {},
   "outputs": [],
   "source": [
    "dfBasicoPernambuco = dfBasicoPernambuco.replace(',', '.', regex= True)"
   ]
  },
  {
   "cell_type": "code",
   "execution_count": 43,
   "metadata": {},
   "outputs": [],
   "source": [
    "dfBasicoPernambuco = dfBasicoPernambuco.astype({'V003':'float','V005':'float','V009':'float','V011':'float'})"
   ]
  },
  {
   "cell_type": "code",
   "execution_count": 44,
   "metadata": {},
   "outputs": [],
   "source": [
    "dfBasicoPernambuco.rename(columns = {'V003':'MediaMoradorDomicilio',\n",
    "                     'V005':'RendaMediaDomicilio',\n",
    "                     'V009':'RendaMediaPerCapitaGeral',\n",
    "                     'V011':'RendaMediaPerCapitaComRendimento'}, inplace = True)"
   ]
  },
  {
   "cell_type": "markdown",
   "metadata": {},
   "source": [
    "**Domicilio01** - conferido"
   ]
  },
  {
   "cell_type": "code",
   "execution_count": 45,
   "metadata": {},
   "outputs": [
    {
     "name": "stderr",
     "output_type": "stream",
     "text": [
      "/usr/lib/python3/dist-packages/IPython/core/interactiveshell.py:3331: DtypeWarning: Columns (4,5,6,7,8,9,10,11,12,13,14,15,16,17,18,19,20,21,22,23,24,25,26,27,28,29,30,31,32,33,34,35,36,37,38,39,40,41,42,43,44,45,46,47,48,49,50,51,52,53,54,55,56,57,58,59,60,61,62,63,64,65,66,67,68,69,70,71,72,73,74,75,76,77,78,79,80,81,82,83,84,85,86,87,88,89,90,91,92,93,94,95,96,97,98,99,100,101,102,103,104,105,106,107,108,109,110,111,112,113,114,115,116,117,118,119,120,121,122,123,124,125,126,127,128,129,130,131,132,133,134,135,136,137,138,139,140,141,142,143,144,145,146,147,148,149,150,151,152,153,154,155,156,157,158,159,160,161,162,163,164,165,166,167,168,169,170,171,172,173,174,175,176,177,178,179,180,181,182,183,184,185,186,187,188,189,190,191,192,193,194,195,196,197,198,199,200,201,202,203,204,205,206,207,208,209,210,211,212,213,214,215,216,217,218,219,220,221,222,223,224,225,226,227,228,229,230,231,232,233,234,235,236,237,238,239,240,241,242) have mixed types.Specify dtype option on import or set low_memory=False.\n",
      "  exec(code_obj, self.user_global_ns, self.user_ns)\n"
     ]
    }
   ],
   "source": [
    "dfDomicilio01Pernambuco = pd.read_csv('dataAgrupados/Domicilio01_PE.csv', sep = ';', encoding = 'unicode_escape')"
   ]
  },
  {
   "cell_type": "code",
   "execution_count": 46,
   "metadata": {},
   "outputs": [],
   "source": [
    "dfDomicilio01Pernambuco = dfDomicilio01Pernambuco.replace('X', 0, regex= True)"
   ]
  },
  {
   "cell_type": "code",
   "execution_count": 47,
   "metadata": {},
   "outputs": [],
   "source": [
    "#dfDomicilio01Pernambuco = dfDomicilio01Pernambuco.astype(int)"
   ]
  },
  {
   "cell_type": "code",
   "execution_count": 48,
   "metadata": {},
   "outputs": [],
   "source": [
    "dfDomicilio01Pernambuco = dfDomicilio01Pernambuco[['Cod_setor',\n",
    "                                       'V001', 'V003', 'V005', 'V008','V050',\n",
    "                                       'V050' ,'V051' ,'V052' ,'V053' ,'V054' ,'V055' ,\n",
    "                                       'V056' ,'V057' ,'V058' ,'V059' ,]]"
   ]
  },
  {
   "cell_type": "code",
   "execution_count": 49,
   "metadata": {},
   "outputs": [],
   "source": [
    "dfDomicilio01Pernambuco.rename(columns = {\n",
    "'V001':'nAbsDomicilios' , \n",
    "'V003': 'nAbsDomiciliosCasa', \n",
    "'V005': 'nAbsDomiciliosApto', \n",
    "'V008': 'nAbsImoveisAlugados', \n",
    "'V050':'nAbs1PessoasDomicilio',\n",
    "'V051':'nAbs2PessoasDomicilio',\n",
    "'V052':'nAbs3PessoasDomicilio',\n",
    "'V053':'nAbs4PessoasDomicilio',\n",
    "'V054':'nAbs5PessoasDomicilio',\n",
    "'V055':'nAbs6PessoasDomicilio',\n",
    "'V056':'nAbs7PessoasDomicilio',\n",
    "'V057':'nAbs8PessoasDomicilio',\n",
    "'V058':'nAbs9PessoasDomicilio',\n",
    "'V059':'nAbs10PessoasDomicilio'}, inplace = True)"
   ]
  },
  {
   "cell_type": "code",
   "execution_count": 50,
   "metadata": {},
   "outputs": [
    {
     "data": {
      "text/plain": [
       "0        20\n",
       "1        00\n",
       "2        01\n",
       "3        11\n",
       "4        21\n",
       "         ..\n",
       "12374     6\n",
       "12375     5\n",
       "12376     4\n",
       "12377     5\n",
       "12378     2\n",
       "Length: 12379, dtype: object"
      ]
     },
     "execution_count": 50,
     "metadata": {},
     "output_type": "execute_result"
    }
   ],
   "source": [
    "dfDomicilio01Pernambuco['nAbs5ouMaisPessoasDomicilio'] = dfDomicilio01Pernambuco['nAbs5PessoasDomicilio'] +dfDomicilio01Pernambuco['nAbs6PessoasDomicilio'] + dfDomicilio01Pernambuco['nAbs7PessoasDomicilio'] + dfDomicilio01Pernambuco['nAbs8PessoasDomicilio']\n",
    "+ dfDomicilio01Pernambuco['nAbs9PessoasDomicilio'] + dfDomicilio01Pernambuco['nAbs10PessoasDomicilio'] "
   ]
  },
  {
   "cell_type": "code",
   "execution_count": 51,
   "metadata": {},
   "outputs": [],
   "source": [
    "dfDomicilio01Pernambuco.drop(['nAbs5PessoasDomicilio', 'nAbs6PessoasDomicilio', 'nAbs7PessoasDomicilio',\n",
    "                        'nAbs8PessoasDomicilio', 'nAbs9PessoasDomicilio', 'nAbs10PessoasDomicilio'], axis =1, inplace = True)"
   ]
  },
  {
   "cell_type": "markdown",
   "metadata": {},
   "source": [
    "**Domicilio02** - conferido"
   ]
  },
  {
   "cell_type": "code",
   "execution_count": 52,
   "metadata": {},
   "outputs": [
    {
     "name": "stderr",
     "output_type": "stream",
     "text": [
      "/usr/lib/python3/dist-packages/IPython/core/interactiveshell.py:3331: DtypeWarning: Columns (3,4,5,6,7,8,9,10,11,12,13,14,15,16,17,18,19,20,21,22,23,24,25,26,27,28,29,30,31,32,33,34,35,36,37,38,39,40,41,42,43,44,45,47,48,49,50,51,52,53,54,55,56,57,58,59,60,61,62,63,64,65,66,67,68,69,70,71,72,73,74,75,76,77,78,79,80,81,82,83,84,85,86,87,88,89,91,92,93,94,95,96,97,98,99,100,101,102,103,104,105,106,107,108,109,110,111,112,113,114,115,116,117,118,119,120,121,122,123,124,125,126,127,128,129,130,131,132,133) have mixed types.Specify dtype option on import or set low_memory=False.\n",
      "  exec(code_obj, self.user_global_ns, self.user_ns)\n"
     ]
    }
   ],
   "source": [
    "dfDomicilio02Pernambuco = pd.read_csv('dataAgrupados/Domicilio02_PE.csv', sep = ';', encoding = 'unicode_escape')"
   ]
  },
  {
   "cell_type": "code",
   "execution_count": 53,
   "metadata": {},
   "outputs": [],
   "source": [
    "dfDomicilio02Pernambuco = dfDomicilio02Pernambuco.replace('X', 0, regex= True)"
   ]
  },
  {
   "cell_type": "code",
   "execution_count": 54,
   "metadata": {},
   "outputs": [],
   "source": [
    "dfDomicilio02Pernambuco = dfDomicilio02Pernambuco.astype(int)\n"
   ]
  },
  {
   "cell_type": "code",
   "execution_count": 55,
   "metadata": {},
   "outputs": [
    {
     "name": "stdout",
     "output_type": "stream",
     "text": [
      "<class 'pandas.core.frame.DataFrame'>\n",
      "RangeIndex: 12379 entries, 0 to 12378\n",
      "Columns: 134 entries, Cod_setor to V132\n",
      "dtypes: int64(134)\n",
      "memory usage: 12.7 MB\n"
     ]
    }
   ],
   "source": [
    "dfDomicilio02Pernambuco.info()"
   ]
  },
  {
   "cell_type": "code",
   "execution_count": 56,
   "metadata": {},
   "outputs": [],
   "source": [
    "dfDomicilio02Pernambuco = dfDomicilio02Pernambuco[['Cod_setor',\n",
    "                                       'V001', 'V003', 'V005', 'V008']]"
   ]
  },
  {
   "cell_type": "code",
   "execution_count": 57,
   "metadata": {},
   "outputs": [],
   "source": [
    "dfDomicilio02Pernambuco.rename(columns = {\n",
    "'V001':'nAbsHabitantes' , \n",
    "'V003': 'nAbsMoradoresCasa', \n",
    "'V005': 'nAbsMoradoresApto', \n",
    "'V008': 'nAbsMoradoresImoveisAlugados', \n",
    "}, inplace = True)"
   ]
  },
  {
   "cell_type": "code",
   "execution_count": 58,
   "metadata": {},
   "outputs": [
    {
     "data": {
      "text/html": [
       "<div>\n",
       "<style scoped>\n",
       "    .dataframe tbody tr th:only-of-type {\n",
       "        vertical-align: middle;\n",
       "    }\n",
       "\n",
       "    .dataframe tbody tr th {\n",
       "        vertical-align: top;\n",
       "    }\n",
       "\n",
       "    .dataframe thead th {\n",
       "        text-align: right;\n",
       "    }\n",
       "</style>\n",
       "<table border=\"1\" class=\"dataframe\">\n",
       "  <thead>\n",
       "    <tr style=\"text-align: right;\">\n",
       "      <th></th>\n",
       "      <th>Cod_setor</th>\n",
       "      <th>nAbsHabitantes</th>\n",
       "      <th>nAbsMoradoresCasa</th>\n",
       "      <th>nAbsMoradoresApto</th>\n",
       "      <th>nAbsMoradoresImoveisAlugados</th>\n",
       "    </tr>\n",
       "  </thead>\n",
       "  <tbody>\n",
       "    <tr>\n",
       "      <th>0</th>\n",
       "      <td>260005405000001</td>\n",
       "      <td>724</td>\n",
       "      <td>712</td>\n",
       "      <td>12</td>\n",
       "      <td>125</td>\n",
       "    </tr>\n",
       "    <tr>\n",
       "      <th>1</th>\n",
       "      <td>260005405000002</td>\n",
       "      <td>750</td>\n",
       "      <td>750</td>\n",
       "      <td>0</td>\n",
       "      <td>140</td>\n",
       "    </tr>\n",
       "    <tr>\n",
       "      <th>2</th>\n",
       "      <td>260005405000003</td>\n",
       "      <td>417</td>\n",
       "      <td>417</td>\n",
       "      <td>0</td>\n",
       "      <td>129</td>\n",
       "    </tr>\n",
       "    <tr>\n",
       "      <th>3</th>\n",
       "      <td>260005405000004</td>\n",
       "      <td>971</td>\n",
       "      <td>878</td>\n",
       "      <td>0</td>\n",
       "      <td>347</td>\n",
       "    </tr>\n",
       "    <tr>\n",
       "      <th>4</th>\n",
       "      <td>260005405000005</td>\n",
       "      <td>890</td>\n",
       "      <td>890</td>\n",
       "      <td>0</td>\n",
       "      <td>153</td>\n",
       "    </tr>\n",
       "  </tbody>\n",
       "</table>\n",
       "</div>"
      ],
      "text/plain": [
       "         Cod_setor  nAbsHabitantes  nAbsMoradoresCasa  nAbsMoradoresApto  \\\n",
       "0  260005405000001             724                712                 12   \n",
       "1  260005405000002             750                750                  0   \n",
       "2  260005405000003             417                417                  0   \n",
       "3  260005405000004             971                878                  0   \n",
       "4  260005405000005             890                890                  0   \n",
       "\n",
       "   nAbsMoradoresImoveisAlugados  \n",
       "0                           125  \n",
       "1                           140  \n",
       "2                           129  \n",
       "3                           347  \n",
       "4                           153  "
      ]
     },
     "execution_count": 58,
     "metadata": {},
     "output_type": "execute_result"
    }
   ],
   "source": [
    "dfDomicilio02Pernambuco.head()"
   ]
  },
  {
   "cell_type": "markdown",
   "metadata": {},
   "source": [
    "**Pessoa13** - conferido"
   ]
  },
  {
   "cell_type": "code",
   "execution_count": 59,
   "metadata": {},
   "outputs": [
    {
     "name": "stderr",
     "output_type": "stream",
     "text": [
      "/usr/lib/python3/dist-packages/IPython/core/interactiveshell.py:3331: DtypeWarning: Columns (3,4,5,6,7,8,9,10,11,12,13,14,15,16,17,18,19,20,21,22,23,24,25,26,27,28,29,30,31,32,33,34,35,36,37,38,39,40,41,42,43,44,45,46,47,48,49,50,51,52,53,54,55,56,57,58,59,60,61,62,63,64,65,66,67,68,69,70,71,72,73,74,75,76,77,78,79,80,81,82,83,84,85,86,87,88,89,90,91,92,93,94,95,96,97,98,99,100,101,102,103,104,105,106,107,108,109,110,111,112,113,114,115,116,117,118,119,120,121,122,123,124,125,126,127,128,129,130,131,132,133,134,135) have mixed types.Specify dtype option on import or set low_memory=False.\n",
      "  exec(code_obj, self.user_global_ns, self.user_ns)\n"
     ]
    }
   ],
   "source": [
    "dfPessoa13Pernambuco = pd.read_csv('dataAgrupados/Pessoa13_PE.csv', sep = ';', encoding = 'unicode_escape')"
   ]
  },
  {
   "cell_type": "code",
   "execution_count": 60,
   "metadata": {},
   "outputs": [],
   "source": [
    "dfPessoa13Pernambuco = dfPessoa13Pernambuco[['Cod_setor', 'V001']]"
   ]
  },
  {
   "cell_type": "code",
   "execution_count": 61,
   "metadata": {},
   "outputs": [],
   "source": [
    "dfPessoa13Pernambuco = dfPessoa13Pernambuco.replace('X', 0, regex= True)"
   ]
  },
  {
   "cell_type": "code",
   "execution_count": 62,
   "metadata": {},
   "outputs": [],
   "source": [
    "dfPessoa13Pernambuco.rename(columns= {'V001':'nAbsConjuges'}, inplace = True)"
   ]
  },
  {
   "cell_type": "code",
   "execution_count": 63,
   "metadata": {},
   "outputs": [
    {
     "data": {
      "text/html": [
       "<div>\n",
       "<style scoped>\n",
       "    .dataframe tbody tr th:only-of-type {\n",
       "        vertical-align: middle;\n",
       "    }\n",
       "\n",
       "    .dataframe tbody tr th {\n",
       "        vertical-align: top;\n",
       "    }\n",
       "\n",
       "    .dataframe thead th {\n",
       "        text-align: right;\n",
       "    }\n",
       "</style>\n",
       "<table border=\"1\" class=\"dataframe\">\n",
       "  <thead>\n",
       "    <tr style=\"text-align: right;\">\n",
       "      <th></th>\n",
       "      <th>Cod_setor</th>\n",
       "      <th>nAbsConjuges</th>\n",
       "    </tr>\n",
       "  </thead>\n",
       "  <tbody>\n",
       "    <tr>\n",
       "      <th>0</th>\n",
       "      <td>260005405000001</td>\n",
       "      <td>724</td>\n",
       "    </tr>\n",
       "    <tr>\n",
       "      <th>1</th>\n",
       "      <td>260005405000002</td>\n",
       "      <td>750</td>\n",
       "    </tr>\n",
       "    <tr>\n",
       "      <th>2</th>\n",
       "      <td>260005405000003</td>\n",
       "      <td>417</td>\n",
       "    </tr>\n",
       "    <tr>\n",
       "      <th>3</th>\n",
       "      <td>260005405000004</td>\n",
       "      <td>971</td>\n",
       "    </tr>\n",
       "    <tr>\n",
       "      <th>4</th>\n",
       "      <td>260005405000005</td>\n",
       "      <td>890</td>\n",
       "    </tr>\n",
       "  </tbody>\n",
       "</table>\n",
       "</div>"
      ],
      "text/plain": [
       "         Cod_setor  nAbsConjuges\n",
       "0  260005405000001           724\n",
       "1  260005405000002           750\n",
       "2  260005405000003           417\n",
       "3  260005405000004           971\n",
       "4  260005405000005           890"
      ]
     },
     "execution_count": 63,
     "metadata": {},
     "output_type": "execute_result"
    }
   ],
   "source": [
    "dfPessoa13Pernambuco.head()"
   ]
  },
  {
   "cell_type": "markdown",
   "metadata": {},
   "source": [
    "**Pessoa11** - conferido"
   ]
  },
  {
   "cell_type": "code",
   "execution_count": 64,
   "metadata": {},
   "outputs": [
    {
     "name": "stderr",
     "output_type": "stream",
     "text": [
      "/usr/lib/python3/dist-packages/IPython/core/interactiveshell.py:3331: DtypeWarning: Columns (3,4,5,6,7,8,9,10,11,12,13,14,15,16,17,18,19,20,21,22,23,24,25,26,27,28,29,30,31,32,33,34,35,36,37,38,39,40,41,42,43,44,45,46,47,48,49,50,51,52,53,54,55,56,57,58,59,60,61,62,63,64,65,66,67,68,69,70,71,72,73,74,75,76,77,78,79,80,81,82,83,84,85,86,87,88,89,90,91,92,93,94,95,96,97,98,99,100,101,102,103,104,105,106,107,108,109,110,111,112,113,114,115,116,117,118,119,120,121,122,123,124,125,126,127,128,129,130,131,132,133,134,135) have mixed types.Specify dtype option on import or set low_memory=False.\n",
      "  exec(code_obj, self.user_global_ns, self.user_ns)\n"
     ]
    }
   ],
   "source": [
    "dfPessoa11Pernambuco = pd.read_csv('dataAgrupados/Pessoa11_PE.csv', sep = ';', encoding = 'unicode_escape')"
   ]
  },
  {
   "cell_type": "code",
   "execution_count": 65,
   "metadata": {},
   "outputs": [],
   "source": [
    "dfPessoa11Pernambuco = dfPessoa11Pernambuco[['Cod_setor', 'V001']]"
   ]
  },
  {
   "cell_type": "code",
   "execution_count": 66,
   "metadata": {},
   "outputs": [],
   "source": [
    "dfPessoa11Pernambuco = dfPessoa11Pernambuco.replace('X', 0, regex= True)"
   ]
  },
  {
   "cell_type": "code",
   "execution_count": 67,
   "metadata": {},
   "outputs": [],
   "source": [
    "dfPessoa11Pernambuco.rename(columns= {'V001':'nAbsHomensResidentes'}, inplace = True)"
   ]
  },
  {
   "cell_type": "markdown",
   "metadata": {},
   "source": [
    "**Pessoa12** - conferido"
   ]
  },
  {
   "cell_type": "code",
   "execution_count": 68,
   "metadata": {},
   "outputs": [],
   "source": [
    "dfPessoa12Pernambuco = pd.read_csv('dataAgrupados/Pessoa12_PE.csv', sep = ';', encoding = 'unicode_escape')"
   ]
  },
  {
   "cell_type": "code",
   "execution_count": 69,
   "metadata": {},
   "outputs": [],
   "source": [
    "dfPessoa12Pernambuco = dfPessoa12Pernambuco.replace('X', 0, regex= True)"
   ]
  },
  {
   "cell_type": "code",
   "execution_count": 70,
   "metadata": {},
   "outputs": [],
   "source": [
    "dfPessoa12Pernambuco = dfPessoa12Pernambuco[['Cod_setor', 'V001']]"
   ]
  },
  {
   "cell_type": "code",
   "execution_count": 71,
   "metadata": {},
   "outputs": [
    {
     "data": {
      "text/html": [
       "<div>\n",
       "<style scoped>\n",
       "    .dataframe tbody tr th:only-of-type {\n",
       "        vertical-align: middle;\n",
       "    }\n",
       "\n",
       "    .dataframe tbody tr th {\n",
       "        vertical-align: top;\n",
       "    }\n",
       "\n",
       "    .dataframe thead th {\n",
       "        text-align: right;\n",
       "    }\n",
       "</style>\n",
       "<table border=\"1\" class=\"dataframe\">\n",
       "  <thead>\n",
       "    <tr style=\"text-align: right;\">\n",
       "      <th></th>\n",
       "      <th>Cod_setor</th>\n",
       "      <th>V001</th>\n",
       "    </tr>\n",
       "  </thead>\n",
       "  <tbody>\n",
       "    <tr>\n",
       "      <th>0</th>\n",
       "      <td>260005405000001</td>\n",
       "      <td>388</td>\n",
       "    </tr>\n",
       "    <tr>\n",
       "      <th>1</th>\n",
       "      <td>260005405000002</td>\n",
       "      <td>412</td>\n",
       "    </tr>\n",
       "    <tr>\n",
       "      <th>2</th>\n",
       "      <td>260005405000003</td>\n",
       "      <td>233</td>\n",
       "    </tr>\n",
       "    <tr>\n",
       "      <th>3</th>\n",
       "      <td>260005405000004</td>\n",
       "      <td>519</td>\n",
       "    </tr>\n",
       "    <tr>\n",
       "      <th>4</th>\n",
       "      <td>260005405000005</td>\n",
       "      <td>464</td>\n",
       "    </tr>\n",
       "  </tbody>\n",
       "</table>\n",
       "</div>"
      ],
      "text/plain": [
       "         Cod_setor  V001\n",
       "0  260005405000001   388\n",
       "1  260005405000002   412\n",
       "2  260005405000003   233\n",
       "3  260005405000004   519\n",
       "4  260005405000005   464"
      ]
     },
     "execution_count": 71,
     "metadata": {},
     "output_type": "execute_result"
    }
   ],
   "source": [
    "dfPessoa12Pernambuco.head()"
   ]
  },
  {
   "cell_type": "code",
   "execution_count": 72,
   "metadata": {},
   "outputs": [],
   "source": [
    "dfPessoa12Pernambuco.rename(columns= {'V001':'nAbsMulheresResidentes'}, inplace = True)"
   ]
  },
  {
   "cell_type": "code",
   "execution_count": 73,
   "metadata": {},
   "outputs": [
    {
     "data": {
      "text/html": [
       "<div>\n",
       "<style scoped>\n",
       "    .dataframe tbody tr th:only-of-type {\n",
       "        vertical-align: middle;\n",
       "    }\n",
       "\n",
       "    .dataframe tbody tr th {\n",
       "        vertical-align: top;\n",
       "    }\n",
       "\n",
       "    .dataframe thead th {\n",
       "        text-align: right;\n",
       "    }\n",
       "</style>\n",
       "<table border=\"1\" class=\"dataframe\">\n",
       "  <thead>\n",
       "    <tr style=\"text-align: right;\">\n",
       "      <th></th>\n",
       "      <th>Cod_setor</th>\n",
       "      <th>nAbsMulheresResidentes</th>\n",
       "    </tr>\n",
       "  </thead>\n",
       "  <tbody>\n",
       "    <tr>\n",
       "      <th>0</th>\n",
       "      <td>260005405000001</td>\n",
       "      <td>388</td>\n",
       "    </tr>\n",
       "    <tr>\n",
       "      <th>1</th>\n",
       "      <td>260005405000002</td>\n",
       "      <td>412</td>\n",
       "    </tr>\n",
       "    <tr>\n",
       "      <th>2</th>\n",
       "      <td>260005405000003</td>\n",
       "      <td>233</td>\n",
       "    </tr>\n",
       "    <tr>\n",
       "      <th>3</th>\n",
       "      <td>260005405000004</td>\n",
       "      <td>519</td>\n",
       "    </tr>\n",
       "    <tr>\n",
       "      <th>4</th>\n",
       "      <td>260005405000005</td>\n",
       "      <td>464</td>\n",
       "    </tr>\n",
       "  </tbody>\n",
       "</table>\n",
       "</div>"
      ],
      "text/plain": [
       "         Cod_setor  nAbsMulheresResidentes\n",
       "0  260005405000001                     388\n",
       "1  260005405000002                     412\n",
       "2  260005405000003                     233\n",
       "3  260005405000004                     519\n",
       "4  260005405000005                     464"
      ]
     },
     "execution_count": 73,
     "metadata": {},
     "output_type": "execute_result"
    }
   ],
   "source": [
    "dfPessoa12Pernambuco.head()"
   ]
  },
  {
   "cell_type": "markdown",
   "metadata": {},
   "source": [
    "**DomicilioRenda** - conferido"
   ]
  },
  {
   "cell_type": "code",
   "execution_count": 74,
   "metadata": {},
   "outputs": [],
   "source": [
    "dfDomicilioRendaPernambuco = pd.read_csv('dataAgrupados/DomicilioRenda_PE.csv', sep = ';', encoding = 'unicode_escape')"
   ]
  },
  {
   "cell_type": "code",
   "execution_count": 75,
   "metadata": {},
   "outputs": [],
   "source": [
    "dfDomicilioRendaPernambuco = dfDomicilioRendaPernambuco[['Cod_setor',\n",
    "                                             'V002', 'V003', 'V004']]"
   ]
  },
  {
   "cell_type": "code",
   "execution_count": 76,
   "metadata": {},
   "outputs": [],
   "source": [
    "dfDomicilioRendaPernambuco = dfDomicilioRendaPernambuco.replace('X', 0, regex= True)"
   ]
  },
  {
   "cell_type": "code",
   "execution_count": 77,
   "metadata": {},
   "outputs": [],
   "source": [
    "dfDomicilioRendaPernambuco = dfDomicilioRendaPernambuco.astype(int)"
   ]
  },
  {
   "cell_type": "code",
   "execution_count": 78,
   "metadata": {},
   "outputs": [],
   "source": [
    "dfDomicilioRendaPernambuco.rename(columns = {'V002':'TotalRendNomMensalDomParticulares',\n",
    "                                       'V003':'TotalRendimentoNomMensalDomParticularesPermanentes',\n",
    "                                       'V004':'TotalRendimentoNomMensalDomParitulcaresImprovisados'}\n",
    "                            , inplace = True)"
   ]
  },
  {
   "cell_type": "code",
   "execution_count": 79,
   "metadata": {},
   "outputs": [
    {
     "data": {
      "text/html": [
       "<div>\n",
       "<style scoped>\n",
       "    .dataframe tbody tr th:only-of-type {\n",
       "        vertical-align: middle;\n",
       "    }\n",
       "\n",
       "    .dataframe tbody tr th {\n",
       "        vertical-align: top;\n",
       "    }\n",
       "\n",
       "    .dataframe thead th {\n",
       "        text-align: right;\n",
       "    }\n",
       "</style>\n",
       "<table border=\"1\" class=\"dataframe\">\n",
       "  <thead>\n",
       "    <tr style=\"text-align: right;\">\n",
       "      <th></th>\n",
       "      <th>Cod_setor</th>\n",
       "      <th>TotalRendNomMensalDomParticulares</th>\n",
       "      <th>TotalRendimentoNomMensalDomParticularesPermanentes</th>\n",
       "      <th>TotalRendimentoNomMensalDomParitulcaresImprovisados</th>\n",
       "    </tr>\n",
       "  </thead>\n",
       "  <tbody>\n",
       "    <tr>\n",
       "      <th>0</th>\n",
       "      <td>260005405000001</td>\n",
       "      <td>195638</td>\n",
       "      <td>195638</td>\n",
       "      <td>0</td>\n",
       "    </tr>\n",
       "    <tr>\n",
       "      <th>1</th>\n",
       "      <td>260005405000002</td>\n",
       "      <td>260154</td>\n",
       "      <td>260154</td>\n",
       "      <td>0</td>\n",
       "    </tr>\n",
       "    <tr>\n",
       "      <th>2</th>\n",
       "      <td>260005405000003</td>\n",
       "      <td>236288</td>\n",
       "      <td>236288</td>\n",
       "      <td>0</td>\n",
       "    </tr>\n",
       "    <tr>\n",
       "      <th>3</th>\n",
       "      <td>260005405000004</td>\n",
       "      <td>320564</td>\n",
       "      <td>320564</td>\n",
       "      <td>0</td>\n",
       "    </tr>\n",
       "    <tr>\n",
       "      <th>4</th>\n",
       "      <td>260005405000005</td>\n",
       "      <td>186414</td>\n",
       "      <td>186414</td>\n",
       "      <td>0</td>\n",
       "    </tr>\n",
       "  </tbody>\n",
       "</table>\n",
       "</div>"
      ],
      "text/plain": [
       "         Cod_setor  TotalRendNomMensalDomParticulares  \\\n",
       "0  260005405000001                             195638   \n",
       "1  260005405000002                             260154   \n",
       "2  260005405000003                             236288   \n",
       "3  260005405000004                             320564   \n",
       "4  260005405000005                             186414   \n",
       "\n",
       "   TotalRendimentoNomMensalDomParticularesPermanentes  \\\n",
       "0                                             195638    \n",
       "1                                             260154    \n",
       "2                                             236288    \n",
       "3                                             320564    \n",
       "4                                             186414    \n",
       "\n",
       "   TotalRendimentoNomMensalDomParitulcaresImprovisados  \n",
       "0                                                  0    \n",
       "1                                                  0    \n",
       "2                                                  0    \n",
       "3                                                  0    \n",
       "4                                                  0    "
      ]
     },
     "execution_count": 79,
     "metadata": {},
     "output_type": "execute_result"
    }
   ],
   "source": [
    "dfDomicilioRendaPernambuco.head()"
   ]
  },
  {
   "cell_type": "markdown",
   "metadata": {},
   "source": [
    "**ResponsavelRenda** - conferido"
   ]
  },
  {
   "cell_type": "code",
   "execution_count": 80,
   "metadata": {},
   "outputs": [
    {
     "name": "stderr",
     "output_type": "stream",
     "text": [
      "/usr/lib/python3/dist-packages/IPython/core/interactiveshell.py:3331: DtypeWarning: Columns (2,3,4,5,6,7,8,9,10,11,12,13,14,15,16,17,18,19,20,21,22,23,24,25,26,27,28,29,30,31,32,33,34,35,36,37,38,39,40,41,42,43,44,45,46,47,48,49,50,51,52,53,54,55,56,57,58,59,60,61,62,63,64,65,66,67,68,69,70,71,72,73,74,75,76,77,78,79,80,81,82,83,84,85,86,87,88,89,90,91,92,93,94,95,96,97,98,99,100,101,102,103,104,105,106,107,108,109,110,111,112,113,114,115,116,117,118,119,120,121,122,123,124,125,126,127,128,129,130,131,132,133) have mixed types.Specify dtype option on import or set low_memory=False.\n",
      "  exec(code_obj, self.user_global_ns, self.user_ns)\n"
     ]
    }
   ],
   "source": [
    "dfResponsavelRendaPernambuco = pd.read_csv('dataAgrupados/ResponsavelRenda_PE.csv', sep = ';', encoding = 'unicode_escape')"
   ]
  },
  {
   "cell_type": "code",
   "execution_count": 81,
   "metadata": {},
   "outputs": [],
   "source": [
    "dfResponsavelRendaPernambuco = dfResponsavelRendaPernambuco[['Cod_setor', \n",
    "                                                 'V001','V002', 'V003',\n",
    "                                                 'V004','V005', 'V006',\n",
    "                                                 'V007','V008', 'V009']]"
   ]
  },
  {
   "cell_type": "code",
   "execution_count": 82,
   "metadata": {},
   "outputs": [],
   "source": [
    "dfResponsavelRendaPernambuco = dfResponsavelRendaPernambuco.replace('X', 0, regex= True)"
   ]
  },
  {
   "cell_type": "code",
   "execution_count": 83,
   "metadata": {},
   "outputs": [],
   "source": [
    "dfResponsavelRendaPernambuco = dfResponsavelRendaPernambuco.astype(int)"
   ]
  },
  {
   "cell_type": "code",
   "execution_count": 84,
   "metadata": {},
   "outputs": [],
   "source": [
    "dfResponsavelRendaPernambuco['nAbsPessoasClasseE'] = dfResponsavelRendaPernambuco['V001'] +dfResponsavelRendaPernambuco['V002'] + dfResponsavelRendaPernambuco['V003'] "
   ]
  },
  {
   "cell_type": "code",
   "execution_count": 85,
   "metadata": {},
   "outputs": [],
   "source": [
    "dfResponsavelRendaPernambuco['nAbsPessoasClasseD'] = dfResponsavelRendaPernambuco['V004']"
   ]
  },
  {
   "cell_type": "code",
   "execution_count": 86,
   "metadata": {},
   "outputs": [],
   "source": [
    "dfResponsavelRendaPernambuco['nAbsPessoasClasseC'] = dfResponsavelRendaPernambuco['V005'] +dfResponsavelRendaPernambuco['V006']"
   ]
  },
  {
   "cell_type": "code",
   "execution_count": 87,
   "metadata": {},
   "outputs": [],
   "source": [
    "dfResponsavelRendaPernambuco['nAbsPessoasClasseB'] = dfResponsavelRendaPernambuco['V007']"
   ]
  },
  {
   "cell_type": "code",
   "execution_count": 88,
   "metadata": {},
   "outputs": [],
   "source": [
    "dfResponsavelRendaPernambuco['nAbsPessoasClasseA'] = dfResponsavelRendaPernambuco['V008'] +  dfResponsavelRendaPernambuco['V009']"
   ]
  },
  {
   "cell_type": "code",
   "execution_count": 89,
   "metadata": {},
   "outputs": [],
   "source": [
    "dfResponsavelRendaPernambuco.drop(['V001', 'V002', 'V003',\n",
    "                        'V004', 'V005', 'V006', 'V007', 'V008', 'V009'], axis =1, inplace = True)"
   ]
  },
  {
   "cell_type": "code",
   "execution_count": 90,
   "metadata": {},
   "outputs": [
    {
     "data": {
      "text/html": [
       "<div>\n",
       "<style scoped>\n",
       "    .dataframe tbody tr th:only-of-type {\n",
       "        vertical-align: middle;\n",
       "    }\n",
       "\n",
       "    .dataframe tbody tr th {\n",
       "        vertical-align: top;\n",
       "    }\n",
       "\n",
       "    .dataframe thead th {\n",
       "        text-align: right;\n",
       "    }\n",
       "</style>\n",
       "<table border=\"1\" class=\"dataframe\">\n",
       "  <thead>\n",
       "    <tr style=\"text-align: right;\">\n",
       "      <th></th>\n",
       "      <th>Cod_setor</th>\n",
       "      <th>nAbsPessoasClasseE</th>\n",
       "      <th>nAbsPessoasClasseD</th>\n",
       "      <th>nAbsPessoasClasseC</th>\n",
       "      <th>nAbsPessoasClasseB</th>\n",
       "      <th>nAbsPessoasClasseA</th>\n",
       "    </tr>\n",
       "  </thead>\n",
       "  <tbody>\n",
       "    <tr>\n",
       "      <th>0</th>\n",
       "      <td>260005405000001</td>\n",
       "      <td>108</td>\n",
       "      <td>7</td>\n",
       "      <td>10</td>\n",
       "      <td>0</td>\n",
       "      <td>0</td>\n",
       "    </tr>\n",
       "    <tr>\n",
       "      <th>1</th>\n",
       "      <td>260005405000002</td>\n",
       "      <td>164</td>\n",
       "      <td>18</td>\n",
       "      <td>12</td>\n",
       "      <td>0</td>\n",
       "      <td>0</td>\n",
       "    </tr>\n",
       "    <tr>\n",
       "      <th>2</th>\n",
       "      <td>260005405000003</td>\n",
       "      <td>84</td>\n",
       "      <td>16</td>\n",
       "      <td>20</td>\n",
       "      <td>1</td>\n",
       "      <td>1</td>\n",
       "    </tr>\n",
       "    <tr>\n",
       "      <th>3</th>\n",
       "      <td>260005405000004</td>\n",
       "      <td>226</td>\n",
       "      <td>16</td>\n",
       "      <td>23</td>\n",
       "      <td>0</td>\n",
       "      <td>0</td>\n",
       "    </tr>\n",
       "    <tr>\n",
       "      <th>4</th>\n",
       "      <td>260005405000005</td>\n",
       "      <td>187</td>\n",
       "      <td>4</td>\n",
       "      <td>4</td>\n",
       "      <td>0</td>\n",
       "      <td>0</td>\n",
       "    </tr>\n",
       "  </tbody>\n",
       "</table>\n",
       "</div>"
      ],
      "text/plain": [
       "         Cod_setor  nAbsPessoasClasseE  nAbsPessoasClasseD  \\\n",
       "0  260005405000001                 108                   7   \n",
       "1  260005405000002                 164                  18   \n",
       "2  260005405000003                  84                  16   \n",
       "3  260005405000004                 226                  16   \n",
       "4  260005405000005                 187                   4   \n",
       "\n",
       "   nAbsPessoasClasseC  nAbsPessoasClasseB  nAbsPessoasClasseA  \n",
       "0                  10                   0                   0  \n",
       "1                  12                   0                   0  \n",
       "2                  20                   1                   1  \n",
       "3                  23                   0                   0  \n",
       "4                   4                   0                   0  "
      ]
     },
     "execution_count": 90,
     "metadata": {},
     "output_type": "execute_result"
    }
   ],
   "source": [
    "dfResponsavelRendaPernambuco.head()"
   ]
  },
  {
   "cell_type": "markdown",
   "metadata": {},
   "source": [
    "**DATAFRAME TOTAL.**"
   ]
  },
  {
   "cell_type": "code",
   "execution_count": 91,
   "metadata": {},
   "outputs": [],
   "source": [
    "data_frames = [dfBasicoPernambuco, dfDomicilio01Pernambuco, dfDomicilio02Pernambuco, dfPessoa13Pernambuco, dfPessoa11Pernambuco, dfPessoa12Pernambuco,\n",
    "               dfDomicilioRendaPernambuco, dfResponsavelRendaPernambuco]"
   ]
  },
  {
   "cell_type": "code",
   "execution_count": 92,
   "metadata": {},
   "outputs": [],
   "source": [
    "dfTotalPernambuco = reduce(lambda  left,right: pd.merge(left,right,on=['Cod_setor'],\n",
    "                                            how='inner'), data_frames)"
   ]
  },
  {
   "cell_type": "code",
   "execution_count": 93,
   "metadata": {},
   "outputs": [
    {
     "data": {
      "text/html": [
       "<div>\n",
       "<style scoped>\n",
       "    .dataframe tbody tr th:only-of-type {\n",
       "        vertical-align: middle;\n",
       "    }\n",
       "\n",
       "    .dataframe tbody tr th {\n",
       "        vertical-align: top;\n",
       "    }\n",
       "\n",
       "    .dataframe thead th {\n",
       "        text-align: right;\n",
       "    }\n",
       "</style>\n",
       "<table border=\"1\" class=\"dataframe\">\n",
       "  <thead>\n",
       "    <tr style=\"text-align: right;\">\n",
       "      <th></th>\n",
       "      <th>Cod_setor</th>\n",
       "      <th>MediaMoradorDomicilio</th>\n",
       "      <th>RendaMediaDomicilio</th>\n",
       "      <th>RendaMediaPerCapitaGeral</th>\n",
       "      <th>RendaMediaPerCapitaComRendimento</th>\n",
       "      <th>nAbsDomicilios</th>\n",
       "      <th>nAbsDomiciliosCasa</th>\n",
       "      <th>nAbsDomiciliosApto</th>\n",
       "      <th>nAbsImoveisAlugados</th>\n",
       "      <th>nAbs1PessoasDomicilio</th>\n",
       "      <th>...</th>\n",
       "      <th>nAbsHomensResidentes</th>\n",
       "      <th>nAbsMulheresResidentes</th>\n",
       "      <th>TotalRendNomMensalDomParticulares</th>\n",
       "      <th>TotalRendimentoNomMensalDomParticularesPermanentes</th>\n",
       "      <th>TotalRendimentoNomMensalDomParitulcaresImprovisados</th>\n",
       "      <th>nAbsPessoasClasseE</th>\n",
       "      <th>nAbsPessoasClasseD</th>\n",
       "      <th>nAbsPessoasClasseC</th>\n",
       "      <th>nAbsPessoasClasseB</th>\n",
       "      <th>nAbsPessoasClasseA</th>\n",
       "    </tr>\n",
       "  </thead>\n",
       "  <tbody>\n",
       "    <tr>\n",
       "      <th>0</th>\n",
       "      <td>260005405000001</td>\n",
       "      <td>3.43</td>\n",
       "      <td>452.80</td>\n",
       "      <td>322.30</td>\n",
       "      <td>693.75</td>\n",
       "      <td>211</td>\n",
       "      <td>208</td>\n",
       "      <td>3</td>\n",
       "      <td>38</td>\n",
       "      <td>16</td>\n",
       "      <td>...</td>\n",
       "      <td>336</td>\n",
       "      <td>388</td>\n",
       "      <td>195638</td>\n",
       "      <td>195638</td>\n",
       "      <td>0</td>\n",
       "      <td>108</td>\n",
       "      <td>7</td>\n",
       "      <td>10</td>\n",
       "      <td>0</td>\n",
       "      <td>0</td>\n",
       "    </tr>\n",
       "    <tr>\n",
       "      <th>1</th>\n",
       "      <td>260005405000002</td>\n",
       "      <td>3.36</td>\n",
       "      <td>632.62</td>\n",
       "      <td>386.56</td>\n",
       "      <td>686.42</td>\n",
       "      <td>223</td>\n",
       "      <td>223</td>\n",
       "      <td>0</td>\n",
       "      <td>46</td>\n",
       "      <td>14</td>\n",
       "      <td>...</td>\n",
       "      <td>338</td>\n",
       "      <td>412</td>\n",
       "      <td>260154</td>\n",
       "      <td>260154</td>\n",
       "      <td>0</td>\n",
       "      <td>164</td>\n",
       "      <td>18</td>\n",
       "      <td>12</td>\n",
       "      <td>0</td>\n",
       "      <td>0</td>\n",
       "    </tr>\n",
       "    <tr>\n",
       "      <th>2</th>\n",
       "      <td>260005405000003</td>\n",
       "      <td>2.98</td>\n",
       "      <td>973.50</td>\n",
       "      <td>623.45</td>\n",
       "      <td>1005.48</td>\n",
       "      <td>140</td>\n",
       "      <td>140</td>\n",
       "      <td>0</td>\n",
       "      <td>48</td>\n",
       "      <td>18</td>\n",
       "      <td>...</td>\n",
       "      <td>184</td>\n",
       "      <td>233</td>\n",
       "      <td>236288</td>\n",
       "      <td>236288</td>\n",
       "      <td>0</td>\n",
       "      <td>84</td>\n",
       "      <td>16</td>\n",
       "      <td>20</td>\n",
       "      <td>1</td>\n",
       "      <td>1</td>\n",
       "    </tr>\n",
       "    <tr>\n",
       "      <th>3</th>\n",
       "      <td>260005405000004</td>\n",
       "      <td>3.05</td>\n",
       "      <td>637.76</td>\n",
       "      <td>382.99</td>\n",
       "      <td>658.24</td>\n",
       "      <td>318</td>\n",
       "      <td>286</td>\n",
       "      <td>0</td>\n",
       "      <td>117</td>\n",
       "      <td>34</td>\n",
       "      <td>...</td>\n",
       "      <td>452</td>\n",
       "      <td>519</td>\n",
       "      <td>320564</td>\n",
       "      <td>320564</td>\n",
       "      <td>0</td>\n",
       "      <td>226</td>\n",
       "      <td>16</td>\n",
       "      <td>23</td>\n",
       "      <td>0</td>\n",
       "      <td>0</td>\n",
       "    </tr>\n",
       "    <tr>\n",
       "      <th>4</th>\n",
       "      <td>260005405000005</td>\n",
       "      <td>3.45</td>\n",
       "      <td>401.38</td>\n",
       "      <td>249.22</td>\n",
       "      <td>474.34</td>\n",
       "      <td>258</td>\n",
       "      <td>258</td>\n",
       "      <td>0</td>\n",
       "      <td>50</td>\n",
       "      <td>25</td>\n",
       "      <td>...</td>\n",
       "      <td>426</td>\n",
       "      <td>464</td>\n",
       "      <td>186414</td>\n",
       "      <td>186414</td>\n",
       "      <td>0</td>\n",
       "      <td>187</td>\n",
       "      <td>4</td>\n",
       "      <td>4</td>\n",
       "      <td>0</td>\n",
       "      <td>0</td>\n",
       "    </tr>\n",
       "  </tbody>\n",
       "</table>\n",
       "<p>5 rows × 30 columns</p>\n",
       "</div>"
      ],
      "text/plain": [
       "         Cod_setor  MediaMoradorDomicilio  RendaMediaDomicilio  \\\n",
       "0  260005405000001                   3.43               452.80   \n",
       "1  260005405000002                   3.36               632.62   \n",
       "2  260005405000003                   2.98               973.50   \n",
       "3  260005405000004                   3.05               637.76   \n",
       "4  260005405000005                   3.45               401.38   \n",
       "\n",
       "   RendaMediaPerCapitaGeral  RendaMediaPerCapitaComRendimento  nAbsDomicilios  \\\n",
       "0                    322.30                            693.75             211   \n",
       "1                    386.56                            686.42             223   \n",
       "2                    623.45                           1005.48             140   \n",
       "3                    382.99                            658.24             318   \n",
       "4                    249.22                            474.34             258   \n",
       "\n",
       "  nAbsDomiciliosCasa nAbsDomiciliosApto nAbsImoveisAlugados  \\\n",
       "0                208                  3                  38   \n",
       "1                223                  0                  46   \n",
       "2                140                  0                  48   \n",
       "3                286                  0                 117   \n",
       "4                258                  0                  50   \n",
       "\n",
       "  nAbs1PessoasDomicilio  ... nAbsHomensResidentes nAbsMulheresResidentes  \\\n",
       "0                    16  ...                  336                    388   \n",
       "1                    14  ...                  338                    412   \n",
       "2                    18  ...                  184                    233   \n",
       "3                    34  ...                  452                    519   \n",
       "4                    25  ...                  426                    464   \n",
       "\n",
       "  TotalRendNomMensalDomParticulares  \\\n",
       "0                            195638   \n",
       "1                            260154   \n",
       "2                            236288   \n",
       "3                            320564   \n",
       "4                            186414   \n",
       "\n",
       "  TotalRendimentoNomMensalDomParticularesPermanentes  \\\n",
       "0                                             195638   \n",
       "1                                             260154   \n",
       "2                                             236288   \n",
       "3                                             320564   \n",
       "4                                             186414   \n",
       "\n",
       "  TotalRendimentoNomMensalDomParitulcaresImprovisados  nAbsPessoasClasseE  \\\n",
       "0                                                  0                  108   \n",
       "1                                                  0                  164   \n",
       "2                                                  0                   84   \n",
       "3                                                  0                  226   \n",
       "4                                                  0                  187   \n",
       "\n",
       "   nAbsPessoasClasseD  nAbsPessoasClasseC  nAbsPessoasClasseB  \\\n",
       "0                   7                  10                   0   \n",
       "1                  18                  12                   0   \n",
       "2                  16                  20                   1   \n",
       "3                  16                  23                   0   \n",
       "4                   4                   4                   0   \n",
       "\n",
       "   nAbsPessoasClasseA  \n",
       "0                   0  \n",
       "1                   0  \n",
       "2                   1  \n",
       "3                   0  \n",
       "4                   0  \n",
       "\n",
       "[5 rows x 30 columns]"
      ]
     },
     "execution_count": 93,
     "metadata": {},
     "output_type": "execute_result"
    }
   ],
   "source": [
    "dfTotalPernambuco.head()"
   ]
  },
  {
   "cell_type": "code",
   "execution_count": 94,
   "metadata": {},
   "outputs": [
    {
     "name": "stdout",
     "output_type": "stream",
     "text": [
      "<class 'pandas.core.frame.DataFrame'>\n",
      "Int64Index: 12379 entries, 0 to 12378\n",
      "Data columns (total 30 columns):\n",
      " #   Column                                               Non-Null Count  Dtype  \n",
      "---  ------                                               --------------  -----  \n",
      " 0   Cod_setor                                            12379 non-null  int64  \n",
      " 1   MediaMoradorDomicilio                                12360 non-null  float64\n",
      " 2   RendaMediaDomicilio                                  12360 non-null  float64\n",
      " 3   RendaMediaPerCapitaGeral                             12379 non-null  float64\n",
      " 4   RendaMediaPerCapitaComRendimento                     12373 non-null  float64\n",
      " 5   nAbsDomicilios                                       12379 non-null  int64  \n",
      " 6   nAbsDomiciliosCasa                                   12379 non-null  object \n",
      " 7   nAbsDomiciliosApto                                   12379 non-null  object \n",
      " 8   nAbsImoveisAlugados                                  12379 non-null  object \n",
      " 9   nAbs1PessoasDomicilio                                12379 non-null  object \n",
      " 10  nAbs1PessoasDomicilio                                12379 non-null  object \n",
      " 11  nAbs2PessoasDomicilio                                12379 non-null  object \n",
      " 12  nAbs3PessoasDomicilio                                12379 non-null  object \n",
      " 13  nAbs4PessoasDomicilio                                12379 non-null  object \n",
      " 14  nAbs5ouMaisPessoasDomicilio                          12379 non-null  object \n",
      " 15  nAbsHabitantes                                       12379 non-null  int64  \n",
      " 16  nAbsMoradoresCasa                                    12379 non-null  int64  \n",
      " 17  nAbsMoradoresApto                                    12379 non-null  int64  \n",
      " 18  nAbsMoradoresImoveisAlugados                         12379 non-null  int64  \n",
      " 19  nAbsConjuges                                         12379 non-null  int64  \n",
      " 20  nAbsHomensResidentes                                 12379 non-null  int64  \n",
      " 21  nAbsMulheresResidentes                               12379 non-null  int64  \n",
      " 22  TotalRendNomMensalDomParticulares                    12379 non-null  int64  \n",
      " 23  TotalRendimentoNomMensalDomParticularesPermanentes   12379 non-null  int64  \n",
      " 24  TotalRendimentoNomMensalDomParitulcaresImprovisados  12379 non-null  int64  \n",
      " 25  nAbsPessoasClasseE                                   12379 non-null  int64  \n",
      " 26  nAbsPessoasClasseD                                   12379 non-null  int64  \n",
      " 27  nAbsPessoasClasseC                                   12379 non-null  int64  \n",
      " 28  nAbsPessoasClasseB                                   12379 non-null  int64  \n",
      " 29  nAbsPessoasClasseA                                   12379 non-null  int64  \n",
      "dtypes: float64(4), int64(17), object(9)\n",
      "memory usage: 2.9+ MB\n"
     ]
    }
   ],
   "source": [
    "dfTotalPernambuco.info()"
   ]
  },
  {
   "cell_type": "code",
   "execution_count": null,
   "metadata": {},
   "outputs": [],
   "source": [
    "dfTotalPernambuco.to_csv('Pernambuco.csv', sep= ';', encoding = 'utf-8')"
   ]
  },
  {
   "cell_type": "markdown",
   "metadata": {},
   "source": [
    "Conferir num. abs. de 5 ou mais pessoas por domicilio"
   ]
  }
 ],
 "metadata": {
  "interpreter": {
   "hash": "916dbcbb3f70747c44a77c7bcd40155683ae19c65e1c03b4aa3499c5328201f1"
  },
  "kernelspec": {
   "display_name": "Python 3.8.10 64-bit",
   "language": "python",
   "name": "python3"
  },
  "language_info": {
   "codemirror_mode": {
    "name": "ipython",
    "version": 3
   },
   "file_extension": ".py",
   "mimetype": "text/x-python",
   "name": "python",
   "nbconvert_exporter": "python",
   "pygments_lexer": "ipython3",
   "version": "3.8.10"
  },
  "orig_nbformat": 4
 },
 "nbformat": 4,
 "nbformat_minor": 2
}

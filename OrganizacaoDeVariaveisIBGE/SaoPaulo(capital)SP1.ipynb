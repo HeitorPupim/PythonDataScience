{
 "cells": [
  {
   "cell_type": "code",
   "execution_count": 29,
   "metadata": {},
   "outputs": [],
   "source": [
    "import pandas as pd\n",
    "import numpy as np\n",
    "from functools import reduce"
   ]
  },
  {
   "cell_type": "markdown",
   "metadata": {},
   "source": [
    "**Basico** - conferido"
   ]
  },
  {
   "cell_type": "code",
   "execution_count": 30,
   "metadata": {},
   "outputs": [],
   "source": [
    "dfBasicoSPCapital = pd.read_csv('dataAgrupados/Basico_SP1.csv', sep = ';', encoding = 'unicode_escape')"
   ]
  },
  {
   "cell_type": "code",
   "execution_count": 31,
   "metadata": {},
   "outputs": [],
   "source": [
    "dfBasicoSPCapital = dfBasicoSPCapital[['Cod_setor','V003', 'V005', 'V009', 'V011']]"
   ]
  },
  {
   "cell_type": "code",
   "execution_count": 32,
   "metadata": {},
   "outputs": [],
   "source": [
    "dfBasicoSPCapital = dfBasicoSPCapital.replace('X', 0, regex= True)"
   ]
  },
  {
   "cell_type": "code",
   "execution_count": 33,
   "metadata": {},
   "outputs": [
    {
     "data": {
      "text/html": [
       "<div>\n",
       "<style scoped>\n",
       "    .dataframe tbody tr th:only-of-type {\n",
       "        vertical-align: middle;\n",
       "    }\n",
       "\n",
       "    .dataframe tbody tr th {\n",
       "        vertical-align: top;\n",
       "    }\n",
       "\n",
       "    .dataframe thead th {\n",
       "        text-align: right;\n",
       "    }\n",
       "</style>\n",
       "<table border=\"1\" class=\"dataframe\">\n",
       "  <thead>\n",
       "    <tr style=\"text-align: right;\">\n",
       "      <th></th>\n",
       "      <th>Cod_setor</th>\n",
       "      <th>V003</th>\n",
       "      <th>V005</th>\n",
       "      <th>V009</th>\n",
       "      <th>V011</th>\n",
       "    </tr>\n",
       "  </thead>\n",
       "  <tbody>\n",
       "    <tr>\n",
       "      <th>0</th>\n",
       "      <td>355030801000001</td>\n",
       "      <td>3,01</td>\n",
       "      <td>2091,32</td>\n",
       "      <td>1227,41</td>\n",
       "      <td>1713,75</td>\n",
       "    </tr>\n",
       "    <tr>\n",
       "      <th>1</th>\n",
       "      <td>355030801000002</td>\n",
       "      <td>2,98</td>\n",
       "      <td>1650,09</td>\n",
       "      <td>1045,78</td>\n",
       "      <td>1468,08</td>\n",
       "    </tr>\n",
       "    <tr>\n",
       "      <th>2</th>\n",
       "      <td>355030801000003</td>\n",
       "      <td>3,31</td>\n",
       "      <td>1280,43</td>\n",
       "      <td>902,97</td>\n",
       "      <td>1786,79</td>\n",
       "    </tr>\n",
       "    <tr>\n",
       "      <th>3</th>\n",
       "      <td>355030801000004</td>\n",
       "      <td>3,16</td>\n",
       "      <td>1119,59</td>\n",
       "      <td>869,09</td>\n",
       "      <td>1567,41</td>\n",
       "    </tr>\n",
       "    <tr>\n",
       "      <th>4</th>\n",
       "      <td>355030801000005</td>\n",
       "      <td>3,14</td>\n",
       "      <td>1416,9</td>\n",
       "      <td>917,71</td>\n",
       "      <td>1356,35</td>\n",
       "    </tr>\n",
       "  </tbody>\n",
       "</table>\n",
       "</div>"
      ],
      "text/plain": [
       "         Cod_setor  V003     V005     V009     V011\n",
       "0  355030801000001  3,01  2091,32  1227,41  1713,75\n",
       "1  355030801000002  2,98  1650,09  1045,78  1468,08\n",
       "2  355030801000003  3,31  1280,43   902,97  1786,79\n",
       "3  355030801000004  3,16  1119,59   869,09  1567,41\n",
       "4  355030801000005  3,14   1416,9   917,71  1356,35"
      ]
     },
     "execution_count": 33,
     "metadata": {},
     "output_type": "execute_result"
    }
   ],
   "source": [
    "dfBasicoSPCapital.head()"
   ]
  },
  {
   "cell_type": "code",
   "execution_count": 34,
   "metadata": {},
   "outputs": [],
   "source": [
    "dfBasicoSPCapital = dfBasicoSPCapital.replace(',', '.', regex= True)"
   ]
  },
  {
   "cell_type": "code",
   "execution_count": 35,
   "metadata": {},
   "outputs": [],
   "source": [
    "dfBasicoSPCapital = dfBasicoSPCapital.astype({'V003':'float','V005':'float','V009':'float','V011':'float'})"
   ]
  },
  {
   "cell_type": "code",
   "execution_count": 36,
   "metadata": {},
   "outputs": [],
   "source": [
    "dfBasicoSPCapital.rename(columns = {'V003':'MediaMoradorDomicilio',\n",
    "                     'V005':'RendaMediaDomicilio',\n",
    "                     'V009':'RendaMediaPerCapitaGeral',\n",
    "                     'V011':'RendaMediaPerCapitaComRendimento'}, inplace = True)"
   ]
  },
  {
   "cell_type": "markdown",
   "metadata": {},
   "source": [
    "**Domicilio01** - conferido"
   ]
  },
  {
   "cell_type": "code",
   "execution_count": 37,
   "metadata": {},
   "outputs": [],
   "source": [
    "dfDomicilio01SPCapital = pd.read_csv('dataAgrupados/Domicilio01_SP1.csv', sep = ';', encoding = 'unicode_escape')"
   ]
  },
  {
   "cell_type": "code",
   "execution_count": 38,
   "metadata": {},
   "outputs": [],
   "source": [
    "dfDomicilio01SPCapital = dfDomicilio01SPCapital.replace('X', 0, regex= True)"
   ]
  },
  {
   "cell_type": "code",
   "execution_count": 39,
   "metadata": {},
   "outputs": [],
   "source": [
    "#dfDomicilio01SPCapital = dfDomicilio01SPCapital.astype(int)"
   ]
  },
  {
   "cell_type": "code",
   "execution_count": 40,
   "metadata": {},
   "outputs": [],
   "source": [
    "dfDomicilio01SPCapital = dfDomicilio01SPCapital[['Cod_setor',\n",
    "                                       'V001', 'V003', 'V005', 'V008','V050',\n",
    "                                       'V050' ,'V051' ,'V052' ,'V053' ,'V054' ,'V055' ,\n",
    "                                       'V056' ,'V057' ,'V058' ,'V059' ,]]"
   ]
  },
  {
   "cell_type": "code",
   "execution_count": 41,
   "metadata": {},
   "outputs": [],
   "source": [
    "dfDomicilio01SPCapital.rename(columns = {\n",
    "'V001':'nAbsDomicilios' , \n",
    "'V003': 'nAbsDomiciliosCasa', \n",
    "'V005': 'nAbsDomiciliosApto', \n",
    "'V008': 'nAbsImoveisAlugados', \n",
    "'V050':'nAbs1PessoasDomicilio',\n",
    "'V051':'nAbs2PessoasDomicilio',\n",
    "'V052':'nAbs3PessoasDomicilio',\n",
    "'V053':'nAbs4PessoasDomicilio',\n",
    "'V054':'nAbs5PessoasDomicilio',\n",
    "'V055':'nAbs6PessoasDomicilio',\n",
    "'V056':'nAbs7PessoasDomicilio',\n",
    "'V057':'nAbs8PessoasDomicilio',\n",
    "'V058':'nAbs9PessoasDomicilio',\n",
    "'V059':'nAbs10PessoasDomicilio'}, inplace = True)"
   ]
  },
  {
   "cell_type": "code",
   "execution_count": 42,
   "metadata": {},
   "outputs": [
    {
     "data": {
      "text/plain": [
       "0        10\n",
       "1        02\n",
       "2        21\n",
       "3        10\n",
       "4        01\n",
       "         ..\n",
       "18358    11\n",
       "18359    00\n",
       "18360    01\n",
       "18361    11\n",
       "18362    30\n",
       "Length: 18363, dtype: object"
      ]
     },
     "execution_count": 42,
     "metadata": {},
     "output_type": "execute_result"
    }
   ],
   "source": [
    "dfDomicilio01SPCapital['nAbs5ouMaisPessoasDomicilio'] = dfDomicilio01SPCapital['nAbs5PessoasDomicilio'] +dfDomicilio01SPCapital['nAbs6PessoasDomicilio'] + dfDomicilio01SPCapital['nAbs7PessoasDomicilio'] + dfDomicilio01SPCapital['nAbs8PessoasDomicilio']\n",
    "+ dfDomicilio01SPCapital['nAbs9PessoasDomicilio'] + dfDomicilio01SPCapital['nAbs10PessoasDomicilio'] "
   ]
  },
  {
   "cell_type": "code",
   "execution_count": 43,
   "metadata": {},
   "outputs": [],
   "source": [
    "dfDomicilio01SPCapital.drop(['nAbs5PessoasDomicilio', 'nAbs6PessoasDomicilio', 'nAbs7PessoasDomicilio',\n",
    "                        'nAbs8PessoasDomicilio', 'nAbs9PessoasDomicilio', 'nAbs10PessoasDomicilio'], axis =1, inplace = True)"
   ]
  },
  {
   "cell_type": "markdown",
   "metadata": {},
   "source": [
    "**Domicilio02** - conferido"
   ]
  },
  {
   "cell_type": "code",
   "execution_count": 44,
   "metadata": {},
   "outputs": [],
   "source": [
    "dfDomicilio02SPCapital = pd.read_csv('dataAgrupados/Domicilio02_SP1.csv', sep = ';', encoding = 'unicode_escape')"
   ]
  },
  {
   "cell_type": "code",
   "execution_count": 45,
   "metadata": {},
   "outputs": [],
   "source": [
    "dfDomicilio02SPCapital = dfDomicilio02SPCapital.replace('X', 0, regex= True)"
   ]
  },
  {
   "cell_type": "code",
   "execution_count": 46,
   "metadata": {},
   "outputs": [],
   "source": [
    "dfDomicilio02SPCapital = dfDomicilio02SPCapital.astype(int)\n"
   ]
  },
  {
   "cell_type": "code",
   "execution_count": 47,
   "metadata": {},
   "outputs": [
    {
     "name": "stdout",
     "output_type": "stream",
     "text": [
      "<class 'pandas.core.frame.DataFrame'>\n",
      "RangeIndex: 18363 entries, 0 to 18362\n",
      "Columns: 134 entries, Cod_setor to V132\n",
      "dtypes: int64(134)\n",
      "memory usage: 18.8 MB\n"
     ]
    }
   ],
   "source": [
    "dfDomicilio02SPCapital.info()"
   ]
  },
  {
   "cell_type": "code",
   "execution_count": 48,
   "metadata": {},
   "outputs": [],
   "source": [
    "dfDomicilio02SPCapital = dfDomicilio02SPCapital[['Cod_setor',\n",
    "                                       'V001', 'V003', 'V005', 'V008']]"
   ]
  },
  {
   "cell_type": "code",
   "execution_count": 49,
   "metadata": {},
   "outputs": [],
   "source": [
    "dfDomicilio02SPCapital.rename(columns = {\n",
    "'V001':'nAbsHabitantes' , \n",
    "'V003': 'nAbsMoradoresCasa', \n",
    "'V005': 'nAbsMoradoresApto', \n",
    "'V008': 'nAbsMoradoresImoveisAlugados', \n",
    "}, inplace = True)"
   ]
  },
  {
   "cell_type": "code",
   "execution_count": 50,
   "metadata": {},
   "outputs": [
    {
     "data": {
      "text/html": [
       "<div>\n",
       "<style scoped>\n",
       "    .dataframe tbody tr th:only-of-type {\n",
       "        vertical-align: middle;\n",
       "    }\n",
       "\n",
       "    .dataframe tbody tr th {\n",
       "        vertical-align: top;\n",
       "    }\n",
       "\n",
       "    .dataframe thead th {\n",
       "        text-align: right;\n",
       "    }\n",
       "</style>\n",
       "<table border=\"1\" class=\"dataframe\">\n",
       "  <thead>\n",
       "    <tr style=\"text-align: right;\">\n",
       "      <th></th>\n",
       "      <th>Cod_setor</th>\n",
       "      <th>nAbsHabitantes</th>\n",
       "      <th>nAbsMoradoresCasa</th>\n",
       "      <th>nAbsMoradoresApto</th>\n",
       "      <th>nAbsMoradoresImoveisAlugados</th>\n",
       "    </tr>\n",
       "  </thead>\n",
       "  <tbody>\n",
       "    <tr>\n",
       "      <th>0</th>\n",
       "      <td>355030801000001</td>\n",
       "      <td>806</td>\n",
       "      <td>623</td>\n",
       "      <td>28</td>\n",
       "      <td>360</td>\n",
       "    </tr>\n",
       "    <tr>\n",
       "      <th>1</th>\n",
       "      <td>355030801000002</td>\n",
       "      <td>913</td>\n",
       "      <td>891</td>\n",
       "      <td>0</td>\n",
       "      <td>261</td>\n",
       "    </tr>\n",
       "    <tr>\n",
       "      <th>2</th>\n",
       "      <td>355030801000003</td>\n",
       "      <td>625</td>\n",
       "      <td>595</td>\n",
       "      <td>18</td>\n",
       "      <td>151</td>\n",
       "    </tr>\n",
       "    <tr>\n",
       "      <th>3</th>\n",
       "      <td>355030801000004</td>\n",
       "      <td>572</td>\n",
       "      <td>496</td>\n",
       "      <td>65</td>\n",
       "      <td>286</td>\n",
       "    </tr>\n",
       "    <tr>\n",
       "      <th>4</th>\n",
       "      <td>355030801000005</td>\n",
       "      <td>754</td>\n",
       "      <td>716</td>\n",
       "      <td>30</td>\n",
       "      <td>354</td>\n",
       "    </tr>\n",
       "  </tbody>\n",
       "</table>\n",
       "</div>"
      ],
      "text/plain": [
       "         Cod_setor  nAbsHabitantes  nAbsMoradoresCasa  nAbsMoradoresApto  \\\n",
       "0  355030801000001             806                623                 28   \n",
       "1  355030801000002             913                891                  0   \n",
       "2  355030801000003             625                595                 18   \n",
       "3  355030801000004             572                496                 65   \n",
       "4  355030801000005             754                716                 30   \n",
       "\n",
       "   nAbsMoradoresImoveisAlugados  \n",
       "0                           360  \n",
       "1                           261  \n",
       "2                           151  \n",
       "3                           286  \n",
       "4                           354  "
      ]
     },
     "execution_count": 50,
     "metadata": {},
     "output_type": "execute_result"
    }
   ],
   "source": [
    "dfDomicilio02SPCapital.head()"
   ]
  },
  {
   "cell_type": "markdown",
   "metadata": {},
   "source": [
    "**Pessoa13** - conferido"
   ]
  },
  {
   "cell_type": "code",
   "execution_count": 51,
   "metadata": {},
   "outputs": [],
   "source": [
    "dfPessoa13SPCapital = pd.read_csv('dataAgrupados/Pessoa13_SP1.csv', sep = ';', encoding = 'unicode_escape')"
   ]
  },
  {
   "cell_type": "code",
   "execution_count": 52,
   "metadata": {},
   "outputs": [],
   "source": [
    "dfPessoa13SPCapital = dfPessoa13SPCapital[['Cod_setor', 'V001']]"
   ]
  },
  {
   "cell_type": "code",
   "execution_count": 53,
   "metadata": {},
   "outputs": [],
   "source": [
    "dfPessoa13SPCapital = dfPessoa13SPCapital.replace('X', 0, regex= True)"
   ]
  },
  {
   "cell_type": "code",
   "execution_count": 54,
   "metadata": {},
   "outputs": [],
   "source": [
    "dfPessoa13SPCapital.rename(columns= {'V001':'nAbsConjuges'}, inplace = True)"
   ]
  },
  {
   "cell_type": "code",
   "execution_count": 55,
   "metadata": {},
   "outputs": [
    {
     "data": {
      "text/html": [
       "<div>\n",
       "<style scoped>\n",
       "    .dataframe tbody tr th:only-of-type {\n",
       "        vertical-align: middle;\n",
       "    }\n",
       "\n",
       "    .dataframe tbody tr th {\n",
       "        vertical-align: top;\n",
       "    }\n",
       "\n",
       "    .dataframe thead th {\n",
       "        text-align: right;\n",
       "    }\n",
       "</style>\n",
       "<table border=\"1\" class=\"dataframe\">\n",
       "  <thead>\n",
       "    <tr style=\"text-align: right;\">\n",
       "      <th></th>\n",
       "      <th>Cod_setor</th>\n",
       "      <th>nAbsConjuges</th>\n",
       "    </tr>\n",
       "  </thead>\n",
       "  <tbody>\n",
       "    <tr>\n",
       "      <th>0</th>\n",
       "      <td>355030801000001</td>\n",
       "      <td>806</td>\n",
       "    </tr>\n",
       "    <tr>\n",
       "      <th>1</th>\n",
       "      <td>355030801000002</td>\n",
       "      <td>913</td>\n",
       "    </tr>\n",
       "    <tr>\n",
       "      <th>2</th>\n",
       "      <td>355030801000003</td>\n",
       "      <td>625</td>\n",
       "    </tr>\n",
       "    <tr>\n",
       "      <th>3</th>\n",
       "      <td>355030801000004</td>\n",
       "      <td>572</td>\n",
       "    </tr>\n",
       "    <tr>\n",
       "      <th>4</th>\n",
       "      <td>355030801000005</td>\n",
       "      <td>754</td>\n",
       "    </tr>\n",
       "  </tbody>\n",
       "</table>\n",
       "</div>"
      ],
      "text/plain": [
       "         Cod_setor  nAbsConjuges\n",
       "0  355030801000001           806\n",
       "1  355030801000002           913\n",
       "2  355030801000003           625\n",
       "3  355030801000004           572\n",
       "4  355030801000005           754"
      ]
     },
     "execution_count": 55,
     "metadata": {},
     "output_type": "execute_result"
    }
   ],
   "source": [
    "dfPessoa13SPCapital.head()"
   ]
  },
  {
   "cell_type": "markdown",
   "metadata": {},
   "source": [
    "**Pessoa11** - conferido"
   ]
  },
  {
   "cell_type": "code",
   "execution_count": 56,
   "metadata": {},
   "outputs": [],
   "source": [
    "dfPessoa11SPCapital = pd.read_csv('dataAgrupados/Pessoa11_SP1.csv', sep = ';', encoding = 'unicode_escape')"
   ]
  },
  {
   "cell_type": "code",
   "execution_count": 57,
   "metadata": {},
   "outputs": [],
   "source": [
    "dfPessoa11SPCapital = dfPessoa11SPCapital[['Cod_setor', 'V001']]"
   ]
  },
  {
   "cell_type": "code",
   "execution_count": 58,
   "metadata": {},
   "outputs": [],
   "source": [
    "dfPessoa11SPCapital = dfPessoa11SPCapital.replace('X', 0, regex= True)"
   ]
  },
  {
   "cell_type": "code",
   "execution_count": 59,
   "metadata": {},
   "outputs": [],
   "source": [
    "dfPessoa11SPCapital.rename(columns= {'V001':'nAbsHomensResidentes'}, inplace = True)"
   ]
  },
  {
   "cell_type": "markdown",
   "metadata": {},
   "source": [
    "**Pessoa12** - conferido"
   ]
  },
  {
   "cell_type": "code",
   "execution_count": 60,
   "metadata": {},
   "outputs": [],
   "source": [
    "dfPessoa12SPCapital = pd.read_csv('dataAgrupados/Pessoa12_SP1.csv', sep = ';', encoding = 'unicode_escape')"
   ]
  },
  {
   "cell_type": "code",
   "execution_count": 61,
   "metadata": {},
   "outputs": [],
   "source": [
    "dfPessoa12SPCapital = dfPessoa12SPCapital.replace('X', 0, regex= True)"
   ]
  },
  {
   "cell_type": "code",
   "execution_count": 62,
   "metadata": {},
   "outputs": [],
   "source": [
    "dfPessoa12SPCapital = dfPessoa12SPCapital[['Cod_setor', 'V001']]"
   ]
  },
  {
   "cell_type": "code",
   "execution_count": 63,
   "metadata": {},
   "outputs": [
    {
     "data": {
      "text/html": [
       "<div>\n",
       "<style scoped>\n",
       "    .dataframe tbody tr th:only-of-type {\n",
       "        vertical-align: middle;\n",
       "    }\n",
       "\n",
       "    .dataframe tbody tr th {\n",
       "        vertical-align: top;\n",
       "    }\n",
       "\n",
       "    .dataframe thead th {\n",
       "        text-align: right;\n",
       "    }\n",
       "</style>\n",
       "<table border=\"1\" class=\"dataframe\">\n",
       "  <thead>\n",
       "    <tr style=\"text-align: right;\">\n",
       "      <th></th>\n",
       "      <th>Cod_setor</th>\n",
       "      <th>V001</th>\n",
       "    </tr>\n",
       "  </thead>\n",
       "  <tbody>\n",
       "    <tr>\n",
       "      <th>0</th>\n",
       "      <td>355030801000001</td>\n",
       "      <td>428</td>\n",
       "    </tr>\n",
       "    <tr>\n",
       "      <th>1</th>\n",
       "      <td>355030801000002</td>\n",
       "      <td>495</td>\n",
       "    </tr>\n",
       "    <tr>\n",
       "      <th>2</th>\n",
       "      <td>355030801000003</td>\n",
       "      <td>329</td>\n",
       "    </tr>\n",
       "    <tr>\n",
       "      <th>3</th>\n",
       "      <td>355030801000004</td>\n",
       "      <td>296</td>\n",
       "    </tr>\n",
       "    <tr>\n",
       "      <th>4</th>\n",
       "      <td>355030801000005</td>\n",
       "      <td>399</td>\n",
       "    </tr>\n",
       "  </tbody>\n",
       "</table>\n",
       "</div>"
      ],
      "text/plain": [
       "         Cod_setor  V001\n",
       "0  355030801000001   428\n",
       "1  355030801000002   495\n",
       "2  355030801000003   329\n",
       "3  355030801000004   296\n",
       "4  355030801000005   399"
      ]
     },
     "execution_count": 63,
     "metadata": {},
     "output_type": "execute_result"
    }
   ],
   "source": [
    "dfPessoa12SPCapital.head()"
   ]
  },
  {
   "cell_type": "code",
   "execution_count": 64,
   "metadata": {},
   "outputs": [],
   "source": [
    "dfPessoa12SPCapital.rename(columns= {'V001':'nAbsMulheresResidentes'}, inplace = True)"
   ]
  },
  {
   "cell_type": "code",
   "execution_count": 65,
   "metadata": {},
   "outputs": [
    {
     "data": {
      "text/html": [
       "<div>\n",
       "<style scoped>\n",
       "    .dataframe tbody tr th:only-of-type {\n",
       "        vertical-align: middle;\n",
       "    }\n",
       "\n",
       "    .dataframe tbody tr th {\n",
       "        vertical-align: top;\n",
       "    }\n",
       "\n",
       "    .dataframe thead th {\n",
       "        text-align: right;\n",
       "    }\n",
       "</style>\n",
       "<table border=\"1\" class=\"dataframe\">\n",
       "  <thead>\n",
       "    <tr style=\"text-align: right;\">\n",
       "      <th></th>\n",
       "      <th>Cod_setor</th>\n",
       "      <th>nAbsMulheresResidentes</th>\n",
       "    </tr>\n",
       "  </thead>\n",
       "  <tbody>\n",
       "    <tr>\n",
       "      <th>0</th>\n",
       "      <td>355030801000001</td>\n",
       "      <td>428</td>\n",
       "    </tr>\n",
       "    <tr>\n",
       "      <th>1</th>\n",
       "      <td>355030801000002</td>\n",
       "      <td>495</td>\n",
       "    </tr>\n",
       "    <tr>\n",
       "      <th>2</th>\n",
       "      <td>355030801000003</td>\n",
       "      <td>329</td>\n",
       "    </tr>\n",
       "    <tr>\n",
       "      <th>3</th>\n",
       "      <td>355030801000004</td>\n",
       "      <td>296</td>\n",
       "    </tr>\n",
       "    <tr>\n",
       "      <th>4</th>\n",
       "      <td>355030801000005</td>\n",
       "      <td>399</td>\n",
       "    </tr>\n",
       "  </tbody>\n",
       "</table>\n",
       "</div>"
      ],
      "text/plain": [
       "         Cod_setor  nAbsMulheresResidentes\n",
       "0  355030801000001                     428\n",
       "1  355030801000002                     495\n",
       "2  355030801000003                     329\n",
       "3  355030801000004                     296\n",
       "4  355030801000005                     399"
      ]
     },
     "execution_count": 65,
     "metadata": {},
     "output_type": "execute_result"
    }
   ],
   "source": [
    "dfPessoa12SPCapital.head()"
   ]
  },
  {
   "cell_type": "markdown",
   "metadata": {},
   "source": [
    "**DomicilioRenda** - conferido"
   ]
  },
  {
   "cell_type": "code",
   "execution_count": 66,
   "metadata": {},
   "outputs": [],
   "source": [
    "dfDomicilioRendaSPCapital = pd.read_csv('dataAgrupados/DomicilioRenda_SP1.csv', sep = ';', encoding = 'unicode_escape')"
   ]
  },
  {
   "cell_type": "code",
   "execution_count": 67,
   "metadata": {},
   "outputs": [],
   "source": [
    "dfDomicilioRendaSPCapital = dfDomicilioRendaSPCapital[['Cod_setor',\n",
    "                                             'V002', 'V003', 'V004']]"
   ]
  },
  {
   "cell_type": "code",
   "execution_count": 68,
   "metadata": {},
   "outputs": [],
   "source": [
    "dfDomicilioRendaSPCapital = dfDomicilioRendaSPCapital.replace('X', 0, regex= True)"
   ]
  },
  {
   "cell_type": "code",
   "execution_count": 69,
   "metadata": {},
   "outputs": [],
   "source": [
    "dfDomicilioRendaSPCapital = dfDomicilioRendaSPCapital.astype(int)"
   ]
  },
  {
   "cell_type": "code",
   "execution_count": 70,
   "metadata": {},
   "outputs": [],
   "source": [
    "dfDomicilioRendaSPCapital.rename(columns = {'V002':'TotalRendNomMensalDomParticulares',\n",
    "                                       'V003':'TotalRendimentoNomMensalDomParticularesPermanentes',\n",
    "                                       'V004':'TotalRendimentoNomMensalDomParitulcaresImprovisados'}\n",
    "                            , inplace = True)"
   ]
  },
  {
   "cell_type": "code",
   "execution_count": 71,
   "metadata": {},
   "outputs": [
    {
     "data": {
      "text/html": [
       "<div>\n",
       "<style scoped>\n",
       "    .dataframe tbody tr th:only-of-type {\n",
       "        vertical-align: middle;\n",
       "    }\n",
       "\n",
       "    .dataframe tbody tr th {\n",
       "        vertical-align: top;\n",
       "    }\n",
       "\n",
       "    .dataframe thead th {\n",
       "        text-align: right;\n",
       "    }\n",
       "</style>\n",
       "<table border=\"1\" class=\"dataframe\">\n",
       "  <thead>\n",
       "    <tr style=\"text-align: right;\">\n",
       "      <th></th>\n",
       "      <th>Cod_setor</th>\n",
       "      <th>TotalRendNomMensalDomParticulares</th>\n",
       "      <th>TotalRendimentoNomMensalDomParticularesPermanentes</th>\n",
       "      <th>TotalRendimentoNomMensalDomParitulcaresImprovisados</th>\n",
       "    </tr>\n",
       "  </thead>\n",
       "  <tbody>\n",
       "    <tr>\n",
       "      <th>0</th>\n",
       "      <td>355030801000001</td>\n",
       "      <td>907777</td>\n",
       "      <td>903817</td>\n",
       "      <td>3960</td>\n",
       "    </tr>\n",
       "    <tr>\n",
       "      <th>1</th>\n",
       "      <td>355030801000002</td>\n",
       "      <td>846525</td>\n",
       "      <td>846525</td>\n",
       "      <td>0</td>\n",
       "    </tr>\n",
       "    <tr>\n",
       "      <th>2</th>\n",
       "      <td>355030801000003</td>\n",
       "      <td>505662</td>\n",
       "      <td>505662</td>\n",
       "      <td>0</td>\n",
       "    </tr>\n",
       "    <tr>\n",
       "      <th>3</th>\n",
       "      <td>355030801000004</td>\n",
       "      <td>446011</td>\n",
       "      <td>446011</td>\n",
       "      <td>0</td>\n",
       "    </tr>\n",
       "    <tr>\n",
       "      <th>4</th>\n",
       "      <td>355030801000005</td>\n",
       "      <td>615215</td>\n",
       "      <td>615215</td>\n",
       "      <td>0</td>\n",
       "    </tr>\n",
       "  </tbody>\n",
       "</table>\n",
       "</div>"
      ],
      "text/plain": [
       "         Cod_setor  TotalRendNomMensalDomParticulares  \\\n",
       "0  355030801000001                             907777   \n",
       "1  355030801000002                             846525   \n",
       "2  355030801000003                             505662   \n",
       "3  355030801000004                             446011   \n",
       "4  355030801000005                             615215   \n",
       "\n",
       "   TotalRendimentoNomMensalDomParticularesPermanentes  \\\n",
       "0                                             903817    \n",
       "1                                             846525    \n",
       "2                                             505662    \n",
       "3                                             446011    \n",
       "4                                             615215    \n",
       "\n",
       "   TotalRendimentoNomMensalDomParitulcaresImprovisados  \n",
       "0                                               3960    \n",
       "1                                                  0    \n",
       "2                                                  0    \n",
       "3                                                  0    \n",
       "4                                                  0    "
      ]
     },
     "execution_count": 71,
     "metadata": {},
     "output_type": "execute_result"
    }
   ],
   "source": [
    "dfDomicilioRendaSPCapital.head()"
   ]
  },
  {
   "cell_type": "markdown",
   "metadata": {},
   "source": [
    "**ResponsavelRenda** - conferido"
   ]
  },
  {
   "cell_type": "code",
   "execution_count": 72,
   "metadata": {},
   "outputs": [],
   "source": [
    "dfResponsavelRendaSPCapital = pd.read_csv('dataAgrupados/ResponsavelRenda_SP1.csv', sep = ';', encoding = 'unicode_escape')"
   ]
  },
  {
   "cell_type": "code",
   "execution_count": 73,
   "metadata": {},
   "outputs": [],
   "source": [
    "dfResponsavelRendaSPCapital = dfResponsavelRendaSPCapital[['Cod_setor', \n",
    "                                                 'V001','V002', 'V003',\n",
    "                                                 'V004','V005', 'V006',\n",
    "                                                 'V007','V008', 'V009']]"
   ]
  },
  {
   "cell_type": "code",
   "execution_count": 74,
   "metadata": {},
   "outputs": [],
   "source": [
    "dfResponsavelRendaSPCapital = dfResponsavelRendaSPCapital.replace('X', 0, regex= True)"
   ]
  },
  {
   "cell_type": "code",
   "execution_count": 75,
   "metadata": {},
   "outputs": [],
   "source": [
    "dfResponsavelRendaSPCapital = dfResponsavelRendaSPCapital.astype(int)"
   ]
  },
  {
   "cell_type": "code",
   "execution_count": 76,
   "metadata": {},
   "outputs": [],
   "source": [
    "dfResponsavelRendaSPCapital['nAbsPessoasClasseE'] = dfResponsavelRendaSPCapital['V001'] +dfResponsavelRendaSPCapital['V002'] + dfResponsavelRendaSPCapital['V003'] "
   ]
  },
  {
   "cell_type": "code",
   "execution_count": 77,
   "metadata": {},
   "outputs": [],
   "source": [
    "dfResponsavelRendaSPCapital['nAbsPessoasClasseD'] = dfResponsavelRendaSPCapital['V004']"
   ]
  },
  {
   "cell_type": "code",
   "execution_count": 78,
   "metadata": {},
   "outputs": [],
   "source": [
    "dfResponsavelRendaSPCapital['nAbsPessoasClasseC'] = dfResponsavelRendaSPCapital['V005'] +dfResponsavelRendaSPCapital['V006']"
   ]
  },
  {
   "cell_type": "code",
   "execution_count": 79,
   "metadata": {},
   "outputs": [],
   "source": [
    "dfResponsavelRendaSPCapital['nAbsPessoasClasseB'] = dfResponsavelRendaSPCapital['V007']"
   ]
  },
  {
   "cell_type": "code",
   "execution_count": 80,
   "metadata": {},
   "outputs": [],
   "source": [
    "dfResponsavelRendaSPCapital['nAbsPessoasClasseA'] = dfResponsavelRendaSPCapital['V008'] +  dfResponsavelRendaSPCapital['V009']"
   ]
  },
  {
   "cell_type": "code",
   "execution_count": 81,
   "metadata": {},
   "outputs": [],
   "source": [
    "dfResponsavelRendaSPCapital.drop(['V001', 'V002', 'V003',\n",
    "                        'V004', 'V005', 'V006', 'V007', 'V008', 'V009'], axis =1, inplace = True)"
   ]
  },
  {
   "cell_type": "code",
   "execution_count": 82,
   "metadata": {},
   "outputs": [
    {
     "data": {
      "text/html": [
       "<div>\n",
       "<style scoped>\n",
       "    .dataframe tbody tr th:only-of-type {\n",
       "        vertical-align: middle;\n",
       "    }\n",
       "\n",
       "    .dataframe tbody tr th {\n",
       "        vertical-align: top;\n",
       "    }\n",
       "\n",
       "    .dataframe thead th {\n",
       "        text-align: right;\n",
       "    }\n",
       "</style>\n",
       "<table border=\"1\" class=\"dataframe\">\n",
       "  <thead>\n",
       "    <tr style=\"text-align: right;\">\n",
       "      <th></th>\n",
       "      <th>Cod_setor</th>\n",
       "      <th>nAbsPessoasClasseE</th>\n",
       "      <th>nAbsPessoasClasseD</th>\n",
       "      <th>nAbsPessoasClasseC</th>\n",
       "      <th>nAbsPessoasClasseB</th>\n",
       "      <th>nAbsPessoasClasseA</th>\n",
       "    </tr>\n",
       "  </thead>\n",
       "  <tbody>\n",
       "    <tr>\n",
       "      <th>0</th>\n",
       "      <td>355030801000001</td>\n",
       "      <td>101</td>\n",
       "      <td>53</td>\n",
       "      <td>91</td>\n",
       "      <td>7</td>\n",
       "      <td>7</td>\n",
       "    </tr>\n",
       "    <tr>\n",
       "      <th>1</th>\n",
       "      <td>355030801000002</td>\n",
       "      <td>152</td>\n",
       "      <td>53</td>\n",
       "      <td>78</td>\n",
       "      <td>4</td>\n",
       "      <td>7</td>\n",
       "    </tr>\n",
       "    <tr>\n",
       "      <th>2</th>\n",
       "      <td>355030801000003</td>\n",
       "      <td>40</td>\n",
       "      <td>15</td>\n",
       "      <td>36</td>\n",
       "      <td>4</td>\n",
       "      <td>8</td>\n",
       "    </tr>\n",
       "    <tr>\n",
       "      <th>3</th>\n",
       "      <td>355030801000004</td>\n",
       "      <td>52</td>\n",
       "      <td>23</td>\n",
       "      <td>27</td>\n",
       "      <td>4</td>\n",
       "      <td>3</td>\n",
       "    </tr>\n",
       "    <tr>\n",
       "      <th>4</th>\n",
       "      <td>355030801000005</td>\n",
       "      <td>112</td>\n",
       "      <td>41</td>\n",
       "      <td>54</td>\n",
       "      <td>5</td>\n",
       "      <td>3</td>\n",
       "    </tr>\n",
       "  </tbody>\n",
       "</table>\n",
       "</div>"
      ],
      "text/plain": [
       "         Cod_setor  nAbsPessoasClasseE  nAbsPessoasClasseD  \\\n",
       "0  355030801000001                 101                  53   \n",
       "1  355030801000002                 152                  53   \n",
       "2  355030801000003                  40                  15   \n",
       "3  355030801000004                  52                  23   \n",
       "4  355030801000005                 112                  41   \n",
       "\n",
       "   nAbsPessoasClasseC  nAbsPessoasClasseB  nAbsPessoasClasseA  \n",
       "0                  91                   7                   7  \n",
       "1                  78                   4                   7  \n",
       "2                  36                   4                   8  \n",
       "3                  27                   4                   3  \n",
       "4                  54                   5                   3  "
      ]
     },
     "execution_count": 82,
     "metadata": {},
     "output_type": "execute_result"
    }
   ],
   "source": [
    "dfResponsavelRendaSPCapital.head()"
   ]
  },
  {
   "cell_type": "markdown",
   "metadata": {},
   "source": [
    "**DATAFRAME TOTAL.**"
   ]
  },
  {
   "cell_type": "code",
   "execution_count": 83,
   "metadata": {},
   "outputs": [],
   "source": [
    "data_frames = [dfBasicoSPCapital, dfDomicilio01SPCapital, dfDomicilio02SPCapital, dfPessoa13SPCapital, dfPessoa11SPCapital, dfPessoa12SPCapital,\n",
    "               dfDomicilioRendaSPCapital, dfResponsavelRendaSPCapital]"
   ]
  },
  {
   "cell_type": "code",
   "execution_count": 84,
   "metadata": {},
   "outputs": [],
   "source": [
    "dfTotalSPCapital = reduce(lambda  left,right: pd.merge(left,right,on=['Cod_setor'],\n",
    "                                            how='inner'), data_frames)"
   ]
  },
  {
   "cell_type": "code",
   "execution_count": 85,
   "metadata": {},
   "outputs": [
    {
     "data": {
      "text/html": [
       "<div>\n",
       "<style scoped>\n",
       "    .dataframe tbody tr th:only-of-type {\n",
       "        vertical-align: middle;\n",
       "    }\n",
       "\n",
       "    .dataframe tbody tr th {\n",
       "        vertical-align: top;\n",
       "    }\n",
       "\n",
       "    .dataframe thead th {\n",
       "        text-align: right;\n",
       "    }\n",
       "</style>\n",
       "<table border=\"1\" class=\"dataframe\">\n",
       "  <thead>\n",
       "    <tr style=\"text-align: right;\">\n",
       "      <th></th>\n",
       "      <th>Cod_setor</th>\n",
       "      <th>MediaMoradorDomicilio</th>\n",
       "      <th>RendaMediaDomicilio</th>\n",
       "      <th>RendaMediaPerCapitaGeral</th>\n",
       "      <th>RendaMediaPerCapitaComRendimento</th>\n",
       "      <th>nAbsDomicilios</th>\n",
       "      <th>nAbsDomiciliosCasa</th>\n",
       "      <th>nAbsDomiciliosApto</th>\n",
       "      <th>nAbsImoveisAlugados</th>\n",
       "      <th>nAbs1PessoasDomicilio</th>\n",
       "      <th>...</th>\n",
       "      <th>nAbsHomensResidentes</th>\n",
       "      <th>nAbsMulheresResidentes</th>\n",
       "      <th>TotalRendNomMensalDomParticulares</th>\n",
       "      <th>TotalRendimentoNomMensalDomParticularesPermanentes</th>\n",
       "      <th>TotalRendimentoNomMensalDomParitulcaresImprovisados</th>\n",
       "      <th>nAbsPessoasClasseE</th>\n",
       "      <th>nAbsPessoasClasseD</th>\n",
       "      <th>nAbsPessoasClasseC</th>\n",
       "      <th>nAbsPessoasClasseB</th>\n",
       "      <th>nAbsPessoasClasseA</th>\n",
       "    </tr>\n",
       "  </thead>\n",
       "  <tbody>\n",
       "    <tr>\n",
       "      <th>0</th>\n",
       "      <td>355030801000001</td>\n",
       "      <td>3.01</td>\n",
       "      <td>2091.32</td>\n",
       "      <td>1227.41</td>\n",
       "      <td>1713.75</td>\n",
       "      <td>268</td>\n",
       "      <td>203</td>\n",
       "      <td>11</td>\n",
       "      <td>116</td>\n",
       "      <td>42</td>\n",
       "      <td>...</td>\n",
       "      <td>378</td>\n",
       "      <td>428</td>\n",
       "      <td>907777</td>\n",
       "      <td>903817</td>\n",
       "      <td>3960</td>\n",
       "      <td>101</td>\n",
       "      <td>53</td>\n",
       "      <td>91</td>\n",
       "      <td>7</td>\n",
       "      <td>7</td>\n",
       "    </tr>\n",
       "    <tr>\n",
       "      <th>1</th>\n",
       "      <td>355030801000002</td>\n",
       "      <td>2.98</td>\n",
       "      <td>1650.09</td>\n",
       "      <td>1045.78</td>\n",
       "      <td>1468.08</td>\n",
       "      <td>306</td>\n",
       "      <td>298</td>\n",
       "      <td>0</td>\n",
       "      <td>85</td>\n",
       "      <td>44</td>\n",
       "      <td>...</td>\n",
       "      <td>418</td>\n",
       "      <td>495</td>\n",
       "      <td>846525</td>\n",
       "      <td>846525</td>\n",
       "      <td>0</td>\n",
       "      <td>152</td>\n",
       "      <td>53</td>\n",
       "      <td>78</td>\n",
       "      <td>4</td>\n",
       "      <td>7</td>\n",
       "    </tr>\n",
       "    <tr>\n",
       "      <th>2</th>\n",
       "      <td>355030801000003</td>\n",
       "      <td>3.31</td>\n",
       "      <td>1280.43</td>\n",
       "      <td>902.97</td>\n",
       "      <td>1786.79</td>\n",
       "      <td>189</td>\n",
       "      <td>177</td>\n",
       "      <td>7</td>\n",
       "      <td>50</td>\n",
       "      <td>19</td>\n",
       "      <td>...</td>\n",
       "      <td>296</td>\n",
       "      <td>329</td>\n",
       "      <td>505662</td>\n",
       "      <td>505662</td>\n",
       "      <td>0</td>\n",
       "      <td>40</td>\n",
       "      <td>15</td>\n",
       "      <td>36</td>\n",
       "      <td>4</td>\n",
       "      <td>8</td>\n",
       "    </tr>\n",
       "    <tr>\n",
       "      <th>3</th>\n",
       "      <td>355030801000004</td>\n",
       "      <td>3.16</td>\n",
       "      <td>1119.59</td>\n",
       "      <td>869.09</td>\n",
       "      <td>1567.41</td>\n",
       "      <td>181</td>\n",
       "      <td>154</td>\n",
       "      <td>23</td>\n",
       "      <td>87</td>\n",
       "      <td>17</td>\n",
       "      <td>...</td>\n",
       "      <td>276</td>\n",
       "      <td>296</td>\n",
       "      <td>446011</td>\n",
       "      <td>446011</td>\n",
       "      <td>0</td>\n",
       "      <td>52</td>\n",
       "      <td>23</td>\n",
       "      <td>27</td>\n",
       "      <td>4</td>\n",
       "      <td>3</td>\n",
       "    </tr>\n",
       "    <tr>\n",
       "      <th>4</th>\n",
       "      <td>355030801000005</td>\n",
       "      <td>3.14</td>\n",
       "      <td>1416.90</td>\n",
       "      <td>917.71</td>\n",
       "      <td>1356.35</td>\n",
       "      <td>240</td>\n",
       "      <td>226</td>\n",
       "      <td>12</td>\n",
       "      <td>112</td>\n",
       "      <td>30</td>\n",
       "      <td>...</td>\n",
       "      <td>355</td>\n",
       "      <td>399</td>\n",
       "      <td>615215</td>\n",
       "      <td>615215</td>\n",
       "      <td>0</td>\n",
       "      <td>112</td>\n",
       "      <td>41</td>\n",
       "      <td>54</td>\n",
       "      <td>5</td>\n",
       "      <td>3</td>\n",
       "    </tr>\n",
       "  </tbody>\n",
       "</table>\n",
       "<p>5 rows × 30 columns</p>\n",
       "</div>"
      ],
      "text/plain": [
       "         Cod_setor  MediaMoradorDomicilio  RendaMediaDomicilio  \\\n",
       "0  355030801000001                   3.01              2091.32   \n",
       "1  355030801000002                   2.98              1650.09   \n",
       "2  355030801000003                   3.31              1280.43   \n",
       "3  355030801000004                   3.16              1119.59   \n",
       "4  355030801000005                   3.14              1416.90   \n",
       "\n",
       "   RendaMediaPerCapitaGeral  RendaMediaPerCapitaComRendimento  nAbsDomicilios  \\\n",
       "0                   1227.41                           1713.75             268   \n",
       "1                   1045.78                           1468.08             306   \n",
       "2                    902.97                           1786.79             189   \n",
       "3                    869.09                           1567.41             181   \n",
       "4                    917.71                           1356.35             240   \n",
       "\n",
       "  nAbsDomiciliosCasa nAbsDomiciliosApto nAbsImoveisAlugados  \\\n",
       "0                203                 11                 116   \n",
       "1                298                  0                  85   \n",
       "2                177                  7                  50   \n",
       "3                154                 23                  87   \n",
       "4                226                 12                 112   \n",
       "\n",
       "  nAbs1PessoasDomicilio  ... nAbsHomensResidentes nAbsMulheresResidentes  \\\n",
       "0                    42  ...                  378                    428   \n",
       "1                    44  ...                  418                    495   \n",
       "2                    19  ...                  296                    329   \n",
       "3                    17  ...                  276                    296   \n",
       "4                    30  ...                  355                    399   \n",
       "\n",
       "  TotalRendNomMensalDomParticulares  \\\n",
       "0                            907777   \n",
       "1                            846525   \n",
       "2                            505662   \n",
       "3                            446011   \n",
       "4                            615215   \n",
       "\n",
       "  TotalRendimentoNomMensalDomParticularesPermanentes  \\\n",
       "0                                             903817   \n",
       "1                                             846525   \n",
       "2                                             505662   \n",
       "3                                             446011   \n",
       "4                                             615215   \n",
       "\n",
       "  TotalRendimentoNomMensalDomParitulcaresImprovisados  nAbsPessoasClasseE  \\\n",
       "0                                               3960                  101   \n",
       "1                                                  0                  152   \n",
       "2                                                  0                   40   \n",
       "3                                                  0                   52   \n",
       "4                                                  0                  112   \n",
       "\n",
       "   nAbsPessoasClasseD  nAbsPessoasClasseC  nAbsPessoasClasseB  \\\n",
       "0                  53                  91                   7   \n",
       "1                  53                  78                   4   \n",
       "2                  15                  36                   4   \n",
       "3                  23                  27                   4   \n",
       "4                  41                  54                   5   \n",
       "\n",
       "   nAbsPessoasClasseA  \n",
       "0                   7  \n",
       "1                   7  \n",
       "2                   8  \n",
       "3                   3  \n",
       "4                   3  \n",
       "\n",
       "[5 rows x 30 columns]"
      ]
     },
     "execution_count": 85,
     "metadata": {},
     "output_type": "execute_result"
    }
   ],
   "source": [
    "dfTotalSPCapital.head()"
   ]
  },
  {
   "cell_type": "code",
   "execution_count": 86,
   "metadata": {},
   "outputs": [
    {
     "name": "stdout",
     "output_type": "stream",
     "text": [
      "<class 'pandas.core.frame.DataFrame'>\n",
      "Int64Index: 18363 entries, 0 to 18362\n",
      "Data columns (total 30 columns):\n",
      " #   Column                                               Non-Null Count  Dtype  \n",
      "---  ------                                               --------------  -----  \n",
      " 0   Cod_setor                                            18363 non-null  int64  \n",
      " 1   MediaMoradorDomicilio                                18333 non-null  float64\n",
      " 2   RendaMediaDomicilio                                  18333 non-null  float64\n",
      " 3   RendaMediaPerCapitaGeral                             18363 non-null  float64\n",
      " 4   RendaMediaPerCapitaComRendimento                     18352 non-null  float64\n",
      " 5   nAbsDomicilios                                       18363 non-null  int64  \n",
      " 6   nAbsDomiciliosCasa                                   18363 non-null  object \n",
      " 7   nAbsDomiciliosApto                                   18363 non-null  object \n",
      " 8   nAbsImoveisAlugados                                  18363 non-null  object \n",
      " 9   nAbs1PessoasDomicilio                                18363 non-null  object \n",
      " 10  nAbs1PessoasDomicilio                                18363 non-null  object \n",
      " 11  nAbs2PessoasDomicilio                                18363 non-null  object \n",
      " 12  nAbs3PessoasDomicilio                                18363 non-null  object \n",
      " 13  nAbs4PessoasDomicilio                                18363 non-null  object \n",
      " 14  nAbs5ouMaisPessoasDomicilio                          18363 non-null  object \n",
      " 15  nAbsHabitantes                                       18363 non-null  int64  \n",
      " 16  nAbsMoradoresCasa                                    18363 non-null  int64  \n",
      " 17  nAbsMoradoresApto                                    18363 non-null  int64  \n",
      " 18  nAbsMoradoresImoveisAlugados                         18363 non-null  int64  \n",
      " 19  nAbsConjuges                                         18363 non-null  int64  \n",
      " 20  nAbsHomensResidentes                                 18363 non-null  int64  \n",
      " 21  nAbsMulheresResidentes                               18363 non-null  int64  \n",
      " 22  TotalRendNomMensalDomParticulares                    18363 non-null  int64  \n",
      " 23  TotalRendimentoNomMensalDomParticularesPermanentes   18363 non-null  int64  \n",
      " 24  TotalRendimentoNomMensalDomParitulcaresImprovisados  18363 non-null  int64  \n",
      " 25  nAbsPessoasClasseE                                   18363 non-null  int64  \n",
      " 26  nAbsPessoasClasseD                                   18363 non-null  int64  \n",
      " 27  nAbsPessoasClasseC                                   18363 non-null  int64  \n",
      " 28  nAbsPessoasClasseB                                   18363 non-null  int64  \n",
      " 29  nAbsPessoasClasseA                                   18363 non-null  int64  \n",
      "dtypes: float64(4), int64(17), object(9)\n",
      "memory usage: 4.3+ MB\n"
     ]
    }
   ],
   "source": [
    "dfTotalSPCapital.info()"
   ]
  },
  {
   "cell_type": "code",
   "execution_count": 87,
   "metadata": {},
   "outputs": [],
   "source": [
    "dfTotalSPCapital.to_csv('SPCapital.csv', sep= ';', encoding = 'utf-8')"
   ]
  },
  {
   "cell_type": "markdown",
   "metadata": {},
   "source": [
    "Conferir num. abs. de 5 ou mais pessoas por domicilio"
   ]
  }
 ],
 "metadata": {
  "interpreter": {
   "hash": "916dbcbb3f70747c44a77c7bcd40155683ae19c65e1c03b4aa3499c5328201f1"
  },
  "kernelspec": {
   "display_name": "Python 3.8.10 64-bit",
   "language": "python",
   "name": "python3"
  },
  "language_info": {
   "codemirror_mode": {
    "name": "ipython",
    "version": 3
   },
   "file_extension": ".py",
   "mimetype": "text/x-python",
   "name": "python",
   "nbconvert_exporter": "python",
   "pygments_lexer": "ipython3",
   "version": "3.8.10"
  },
  "orig_nbformat": 4
 },
 "nbformat": 4,
 "nbformat_minor": 2
}

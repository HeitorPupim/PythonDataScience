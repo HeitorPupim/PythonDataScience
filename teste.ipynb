{
 "cells": [
  {
   "cell_type": "code",
   "execution_count": 3,
   "metadata": {},
   "outputs": [],
   "source": [
    "import numpy as np \n",
    "import pandas as pd \n"
   ]
  },
  {
   "cell_type": "code",
   "execution_count": 4,
   "metadata": {},
   "outputs": [],
   "source": [
    "\n",
    "numCaixas = int(input(\"Numero de Caixas: \"))\n",
    "\n",
    "dimCaixas = int(input(\"Dimensão: \"))\n"
   ]
  },
  {
   "cell_type": "code",
   "execution_count": 5,
   "metadata": {},
   "outputs": [
    {
     "name": "stdout",
     "output_type": "stream",
     "text": [
      "Caixas:\n",
      "\n"
     ]
    }
   ],
   "source": [
    "print(\"Caixas:\\n\")"
   ]
  },
  {
   "cell_type": "code",
   "execution_count": 6,
   "metadata": {},
   "outputs": [],
   "source": [
    "def criaOrdenaCaixa(i):\n",
    "    string = input((\"caixa {}: \").format(i))\n",
    "    box = []\n",
    "    for word in string.split():\n",
    "        if word.isdigit():\n",
    "            box.append(int(word))\n",
    "        #agora tenho uma lista da caixa especifica\n",
    "        box.sort()\n",
    "    return box"
   ]
  },
  {
   "cell_type": "code",
   "execution_count": 7,
   "metadata": {},
   "outputs": [],
   "source": [
    "Empacotados = []\n",
    "index = 1\n",
    "for caixa in range(0,numCaixas):\n",
    "    \n",
    "    novaCaixa = criaOrdenaCaixa(index)\n",
    "    index = index + 1\n",
    "    Empacotados.append(novaCaixa);"
   ]
  },
  {
   "cell_type": "code",
   "execution_count": 8,
   "metadata": {},
   "outputs": [
    {
     "name": "stdout",
     "output_type": "stream",
     "text": [
      "[[3, 7], [8, 10], [2, 5]]\n"
     ]
    }
   ],
   "source": [
    "print(Empacotados)"
   ]
  },
  {
   "cell_type": "code",
   "execution_count": 12,
   "metadata": {},
   "outputs": [
    {
     "name": "stdout",
     "output_type": "stream",
     "text": [
      "matriz de caixas \n",
      "\n",
      "\n",
      "[[ 3  7]\n",
      " [ 8 10]\n",
      " [ 2  5]]\n"
     ]
    }
   ],
   "source": [
    "arrayCaixas = np.array(Empacotados)\n",
    "\n",
    "print(\"matriz de caixas \\n\\n\")\n",
    "print(arrayCaixas)\n",
    "\n"
   ]
  },
  {
   "cell_type": "code",
   "execution_count": 13,
   "metadata": {},
   "outputs": [
    {
     "name": "stdout",
     "output_type": "stream",
     "text": [
      "Menor valor:  2 na posição:  (2, 0)\n"
     ]
    }
   ],
   "source": [
    "resp = (0, 0)\n",
    "menor = arrayCaixas[0][0]\n",
    "for lin in range(len(arrayCaixas)):\n",
    "    for col in range(len(arrayCaixas[lin])):\n",
    "        if arrayCaixas[lin][col] < arrayCaixas[resp[0]][resp[1]]:\n",
    "            menor = arrayCaixas[lin][col] \n",
    "            resp = (lin, col) \n",
    "print('Menor valor: ', menor, 'na posição: ', resp)"
   ]
  }
 ],
 "metadata": {
  "interpreter": {
   "hash": "916dbcbb3f70747c44a77c7bcd40155683ae19c65e1c03b4aa3499c5328201f1"
  },
  "kernelspec": {
   "display_name": "Python 3.8.10 64-bit",
   "language": "python",
   "name": "python3"
  },
  "language_info": {
   "codemirror_mode": {
    "name": "ipython",
    "version": 3
   },
   "file_extension": ".py",
   "mimetype": "text/x-python",
   "name": "python",
   "nbconvert_exporter": "python",
   "pygments_lexer": "ipython3",
   "version": "3.8.10"
  },
  "orig_nbformat": 4
 },
 "nbformat": 4,
 "nbformat_minor": 2
}

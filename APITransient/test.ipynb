{
 "cells": [
  {
   "cell_type": "code",
   "execution_count": 1,
   "metadata": {},
   "outputs": [],
   "source": [
    "import requests\n",
    "from datetime import date\n",
    "import pandas.io.sql as psql\n",
    "import pandas as pd\n",
    "from sqlalchemy import create_engine\n",
    "from datetime import datetime, timezone\n",
    "from time import sleep\n",
    "import json"
   ]
  },
  {
   "cell_type": "code",
   "execution_count": 2,
   "metadata": {},
   "outputs": [],
   "source": [
    "username =  'zillyonweb' \n",
    "password = 'pactodb2020' \n",
    "ipaddress = 'dbproself01.proselfit.com.br' \n",
    "port = '5432' \n",
    "dbname = 'PROSELF_PRD2' \n",
    "connection = f'postgresql://{username}:{password}@{ipaddress}:{port}/{dbname}'  \n",
    "\n",
    "# parameters for connection to the database transient (datalake)\n",
    "usr_datalake =  'postgres' \n",
    "pwd_datalake = 'X%p85qG!D6j[MoU%4[gEz,8BfKe^^0' \n",
    "host_datalake = '172.16.22.53' \n",
    "port_datalake = '5432' \n",
    "dbname_datalake = 'db_selfit_datalake' \n",
    "cnx_datalake = f'postgresql://{usr_datalake}:{pwd_datalake}@{host_datalake}:{port_datalake}/{dbname_datalake}'  "
   ]
  },
  {
   "cell_type": "code",
   "execution_count": 3,
   "metadata": {},
   "outputs": [],
   "source": [
    "query = '''\n",
    "        select\n",
    "            pessoa.codigo as PersonCode \n",
    "            ,left(pessoa.nome, strpos(pessoa.nome, ' ') -1 ) as personname\n",
    "            --,'RENATO MARKETING' as lastname\n",
    "            ,right(pessoa.nome, length(pessoa.nome) - STRPOS(pessoa.nome, ' ')) as lastname\n",
    "            ,plano.descricao as PlanName\n",
    "            ,(select '+55' || translate(telefone.numero, '(,),-, ', '') from telefone where pessoa = cliente.codigo and tipotelefone = 'CE' limit 1 ) as mobile\n",
    "            ,(select '+55' || translate(telefone.numero, '(,),-, ', '') from telefone where pessoa = cliente.codigo and tipotelefone = 'RE' limit 1 ) as telephone\n",
    "            ,(select email from email where email.pessoa = cliente.pessoa limit 1) as email\n",
    "            ,cidade.nome as city\n",
    "            ,estado.descricao as state\n",
    "            ,to_char(contrato.vigenciade, 'yyyy-MM-dd') as planstartdate\n",
    "            ,to_char(contrato.vigenciaateajustada, 'yyyy-MM-dd') as planexpirationdate\n",
    "            ,empresa.nome as unitname\n",
    "            ,pessoa.cfp as document\n",
    "            ,pessoa.sexo as gender\n",
    "            ,to_char(pessoa.datanasc , 'yyyy-MM-dd')  as birthdate\n",
    "            ,cliente.matricula as registernumber\n",
    "            ,endereco.cep as addresscep\n",
    "            --,replace(translate(endereco.cep::text, '-',''),'.','') as addresscep\n",
    "            ,endereco.bairro as addressneighborhood\n",
    "            ,endereco.numero as addressnumber\n",
    "            ,endereco.endereco as address\n",
    "            ,endereco.complemento as addresscomplement\n",
    "            ,cidp.nome as addresscity\n",
    "            ,estp.descricao as addressstate\n",
    "        from cliente\n",
    "            left join pessoa on pessoa.codigo = cliente.pessoa\n",
    "            left join empresa on cliente.empresa = empresa.codigo\n",
    "            left join cidade on cidade.codigo = empresa.cidade\n",
    "            left join estado on estado.codigo = empresa.estado\n",
    "            left join cidade cidp on cidp.codigo = pessoa.cidade\n",
    "            left join estado estp on estp.codigo = pessoa.estado\n",
    "            left join contrato on contrato.pessoa = pessoa.codigo\n",
    "            left join plano on plano.codigo = contrato.plano\n",
    "            left join endereco on endereco.pessoa = pessoa.codigo\n",
    "        --where cliente.codigomatricula = 1420556 -- joel\n",
    "        --where cliente.pessoa = 1277684 --rafael\n",
    "        order by contrato.datamatricula desc, case contrato.Situacao when 'AT' then 1\t\n",
    "            when 'TR' then 2\t\n",
    "            when 'IN' then 3\t\n",
    "            when 'CA' then 4\n",
    "            else 5\n",
    "            end asc\n",
    "            limit 10000\n",
    "    '''"
   ]
  },
  {
   "cell_type": "code",
   "execution_count": 4,
   "metadata": {},
   "outputs": [],
   "source": [
    "query_control = '''select \"Email\" from transient.\"3rd_active_campaign_enviados_20220615\"''' \n"
   ]
  },
  {
   "cell_type": "code",
   "execution_count": 5,
   "metadata": {},
   "outputs": [],
   "source": [
    "# criando a base\n",
    "df_all = psql.read_sql(query,connection) # a enviar\n",
    "df_transient = psql.read_sql(query_control,cnx_datalake) # tabela control"
   ]
  },
  {
   "cell_type": "code",
   "execution_count": 6,
   "metadata": {},
   "outputs": [],
   "source": [
    "df_transient.rename(columns={'Email':'email'},inplace=True)"
   ]
  },
  {
   "cell_type": "code",
   "execution_count": 7,
   "metadata": {},
   "outputs": [],
   "source": [
    "#df_merge = pd.merge(df_all, df_transient, on='email', how='outer')"
   ]
  },
  {
   "cell_type": "code",
   "execution_count": 8,
   "metadata": {},
   "outputs": [],
   "source": [
    "df_merge = df_all[~df_all['email'].isin(df_transient['email'])]"
   ]
  },
  {
   "cell_type": "code",
   "execution_count": 9,
   "metadata": {},
   "outputs": [
    {
     "name": "stdout",
     "output_type": "stream",
     "text": [
      "<class 'pandas.core.frame.DataFrame'>\n",
      "Int64Index: 8994 entries, 0 to 9999\n",
      "Data columns (total 23 columns):\n",
      " #   Column               Non-Null Count  Dtype \n",
      "---  ------               --------------  ----- \n",
      " 0   personcode           8994 non-null   int64 \n",
      " 1   personname           8994 non-null   object\n",
      " 2   lastname             8994 non-null   object\n",
      " 3   planname             0 non-null      object\n",
      " 4   mobile               6812 non-null   object\n",
      " 5   telephone            1646 non-null   object\n",
      " 6   email                8950 non-null   object\n",
      " 7   city                 8994 non-null   object\n",
      " 8   state                8994 non-null   object\n",
      " 9   planstartdate        0 non-null      object\n",
      " 10  planexpirationdate   0 non-null      object\n",
      " 11  unitname             8994 non-null   object\n",
      " 12  document             8994 non-null   object\n",
      " 13  gender               3803 non-null   object\n",
      " 14  birthdate            3617 non-null   object\n",
      " 15  registernumber       8994 non-null   object\n",
      " 16  addresscep           2199 non-null   object\n",
      " 17  addressneighborhood  2199 non-null   object\n",
      " 18  addressnumber        2199 non-null   object\n",
      " 19  address              2199 non-null   object\n",
      " 20  addresscomplement    2199 non-null   object\n",
      " 21  addresscity          2404 non-null   object\n",
      " 22  addressstate         2412 non-null   object\n",
      "dtypes: int64(1), object(22)\n",
      "memory usage: 1.6+ MB\n"
     ]
    }
   ],
   "source": [
    "df_merge.info()"
   ]
  },
  {
   "cell_type": "code",
   "execution_count": 10,
   "metadata": {},
   "outputs": [],
   "source": [
    "#df_all.info()\n",
    "# 999 colunas de email."
   ]
  },
  {
   "cell_type": "code",
   "execution_count": 11,
   "metadata": {},
   "outputs": [],
   "source": [
    "#df_transient.info()\n",
    "#520021 linhas de email."
   ]
  },
  {
   "cell_type": "code",
   "execution_count": 12,
   "metadata": {},
   "outputs": [],
   "source": [
    "#df_merge.info()"
   ]
  },
  {
   "cell_type": "code",
   "execution_count": 13,
   "metadata": {},
   "outputs": [],
   "source": [
    "#df_merge.head()"
   ]
  },
  {
   "cell_type": "code",
   "execution_count": 14,
   "metadata": {},
   "outputs": [
    {
     "data": {
      "text/plain": [
       "8931"
      ]
     },
     "execution_count": 14,
     "metadata": {},
     "output_type": "execute_result"
    }
   ],
   "source": [
    "#count duplicates\n",
    "df_merge['email'].nunique()"
   ]
  },
  {
   "cell_type": "code",
   "execution_count": 15,
   "metadata": {},
   "outputs": [
    {
     "data": {
      "text/plain": [
       "62"
      ]
     },
     "execution_count": 15,
     "metadata": {},
     "output_type": "execute_result"
    }
   ],
   "source": [
    "df_merge.email.duplicated().sum()"
   ]
  },
  {
   "cell_type": "code",
   "execution_count": 16,
   "metadata": {},
   "outputs": [],
   "source": [
    "#df_transient.rename(columns={'Email':'email'},inplace=True)"
   ]
  },
  {
   "cell_type": "code",
   "execution_count": 17,
   "metadata": {},
   "outputs": [],
   "source": [
    "#df_transient.info()"
   ]
  },
  {
   "cell_type": "code",
   "execution_count": 18,
   "metadata": {},
   "outputs": [],
   "source": [
    "#df_merge = pd.merge(df_all, df_transient, on='email', how='outer')"
   ]
  },
  {
   "cell_type": "code",
   "execution_count": 19,
   "metadata": {},
   "outputs": [],
   "source": [
    "#df_merge.info()"
   ]
  },
  {
   "cell_type": "code",
   "execution_count": 20,
   "metadata": {},
   "outputs": [],
   "source": [
    "#df_merge.head()"
   ]
  }
 ],
 "metadata": {
  "kernelspec": {
   "display_name": "Python 3.8.10 64-bit",
   "language": "python",
   "name": "python3"
  },
  "language_info": {
   "codemirror_mode": {
    "name": "ipython",
    "version": 3
   },
   "file_extension": ".py",
   "mimetype": "text/x-python",
   "name": "python",
   "nbconvert_exporter": "python",
   "pygments_lexer": "ipython3",
   "version": "3.8.10"
  },
  "orig_nbformat": 4,
  "vscode": {
   "interpreter": {
    "hash": "916dbcbb3f70747c44a77c7bcd40155683ae19c65e1c03b4aa3499c5328201f1"
   }
  }
 },
 "nbformat": 4,
 "nbformat_minor": 2
}

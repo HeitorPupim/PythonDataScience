{
 "cells": [
  {
   "cell_type": "code",
   "execution_count": 4,
   "metadata": {},
   "outputs": [],
   "source": [
    "import pandas as pd\n",
    "import numpy as np\n",
    "import matplotlib.pyplot as plt\n",
    "import seaborn as sns\n",
    "from datetime import datetime"
   ]
  },
  {
   "cell_type": "code",
   "execution_count": 5,
   "metadata": {},
   "outputs": [],
   "source": [
    "df = pd.read_csv('/home/heitor/workspace/PythonDataScience/PythonDataScience/selfit/hist-canc.csv', sep = ',')"
   ]
  },
  {
   "cell_type": "code",
   "execution_count": 6,
   "metadata": {},
   "outputs": [
    {
     "data": {
      "text/html": [
       "<div>\n",
       "<style scoped>\n",
       "    .dataframe tbody tr th:only-of-type {\n",
       "        vertical-align: middle;\n",
       "    }\n",
       "\n",
       "    .dataframe tbody tr th {\n",
       "        vertical-align: top;\n",
       "    }\n",
       "\n",
       "    .dataframe thead th {\n",
       "        text-align: right;\n",
       "    }\n",
       "</style>\n",
       "<table border=\"1\" class=\"dataframe\">\n",
       "  <thead>\n",
       "    <tr style=\"text-align: right;\">\n",
       "      <th></th>\n",
       "      <th>contrato</th>\n",
       "      <th>datacancelamento</th>\n",
       "      <th>tipocancelamento</th>\n",
       "      <th>plano</th>\n",
       "      <th>cliente</th>\n",
       "      <th>cpf</th>\n",
       "      <th>sexo</th>\n",
       "      <th>idadecliente</th>\n",
       "      <th>telefonescliente</th>\n",
       "      <th>emailscliente</th>\n",
       "      <th>qtdediaspermanencia</th>\n",
       "      <th>nomeunidade</th>\n",
       "      <th>estadounidade</th>\n",
       "      <th>cidadeunidade</th>\n",
       "      <th>dataultimoacesso</th>\n",
       "    </tr>\n",
       "  </thead>\n",
       "  <tbody>\n",
       "    <tr>\n",
       "      <th>0</th>\n",
       "      <td>1066698</td>\n",
       "      <td>2021-01-01 00:00:00</td>\n",
       "      <td>COMPULSORIO</td>\n",
       "      <td>PLANO SELF LIGHT</td>\n",
       "      <td>ALEXANDRE MAURICIO NUNES DE BARROS</td>\n",
       "      <td>859.234.325-95</td>\n",
       "      <td>MASCULINO</td>\n",
       "      <td>24</td>\n",
       "      <td>(71)996859279</td>\n",
       "      <td>alexandremauricio8@hotmail.com</td>\n",
       "      <td>120</td>\n",
       "      <td>RIO VERMELHO</td>\n",
       "      <td>BAHIA</td>\n",
       "      <td>SALVADOR</td>\n",
       "      <td>2020-01-07 21:03:15.225</td>\n",
       "    </tr>\n",
       "    <tr>\n",
       "      <th>1</th>\n",
       "      <td>1077205</td>\n",
       "      <td>2021-01-01 00:00:00</td>\n",
       "      <td>COMPULSORIO</td>\n",
       "      <td>PLANO SELF LIGHT</td>\n",
       "      <td>BRUNA FERNANDES CALEGARI</td>\n",
       "      <td>112.556.676-05</td>\n",
       "      <td>FEMININO</td>\n",
       "      <td>29</td>\n",
       "      <td>(16)991534099</td>\n",
       "      <td>bruna.fcoliveira@hotmail.com</td>\n",
       "      <td>105</td>\n",
       "      <td>PRESIDENTE VARGAS</td>\n",
       "      <td>SÃO PAULO</td>\n",
       "      <td>RIBEIRÃO PRETO</td>\n",
       "      <td>2020-12-17 16:00:36.384</td>\n",
       "    </tr>\n",
       "    <tr>\n",
       "      <th>2</th>\n",
       "      <td>1077205</td>\n",
       "      <td>2021-01-01 00:00:00</td>\n",
       "      <td>COMPULSORIO</td>\n",
       "      <td>PLANO SELF LIGHT</td>\n",
       "      <td>BRUNA FERNANDES CALEGARI</td>\n",
       "      <td>112.556.676-05</td>\n",
       "      <td>FEMININO</td>\n",
       "      <td>29</td>\n",
       "      <td>(16)991534099</td>\n",
       "      <td>bruna.fcoliveira@hotmail.com</td>\n",
       "      <td>105</td>\n",
       "      <td>PRESIDENTE VARGAS</td>\n",
       "      <td>SÃO PAULO</td>\n",
       "      <td>RIBEIRÃO PRETO</td>\n",
       "      <td>2020-12-17 16:00:36.384</td>\n",
       "    </tr>\n",
       "    <tr>\n",
       "      <th>3</th>\n",
       "      <td>1134727</td>\n",
       "      <td>2021-01-01 00:00:00</td>\n",
       "      <td>COMPULSORIO</td>\n",
       "      <td>PLANO SELF LIGHT</td>\n",
       "      <td>DIEGO HENRIQUE LINS SILVA</td>\n",
       "      <td>032.086.065-59</td>\n",
       "      <td>MASCULINO</td>\n",
       "      <td>33</td>\n",
       "      <td>(87)999499080</td>\n",
       "      <td>diego025@outlook.com</td>\n",
       "      <td>34</td>\n",
       "      <td>TANCREDO NEVES</td>\n",
       "      <td>PERNAMBUCO</td>\n",
       "      <td>PETROLINA</td>\n",
       "      <td>2021-07-06 16:48:04.109</td>\n",
       "    </tr>\n",
       "    <tr>\n",
       "      <th>4</th>\n",
       "      <td>975901</td>\n",
       "      <td>2021-01-01 00:00:00</td>\n",
       "      <td>COMPULSORIO</td>\n",
       "      <td>PLANO SELF LIGHT</td>\n",
       "      <td>ERICA MENDES DOS SANTOS</td>\n",
       "      <td>400.766.978-35</td>\n",
       "      <td>FEMININO</td>\n",
       "      <td>30</td>\n",
       "      <td>(14)997716746</td>\n",
       "      <td>mendes.erica.santos@gmail.com</td>\n",
       "      <td>333</td>\n",
       "      <td>MARILIA SHOPPING</td>\n",
       "      <td>SÃO PAULO</td>\n",
       "      <td>MARÍLIA</td>\n",
       "      <td>2020-12-19 10:09:18.547</td>\n",
       "    </tr>\n",
       "  </tbody>\n",
       "</table>\n",
       "</div>"
      ],
      "text/plain": [
       "   contrato     datacancelamento tipocancelamento             plano  \\\n",
       "0   1066698  2021-01-01 00:00:00      COMPULSORIO  PLANO SELF LIGHT   \n",
       "1   1077205  2021-01-01 00:00:00      COMPULSORIO  PLANO SELF LIGHT   \n",
       "2   1077205  2021-01-01 00:00:00      COMPULSORIO  PLANO SELF LIGHT   \n",
       "3   1134727  2021-01-01 00:00:00      COMPULSORIO  PLANO SELF LIGHT   \n",
       "4    975901  2021-01-01 00:00:00      COMPULSORIO  PLANO SELF LIGHT   \n",
       "\n",
       "                              cliente             cpf       sexo  \\\n",
       "0  ALEXANDRE MAURICIO NUNES DE BARROS  859.234.325-95  MASCULINO   \n",
       "1            BRUNA FERNANDES CALEGARI  112.556.676-05   FEMININO   \n",
       "2            BRUNA FERNANDES CALEGARI  112.556.676-05   FEMININO   \n",
       "3           DIEGO HENRIQUE LINS SILVA  032.086.065-59  MASCULINO   \n",
       "4             ERICA MENDES DOS SANTOS  400.766.978-35   FEMININO   \n",
       "\n",
       "   idadecliente telefonescliente                   emailscliente  \\\n",
       "0            24    (71)996859279  alexandremauricio8@hotmail.com   \n",
       "1            29    (16)991534099    bruna.fcoliveira@hotmail.com   \n",
       "2            29    (16)991534099    bruna.fcoliveira@hotmail.com   \n",
       "3            33    (87)999499080            diego025@outlook.com   \n",
       "4            30    (14)997716746   mendes.erica.santos@gmail.com   \n",
       "\n",
       "   qtdediaspermanencia        nomeunidade estadounidade   cidadeunidade  \\\n",
       "0                  120       RIO VERMELHO         BAHIA        SALVADOR   \n",
       "1                  105  PRESIDENTE VARGAS     SÃO PAULO  RIBEIRÃO PRETO   \n",
       "2                  105  PRESIDENTE VARGAS     SÃO PAULO  RIBEIRÃO PRETO   \n",
       "3                   34     TANCREDO NEVES    PERNAMBUCO       PETROLINA   \n",
       "4                  333   MARILIA SHOPPING     SÃO PAULO         MARÍLIA   \n",
       "\n",
       "          dataultimoacesso  \n",
       "0  2020-01-07 21:03:15.225  \n",
       "1  2020-12-17 16:00:36.384  \n",
       "2  2020-12-17 16:00:36.384  \n",
       "3  2021-07-06 16:48:04.109  \n",
       "4  2020-12-19 10:09:18.547  "
      ]
     },
     "execution_count": 6,
     "metadata": {},
     "output_type": "execute_result"
    }
   ],
   "source": [
    "df.head()"
   ]
  },
  {
   "cell_type": "code",
   "execution_count": 7,
   "metadata": {},
   "outputs": [
    {
     "name": "stdout",
     "output_type": "stream",
     "text": [
      "<class 'pandas.core.frame.DataFrame'>\n",
      "RangeIndex: 318269 entries, 0 to 318268\n",
      "Data columns (total 15 columns):\n",
      " #   Column               Non-Null Count   Dtype \n",
      "---  ------               --------------   ----- \n",
      " 0   contrato             318269 non-null  int64 \n",
      " 1   datacancelamento     318269 non-null  object\n",
      " 2   tipocancelamento     318269 non-null  object\n",
      " 3   plano                318269 non-null  object\n",
      " 4   cliente              318269 non-null  object\n",
      " 5   cpf                  318191 non-null  object\n",
      " 6   sexo                 318269 non-null  object\n",
      " 7   idadecliente         318269 non-null  int64 \n",
      " 8   telefonescliente     318246 non-null  object\n",
      " 9   emailscliente        318248 non-null  object\n",
      " 10  qtdediaspermanencia  318269 non-null  int64 \n",
      " 11  nomeunidade          318269 non-null  object\n",
      " 12  estadounidade        318269 non-null  object\n",
      " 13  cidadeunidade        318269 non-null  object\n",
      " 14  dataultimoacesso     246136 non-null  object\n",
      "dtypes: int64(3), object(12)\n",
      "memory usage: 36.4+ MB\n"
     ]
    }
   ],
   "source": [
    "df.info()"
   ]
  },
  {
   "cell_type": "code",
   "execution_count": 8,
   "metadata": {},
   "outputs": [],
   "source": [
    "#datas para datetime.\n",
    "df['datacancelamento'] = df['datacancelamento'] = pd.to_datetime(df['datacancelamento'], format='%Y-%m-%d')"
   ]
  },
  {
   "cell_type": "markdown",
   "metadata": {},
   "source": [
    "Removendo algumas colunas do dataframe...\n"
   ]
  },
  {
   "cell_type": "code",
   "execution_count": 9,
   "metadata": {},
   "outputs": [],
   "source": [
    "df = df.drop(\n",
    "    labels = ['cpf','cliente','telefonescliente', 'emailscliente', 'dataultimoacesso', 'contrato'],\n",
    "    axis = 1,\n",
    "    inplace = False\n",
    ")"
   ]
  },
  {
   "cell_type": "markdown",
   "metadata": {},
   "source": [
    "Para facilitar, foi alterado o nome de algumas colunas no dataframe."
   ]
  },
  {
   "cell_type": "code",
   "execution_count": 10,
   "metadata": {},
   "outputs": [],
   "source": [
    "df = df.rename({'idadecliente': 'idade', 'qtdediaspermanencia': 'permanencia', 'nomeunidade': 'unidade', 'estadounidade': 'estado','cidadeunidade': 'cidade'}, axis='columns')"
   ]
  },
  {
   "cell_type": "code",
   "execution_count": 11,
   "metadata": {},
   "outputs": [
    {
     "name": "stdout",
     "output_type": "stream",
     "text": [
      "<class 'pandas.core.frame.DataFrame'>\n",
      "RangeIndex: 318269 entries, 0 to 318268\n",
      "Data columns (total 9 columns):\n",
      " #   Column            Non-Null Count   Dtype         \n",
      "---  ------            --------------   -----         \n",
      " 0   datacancelamento  318269 non-null  datetime64[ns]\n",
      " 1   tipocancelamento  318269 non-null  object        \n",
      " 2   plano             318269 non-null  object        \n",
      " 3   sexo              318269 non-null  object        \n",
      " 4   idade             318269 non-null  int64         \n",
      " 5   permanencia       318269 non-null  int64         \n",
      " 6   unidade           318269 non-null  object        \n",
      " 7   estado            318269 non-null  object        \n",
      " 8   cidade            318269 non-null  object        \n",
      "dtypes: datetime64[ns](1), int64(2), object(6)\n",
      "memory usage: 21.9+ MB\n"
     ]
    }
   ],
   "source": [
    "df.info()"
   ]
  },
  {
   "cell_type": "code",
   "execution_count": 14,
   "metadata": {},
   "outputs": [
    {
     "data": {
      "text/html": [
       "<div>\n",
       "<style scoped>\n",
       "    .dataframe tbody tr th:only-of-type {\n",
       "        vertical-align: middle;\n",
       "    }\n",
       "\n",
       "    .dataframe tbody tr th {\n",
       "        vertical-align: top;\n",
       "    }\n",
       "\n",
       "    .dataframe thead th {\n",
       "        text-align: right;\n",
       "    }\n",
       "</style>\n",
       "<table border=\"1\" class=\"dataframe\">\n",
       "  <thead>\n",
       "    <tr style=\"text-align: right;\">\n",
       "      <th></th>\n",
       "      <th>datacancelamento</th>\n",
       "      <th>tipocancelamento</th>\n",
       "      <th>plano</th>\n",
       "      <th>sexo</th>\n",
       "      <th>idade</th>\n",
       "      <th>permanencia</th>\n",
       "      <th>unidade</th>\n",
       "      <th>estado</th>\n",
       "      <th>cidade</th>\n",
       "    </tr>\n",
       "  </thead>\n",
       "  <tbody>\n",
       "    <tr>\n",
       "      <th>0</th>\n",
       "      <td>2021-01-01</td>\n",
       "      <td>COMPULSORIO</td>\n",
       "      <td>PLANO SELF LIGHT</td>\n",
       "      <td>MASCULINO</td>\n",
       "      <td>24</td>\n",
       "      <td>120</td>\n",
       "      <td>RIO VERMELHO</td>\n",
       "      <td>BAHIA</td>\n",
       "      <td>SALVADOR</td>\n",
       "    </tr>\n",
       "    <tr>\n",
       "      <th>1</th>\n",
       "      <td>2021-01-01</td>\n",
       "      <td>COMPULSORIO</td>\n",
       "      <td>PLANO SELF LIGHT</td>\n",
       "      <td>FEMININO</td>\n",
       "      <td>29</td>\n",
       "      <td>105</td>\n",
       "      <td>PRESIDENTE VARGAS</td>\n",
       "      <td>SÃO PAULO</td>\n",
       "      <td>RIBEIRÃO PRETO</td>\n",
       "    </tr>\n",
       "    <tr>\n",
       "      <th>2</th>\n",
       "      <td>2021-01-01</td>\n",
       "      <td>COMPULSORIO</td>\n",
       "      <td>PLANO SELF LIGHT</td>\n",
       "      <td>FEMININO</td>\n",
       "      <td>29</td>\n",
       "      <td>105</td>\n",
       "      <td>PRESIDENTE VARGAS</td>\n",
       "      <td>SÃO PAULO</td>\n",
       "      <td>RIBEIRÃO PRETO</td>\n",
       "    </tr>\n",
       "    <tr>\n",
       "      <th>3</th>\n",
       "      <td>2021-01-01</td>\n",
       "      <td>COMPULSORIO</td>\n",
       "      <td>PLANO SELF LIGHT</td>\n",
       "      <td>MASCULINO</td>\n",
       "      <td>33</td>\n",
       "      <td>34</td>\n",
       "      <td>TANCREDO NEVES</td>\n",
       "      <td>PERNAMBUCO</td>\n",
       "      <td>PETROLINA</td>\n",
       "    </tr>\n",
       "    <tr>\n",
       "      <th>4</th>\n",
       "      <td>2021-01-01</td>\n",
       "      <td>COMPULSORIO</td>\n",
       "      <td>PLANO SELF LIGHT</td>\n",
       "      <td>FEMININO</td>\n",
       "      <td>30</td>\n",
       "      <td>333</td>\n",
       "      <td>MARILIA SHOPPING</td>\n",
       "      <td>SÃO PAULO</td>\n",
       "      <td>MARÍLIA</td>\n",
       "    </tr>\n",
       "    <tr>\n",
       "      <th>5</th>\n",
       "      <td>2021-01-01</td>\n",
       "      <td>COMPULSORIO</td>\n",
       "      <td>PLANO SELF LIGHT</td>\n",
       "      <td>MASCULINO</td>\n",
       "      <td>18</td>\n",
       "      <td>353</td>\n",
       "      <td>MAG SHOPPING</td>\n",
       "      <td>PARAÍBA</td>\n",
       "      <td>JOÃO PESSOA</td>\n",
       "    </tr>\n",
       "    <tr>\n",
       "      <th>6</th>\n",
       "      <td>2021-01-01</td>\n",
       "      <td>ESPONTANEO</td>\n",
       "      <td>PLANO SELF LIGHT</td>\n",
       "      <td>FEMININO</td>\n",
       "      <td>22</td>\n",
       "      <td>179</td>\n",
       "      <td>CARAPICUÍBA</td>\n",
       "      <td>SÃO PAULO</td>\n",
       "      <td>CARAPICUÍBA</td>\n",
       "    </tr>\n",
       "    <tr>\n",
       "      <th>7</th>\n",
       "      <td>2021-01-01</td>\n",
       "      <td>COMPULSORIO</td>\n",
       "      <td>PLANO SELF LIGHT</td>\n",
       "      <td>FEMININO</td>\n",
       "      <td>27</td>\n",
       "      <td>142</td>\n",
       "      <td>CARUARU</td>\n",
       "      <td>PERNAMBUCO</td>\n",
       "      <td>CARUARU</td>\n",
       "    </tr>\n",
       "    <tr>\n",
       "      <th>8</th>\n",
       "      <td>2021-01-01</td>\n",
       "      <td>COMPULSORIO</td>\n",
       "      <td>PLANO SELF LIGHT</td>\n",
       "      <td>FEMININO</td>\n",
       "      <td>27</td>\n",
       "      <td>142</td>\n",
       "      <td>CARUARU</td>\n",
       "      <td>PERNAMBUCO</td>\n",
       "      <td>CARUARU</td>\n",
       "    </tr>\n",
       "    <tr>\n",
       "      <th>9</th>\n",
       "      <td>2021-01-01</td>\n",
       "      <td>COMPULSORIO</td>\n",
       "      <td>PLANO SELF LIGHT</td>\n",
       "      <td>FEMININO</td>\n",
       "      <td>34</td>\n",
       "      <td>333</td>\n",
       "      <td>MARILIA SHOPPING</td>\n",
       "      <td>SÃO PAULO</td>\n",
       "      <td>MARÍLIA</td>\n",
       "    </tr>\n",
       "  </tbody>\n",
       "</table>\n",
       "</div>"
      ],
      "text/plain": [
       "  datacancelamento tipocancelamento             plano       sexo  idade  \\\n",
       "0       2021-01-01      COMPULSORIO  PLANO SELF LIGHT  MASCULINO     24   \n",
       "1       2021-01-01      COMPULSORIO  PLANO SELF LIGHT   FEMININO     29   \n",
       "2       2021-01-01      COMPULSORIO  PLANO SELF LIGHT   FEMININO     29   \n",
       "3       2021-01-01      COMPULSORIO  PLANO SELF LIGHT  MASCULINO     33   \n",
       "4       2021-01-01      COMPULSORIO  PLANO SELF LIGHT   FEMININO     30   \n",
       "5       2021-01-01      COMPULSORIO  PLANO SELF LIGHT  MASCULINO     18   \n",
       "6       2021-01-01       ESPONTANEO  PLANO SELF LIGHT   FEMININO     22   \n",
       "7       2021-01-01      COMPULSORIO  PLANO SELF LIGHT   FEMININO     27   \n",
       "8       2021-01-01      COMPULSORIO  PLANO SELF LIGHT   FEMININO     27   \n",
       "9       2021-01-01      COMPULSORIO  PLANO SELF LIGHT   FEMININO     34   \n",
       "\n",
       "   permanencia            unidade      estado          cidade  \n",
       "0          120       RIO VERMELHO       BAHIA        SALVADOR  \n",
       "1          105  PRESIDENTE VARGAS   SÃO PAULO  RIBEIRÃO PRETO  \n",
       "2          105  PRESIDENTE VARGAS   SÃO PAULO  RIBEIRÃO PRETO  \n",
       "3           34     TANCREDO NEVES  PERNAMBUCO       PETROLINA  \n",
       "4          333   MARILIA SHOPPING   SÃO PAULO         MARÍLIA  \n",
       "5          353       MAG SHOPPING     PARAÍBA     JOÃO PESSOA  \n",
       "6          179        CARAPICUÍBA   SÃO PAULO     CARAPICUÍBA  \n",
       "7          142            CARUARU  PERNAMBUCO         CARUARU  \n",
       "8          142            CARUARU  PERNAMBUCO         CARUARU  \n",
       "9          333   MARILIA SHOPPING   SÃO PAULO         MARÍLIA  "
      ]
     },
     "execution_count": 14,
     "metadata": {},
     "output_type": "execute_result"
    }
   ],
   "source": [
    "df.head(10)"
   ]
  },
  {
   "cell_type": "markdown",
   "metadata": {},
   "source": [
    "Separando DataFrames"
   ]
  },
  {
   "cell_type": "code",
   "execution_count": 16,
   "metadata": {},
   "outputs": [
    {
     "data": {
      "text/html": [
       "<div>\n",
       "<style scoped>\n",
       "    .dataframe tbody tr th:only-of-type {\n",
       "        vertical-align: middle;\n",
       "    }\n",
       "\n",
       "    .dataframe tbody tr th {\n",
       "        vertical-align: top;\n",
       "    }\n",
       "\n",
       "    .dataframe thead th {\n",
       "        text-align: right;\n",
       "    }\n",
       "</style>\n",
       "<table border=\"1\" class=\"dataframe\">\n",
       "  <thead>\n",
       "    <tr style=\"text-align: right;\">\n",
       "      <th></th>\n",
       "      <th>datacancelamento</th>\n",
       "      <th>tipocancelamento</th>\n",
       "      <th>plano</th>\n",
       "      <th>sexo</th>\n",
       "      <th>idade</th>\n",
       "      <th>permanencia</th>\n",
       "      <th>unidade</th>\n",
       "      <th>estado</th>\n",
       "      <th>cidade</th>\n",
       "    </tr>\n",
       "  </thead>\n",
       "  <tbody>\n",
       "    <tr>\n",
       "      <th>1</th>\n",
       "      <td>2021-01-01</td>\n",
       "      <td>COMPULSORIO</td>\n",
       "      <td>PLANO SELF LIGHT</td>\n",
       "      <td>FEMININO</td>\n",
       "      <td>29</td>\n",
       "      <td>105</td>\n",
       "      <td>PRESIDENTE VARGAS</td>\n",
       "      <td>SÃO PAULO</td>\n",
       "      <td>RIBEIRÃO PRETO</td>\n",
       "    </tr>\n",
       "    <tr>\n",
       "      <th>2</th>\n",
       "      <td>2021-01-01</td>\n",
       "      <td>COMPULSORIO</td>\n",
       "      <td>PLANO SELF LIGHT</td>\n",
       "      <td>FEMININO</td>\n",
       "      <td>29</td>\n",
       "      <td>105</td>\n",
       "      <td>PRESIDENTE VARGAS</td>\n",
       "      <td>SÃO PAULO</td>\n",
       "      <td>RIBEIRÃO PRETO</td>\n",
       "    </tr>\n",
       "    <tr>\n",
       "      <th>4</th>\n",
       "      <td>2021-01-01</td>\n",
       "      <td>COMPULSORIO</td>\n",
       "      <td>PLANO SELF LIGHT</td>\n",
       "      <td>FEMININO</td>\n",
       "      <td>30</td>\n",
       "      <td>333</td>\n",
       "      <td>MARILIA SHOPPING</td>\n",
       "      <td>SÃO PAULO</td>\n",
       "      <td>MARÍLIA</td>\n",
       "    </tr>\n",
       "    <tr>\n",
       "      <th>6</th>\n",
       "      <td>2021-01-01</td>\n",
       "      <td>ESPONTANEO</td>\n",
       "      <td>PLANO SELF LIGHT</td>\n",
       "      <td>FEMININO</td>\n",
       "      <td>22</td>\n",
       "      <td>179</td>\n",
       "      <td>CARAPICUÍBA</td>\n",
       "      <td>SÃO PAULO</td>\n",
       "      <td>CARAPICUÍBA</td>\n",
       "    </tr>\n",
       "    <tr>\n",
       "      <th>9</th>\n",
       "      <td>2021-01-01</td>\n",
       "      <td>COMPULSORIO</td>\n",
       "      <td>PLANO SELF LIGHT</td>\n",
       "      <td>FEMININO</td>\n",
       "      <td>34</td>\n",
       "      <td>333</td>\n",
       "      <td>MARILIA SHOPPING</td>\n",
       "      <td>SÃO PAULO</td>\n",
       "      <td>MARÍLIA</td>\n",
       "    </tr>\n",
       "  </tbody>\n",
       "</table>\n",
       "</div>"
      ],
      "text/plain": [
       "  datacancelamento tipocancelamento             plano      sexo  idade  \\\n",
       "1       2021-01-01      COMPULSORIO  PLANO SELF LIGHT  FEMININO     29   \n",
       "2       2021-01-01      COMPULSORIO  PLANO SELF LIGHT  FEMININO     29   \n",
       "4       2021-01-01      COMPULSORIO  PLANO SELF LIGHT  FEMININO     30   \n",
       "6       2021-01-01       ESPONTANEO  PLANO SELF LIGHT  FEMININO     22   \n",
       "9       2021-01-01      COMPULSORIO  PLANO SELF LIGHT  FEMININO     34   \n",
       "\n",
       "   permanencia            unidade     estado          cidade  \n",
       "1          105  PRESIDENTE VARGAS  SÃO PAULO  RIBEIRÃO PRETO  \n",
       "2          105  PRESIDENTE VARGAS  SÃO PAULO  RIBEIRÃO PRETO  \n",
       "4          333   MARILIA SHOPPING  SÃO PAULO         MARÍLIA  \n",
       "6          179        CARAPICUÍBA  SÃO PAULO     CARAPICUÍBA  \n",
       "9          333   MARILIA SHOPPING  SÃO PAULO         MARÍLIA  "
      ]
     },
     "execution_count": 16,
     "metadata": {},
     "output_type": "execute_result"
    }
   ],
   "source": [
    "df_sp = df[df['estado'] == 'SÃO PAULO']\n",
    "df_sp.head()"
   ]
  },
  {
   "cell_type": "code",
   "execution_count": 70,
   "metadata": {},
   "outputs": [
    {
     "data": {
      "text/html": [
       "<div>\n",
       "<style scoped>\n",
       "    .dataframe tbody tr th:only-of-type {\n",
       "        vertical-align: middle;\n",
       "    }\n",
       "\n",
       "    .dataframe tbody tr th {\n",
       "        vertical-align: top;\n",
       "    }\n",
       "\n",
       "    .dataframe thead th {\n",
       "        text-align: right;\n",
       "    }\n",
       "</style>\n",
       "<table border=\"1\" class=\"dataframe\">\n",
       "  <thead>\n",
       "    <tr style=\"text-align: right;\">\n",
       "      <th></th>\n",
       "      <th>datacancelamento</th>\n",
       "      <th>tipocancelamento</th>\n",
       "      <th>plano</th>\n",
       "      <th>sexo</th>\n",
       "      <th>idade</th>\n",
       "      <th>permanencia</th>\n",
       "      <th>unidade</th>\n",
       "      <th>estado</th>\n",
       "      <th>cidade</th>\n",
       "    </tr>\n",
       "  </thead>\n",
       "  <tbody>\n",
       "    <tr>\n",
       "      <th>0</th>\n",
       "      <td>2021-01-01</td>\n",
       "      <td>COMPULSORIO</td>\n",
       "      <td>PLANO SELF LIGHT</td>\n",
       "      <td>MASCULINO</td>\n",
       "      <td>24</td>\n",
       "      <td>120</td>\n",
       "      <td>RIO VERMELHO</td>\n",
       "      <td>BAHIA</td>\n",
       "      <td>SALVADOR</td>\n",
       "    </tr>\n",
       "    <tr>\n",
       "      <th>18</th>\n",
       "      <td>2021-01-01</td>\n",
       "      <td>COMPULSORIO</td>\n",
       "      <td>PLANO SELF LIGHT SITE</td>\n",
       "      <td>FEMININO</td>\n",
       "      <td>25</td>\n",
       "      <td>148</td>\n",
       "      <td>PITUBA II</td>\n",
       "      <td>BAHIA</td>\n",
       "      <td>SALVADOR</td>\n",
       "    </tr>\n",
       "    <tr>\n",
       "      <th>22</th>\n",
       "      <td>2021-01-01</td>\n",
       "      <td>COMPULSORIO</td>\n",
       "      <td>PLANO SELF LIGHT SITE</td>\n",
       "      <td>FEMININO</td>\n",
       "      <td>33</td>\n",
       "      <td>334</td>\n",
       "      <td>COSTA AZUL</td>\n",
       "      <td>BAHIA</td>\n",
       "      <td>SALVADOR</td>\n",
       "    </tr>\n",
       "    <tr>\n",
       "      <th>25</th>\n",
       "      <td>2021-01-01</td>\n",
       "      <td>COMPULSORIO</td>\n",
       "      <td>PLANO SELF LIGHT SITE</td>\n",
       "      <td>FEMININO</td>\n",
       "      <td>25</td>\n",
       "      <td>108</td>\n",
       "      <td>RIO VERMELHO</td>\n",
       "      <td>BAHIA</td>\n",
       "      <td>SALVADOR</td>\n",
       "    </tr>\n",
       "    <tr>\n",
       "      <th>33</th>\n",
       "      <td>2021-01-01</td>\n",
       "      <td>COMPULSORIO</td>\n",
       "      <td>PLANO SELF PLUS</td>\n",
       "      <td>MASCULINO</td>\n",
       "      <td>36</td>\n",
       "      <td>357</td>\n",
       "      <td>PARALELA</td>\n",
       "      <td>BAHIA</td>\n",
       "      <td>SALVADOR</td>\n",
       "    </tr>\n",
       "  </tbody>\n",
       "</table>\n",
       "</div>"
      ],
      "text/plain": [
       "   datacancelamento tipocancelamento                  plano       sexo  idade  \\\n",
       "0        2021-01-01      COMPULSORIO       PLANO SELF LIGHT  MASCULINO     24   \n",
       "18       2021-01-01      COMPULSORIO  PLANO SELF LIGHT SITE   FEMININO     25   \n",
       "22       2021-01-01      COMPULSORIO  PLANO SELF LIGHT SITE   FEMININO     33   \n",
       "25       2021-01-01      COMPULSORIO  PLANO SELF LIGHT SITE   FEMININO     25   \n",
       "33       2021-01-01      COMPULSORIO        PLANO SELF PLUS  MASCULINO     36   \n",
       "\n",
       "    permanencia       unidade estado    cidade  \n",
       "0           120  RIO VERMELHO  BAHIA  SALVADOR  \n",
       "18          148     PITUBA II  BAHIA  SALVADOR  \n",
       "22          334    COSTA AZUL  BAHIA  SALVADOR  \n",
       "25          108  RIO VERMELHO  BAHIA  SALVADOR  \n",
       "33          357      PARALELA  BAHIA  SALVADOR  "
      ]
     },
     "execution_count": 70,
     "metadata": {},
     "output_type": "execute_result"
    }
   ],
   "source": [
    "df_ba = df[df['estado'] == 'BAHIA']\n",
    "df_ba.head()"
   ]
  },
  {
   "cell_type": "code",
   "execution_count": null,
   "metadata": {},
   "outputs": [
    {
     "data": {
      "text/html": [
       "<div>\n",
       "<style scoped>\n",
       "    .dataframe tbody tr th:only-of-type {\n",
       "        vertical-align: middle;\n",
       "    }\n",
       "\n",
       "    .dataframe tbody tr th {\n",
       "        vertical-align: top;\n",
       "    }\n",
       "\n",
       "    .dataframe thead th {\n",
       "        text-align: right;\n",
       "    }\n",
       "</style>\n",
       "<table border=\"1\" class=\"dataframe\">\n",
       "  <thead>\n",
       "    <tr style=\"text-align: right;\">\n",
       "      <th></th>\n",
       "      <th>datacancelamento</th>\n",
       "      <th>tipocancelamento</th>\n",
       "      <th>plano</th>\n",
       "      <th>sexo</th>\n",
       "      <th>idadecliente</th>\n",
       "      <th>qtdediaspermanencia</th>\n",
       "      <th>nomeunidade</th>\n",
       "      <th>estadounidade</th>\n",
       "      <th>cidadeunidade</th>\n",
       "    </tr>\n",
       "  </thead>\n",
       "  <tbody>\n",
       "    <tr>\n",
       "      <th>0</th>\n",
       "      <td>2021-01-01</td>\n",
       "      <td>COMPULSORIO</td>\n",
       "      <td>PLANO SELF LIGHT</td>\n",
       "      <td>MASCULINO</td>\n",
       "      <td>24</td>\n",
       "      <td>120</td>\n",
       "      <td>RIO VERMELHO</td>\n",
       "      <td>BAHIA</td>\n",
       "      <td>SALVADOR</td>\n",
       "    </tr>\n",
       "    <tr>\n",
       "      <th>3</th>\n",
       "      <td>2021-01-01</td>\n",
       "      <td>COMPULSORIO</td>\n",
       "      <td>PLANO SELF LIGHT</td>\n",
       "      <td>MASCULINO</td>\n",
       "      <td>33</td>\n",
       "      <td>34</td>\n",
       "      <td>TANCREDO NEVES</td>\n",
       "      <td>PERNAMBUCO</td>\n",
       "      <td>PETROLINA</td>\n",
       "    </tr>\n",
       "    <tr>\n",
       "      <th>5</th>\n",
       "      <td>2021-01-01</td>\n",
       "      <td>COMPULSORIO</td>\n",
       "      <td>PLANO SELF LIGHT</td>\n",
       "      <td>MASCULINO</td>\n",
       "      <td>18</td>\n",
       "      <td>353</td>\n",
       "      <td>MAG SHOPPING</td>\n",
       "      <td>PARAÍBA</td>\n",
       "      <td>JOÃO PESSOA</td>\n",
       "    </tr>\n",
       "    <tr>\n",
       "      <th>11</th>\n",
       "      <td>2021-01-01</td>\n",
       "      <td>COMPULSORIO</td>\n",
       "      <td>PLANO SELF LIGHT</td>\n",
       "      <td>MASCULINO</td>\n",
       "      <td>51</td>\n",
       "      <td>275</td>\n",
       "      <td>COLINAS</td>\n",
       "      <td>SÃO PAULO</td>\n",
       "      <td>SÃO JOSÉ DOS CAMPOS</td>\n",
       "    </tr>\n",
       "    <tr>\n",
       "      <th>12</th>\n",
       "      <td>2021-01-01</td>\n",
       "      <td>COMPULSORIO</td>\n",
       "      <td>PLANO SELF LIGHT</td>\n",
       "      <td>MASCULINO</td>\n",
       "      <td>40</td>\n",
       "      <td>279</td>\n",
       "      <td>MANGABEIRA</td>\n",
       "      <td>PARAÍBA</td>\n",
       "      <td>JOÃO PESSOA</td>\n",
       "    </tr>\n",
       "  </tbody>\n",
       "</table>\n",
       "</div>"
      ],
      "text/plain": [
       "   datacancelamento tipocancelamento             plano       sexo  \\\n",
       "0        2021-01-01      COMPULSORIO  PLANO SELF LIGHT  MASCULINO   \n",
       "3        2021-01-01      COMPULSORIO  PLANO SELF LIGHT  MASCULINO   \n",
       "5        2021-01-01      COMPULSORIO  PLANO SELF LIGHT  MASCULINO   \n",
       "11       2021-01-01      COMPULSORIO  PLANO SELF LIGHT  MASCULINO   \n",
       "12       2021-01-01      COMPULSORIO  PLANO SELF LIGHT  MASCULINO   \n",
       "\n",
       "    idadecliente  qtdediaspermanencia     nomeunidade estadounidade  \\\n",
       "0             24                  120    RIO VERMELHO         BAHIA   \n",
       "3             33                   34  TANCREDO NEVES    PERNAMBUCO   \n",
       "5             18                  353    MAG SHOPPING       PARAÍBA   \n",
       "11            51                  275         COLINAS     SÃO PAULO   \n",
       "12            40                  279      MANGABEIRA       PARAÍBA   \n",
       "\n",
       "          cidadeunidade  \n",
       "0              SALVADOR  \n",
       "3             PETROLINA  \n",
       "5           JOÃO PESSOA  \n",
       "11  SÃO JOSÉ DOS CAMPOS  \n",
       "12          JOÃO PESSOA  "
      ]
     },
     "execution_count": 14,
     "metadata": {},
     "output_type": "execute_result"
    }
   ],
   "source": [
    "df_masc = df[df['sexo'] == 'MASCULINO']\n",
    "df_masc.head()"
   ]
  },
  {
   "cell_type": "code",
   "execution_count": null,
   "metadata": {},
   "outputs": [
    {
     "data": {
      "text/html": [
       "<div>\n",
       "<style scoped>\n",
       "    .dataframe tbody tr th:only-of-type {\n",
       "        vertical-align: middle;\n",
       "    }\n",
       "\n",
       "    .dataframe tbody tr th {\n",
       "        vertical-align: top;\n",
       "    }\n",
       "\n",
       "    .dataframe thead th {\n",
       "        text-align: right;\n",
       "    }\n",
       "</style>\n",
       "<table border=\"1\" class=\"dataframe\">\n",
       "  <thead>\n",
       "    <tr style=\"text-align: right;\">\n",
       "      <th></th>\n",
       "      <th>datacancelamento</th>\n",
       "      <th>tipocancelamento</th>\n",
       "      <th>plano</th>\n",
       "      <th>sexo</th>\n",
       "      <th>idadecliente</th>\n",
       "      <th>qtdediaspermanencia</th>\n",
       "      <th>nomeunidade</th>\n",
       "      <th>estadounidade</th>\n",
       "      <th>cidadeunidade</th>\n",
       "    </tr>\n",
       "  </thead>\n",
       "  <tbody>\n",
       "    <tr>\n",
       "      <th>1</th>\n",
       "      <td>2021-01-01</td>\n",
       "      <td>COMPULSORIO</td>\n",
       "      <td>PLANO SELF LIGHT</td>\n",
       "      <td>FEMININO</td>\n",
       "      <td>29</td>\n",
       "      <td>105</td>\n",
       "      <td>PRESIDENTE VARGAS</td>\n",
       "      <td>SÃO PAULO</td>\n",
       "      <td>RIBEIRÃO PRETO</td>\n",
       "    </tr>\n",
       "    <tr>\n",
       "      <th>2</th>\n",
       "      <td>2021-01-01</td>\n",
       "      <td>COMPULSORIO</td>\n",
       "      <td>PLANO SELF LIGHT</td>\n",
       "      <td>FEMININO</td>\n",
       "      <td>29</td>\n",
       "      <td>105</td>\n",
       "      <td>PRESIDENTE VARGAS</td>\n",
       "      <td>SÃO PAULO</td>\n",
       "      <td>RIBEIRÃO PRETO</td>\n",
       "    </tr>\n",
       "    <tr>\n",
       "      <th>4</th>\n",
       "      <td>2021-01-01</td>\n",
       "      <td>COMPULSORIO</td>\n",
       "      <td>PLANO SELF LIGHT</td>\n",
       "      <td>FEMININO</td>\n",
       "      <td>30</td>\n",
       "      <td>333</td>\n",
       "      <td>MARILIA SHOPPING</td>\n",
       "      <td>SÃO PAULO</td>\n",
       "      <td>MARÍLIA</td>\n",
       "    </tr>\n",
       "    <tr>\n",
       "      <th>6</th>\n",
       "      <td>2021-01-01</td>\n",
       "      <td>ESPONTANEO</td>\n",
       "      <td>PLANO SELF LIGHT</td>\n",
       "      <td>FEMININO</td>\n",
       "      <td>22</td>\n",
       "      <td>179</td>\n",
       "      <td>CARAPICUÍBA</td>\n",
       "      <td>SÃO PAULO</td>\n",
       "      <td>CARAPICUÍBA</td>\n",
       "    </tr>\n",
       "    <tr>\n",
       "      <th>7</th>\n",
       "      <td>2021-01-01</td>\n",
       "      <td>COMPULSORIO</td>\n",
       "      <td>PLANO SELF LIGHT</td>\n",
       "      <td>FEMININO</td>\n",
       "      <td>27</td>\n",
       "      <td>142</td>\n",
       "      <td>CARUARU</td>\n",
       "      <td>PERNAMBUCO</td>\n",
       "      <td>CARUARU</td>\n",
       "    </tr>\n",
       "  </tbody>\n",
       "</table>\n",
       "</div>"
      ],
      "text/plain": [
       "  datacancelamento tipocancelamento             plano      sexo  idadecliente  \\\n",
       "1       2021-01-01      COMPULSORIO  PLANO SELF LIGHT  FEMININO            29   \n",
       "2       2021-01-01      COMPULSORIO  PLANO SELF LIGHT  FEMININO            29   \n",
       "4       2021-01-01      COMPULSORIO  PLANO SELF LIGHT  FEMININO            30   \n",
       "6       2021-01-01       ESPONTANEO  PLANO SELF LIGHT  FEMININO            22   \n",
       "7       2021-01-01      COMPULSORIO  PLANO SELF LIGHT  FEMININO            27   \n",
       "\n",
       "   qtdediaspermanencia        nomeunidade estadounidade   cidadeunidade  \n",
       "1                  105  PRESIDENTE VARGAS     SÃO PAULO  RIBEIRÃO PRETO  \n",
       "2                  105  PRESIDENTE VARGAS     SÃO PAULO  RIBEIRÃO PRETO  \n",
       "4                  333   MARILIA SHOPPING     SÃO PAULO         MARÍLIA  \n",
       "6                  179        CARAPICUÍBA     SÃO PAULO     CARAPICUÍBA  \n",
       "7                  142            CARUARU    PERNAMBUCO         CARUARU  "
      ]
     },
     "execution_count": 15,
     "metadata": {},
     "output_type": "execute_result"
    }
   ],
   "source": [
    "df_fem = df[df['sexo'] == 'FEMININO']\n",
    "df_fem.head()"
   ]
  },
  {
   "cell_type": "code",
   "execution_count": null,
   "metadata": {},
   "outputs": [
    {
     "name": "stdout",
     "output_type": "stream",
     "text": [
      "<class 'pandas.core.frame.DataFrame'>\n",
      "RangeIndex: 318269 entries, 0 to 318268\n",
      "Data columns (total 9 columns):\n",
      " #   Column               Non-Null Count   Dtype         \n",
      "---  ------               --------------   -----         \n",
      " 0   datacancelamento     318269 non-null  datetime64[ns]\n",
      " 1   tipocancelamento     318269 non-null  object        \n",
      " 2   plano                318269 non-null  object        \n",
      " 3   sexo                 318269 non-null  object        \n",
      " 4   idadecliente         318269 non-null  int64         \n",
      " 5   qtdediaspermanencia  318269 non-null  int64         \n",
      " 6   nomeunidade          318269 non-null  object        \n",
      " 7   estadounidade        318269 non-null  object        \n",
      " 8   cidadeunidade        318269 non-null  object        \n",
      "dtypes: datetime64[ns](1), int64(2), object(6)\n",
      "memory usage: 21.9+ MB\n"
     ]
    }
   ],
   "source": [
    "df.info()"
   ]
  },
  {
   "cell_type": "markdown",
   "metadata": {},
   "source": [
    "Plotando alguns gráficos interessantes para analisar os dados"
   ]
  },
  {
   "cell_type": "code",
   "execution_count": null,
   "metadata": {},
   "outputs": [
    {
     "data": {
      "text/plain": [
       "(array([143621.,      0.,      0.,      0.,      0., 159408.,      0.,\n",
       "             0.,      0.,  15240.]),\n",
       " array([0. , 0.2, 0.4, 0.6, 0.8, 1. , 1.2, 1.4, 1.6, 1.8, 2. ]),\n",
       " <BarContainer object of 10 artists>)"
      ]
     },
     "execution_count": 17,
     "metadata": {},
     "output_type": "execute_result"
    },
    {
     "data": {
      "image/png": "[encoded data removed]",
      "text/plain": [
       "<Figure size 432x288 with 1 Axes>"
      ]
     },
     "metadata": {
      "needs_background": "light"
     },
     "output_type": "display_data"
    }
   ],
   "source": [
    "plt.hist(df['sexo'])"
   ]
  },
  {
   "cell_type": "markdown",
   "metadata": {},
   "source": [
    "O sexo não é relevante para o estudo, pois obtivemos valores muito próximos nos casos. Apenas sexo \"não informado contem pouco cancelamento, porém, isso já é esperado pela forma de cadastro dos clientes. A quantidade de pessoas que não informa o sexo para o cadastro é bem menor."
   ]
  },
  {
   "cell_type": "markdown",
   "metadata": {},
   "source": [
    "Análise de correlação entre idade e permanencia não foi relevante."
   ]
  },
  {
   "cell_type": "code",
   "execution_count": 17,
   "metadata": {},
   "outputs": [
    {
     "data": {
      "image/png": "[encoded data removed]",
      "text/plain": [
       "<Figure size 432x288 with 2 Axes>"
      ]
     },
     "metadata": {
      "needs_background": "light"
     },
     "output_type": "display_data"
    }
   ],
   "source": [
    "df.corr()\n",
    "#plotando heatmap de correlação\n",
    "dataplot = sns.heatmap(df.corr(), cmap = \"YlGnBu\", annot= True)\n",
    "plt.show()"
   ]
  },
  {
   "cell_type": "code",
   "execution_count": 44,
   "metadata": {},
   "outputs": [
    {
     "data": {
      "text/plain": [
       "BAHIA                  62769\n",
       "SÃO PAULO              56818\n",
       "CEARÁ                  29910\n",
       "PERNAMBUCO             28039\n",
       "PARÁ                   23164\n",
       "PARAÍBA                19959\n",
       "MARANHÃO               17714\n",
       "ALAGOAS                14899\n",
       "PIAUÍ                  14760\n",
       "RIO GRANDE DO NORTE    13652\n",
       "RIO DE JANEIRO         10845\n",
       "MATO GROSSO             9629\n",
       "AMAZONAS                7457\n",
       "SERGIPE                 4735\n",
       "MINAS GERAIS            3919\n",
       "Name: estado, dtype: int64"
      ]
     },
     "execution_count": 44,
     "metadata": {},
     "output_type": "execute_result"
    }
   ],
   "source": [
    "df['estado'].value_counts()"
   ]
  },
  {
   "cell_type": "code",
   "execution_count": 32,
   "metadata": {},
   "outputs": [
    {
     "data": {
      "text/plain": [
       "<AxesSubplot:>"
      ]
     },
     "execution_count": 32,
     "metadata": {},
     "output_type": "execute_result"
    },
    {
     "data": {
      "image/png": "[encoded data removed]",
      "text/plain": [
       "<Figure size 432x288 with 1 Axes>"
      ]
     },
     "metadata": {
      "needs_background": "light"
     },
     "output_type": "display_data"
    }
   ],
   "source": [
    "df['estado'].value_counts().plot(kind = 'bar')"
   ]
  },
  {
   "cell_type": "markdown",
   "metadata": {},
   "source": [
    "Alguns estados tiveram altos números de cancelamento, mas alguns deles contém poucas unidades em comparação a outros... Isso pode ocorrer conforme o fechamento de algumas unidades, em que todos os clientes estarão na situação de cancelado.\n"
   ]
  },
  {
   "cell_type": "markdown",
   "metadata": {},
   "source": [
    "Pegando os estados que obtiveram maior número de cancelamentos e analisando as cidades, temos:"
   ]
  },
  {
   "cell_type": "code",
   "execution_count": 71,
   "metadata": {},
   "outputs": [
    {
     "data": {
      "text/plain": [
       "<AxesSubplot:>"
      ]
     },
     "execution_count": 71,
     "metadata": {},
     "output_type": "execute_result"
    },
    {
     "data": {
      "image/png": "[encoded data removed]",
      "text/plain": [
       "<Figure size 432x288 with 1 Axes>"
      ]
     },
     "metadata": {
      "needs_background": "light"
     },
     "output_type": "display_data"
    }
   ],
   "source": [
    "df_ba['cidade'].value_counts().plot(kind= 'bar')"
   ]
  },
  {
   "cell_type": "markdown",
   "metadata": {},
   "source": [
    "Predominância da cidade de Salvador sobre as demais era esperado, visto que a cidade tem maior pupulação, consequentemente mais concorrência e etc."
   ]
  },
  {
   "cell_type": "code",
   "execution_count": 66,
   "metadata": {},
   "outputs": [
    {
     "data": {
      "text/plain": [
       "<AxesSubplot:>"
      ]
     },
     "execution_count": 66,
     "metadata": {},
     "output_type": "execute_result"
    },
    {
     "data": {
      "image/png": "[encoded data removed]",
      "text/plain": [
       "<Figure size 432x288 with 1 Axes>"
      ]
     },
     "metadata": {
      "needs_background": "light"
     },
     "output_type": "display_data"
    }
   ],
   "source": [
    "df_sp['cidade'].value_counts().plot(kind= 'bar')"
   ]
  },
  {
   "cell_type": "markdown",
   "metadata": {},
   "source": [
    "No caso de SP, podemos analisar que SJC teve o maior indice de cancelamento, enquanto São Paulo que tem maior população, ficou em quarto. Isso pode ter acontecido pelo fechamento da unidade de SJC"
   ]
  },
  {
   "cell_type": "markdown",
   "metadata": {},
   "source": [
    "Analisando a porcentagem dos tipos de Cancelamento."
   ]
  },
  {
   "cell_type": "code",
   "execution_count": null,
   "metadata": {},
   "outputs": [],
   "source": []
  },
  {
   "cell_type": "code",
   "execution_count": null,
   "metadata": {},
   "outputs": [
    {
     "data": {
      "text/plain": [
       "array([<AxesSubplot:ylabel='tipocancelamento'>], dtype=object)"
      ]
     },
     "execution_count": 21,
     "metadata": {},
     "output_type": "execute_result"
    },
    {
     "data": {
      "image/png": "[encoded data removed]",
      "text/plain": [
       "<Figure size 432x288 with 1 Axes>"
      ]
     },
     "metadata": {},
     "output_type": "display_data"
    }
   ],
   "source": [
    "df['tipocancelamento'].value_counts().plot(kind = 'pie', subplots = True, autopct='%1.0f%%')"
   ]
  },
  {
   "cell_type": "markdown",
   "metadata": {},
   "source": [
    "Analisando a influência da idade nos cancelamentos."
   ]
  },
  {
   "cell_type": "code",
   "execution_count": null,
   "metadata": {},
   "outputs": [],
   "source": [
    "df.drop(df[df['idadecliente'] > 99].index, inplace = True)"
   ]
  },
  {
   "cell_type": "code",
   "execution_count": null,
   "metadata": {},
   "outputs": [],
   "source": [
    "df.drop(df[df['idadecliente'] < 8].index, inplace = True)\n"
   ]
  },
  {
   "cell_type": "code",
   "execution_count": 69,
   "metadata": {},
   "outputs": [
    {
     "name": "stderr",
     "output_type": "stream",
     "text": [
      "/home/heitor/.local/lib/python3.8/site-packages/seaborn/distributions.py:2619: FutureWarning: `distplot` is a deprecated function and will be removed in a future version. Please adapt your code to use either `displot` (a figure-level function with similar flexibility) or `histplot` (an axes-level function for histograms).\n",
      "  warnings.warn(msg, FutureWarning)\n"
     ]
    },
    {
     "data": {
      "text/plain": [
       "(0.0, 100.0)"
      ]
     },
     "execution_count": 69,
     "metadata": {},
     "output_type": "execute_result"
    },
    {
     "data": {
      "image/png": "[encoded data removed]",
      "text/plain": [
       "<Figure size 432x288 with 1 Axes>"
      ]
     },
     "metadata": {
      "needs_background": "light"
     },
     "output_type": "display_data"
    }
   ],
   "source": [
    "sns.distplot(df['idade'],\n",
    "            color ='g',\n",
    "            bins = 1000,\n",
    "            hist_kws={'alpha':0.4}\n",
    "            )\n",
    "plt.xlim(0,100)"
   ]
  },
  {
   "cell_type": "code",
   "execution_count": null,
   "metadata": {},
   "outputs": [
    {
     "data": {
      "text/plain": [
       "array([<AxesSubplot:title={'center':'idadecliente'}>], dtype=object)"
      ]
     },
     "execution_count": 25,
     "metadata": {},
     "output_type": "execute_result"
    },
    {
     "data": {
      "image/png": "[encoded data removed]",
      "text/plain": [
       "<Figure size 1440x576 with 1 Axes>"
      ]
     },
     "metadata": {
      "needs_background": "light"
     },
     "output_type": "display_data"
    }
   ],
   "source": [
    "df['idadecliente'].value_counts().sort_index().plot(kind = 'bar', figsize = (20,8), subplots = True)"
   ]
  },
  {
   "cell_type": "code",
   "execution_count": null,
   "metadata": {},
   "outputs": [
    {
     "data": {
      "text/plain": [
       "(0.0, 100.0)"
      ]
     },
     "execution_count": 26,
     "metadata": {},
     "output_type": "execute_result"
    },
    {
     "data": {
      "image/png": "[encoded data removed]",
      "text/plain": [
       "<Figure size 1440x432 with 1 Axes>"
      ]
     },
     "metadata": {
      "needs_background": "light"
     },
     "output_type": "display_data"
    }
   ],
   "source": [
    "plt.figure(figsize=(20,6))\n",
    "#plotando com pandas..\n",
    "ax = df['idadecliente'].plot(kind = 'kde', subplots = False)\n",
    "plt.title(\"Densidade de Idades dos Clientes\")\n",
    "ax.set_xlim(0,100)\n"
   ]
  },
  {
   "cell_type": "code",
   "execution_count": null,
   "metadata": {},
   "outputs": [
    {
     "data": {
      "text/plain": [
       "<seaborn.axisgrid.FacetGrid at 0x7fa0821294c0>"
      ]
     },
     "execution_count": 27,
     "metadata": {},
     "output_type": "execute_result"
    },
    {
     "data": {
      "image/png": "[encoded data removed]",
      "text/plain": [
       "<Figure size 360x360 with 1 Axes>"
      ]
     },
     "metadata": {
      "needs_background": "light"
     },
     "output_type": "display_data"
    }
   ],
   "source": [
    "#fazendo uma anlálise pelo sexo dos clientes, não vemos muita diferença no geral..\n",
    "sns.FacetGrid(df, hue=\"sexo\", height=5).map(sns.kdeplot, \"idadecliente\")\n"
   ]
  },
  {
   "cell_type": "code",
   "execution_count": null,
   "metadata": {},
   "outputs": [
    {
     "data": {
      "image/png": "[encoded data removed]",
      "text/plain": [
       "<Figure size 469.625x360 with 1 Axes>"
      ]
     },
     "metadata": {
      "needs_background": "light"
     },
     "output_type": "display_data"
    }
   ],
   "source": [
    "sns.FacetGrid(df, hue=\"tipocancelamento\", height=5).map(sns.kdeplot, \"idadecliente\").add_legend()\n",
    "plt.show()"
   ]
  },
  {
   "cell_type": "markdown",
   "metadata": {},
   "source": [
    "Analisando a influência da data no número de canc."
   ]
  },
  {
   "cell_type": "code",
   "execution_count": null,
   "metadata": {},
   "outputs": [],
   "source": [
    "# cria uma coluna chamada 'mes' e coloca o mês da tabela naquela coluna kkk\n",
    "df['mes'] = df['datacancelamento'].dt.month"
   ]
  },
  {
   "cell_type": "code",
   "execution_count": null,
   "metadata": {},
   "outputs": [
    {
     "data": {
      "text/plain": [
       "4     46068\n",
       "5     39059\n",
       "6     37949\n",
       "7     30049\n",
       "3     28147\n",
       "2     27847\n",
       "1     27567\n",
       "8     20816\n",
       "9     18646\n",
       "10    16542\n",
       "11    14245\n",
       "12    11066\n",
       "Name: mes, dtype: int64"
      ]
     },
     "execution_count": 32,
     "metadata": {},
     "output_type": "execute_result"
    }
   ],
   "source": [
    "df.mes.value_counts()"
   ]
  },
  {
   "cell_type": "code",
   "execution_count": null,
   "metadata": {},
   "outputs": [
    {
     "data": {
      "text/plain": [
       "Text(0.5, 1.0, 'Quantidades de Cancelamento por Meses do ano de 2021')"
      ]
     },
     "execution_count": 33,
     "metadata": {},
     "output_type": "execute_result"
    },
    {
     "data": {
      "image/png": "[encoded data removed]",
      "text/plain": [
       "<Figure size 720x576 with 1 Axes>"
      ]
     },
     "metadata": {
      "needs_background": "light"
     },
     "output_type": "display_data"
    }
   ],
   "source": [
    "#plotando com Seaborn\n",
    "plt.figure(figsize= (10,8))\n",
    "#para o cancelamento espontâneo\n",
    "sns.histplot(df.loc[df['tipocancelamento'] == 'ESPONTANEO']['mes'],\n",
    "             binwidth = 0.1,\n",
    "             color='red',\n",
    "            )\n",
    "            \n",
    "#para o compulsório\n",
    "sns.histplot(df.loc[df['tipocancelamento'] == 'COMPULSORIO']['mes'],\n",
    "             binwidth = 0.1,\n",
    "             color='white')\n",
    "\n",
    "\n",
    "plt.legend(labels = ['Espontaneo','Compulsorio'])\n",
    "# Set label for x-axis\n",
    "plt.xlabel( \"Meses do Ano\" , size=12)\n",
    "# Set label for y-axis\n",
    "plt.ylabel( \"Quantidade de Cancelamentos\" , size=12)\n",
    "# Set title for figure\n",
    "plt.title( \"Quantidades de Cancelamento por Meses do ano de 2021\" , size=10)\n",
    "#colocando o limite do eixo x\n",
    "#plt.xlim(0.1,14)\n",
    "\n",
    "#plt.xticks(rotation=45,horizontalalignment='right',fontweight='light')"
   ]
  },
  {
   "cell_type": "code",
   "execution_count": null,
   "metadata": {},
   "outputs": [
    {
     "data": {
      "image/png": "[encoded data removed]",
      "text/plain": [
       "<Figure size 432x288 with 1 Axes>"
      ]
     },
     "metadata": {
      "needs_background": "light"
     },
     "output_type": "display_data"
    }
   ],
   "source": [
    "sns.countplot(x = 'mes', hue = 'tipocancelamento', data= df, dodge = False)\n",
    "sns.set_palette(\"tab10\")"
   ]
  },
  {
   "cell_type": "markdown",
   "metadata": {},
   "source": [
    "Os meses de maior cancelamento ocorrearam entre Abril e Junho, quando em 2021 foi aderido novamente o lockdown no Brasil."
   ]
  },
  {
   "cell_type": "code",
   "execution_count": null,
   "metadata": {},
   "outputs": [
    {
     "data": {
      "text/plain": [
       "BAHIA                  62724\n",
       "SÃO PAULO              56780\n",
       "CEARÁ                  29888\n",
       "PERNAMBUCO             28013\n",
       "PARÁ                   23146\n",
       "PARAÍBA                19956\n",
       "MARANHÃO               17681\n",
       "ALAGOAS                14893\n",
       "PIAUÍ                  14753\n",
       "RIO GRANDE DO NORTE    13650\n",
       "RIO DE JANEIRO         10838\n",
       "MATO GROSSO             9581\n",
       "AMAZONAS                7453\n",
       "SERGIPE                 4729\n",
       "MINAS GERAIS            3916\n",
       "Name: estadounidade, dtype: int64"
      ]
     },
     "execution_count": 35,
     "metadata": {},
     "output_type": "execute_result"
    }
   ],
   "source": [
    "df['estadounidade'].value_counts()"
   ]
  },
  {
   "cell_type": "code",
   "execution_count": null,
   "metadata": {},
   "outputs": [
    {
     "data": {
      "text/plain": [
       "<AxesSubplot:xlabel='mes', ylabel='count'>"
      ]
     },
     "execution_count": 36,
     "metadata": {},
     "output_type": "execute_result"
    },
    {
     "data": {
      "image/png": "[encoded data removed]",
      "text/plain": [
       "<Figure size 1440x576 with 1 Axes>"
      ]
     },
     "metadata": {
      "needs_background": "light"
     },
     "output_type": "display_data"
    }
   ],
   "source": [
    "#f, axes = plt.subplots(1,15)\n",
    "plt.figure(figsize=(20,8))\n",
    "sns.countplot(x = 'mes', hue = 'estadounidade', data= df, dodge = False)\n"
   ]
  },
  {
   "cell_type": "markdown",
   "metadata": {},
   "source": [
    "Analisando os comportamento dos estados em relação aos meses para ver se ocorre alguma predominância de cancelamento em climas frios, regiões, etc."
   ]
  },
  {
   "cell_type": "code",
   "execution_count": null,
   "metadata": {},
   "outputs": [
    {
     "data": {
      "image/png": "[encoded data removed]",
      "text/plain": [
       "<Figure size 3240x216 with 15 Axes>"
      ]
     },
     "metadata": {
      "needs_background": "light"
     },
     "output_type": "display_data"
    }
   ],
   "source": [
    "\n",
    "grid = sns.FacetGrid(df, col = \"estadounidade\")"
   ]
  },
  {
   "cell_type": "code",
   "execution_count": null,
   "metadata": {},
   "outputs": [
    {
     "name": "stderr",
     "output_type": "stream",
     "text": [
      "/home/heitor/.local/lib/python3.8/site-packages/seaborn/axisgrid.py:670: UserWarning: Using the countplot function without specifying `order` is likely to produce an incorrect plot.\n",
      "  warnings.warn(warning)\n"
     ]
    },
    {
     "data": {
      "image/png": "[encoded data removed]",
      "text/plain": [
       "<Figure size 3240x216 with 15 Axes>"
      ]
     },
     "metadata": {
      "needs_background": "light"
     },
     "output_type": "display_data"
    }
   ],
   "source": [
    "grid = sns.FacetGrid(df, col = \"estadounidade\")\n",
    "grid = grid.map(sns.countplot, \"mes\")\n"
   ]
  },
  {
   "cell_type": "code",
   "execution_count": null,
   "metadata": {},
   "outputs": [],
   "source": [
    "grid = sns.FacetGrid(df, col = \"estadounidade\", row = 'nomeunidade')\n",
    "grid = grid.map(sns.scatterplot, \"mes\")"
   ]
  },
  {
   "cell_type": "code",
   "execution_count": null,
   "metadata": {},
   "outputs": [
    {
     "data": {
      "text/html": [
       "<div>\n",
       "<style scoped>\n",
       "    .dataframe tbody tr th:only-of-type {\n",
       "        vertical-align: middle;\n",
       "    }\n",
       "\n",
       "    .dataframe tbody tr th {\n",
       "        vertical-align: top;\n",
       "    }\n",
       "\n",
       "    .dataframe thead th {\n",
       "        text-align: right;\n",
       "    }\n",
       "</style>\n",
       "<table border=\"1\" class=\"dataframe\">\n",
       "  <thead>\n",
       "    <tr style=\"text-align: right;\">\n",
       "      <th></th>\n",
       "      <th>datacancelamento</th>\n",
       "      <th>tipocancelamento</th>\n",
       "      <th>plano</th>\n",
       "      <th>sexo</th>\n",
       "      <th>idadecliente</th>\n",
       "      <th>qtdediaspermanencia</th>\n",
       "      <th>nomeunidade</th>\n",
       "      <th>estadounidade</th>\n",
       "      <th>cidadeunidade</th>\n",
       "      <th>mes</th>\n",
       "    </tr>\n",
       "  </thead>\n",
       "  <tbody>\n",
       "    <tr>\n",
       "      <th>0</th>\n",
       "      <td>2021-01-01</td>\n",
       "      <td>COMPULSORIO</td>\n",
       "      <td>PLANO SELF LIGHT</td>\n",
       "      <td>MASCULINO</td>\n",
       "      <td>24</td>\n",
       "      <td>120</td>\n",
       "      <td>RIO VERMELHO</td>\n",
       "      <td>BAHIA</td>\n",
       "      <td>SALVADOR</td>\n",
       "      <td>1</td>\n",
       "    </tr>\n",
       "    <tr>\n",
       "      <th>1</th>\n",
       "      <td>2021-01-01</td>\n",
       "      <td>COMPULSORIO</td>\n",
       "      <td>PLANO SELF LIGHT</td>\n",
       "      <td>FEMININO</td>\n",
       "      <td>29</td>\n",
       "      <td>105</td>\n",
       "      <td>PRESIDENTE VARGAS</td>\n",
       "      <td>SÃO PAULO</td>\n",
       "      <td>RIBEIRÃO PRETO</td>\n",
       "      <td>1</td>\n",
       "    </tr>\n",
       "    <tr>\n",
       "      <th>2</th>\n",
       "      <td>2021-01-01</td>\n",
       "      <td>COMPULSORIO</td>\n",
       "      <td>PLANO SELF LIGHT</td>\n",
       "      <td>FEMININO</td>\n",
       "      <td>29</td>\n",
       "      <td>105</td>\n",
       "      <td>PRESIDENTE VARGAS</td>\n",
       "      <td>SÃO PAULO</td>\n",
       "      <td>RIBEIRÃO PRETO</td>\n",
       "      <td>1</td>\n",
       "    </tr>\n",
       "    <tr>\n",
       "      <th>3</th>\n",
       "      <td>2021-01-01</td>\n",
       "      <td>COMPULSORIO</td>\n",
       "      <td>PLANO SELF LIGHT</td>\n",
       "      <td>MASCULINO</td>\n",
       "      <td>33</td>\n",
       "      <td>34</td>\n",
       "      <td>TANCREDO NEVES</td>\n",
       "      <td>PERNAMBUCO</td>\n",
       "      <td>PETROLINA</td>\n",
       "      <td>1</td>\n",
       "    </tr>\n",
       "    <tr>\n",
       "      <th>4</th>\n",
       "      <td>2021-01-01</td>\n",
       "      <td>COMPULSORIO</td>\n",
       "      <td>PLANO SELF LIGHT</td>\n",
       "      <td>FEMININO</td>\n",
       "      <td>30</td>\n",
       "      <td>333</td>\n",
       "      <td>MARILIA SHOPPING</td>\n",
       "      <td>SÃO PAULO</td>\n",
       "      <td>MARÍLIA</td>\n",
       "      <td>1</td>\n",
       "    </tr>\n",
       "  </tbody>\n",
       "</table>\n",
       "</div>"
      ],
      "text/plain": [
       "  datacancelamento tipocancelamento             plano       sexo  \\\n",
       "0       2021-01-01      COMPULSORIO  PLANO SELF LIGHT  MASCULINO   \n",
       "1       2021-01-01      COMPULSORIO  PLANO SELF LIGHT   FEMININO   \n",
       "2       2021-01-01      COMPULSORIO  PLANO SELF LIGHT   FEMININO   \n",
       "3       2021-01-01      COMPULSORIO  PLANO SELF LIGHT  MASCULINO   \n",
       "4       2021-01-01      COMPULSORIO  PLANO SELF LIGHT   FEMININO   \n",
       "\n",
       "   idadecliente  qtdediaspermanencia        nomeunidade estadounidade  \\\n",
       "0            24                  120       RIO VERMELHO         BAHIA   \n",
       "1            29                  105  PRESIDENTE VARGAS     SÃO PAULO   \n",
       "2            29                  105  PRESIDENTE VARGAS     SÃO PAULO   \n",
       "3            33                   34     TANCREDO NEVES    PERNAMBUCO   \n",
       "4            30                  333   MARILIA SHOPPING     SÃO PAULO   \n",
       "\n",
       "    cidadeunidade  mes  \n",
       "0        SALVADOR    1  \n",
       "1  RIBEIRÃO PRETO    1  \n",
       "2  RIBEIRÃO PRETO    1  \n",
       "3       PETROLINA    1  \n",
       "4         MARÍLIA    1  "
      ]
     },
     "execution_count": 38,
     "metadata": {},
     "output_type": "execute_result"
    }
   ],
   "source": [
    "df.head()"
   ]
  },
  {
   "cell_type": "code",
   "execution_count": null,
   "metadata": {},
   "outputs": [
    {
     "data": {
      "text/html": [
       "<div>\n",
       "<style scoped>\n",
       "    .dataframe tbody tr th:only-of-type {\n",
       "        vertical-align: middle;\n",
       "    }\n",
       "\n",
       "    .dataframe tbody tr th {\n",
       "        vertical-align: top;\n",
       "    }\n",
       "\n",
       "    .dataframe thead th {\n",
       "        text-align: right;\n",
       "    }\n",
       "</style>\n",
       "<table border=\"1\" class=\"dataframe\">\n",
       "  <thead>\n",
       "    <tr style=\"text-align: right;\">\n",
       "      <th></th>\n",
       "      <th>datacancelamento</th>\n",
       "      <th>tipocancelamento</th>\n",
       "      <th>plano</th>\n",
       "      <th>sexo</th>\n",
       "      <th>idadecliente</th>\n",
       "      <th>qtdediaspermanencia</th>\n",
       "      <th>nomeunidade</th>\n",
       "      <th>cidadeunidade</th>\n",
       "      <th>mes</th>\n",
       "    </tr>\n",
       "    <tr>\n",
       "      <th>estadounidade</th>\n",
       "      <th></th>\n",
       "      <th></th>\n",
       "      <th></th>\n",
       "      <th></th>\n",
       "      <th></th>\n",
       "      <th></th>\n",
       "      <th></th>\n",
       "      <th></th>\n",
       "      <th></th>\n",
       "    </tr>\n",
       "  </thead>\n",
       "  <tbody>\n",
       "    <tr>\n",
       "      <th>ALAGOAS</th>\n",
       "      <td>2021-01-01</td>\n",
       "      <td>COMPULSORIO</td>\n",
       "      <td>PLANO SELF PLUS</td>\n",
       "      <td>FEMININO</td>\n",
       "      <td>25</td>\n",
       "      <td>321</td>\n",
       "      <td>MANGABEIRAS</td>\n",
       "      <td>MACEIÓ</td>\n",
       "      <td>1</td>\n",
       "    </tr>\n",
       "    <tr>\n",
       "      <th>AMAZONAS</th>\n",
       "      <td>2021-01-02</td>\n",
       "      <td>COMPULSORIO</td>\n",
       "      <td>PLANO SELF LIGHT</td>\n",
       "      <td>MASCULINO</td>\n",
       "      <td>28</td>\n",
       "      <td>60</td>\n",
       "      <td>N.SRA DAS GRAÇAS</td>\n",
       "      <td>MANAUS</td>\n",
       "      <td>1</td>\n",
       "    </tr>\n",
       "    <tr>\n",
       "      <th>BAHIA</th>\n",
       "      <td>2021-01-01</td>\n",
       "      <td>COMPULSORIO</td>\n",
       "      <td>PLANO SELF LIGHT</td>\n",
       "      <td>MASCULINO</td>\n",
       "      <td>24</td>\n",
       "      <td>120</td>\n",
       "      <td>RIO VERMELHO</td>\n",
       "      <td>SALVADOR</td>\n",
       "      <td>1</td>\n",
       "    </tr>\n",
       "    <tr>\n",
       "      <th>CEARÁ</th>\n",
       "      <td>2021-01-01</td>\n",
       "      <td>COMPULSORIO</td>\n",
       "      <td>PLANO SELF LIGHT SITE</td>\n",
       "      <td>FEMININO</td>\n",
       "      <td>22</td>\n",
       "      <td>354</td>\n",
       "      <td>SHOPPING PARANGABA</td>\n",
       "      <td>FORTALEZA</td>\n",
       "      <td>1</td>\n",
       "    </tr>\n",
       "    <tr>\n",
       "      <th>MARANHÃO</th>\n",
       "      <td>2021-01-01</td>\n",
       "      <td>COMPULSORIO</td>\n",
       "      <td>PLANO SELF PLUS</td>\n",
       "      <td>FEMININO</td>\n",
       "      <td>36</td>\n",
       "      <td>332</td>\n",
       "      <td>BOULEVARD TROPICAL</td>\n",
       "      <td>SÃO LUÍS</td>\n",
       "      <td>1</td>\n",
       "    </tr>\n",
       "    <tr>\n",
       "      <th>MATO GROSSO</th>\n",
       "      <td>2021-01-01</td>\n",
       "      <td>COMPULSORIO</td>\n",
       "      <td>PLANO SELF LIGHT SITE</td>\n",
       "      <td>MASCULINO</td>\n",
       "      <td>32</td>\n",
       "      <td>94</td>\n",
       "      <td>ESTAÇÃO CUIABÁ</td>\n",
       "      <td>CUIABÁ</td>\n",
       "      <td>1</td>\n",
       "    </tr>\n",
       "    <tr>\n",
       "      <th>MINAS GERAIS</th>\n",
       "      <td>2021-01-01</td>\n",
       "      <td>ESPONTANEO</td>\n",
       "      <td>PLANO SELF LIGHT</td>\n",
       "      <td>FEMININO</td>\n",
       "      <td>19</td>\n",
       "      <td>306</td>\n",
       "      <td>CIDADE JARDIM</td>\n",
       "      <td>BELO HORIZONTE</td>\n",
       "      <td>1</td>\n",
       "    </tr>\n",
       "    <tr>\n",
       "      <th>PARAÍBA</th>\n",
       "      <td>2021-01-01</td>\n",
       "      <td>COMPULSORIO</td>\n",
       "      <td>PLANO SELF LIGHT</td>\n",
       "      <td>MASCULINO</td>\n",
       "      <td>18</td>\n",
       "      <td>353</td>\n",
       "      <td>MAG SHOPPING</td>\n",
       "      <td>JOÃO PESSOA</td>\n",
       "      <td>1</td>\n",
       "    </tr>\n",
       "    <tr>\n",
       "      <th>PARÁ</th>\n",
       "      <td>2021-01-01</td>\n",
       "      <td>COMPULSORIO</td>\n",
       "      <td>PLANO SELF LIGHT SITE</td>\n",
       "      <td>FEMININO</td>\n",
       "      <td>54</td>\n",
       "      <td>78</td>\n",
       "      <td>MENDONÇA FURTADO</td>\n",
       "      <td>SANTARÉM</td>\n",
       "      <td>1</td>\n",
       "    </tr>\n",
       "    <tr>\n",
       "      <th>PERNAMBUCO</th>\n",
       "      <td>2021-01-01</td>\n",
       "      <td>COMPULSORIO</td>\n",
       "      <td>PLANO SELF LIGHT</td>\n",
       "      <td>MASCULINO</td>\n",
       "      <td>33</td>\n",
       "      <td>34</td>\n",
       "      <td>TANCREDO NEVES</td>\n",
       "      <td>PETROLINA</td>\n",
       "      <td>1</td>\n",
       "    </tr>\n",
       "    <tr>\n",
       "      <th>PIAUÍ</th>\n",
       "      <td>2021-01-01</td>\n",
       "      <td>ESPONTANEO</td>\n",
       "      <td>PLANO SELF LIGHT SITE</td>\n",
       "      <td>MASCULINO</td>\n",
       "      <td>50</td>\n",
       "      <td>352</td>\n",
       "      <td>RIVERSIDE</td>\n",
       "      <td>TERESINA</td>\n",
       "      <td>1</td>\n",
       "    </tr>\n",
       "    <tr>\n",
       "      <th>RIO DE JANEIRO</th>\n",
       "      <td>2021-01-01</td>\n",
       "      <td>COMPULSORIO</td>\n",
       "      <td>PLANO SELF LIGHT SITE</td>\n",
       "      <td>NAO INFORMADO</td>\n",
       "      <td>24</td>\n",
       "      <td>370</td>\n",
       "      <td>OLARIA</td>\n",
       "      <td>RIO DE JANEIRO</td>\n",
       "      <td>1</td>\n",
       "    </tr>\n",
       "    <tr>\n",
       "      <th>RIO GRANDE DO NORTE</th>\n",
       "      <td>2021-01-02</td>\n",
       "      <td>ESPONTANEO</td>\n",
       "      <td>PLANO SELF LIGHT</td>\n",
       "      <td>MASCULINO</td>\n",
       "      <td>25</td>\n",
       "      <td>24</td>\n",
       "      <td>LAGOA NOVA</td>\n",
       "      <td>NATAL</td>\n",
       "      <td>1</td>\n",
       "    </tr>\n",
       "    <tr>\n",
       "      <th>SERGIPE</th>\n",
       "      <td>2021-01-02</td>\n",
       "      <td>COMPULSORIO</td>\n",
       "      <td>PLANO SELF LIGHT SITE</td>\n",
       "      <td>MASCULINO</td>\n",
       "      <td>34</td>\n",
       "      <td>320</td>\n",
       "      <td>JARDINS</td>\n",
       "      <td>ARACAJU</td>\n",
       "      <td>1</td>\n",
       "    </tr>\n",
       "    <tr>\n",
       "      <th>SÃO PAULO</th>\n",
       "      <td>2021-01-01</td>\n",
       "      <td>COMPULSORIO</td>\n",
       "      <td>PLANO SELF LIGHT</td>\n",
       "      <td>FEMININO</td>\n",
       "      <td>29</td>\n",
       "      <td>105</td>\n",
       "      <td>PRESIDENTE VARGAS</td>\n",
       "      <td>RIBEIRÃO PRETO</td>\n",
       "      <td>1</td>\n",
       "    </tr>\n",
       "  </tbody>\n",
       "</table>\n",
       "</div>"
      ],
      "text/plain": [
       "                    datacancelamento tipocancelamento                  plano  \\\n",
       "estadounidade                                                                  \n",
       "ALAGOAS                   2021-01-01      COMPULSORIO        PLANO SELF PLUS   \n",
       "AMAZONAS                  2021-01-02      COMPULSORIO       PLANO SELF LIGHT   \n",
       "BAHIA                     2021-01-01      COMPULSORIO       PLANO SELF LIGHT   \n",
       "CEARÁ                     2021-01-01      COMPULSORIO  PLANO SELF LIGHT SITE   \n",
       "MARANHÃO                  2021-01-01      COMPULSORIO        PLANO SELF PLUS   \n",
       "MATO GROSSO               2021-01-01      COMPULSORIO  PLANO SELF LIGHT SITE   \n",
       "MINAS GERAIS              2021-01-01       ESPONTANEO       PLANO SELF LIGHT   \n",
       "PARAÍBA                   2021-01-01      COMPULSORIO       PLANO SELF LIGHT   \n",
       "PARÁ                      2021-01-01      COMPULSORIO  PLANO SELF LIGHT SITE   \n",
       "PERNAMBUCO                2021-01-01      COMPULSORIO       PLANO SELF LIGHT   \n",
       "PIAUÍ                     2021-01-01       ESPONTANEO  PLANO SELF LIGHT SITE   \n",
       "RIO DE JANEIRO            2021-01-01      COMPULSORIO  PLANO SELF LIGHT SITE   \n",
       "RIO GRANDE DO NORTE       2021-01-02       ESPONTANEO       PLANO SELF LIGHT   \n",
       "SERGIPE                   2021-01-02      COMPULSORIO  PLANO SELF LIGHT SITE   \n",
       "SÃO PAULO                 2021-01-01      COMPULSORIO       PLANO SELF LIGHT   \n",
       "\n",
       "                              sexo  idadecliente  qtdediaspermanencia  \\\n",
       "estadounidade                                                           \n",
       "ALAGOAS                   FEMININO            25                  321   \n",
       "AMAZONAS                 MASCULINO            28                   60   \n",
       "BAHIA                    MASCULINO            24                  120   \n",
       "CEARÁ                     FEMININO            22                  354   \n",
       "MARANHÃO                  FEMININO            36                  332   \n",
       "MATO GROSSO              MASCULINO            32                   94   \n",
       "MINAS GERAIS              FEMININO            19                  306   \n",
       "PARAÍBA                  MASCULINO            18                  353   \n",
       "PARÁ                      FEMININO            54                   78   \n",
       "PERNAMBUCO               MASCULINO            33                   34   \n",
       "PIAUÍ                    MASCULINO            50                  352   \n",
       "RIO DE JANEIRO       NAO INFORMADO            24                  370   \n",
       "RIO GRANDE DO NORTE      MASCULINO            25                   24   \n",
       "SERGIPE                  MASCULINO            34                  320   \n",
       "SÃO PAULO                 FEMININO            29                  105   \n",
       "\n",
       "                            nomeunidade    cidadeunidade  mes  \n",
       "estadounidade                                                  \n",
       "ALAGOAS                     MANGABEIRAS           MACEIÓ    1  \n",
       "AMAZONAS               N.SRA DAS GRAÇAS           MANAUS    1  \n",
       "BAHIA                      RIO VERMELHO         SALVADOR    1  \n",
       "CEARÁ                SHOPPING PARANGABA        FORTALEZA    1  \n",
       "MARANHÃO             BOULEVARD TROPICAL         SÃO LUÍS    1  \n",
       "MATO GROSSO              ESTAÇÃO CUIABÁ           CUIABÁ    1  \n",
       "MINAS GERAIS              CIDADE JARDIM  BELO HORIZONTE     1  \n",
       "PARAÍBA                    MAG SHOPPING      JOÃO PESSOA    1  \n",
       "PARÁ                   MENDONÇA FURTADO         SANTARÉM    1  \n",
       "PERNAMBUCO               TANCREDO NEVES        PETROLINA    1  \n",
       "PIAUÍ                         RIVERSIDE         TERESINA    1  \n",
       "RIO DE JANEIRO                   OLARIA   RIO DE JANEIRO    1  \n",
       "RIO GRANDE DO NORTE          LAGOA NOVA            NATAL    1  \n",
       "SERGIPE                         JARDINS          ARACAJU    1  \n",
       "SÃO PAULO             PRESIDENTE VARGAS   RIBEIRÃO PRETO    1  "
      ]
     },
     "execution_count": 74,
     "metadata": {},
     "output_type": "execute_result"
    }
   ],
   "source": []
  },
  {
   "cell_type": "code",
   "execution_count": null,
   "metadata": {},
   "outputs": [
    {
     "name": "stdout",
     "output_type": "stream",
     "text": [
      "<class 'pandas.core.frame.DataFrame'>\n",
      "Int64Index: 318001 entries, 0 to 318268\n",
      "Data columns (total 10 columns):\n",
      " #   Column               Non-Null Count   Dtype         \n",
      "---  ------               --------------   -----         \n",
      " 0   datacancelamento     318001 non-null  datetime64[ns]\n",
      " 1   tipocancelamento     318001 non-null  object        \n",
      " 2   plano                318001 non-null  object        \n",
      " 3   sexo                 318001 non-null  object        \n",
      " 4   idadecliente         318001 non-null  int64         \n",
      " 5   qtdediaspermanencia  318001 non-null  int64         \n",
      " 6   nomeunidade          318001 non-null  object        \n",
      " 7   estadounidade        318001 non-null  object        \n",
      " 8   cidadeunidade        318001 non-null  object        \n",
      " 9   mes                  318001 non-null  int64         \n",
      "dtypes: datetime64[ns](1), int64(3), object(6)\n",
      "memory usage: 34.8+ MB\n"
     ]
    }
   ],
   "source": [
    "df.info()"
   ]
  },
  {
   "cell_type": "code",
   "execution_count": null,
   "metadata": {},
   "outputs": [
    {
     "data": {
      "image/png": "[encoded data removed]",
      "text/plain": [
       "<Figure size 446.375x288 with 6 Axes>"
      ]
     },
     "metadata": {
      "needs_background": "light"
     },
     "output_type": "display_data"
    }
   ],
   "source": [
    "_ = sns.pairplot(df_sp, hue = \"cidadeunidade\", height = 2, diag_kind = 'kde')"
   ]
  }
 ],
 "metadata": {
  "interpreter": {
   "hash": "916dbcbb3f70747c44a77c7bcd40155683ae19c65e1c03b4aa3499c5328201f1"
  },
  "kernelspec": {
   "display_name": "Python 3.8.10 64-bit",
   "language": "python",
   "name": "python3"
  },
  "language_info": {
   "codemirror_mode": {
    "name": "ipython",
    "version": 3
   },
   "file_extension": ".py",
   "mimetype": "text/x-python",
   "name": "python",
   "nbconvert_exporter": "python",
   "pygments_lexer": "ipython3",
   "version": "3.8.10"
  },
  "orig_nbformat": 4
 },
 "nbformat": 4,
 "nbformat_minor": 2
}
